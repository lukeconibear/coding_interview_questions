{
 "cells": [
  {
   "cell_type": "code",
   "execution_count": 9,
   "metadata": {},
   "outputs": [
    {
     "name": "stdout",
     "output_type": "stream",
     "text": [
      "1 3 5\n",
      "2 4 6\n",
      "1 2 3 4 5 6\n",
      "1 2 3 4 5 6\n"
     ]
    }
   ],
   "source": [
    "class Node:\n",
    "    def __init__(self, value, next=None):\n",
    "        self.value = value\n",
    "        self.next = next\n",
    "\n",
    "    def __repr__(self):\n",
    "        return f'{self.value} {self.next}' if self.next is not None else f'{self.value}'\n",
    "\n",
    "class Solution:\n",
    "    def merge1(self, lists): # time O(nlgn), space O(n)\n",
    "        arr = []\n",
    "        for node in lists:\n",
    "            while node:\n",
    "                arr.append(node.value)\n",
    "                node = node.next\n",
    "        head = root = None\n",
    "        for value in sorted(arr):\n",
    "            if not root:\n",
    "                head = root = Node(value)\n",
    "            else:\n",
    "                root.next = Node(value)\n",
    "                root = root.next\n",
    "\n",
    "        return head\n",
    "\n",
    "\n",
    "    def merge2(self, lists): # time O(nk) where k is number of lists and n is elements in list, space O(n)\n",
    "        head = current = Node(-1)\n",
    "        while any(list is not None for list in lists):\n",
    "            current_min, i = min((list.value, i) for i, list in enumerate(lists) if list is not None)\n",
    "            \n",
    "            lists[i] = lists[i].next\n",
    "            current.next = Node(current_min)\n",
    "            current = current.next\n",
    "\n",
    "        return head.next\n",
    "\n",
    "node1 = Node(1)\n",
    "node1.next = Node(3)\n",
    "node1.next.next = Node(5)\n",
    "\n",
    "node2 = Node(2)\n",
    "node2.next = Node(4)\n",
    "node2.next.next = Node(6)\n",
    "\n",
    "print(node1)\n",
    "# 1 3 5\n",
    "print(node2)\n",
    "# 2 4 6\n",
    "print(Solution().merge1([node1, node2]))\n",
    "print(Solution().merge2([node1, node2]))\n",
    "# 1 2 3 4 5 6 "
   ]
  },
  {
   "cell_type": "code",
   "execution_count": null,
   "metadata": {},
   "outputs": [],
   "source": []
  }
 ],
 "metadata": {
  "kernelspec": {
   "display_name": "python3",
   "language": "python",
   "name": "python3"
  },
  "language_info": {
   "codemirror_mode": {
    "name": "ipython",
    "version": 3
   },
   "file_extension": ".py",
   "mimetype": "text/x-python",
   "name": "python",
   "nbconvert_exporter": "python",
   "pygments_lexer": "ipython3",
   "version": "3.8.3"
  }
 },
 "nbformat": 4,
 "nbformat_minor": 4
}
