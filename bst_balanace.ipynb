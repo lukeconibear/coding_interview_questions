{
 "cells": [
  {
   "cell_type": "code",
   "execution_count": 1,
   "metadata": {},
   "outputs": [
    {
     "name": "stdout",
     "output_type": "stream",
     "text": [
      "True\n",
      "False\n"
     ]
    }
   ],
   "source": [
    "class Node:\n",
    "  def __init__(self, value, left=None, right=None):\n",
    "    self.value = value\n",
    "    self.left = left\n",
    "    self.right = right\n",
    "\n",
    "\n",
    "def tree_height(node):\n",
    "  if node is None:\n",
    "    return 0\n",
    "\n",
    "  heightLeft = tree_height(node.left)\n",
    "  heightRight = tree_height(node.right)\n",
    "\n",
    "  if heightLeft >= 0 and heightRight >= 0 and abs(heightLeft - heightRight) <= 1:\n",
    "    return max(heightLeft, heightRight) + 1\n",
    "  return -1\n",
    "\n",
    "\n",
    "def is_tree_balanced(node): # time O(n), space O(n) as could have tree with single branch all the way\n",
    "  return tree_height(node) != -1\n",
    "\n",
    "\n",
    "n4 = Node(4)\n",
    "n3 = Node(3)\n",
    "n2 = Node(2, n4)\n",
    "n1 = Node(1, n2, n3)\n",
    "\n",
    "#      1\n",
    "#     / \\\n",
    "#    2   3\n",
    "#   /\n",
    "#  4\n",
    "print(is_tree_balanced(n1)) # differs by at most 1\n",
    "# True\n",
    "\n",
    "n4 = Node(4)\n",
    "n2 = Node(2, n4)\n",
    "n1 = Node(1, n2, None)\n",
    "\n",
    "#      1\n",
    "#     /\n",
    "#    2\n",
    "#   /\n",
    "#  4\n",
    "print(is_tree_balanced(n1))\n",
    "# False"
   ]
  },
  {
   "cell_type": "code",
   "execution_count": 1,
   "metadata": {},
   "outputs": [
    {
     "name": "stdout",
     "output_type": "stream",
     "text": [
      "True\n",
      "False\n"
     ]
    }
   ],
   "source": [
    "class Node(object):\n",
    "  def __init__(self, val, left=None, right=None):\n",
    "    self.val = val\n",
    "    self.left = left\n",
    "    self.right = right\n",
    "\n",
    "\n",
    "class Solution(object): # time O(n), space O(n)\n",
    "  # return value (isBalanced, height)\n",
    "  def _is_balanced_helper(self, n):\n",
    "    if not n:\n",
    "      return (True, 0)\n",
    "\n",
    "    lBalanced, lHeight = self._is_balanced_helper(n.left)\n",
    "    rBalanced, rHeight = self._is_balanced_helper(n.right)\n",
    "    return (lBalanced and rBalanced and abs(lHeight - rHeight) <= 1,\n",
    "            max(lHeight, rHeight) + 1)\n",
    "\n",
    "  def is_balanced(self, n):\n",
    "    return self._is_balanced_helper(n)[0]\n",
    "\n",
    "\n",
    "n = Node(1)\n",
    "n.left = Node(2)\n",
    "n.left.left = Node(4)\n",
    "n.right = Node(3)\n",
    "#    1\n",
    "#   / \\\n",
    "#  2   3\n",
    "# /\n",
    "#4\n",
    "print(Solution().is_balanced(n))\n",
    "\n",
    "n.right = None\n",
    "#    1\n",
    "#   /\n",
    "#  2\n",
    "# /\n",
    "#4\n",
    "print(Solution().is_balanced(n))\n",
    "# False"
   ]
  },
  {
   "cell_type": "code",
   "execution_count": null,
   "metadata": {},
   "outputs": [],
   "source": []
  }
 ],
 "metadata": {
  "kernelspec": {
   "display_name": "python3",
   "language": "python",
   "name": "python3"
  },
  "language_info": {
   "codemirror_mode": {
    "name": "ipython",
    "version": 3
   },
   "file_extension": ".py",
   "mimetype": "text/x-python",
   "name": "python",
   "nbconvert_exporter": "python",
   "pygments_lexer": "ipython3",
   "version": "3.8.3"
  }
 },
 "nbformat": 4,
 "nbformat_minor": 4
}
