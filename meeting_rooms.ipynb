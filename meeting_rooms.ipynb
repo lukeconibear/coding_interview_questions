{
 "cells": [
  {
   "cell_type": "code",
   "execution_count": 1,
   "metadata": {},
   "outputs": [
    {
     "name": "stdout",
     "output_type": "stream",
     "text": [
      "1\n",
      "3\n"
     ]
    }
   ],
   "source": [
    "import heapq # height of heap = logn, which is the time it takes to go through it\n",
    "\n",
    "def meeting_rooms(meetings): # time O(nlogn), space O(n)\n",
    "  meetings.sort(key=lambda x: x[0])\n",
    "  meeting_ends = []\n",
    "  max_rooms = 0\n",
    "\n",
    "  for meeting in meetings:\n",
    "    while meeting_ends and meeting_ends[0] <= meeting[0]:\n",
    "      heapq.heappop(meeting_ends)\n",
    "    heapq.heappush(meeting_ends, meeting[1])\n",
    "    max_rooms = max(max_rooms, len(meeting_ends))\n",
    "  return max_rooms\n",
    "\n",
    "print(meeting_rooms([[0, 10], [10, 20]]))\n",
    "# 1\n",
    "\n",
    "print(meeting_rooms([[20, 30], [10, 21], [0, 50]]))\n",
    "# 3"
   ]
  },
  {
   "cell_type": "code",
   "execution_count": null,
   "metadata": {},
   "outputs": [],
   "source": []
  }
 ],
 "metadata": {
  "kernelspec": {
   "display_name": "python3",
   "language": "python",
   "name": "python3"
  },
  "language_info": {
   "codemirror_mode": {
    "name": "ipython",
    "version": 3
   },
   "file_extension": ".py",
   "mimetype": "text/x-python",
   "name": "python",
   "nbconvert_exporter": "python",
   "pygments_lexer": "ipython3",
   "version": "3.8.3"
  }
 },
 "nbformat": 4,
 "nbformat_minor": 4
}
