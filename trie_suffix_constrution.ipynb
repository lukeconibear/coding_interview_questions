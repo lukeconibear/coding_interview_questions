{
 "cells": [
  {
   "cell_type": "code",
   "execution_count": 1,
   "metadata": {},
   "outputs": [],
   "source": [
    "class SuffixTrie:\n",
    "    def __init__(self, string):\n",
    "        self.root = {}\n",
    "        self.endSymbol = \"*\"\n",
    "        self.populateSuffixTrieFrom(string)\n",
    "\n",
    "    def populateSuffixTrieFrom(self, string): # time O(n2), space O(n2)\n",
    "        for index in range(len(string)):\n",
    "            self.insert_sub_string_starting_at(index, string)\n",
    "            \n",
    "    def insert_sub_string_starting_at(self, index, string):\n",
    "        node = self.root\n",
    "        for index2 in range(index, len(string)):\n",
    "            letter = string[index2]\n",
    "            if letter not in node:\n",
    "                node[letter] = {}\n",
    "            node = node[letter]\n",
    "        node[self.endSymbol] = True\n",
    "\n",
    "    def contains(self, string): # time O(n), space O(1)\n",
    "        node = self.root\n",
    "        for letter in string:\n",
    "            if letter not in node:\n",
    "                return False\n",
    "            node = node[letter]\n",
    "        return self.endSymbol in node\n"
   ]
  },
  {
   "cell_type": "code",
   "execution_count": null,
   "metadata": {},
   "outputs": [],
   "source": []
  }
 ],
 "metadata": {
  "kernelspec": {
   "display_name": "python3",
   "language": "python",
   "name": "python3"
  },
  "language_info": {
   "codemirror_mode": {
    "name": "ipython",
    "version": 3
   },
   "file_extension": ".py",
   "mimetype": "text/x-python",
   "name": "python",
   "nbconvert_exporter": "python",
   "pygments_lexer": "ipython3",
   "version": "3.8.3"
  }
 },
 "nbformat": 4,
 "nbformat_minor": 4
}
