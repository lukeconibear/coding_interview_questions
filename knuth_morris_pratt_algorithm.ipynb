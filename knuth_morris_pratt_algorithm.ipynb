{
 "cells": [
  {
   "cell_type": "code",
   "execution_count": 3,
   "metadata": {},
   "outputs": [
    {
     "name": "stdout",
     "output_type": "stream",
     "text": [
      "True\n"
     ]
    }
   ],
   "source": [
    "def knuth_morris_pratt_algorithm(string, substring): # time O(n + m) better than O(nm) with normal string matching, space O(m)\n",
    "    pattern = build_pattern(substring)\n",
    "    return does_match(string, substring, pattern)\n",
    "\n",
    "def build_pattern(substring):\n",
    "    pattern = [-1 for _ in substring]\n",
    "    reference_index = 0\n",
    "    checking_index = 1\n",
    "    while checking_index < len(substring):\n",
    "        if substring[checking_index] == substring[reference_index]:\n",
    "            pattern[checking_index] = reference_index\n",
    "            checking_index += 1\n",
    "            reference_index += 1\n",
    "        elif reference_index > 0:\n",
    "            reference_index = pattern[reference_index - 1] + 1\n",
    "        else:\n",
    "            checking_index += 1\n",
    "        \n",
    "    return pattern\n",
    "\n",
    "def does_match(string, substring, pattern):\n",
    "    string_index = 0\n",
    "    substring_index = 0\n",
    "    while string_index + len(substring) - substring_index <= len(string):\n",
    "        if string[string_index] == substring[substring_index]:\n",
    "            if substring_index == len(substring) - 1:\n",
    "                return True\n",
    "            \n",
    "            string_index += 1\n",
    "            substring_index += 1\n",
    "        elif substring_index > 0:\n",
    "            substring_index = pattern[substring_index - 1] + 1\n",
    "        else:\n",
    "            string_index += 1\n",
    "            \n",
    "    return False\n",
    "            \n",
    "    \n",
    "print(knuth_morris_pratt_algorithm(\"abcabcabcabcd\", \"abcd\"))"
   ]
  },
  {
   "cell_type": "code",
   "execution_count": null,
   "metadata": {},
   "outputs": [],
   "source": []
  }
 ],
 "metadata": {
  "kernelspec": {
   "display_name": "python3",
   "language": "python",
   "name": "python3"
  },
  "language_info": {
   "codemirror_mode": {
    "name": "ipython",
    "version": 3
   },
   "file_extension": ".py",
   "mimetype": "text/x-python",
   "name": "python",
   "nbconvert_exporter": "python",
   "pygments_lexer": "ipython3",
   "version": "3.8.3"
  }
 },
 "nbformat": 4,
 "nbformat_minor": 4
}
