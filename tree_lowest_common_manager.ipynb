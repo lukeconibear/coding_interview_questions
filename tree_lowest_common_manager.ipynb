{
 "cells": [
  {
   "cell_type": "code",
   "execution_count": null,
   "metadata": {},
   "outputs": [],
   "source": [
    "def getLowestCommonManager(topManager, reportOne, reportTwo): # time O(n), space O(h)\n",
    "    return get_org_info(topManager, reportOne, reportTwo).lowest_common_manager\n",
    "        \n",
    "def get_org_info(manager, reportOne, reportTwo):\n",
    "    num_important_reports = 0\n",
    "    for direct_report in manager.directReports:\n",
    "        org_info = get_org_info(direct_report, reportOne, reportTwo)\n",
    "        if org_info.lowest_common_manager is not None:\n",
    "            return org_info\n",
    "        num_important_reports += org_info.num_important_reports\n",
    "    if manager == reportOne or manager == reportTwo:\n",
    "        num_important_reports += 1\n",
    "    lowest_common_manager = manager if num_important_reports == 2 else None\n",
    "    return OrgInfo(lowest_common_manager, num_important_reports)\n",
    "\n",
    "class OrgInfo:\n",
    "    def __init__(self, lowest_common_manager, num_important_reports):\n",
    "        self.lowest_common_manager = lowest_common_manager\n",
    "        self.num_important_reports = num_important_reports\n",
    "\n",
    "# This is an input class. Do not edit.\n",
    "class OrgChart:\n",
    "    def __init__(self, name):\n",
    "        self.name = name\n",
    "        self.directReports = []\n"
   ]
  }
 ],
 "metadata": {
  "kernelspec": {
   "display_name": "python3",
   "language": "python",
   "name": "python3"
  },
  "language_info": {
   "codemirror_mode": {
    "name": "ipython",
    "version": 3
   },
   "file_extension": ".py",
   "mimetype": "text/x-python",
   "name": "python",
   "nbconvert_exporter": "python",
   "pygments_lexer": "ipython3",
   "version": "3.8.3"
  }
 },
 "nbformat": 4,
 "nbformat_minor": 4
}
