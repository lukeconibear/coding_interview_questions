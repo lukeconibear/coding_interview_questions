{
 "cells": [
  {
   "cell_type": "code",
   "execution_count": 5,
   "metadata": {},
   "outputs": [
    {
     "name": "stdout",
     "output_type": "stream",
     "text": [
      "[4, 9]\n"
     ]
    }
   ],
   "source": [
    "def search_for_range(array, target): # time O(lgn, from halving the array), space O(lgn, from calls on the call stack)\n",
    "    final_range = [-1, -1]\n",
    "    altered_binary_search(array, target, 0, len(array) - 1, final_range, True)\n",
    "    altered_binary_search(array, target, 0, len(array) - 1, final_range, False)\n",
    "    return final_range\n",
    "\n",
    "def altered_binary_search(array, target, left_index, right_index, final_range, go_left):\n",
    "    if left_index > right_index:\n",
    "        return\n",
    "    \n",
    "    middle_index = (left_index + right_index) // 2\n",
    "    if target < array[middle_index]:\n",
    "        altered_binary_search(array, target, left_index, middle_index - 1, final_range, go_left)\n",
    "    elif target > array[middle_index]:\n",
    "        altered_binary_search(array, target, middle_index + 1, right_index, final_range, go_left)\n",
    "    else:\n",
    "        if go_left:\n",
    "            if middle_index == 0 or array[middle_index - 1] != target:\n",
    "                final_range[0] = middle_index\n",
    "            else:\n",
    "                altered_binary_search(array, target, left_index, middle_index - 1, final_range, go_left)\n",
    "        else:\n",
    "            if middle_index == len(array) - 1 or array[middle_index + 1] != target:\n",
    "                final_range[1] = middle_index\n",
    "            else:\n",
    "                altered_binary_search(array, target, middle_index + 1, right_index, final_range, go_left)\n",
    "        \n",
    "        \n",
    "print(search_for_range([0,1,21,33,45,45,45,45,45,45,61,71,73], 45))"
   ]
  },
  {
   "cell_type": "code",
   "execution_count": 6,
   "metadata": {},
   "outputs": [
    {
     "name": "stdout",
     "output_type": "stream",
     "text": [
      "[4, 9]\n"
     ]
    }
   ],
   "source": [
    "def search_for_range(array, target): # time O(lgn, from halving the array), space O(1)\n",
    "    final_range = [-1, -1]\n",
    "    altered_binary_search(array, target, 0, len(array) - 1, final_range, True)\n",
    "    altered_binary_search(array, target, 0, len(array) - 1, final_range, False)\n",
    "    return final_range\n",
    "\n",
    "def altered_binary_search(array, target, left_index, right_index, final_range, go_left):\n",
    "    while left_index <= right_index:\n",
    "        middle_index = (left_index + right_index) // 2\n",
    "        if target < array[middle_index]:\n",
    "            right_index = middle_index - 1\n",
    "        elif target > array[middle_index]:\n",
    "            left_index = middle_index + 1\n",
    "        else:\n",
    "            if go_left:\n",
    "                if middle_index == 0 or array[middle_index - 1] != target:\n",
    "                    final_range[0] = middle_index\n",
    "                    return\n",
    "                else:\n",
    "                    right_index = middle_index - 1\n",
    "            else:\n",
    "                if middle_index == len(array) - 1 or array[middle_index + 1] != target:\n",
    "                    final_range[1] = middle_index\n",
    "                    return\n",
    "                else:\n",
    "                    left_index = middle_index + 1\n",
    "        \n",
    "        \n",
    "print(search_for_range([0,1,21,33,45,45,45,45,45,45,61,71,73], 45))"
   ]
  },
  {
   "cell_type": "code",
   "execution_count": null,
   "metadata": {},
   "outputs": [],
   "source": []
  }
 ],
 "metadata": {
  "kernelspec": {
   "display_name": "python3",
   "language": "python",
   "name": "python3"
  },
  "language_info": {
   "codemirror_mode": {
    "name": "ipython",
    "version": 3
   },
   "file_extension": ".py",
   "mimetype": "text/x-python",
   "name": "python",
   "nbconvert_exporter": "python",
   "pygments_lexer": "ipython3",
   "version": "3.8.3"
  }
 },
 "nbformat": 4,
 "nbformat_minor": 4
}
