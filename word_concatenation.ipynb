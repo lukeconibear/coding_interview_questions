{
 "cells": [
  {
   "cell_type": "code",
   "execution_count": 1,
   "metadata": {},
   "outputs": [
    {
     "name": "stdout",
     "output_type": "stream",
     "text": [
      "['catsdog']\n"
     ]
    }
   ],
   "source": [
    "class Solution:\n",
    "    def findAllConcatenatedWords(self, words): # time O(n * m^2), space O()\n",
    "        wordDict = set(words)\n",
    "        cache = {} # also memoise (or dynamic programming), store in memory for future use\n",
    "        return [word for word in words if self._canForm(word, wordDict, cache)]\n",
    "\n",
    "    def _canForm(self, word, wordDict, cache):\n",
    "        if word in cache:\n",
    "            return cache[word]\n",
    "\n",
    "        for index in range(1, len(word)):\n",
    "            prefix = word[:index]\n",
    "            suffix = word[index:]\n",
    "                \n",
    "            if prefix in wordDict:\n",
    "                if suffix in wordDict or self._canForm(suffix, wordDict, cache):\n",
    "                    cache[word] = True\n",
    "                    return True\n",
    "                \n",
    "        cache[word] = False\n",
    "        return False\n",
    "\n",
    "print(Solution().findAllConcatenatedWords(['cat', 'cats', 'dog', 'catsdog']))\n",
    "# ['catsdog']"
   ]
  },
  {
   "cell_type": "code",
   "execution_count": null,
   "metadata": {},
   "outputs": [],
   "source": []
  }
 ],
 "metadata": {
  "kernelspec": {
   "display_name": "python3",
   "language": "python",
   "name": "python3"
  },
  "language_info": {
   "codemirror_mode": {
    "name": "ipython",
    "version": 3
   },
   "file_extension": ".py",
   "mimetype": "text/x-python",
   "name": "python",
   "nbconvert_exporter": "python",
   "pygments_lexer": "ipython3",
   "version": "3.8.3"
  }
 },
 "nbformat": 4,
 "nbformat_minor": 4
}
