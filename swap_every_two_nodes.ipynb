{
 "cells": [
  {
   "cell_type": "code",
   "execution_count": 1,
   "metadata": {},
   "outputs": [
    {
     "name": "stdout",
     "output_type": "stream",
     "text": [
      "2, (1, (4, (3, (5, (None)))))\n"
     ]
    }
   ],
   "source": [
    "class Node:\n",
    "  def __init__(self, value, next=None):\n",
    "    self.value = value\n",
    "    self.next = next\n",
    "\n",
    "  def __repr__(self):\n",
    "    return f\"{self.value}, ({self.next.__repr__()})\"\n",
    "\n",
    "\n",
    "def swap_every_two(node): # time O(n), space O(1)\n",
    "  curr = node\n",
    "  while curr != None and curr.next != None:\n",
    "    curr.value, curr.next.value = curr.next.value, curr.value\n",
    "    curr = curr.next.next\n",
    "  return node\n",
    "\n",
    "\n",
    "node = Node(1, Node(2, Node(3, Node(4, Node(5)))))\n",
    "print(swap_every_two(node))\n",
    "# 2, 1, 4, 3, 5"
   ]
  }
 ],
 "metadata": {
  "kernelspec": {
   "display_name": "python3",
   "language": "python",
   "name": "python3"
  },
  "language_info": {
   "codemirror_mode": {
    "name": "ipython",
    "version": 3
   },
   "file_extension": ".py",
   "mimetype": "text/x-python",
   "name": "python",
   "nbconvert_exporter": "python",
   "pygments_lexer": "ipython3",
   "version": "3.8.3"
  }
 },
 "nbformat": 4,
 "nbformat_minor": 4
}
