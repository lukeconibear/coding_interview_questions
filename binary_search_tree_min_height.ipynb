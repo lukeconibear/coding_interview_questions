{
 "cells": [
  {
   "cell_type": "code",
   "execution_count": 9,
   "metadata": {},
   "outputs": [
    {
     "name": "stdout",
     "output_type": "stream",
     "text": [
      "10\n",
      "10\n"
     ]
    }
   ],
   "source": [
    "class Node:\n",
    "    def __init__(self, value):\n",
    "        self.value = value\n",
    "        self.left = None\n",
    "        self.right = None\n",
    "\n",
    "    def insert(self, value):\n",
    "        if value < self.value:\n",
    "            if self.left is None:\n",
    "                self.left = Node(value)\n",
    "            else:\n",
    "                self.left.insert(value)\n",
    "        else:\n",
    "            if self.right is None:\n",
    "                self.right = Node(value)\n",
    "            else:\n",
    "                self.right.insert(value)\n",
    "                \n",
    "    def __repr__(self):\n",
    "        return f'{self.value}'\n",
    "                \n",
    "class Solution:\n",
    "    def min_height_bst1(self, array): # time O(nlgn), space O(n)\n",
    "        return self._construct_min_height_bst1(array, None, 0, len(array) - 1)\n",
    "\n",
    "\n",
    "    def _construct_min_height_bst1(self, array, bst, start_index, end_index):\n",
    "        if end_index < start_index:\n",
    "            return\n",
    "        middle_index = (start_index + end_index) // 2\n",
    "        value_to_add = array[middle_index]\n",
    "        if bst is None:\n",
    "            bst = Node(value_to_add)\n",
    "        else:\n",
    "            bst.insert(value_to_add) # this is the lgn call in time\n",
    "        self._construct_min_height_bst1(array, bst, start_index, middle_index - 1)\n",
    "        self._construct_min_height_bst1(array, bst, middle_index + 1, end_index)\n",
    "        return bst\n",
    "    \n",
    "    def min_height_bst2(self, array): # time O(n), space O(n)\n",
    "        return self._construct_min_height_bst2(array, 0, len(array) - 1)\n",
    "\n",
    "\n",
    "    def _construct_min_height_bst2(self, array, start_index, end_index):\n",
    "        if end_index < start_index:\n",
    "            return None\n",
    "        middle_index = (start_index + end_index) // 2\n",
    "        bst = Node(array[middle_index])\n",
    "        bst.left = self._construct_min_height_bst2(array, start_index, middle_index - 1)\n",
    "        bst.right = self._construct_min_height_bst2(array, middle_index + 1, end_index)\n",
    "        return bst\n",
    "    \n",
    "\n",
    "print(Solution().min_height_bst1([1,2,5,7,10,13,14,15,22]))\n",
    "print(Solution().min_height_bst2([1,2,5,7,10,13,14,15,22]))"
   ]
  },
  {
   "cell_type": "code",
   "execution_count": null,
   "metadata": {},
   "outputs": [],
   "source": []
  }
 ],
 "metadata": {
  "kernelspec": {
   "display_name": "python3",
   "language": "python",
   "name": "python3"
  },
  "language_info": {
   "codemirror_mode": {
    "name": "ipython",
    "version": 3
   },
   "file_extension": ".py",
   "mimetype": "text/x-python",
   "name": "python",
   "nbconvert_exporter": "python",
   "pygments_lexer": "ipython3",
   "version": "3.8.3"
  }
 },
 "nbformat": 4,
 "nbformat_minor": 4
}
