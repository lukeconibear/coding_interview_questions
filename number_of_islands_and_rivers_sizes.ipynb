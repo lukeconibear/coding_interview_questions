{
 "cells": [
  {
   "cell_type": "code",
   "execution_count": 22,
   "metadata": {},
   "outputs": [
    {
     "name": "stdout",
     "output_type": "stream",
     "text": [
      "3\n"
     ]
    }
   ],
   "source": [
    "class Solution:\n",
    "    def num_islands(self, grid): # time O(n), space O(n)\n",
    "        if not grid or not grid[0]:\n",
    "            return 0\n",
    "        num_rows, num_cols = len(grid), len(grid[0])\n",
    "        count = 0\n",
    "\n",
    "        for row in range(num_rows):\n",
    "            for col in range(num_cols):\n",
    "                if self._is_land(grid, row, col):\n",
    "                    count += 1\n",
    "                    self._sinkLand(grid, row, col)\n",
    "        return count\n",
    "\n",
    "    def _sinkLand(self, grid, row, col):\n",
    "        if not self._is_land(grid, row, col):\n",
    "            return\n",
    "        grid[row][col] = 0\n",
    "        for direction in [(0, 1), (0, -1), (1, 0), (-1, 0)]:\n",
    "            self._sinkLand(grid, row + direction[0], col + direction[1])\n",
    "\n",
    "    def _is_land(self, grid, row, col):\n",
    "        if row < 0 or col < 0 or row >= len(grid) or col >= len(grid[0]):\n",
    "            return False\n",
    "        return grid[row][col] == 1\n",
    "\n",
    "grid = [\n",
    "    [1, 1, 0, 0, 0],\n",
    "    [0, 1, 0, 0, 1],\n",
    "    [1, 0, 0, 1, 1],\n",
    "    [0, 0, 0, 0, 0],\n",
    "]\n",
    "\n",
    "print(Solution().num_islands(grid))\n",
    "# 3"
   ]
  },
  {
   "cell_type": "code",
   "execution_count": null,
   "metadata": {},
   "outputs": [],
   "source": []
  },
  {
   "cell_type": "code",
   "execution_count": 23,
   "metadata": {},
   "outputs": [
    {
     "name": "stdout",
     "output_type": "stream",
     "text": [
      "[3, 3, 1]\n"
     ]
    }
   ],
   "source": [
    "def river_sizes(matrix): # time O(wh), space O(wh)\n",
    "    sizes = []\n",
    "    visited = [[False for value in row] for row in matrix]\n",
    "    for row in range(len(matrix)):\n",
    "        for col in range(len(matrix[row])):\n",
    "            if visited[row][col]:\n",
    "                continue\n",
    "            traverse_node(row, col, matrix, visited, sizes)\n",
    "    return sizes\n",
    "\n",
    "def traverse_node(row, col, matrix, visited, sizes):\n",
    "    current_river_size = 0\n",
    "    nodes_to_explore = [[row, col]]\n",
    "    while len(nodes_to_explore):\n",
    "        current_node = nodes_to_explore.pop()\n",
    "        row = current_node[0]\n",
    "        col = current_node[1]\n",
    "        if visited[row][col]:\n",
    "            continue\n",
    "        visited[row][col] = True\n",
    "        if matrix[row][col] == 0:\n",
    "            continue\n",
    "        current_river_size += 1\n",
    "        unvisited_neighbours = get_unvisited_neighbours(row, col, matrix, visited)\n",
    "        for neighbour in unvisited_neighbours:\n",
    "            nodes_to_explore.append(neighbour)\n",
    "    if current_river_size > 0:\n",
    "        sizes.append(current_river_size)\n",
    "        \n",
    "def get_unvisited_neighbours(row, col, matrix, visited):\n",
    "    unvisited_neighbours = []\n",
    "    if row > 0 and not visited[row - 1][col]:\n",
    "        unvisited_neighbours.append([row - 1, col])\n",
    "    if row < len(matrix) - 1 and not visited[row + 1][col]:\n",
    "        unvisited_neighbours.append([row + 1, col])\n",
    "    if col > 0 and not visited[row][col - 1]:\n",
    "        unvisited_neighbours.append([row, col - 1])\n",
    "    if col < len(matrix[0]) - 1 and not visited[row][col + 1]:\n",
    "        unvisited_neighbours.append([row, col + 1])\n",
    "    return unvisited_neighbours\n",
    "        \n",
    "        \n",
    "matrix = [\n",
    "    [1, 1, 0, 0, 0],\n",
    "    [0, 1, 0, 0, 1],\n",
    "    [1, 0, 0, 1, 1],\n",
    "    [0, 0, 0, 0, 0],\n",
    "]\n",
    "print(river_sizes(matrix))"
   ]
  },
  {
   "cell_type": "code",
   "execution_count": null,
   "metadata": {},
   "outputs": [],
   "source": []
  }
 ],
 "metadata": {
  "kernelspec": {
   "display_name": "python3",
   "language": "python",
   "name": "python3"
  },
  "language_info": {
   "codemirror_mode": {
    "name": "ipython",
    "version": 3
   },
   "file_extension": ".py",
   "mimetype": "text/x-python",
   "name": "python",
   "nbconvert_exporter": "python",
   "pygments_lexer": "ipython3",
   "version": "3.8.3"
  }
 },
 "nbformat": 4,
 "nbformat_minor": 4
}
