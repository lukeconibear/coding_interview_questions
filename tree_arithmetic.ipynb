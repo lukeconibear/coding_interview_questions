{
 "cells": [
  {
   "cell_type": "code",
   "execution_count": 1,
   "metadata": {},
   "outputs": [
    {
     "name": "stdout",
     "output_type": "stream",
     "text": [
      "45\n"
     ]
    }
   ],
   "source": [
    "class Node:\n",
    "    def __init__(self, value, left=None, right=None):\n",
    "        self.value = value\n",
    "        self.left = left\n",
    "        self.right = right\n",
    "\n",
    "def evaluate(node): # time O(n), space O(n) as length of tree in worst case\n",
    "    operators = {\n",
    "            '+': lambda a, b: a + b,\n",
    "            '-': lambda a, b: a - b,\n",
    "            '/': lambda a, b: a / b,\n",
    "            '*': lambda a, b: a * b,\n",
    "    }\n",
    "\n",
    "    if node.value in operators:\n",
    "        fn = operators[node.value]\n",
    "        return fn(evaluate(node.left), evaluate(node.right))\n",
    "    else:\n",
    "        return node.value\n",
    "\n",
    "    return 0\n",
    "\n",
    "\n",
    "node = Node('*')\n",
    "node.left = Node('+')\n",
    "node.right = Node('+')\n",
    "node.left.left = Node(3)\n",
    "node.left.right = Node(2)\n",
    "node.right.left = Node(4)\n",
    "node.right.right = Node(5)\n",
    "#            *\n",
    "#         / \\\n",
    "#        +     +\n",
    "#     / \\ / \\\n",
    "#    3    2 4    5\n",
    "\n",
    "print(evaluate(node))"
   ]
  },
  {
   "cell_type": "code",
   "execution_count": null,
   "metadata": {},
   "outputs": [],
   "source": []
  }
 ],
 "metadata": {
  "kernelspec": {
   "display_name": "python3",
   "language": "python",
   "name": "python3"
  },
  "language_info": {
   "codemirror_mode": {
    "name": "ipython",
    "version": 3
   },
   "file_extension": ".py",
   "mimetype": "text/x-python",
   "name": "python",
   "nbconvert_exporter": "python",
   "pygments_lexer": "ipython3",
   "version": "3.8.3"
  }
 },
 "nbformat": 4,
 "nbformat_minor": 4
}
