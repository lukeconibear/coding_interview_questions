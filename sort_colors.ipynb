{
 "cells": [
  {
   "cell_type": "code",
   "execution_count": null,
   "metadata": {},
   "outputs": [],
   "source": [
    "# generic sort algorithm has time O(nlogn)"
   ]
  },
  {
   "cell_type": "code",
   "execution_count": 3,
   "metadata": {},
   "outputs": [
    {
     "name": "stdout",
     "output_type": "stream",
     "text": [
      "[0, 0, 1, 1, 1, 2, 2]\n",
      "[0, 0, 1, 1, 1, 2, 2]\n"
     ]
    }
   ],
   "source": [
    "from collections import defaultdict # defaults the values to zero, saves typing\n",
    "\n",
    "class Solution(object): # time O(n), space O(3)\n",
    "  def sortColors(self, colors):\n",
    "    colorsMap = defaultdict(int)\n",
    "    for c in colors:\n",
    "      colorsMap[c] += 1\n",
    "\n",
    "    index = 0 # separate index as want to cumulatively count for each in turn: 0 then 1 then 2\n",
    "    for i in range(colorsMap[0]):\n",
    "      colors[index] = 0\n",
    "      index += 1\n",
    "    for i in range(colorsMap[1]):\n",
    "      colors[index] = 1\n",
    "      index += 1\n",
    "    for i in range(colorsMap[2]):\n",
    "      colors[index] = 2\n",
    "      index += 1\n",
    "\n",
    "  def sortColor2(self, colors): # time O(n), space O(2)\n",
    "    lowIndex = 0\n",
    "    highIndex = len(colors) - 1\n",
    "    currIndex = 0\n",
    "\n",
    "    while currIndex <= highIndex:\n",
    "      if colors[currIndex] == 0:\n",
    "        colors[lowIndex], colors[currIndex] = colors[currIndex], colors[lowIndex]\n",
    "        lowIndex += 1\n",
    "        currIndex += 1\n",
    "      elif colors[currIndex] == 2:\n",
    "        colors[highIndex], colors[currIndex] = colors[currIndex], colors[highIndex]\n",
    "        highIndex -= 1\n",
    "      else:\n",
    "        currIndex += 1\n",
    "\n",
    "colors = [0, 2, 1, 0, 1, 1, 2]\n",
    "Solution().sortColors(colors)\n",
    "print(colors)\n",
    "# [0, 0, 1, 1, 1, 2, 2]\n",
    "\n",
    "colors = [0, 2, 1, 0, 1, 1, 2]\n",
    "Solution().sortColor2(colors)\n",
    "print(colors)\n",
    "# [0, 0, 1, 1, 1, 2, 2]"
   ]
  },
  {
   "cell_type": "code",
   "execution_count": null,
   "metadata": {},
   "outputs": [],
   "source": []
  }
 ],
 "metadata": {
  "kernelspec": {
   "display_name": "python3",
   "language": "python",
   "name": "python3"
  },
  "language_info": {
   "codemirror_mode": {
    "name": "ipython",
    "version": 3
   },
   "file_extension": ".py",
   "mimetype": "text/x-python",
   "name": "python",
   "nbconvert_exporter": "python",
   "pygments_lexer": "ipython3",
   "version": "3.8.3"
  }
 },
 "nbformat": 4,
 "nbformat_minor": 4
}
