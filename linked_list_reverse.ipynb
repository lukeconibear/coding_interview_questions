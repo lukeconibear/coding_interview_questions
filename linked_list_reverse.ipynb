{
 "cells": [
  {
   "cell_type": "code",
   "execution_count": 17,
   "metadata": {},
   "outputs": [
    {
     "name": "stdout",
     "output_type": "stream",
     "text": [
      "1 2 3 4 5\n",
      "5 4 3 2 1\n"
     ]
    }
   ],
   "source": [
    "class Node(object):\n",
    "    def __init__(self, value, next=None):\n",
    "        self.value = value\n",
    "        self.next = next\n",
    "        \n",
    "    def __repr__(self):\n",
    "        return f'{self.value} {self.next}' if self.next is not None else f'{self.value}'\n",
    "    \n",
    "class Solution(object): # time: O(n), space: O(1)\n",
    "    def reverse(self, node):\n",
    "        curr = node\n",
    "        prev = None\n",
    "\n",
    "        while curr is not None:\n",
    "            next = curr.next\n",
    "            curr.next = prev\n",
    "            prev = curr\n",
    "            curr = next\n",
    "\n",
    "        return prev\n",
    "    \n",
    "node = Node(1, Node(2, Node(3, Node(4, Node(5)))))\n",
    "print(node)\n",
    "print(Solution().reverse(node))"
   ]
  },
  {
   "cell_type": "code",
   "execution_count": null,
   "metadata": {},
   "outputs": [],
   "source": []
  }
 ],
 "metadata": {
  "kernelspec": {
   "display_name": "python3",
   "language": "python",
   "name": "python3"
  },
  "language_info": {
   "codemirror_mode": {
    "name": "ipython",
    "version": 3
   },
   "file_extension": ".py",
   "mimetype": "text/x-python",
   "name": "python",
   "nbconvert_exporter": "python",
   "pygments_lexer": "ipython3",
   "version": "3.8.3"
  }
 },
 "nbformat": 4,
 "nbformat_minor": 4
}
