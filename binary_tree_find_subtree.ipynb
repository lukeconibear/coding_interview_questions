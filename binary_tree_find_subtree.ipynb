{
 "cells": [
  {
   "cell_type": "code",
   "execution_count": 10,
   "metadata": {},
   "outputs": [
    {
     "name": "stdout",
     "output_type": "stream",
     "text": [
      "True\n",
      "True\n"
     ]
    }
   ],
   "source": [
    "class Node:\n",
    "    def __init__(self, value, left=None, right=None):\n",
    "        self.value = value\n",
    "        self.left = left\n",
    "        self.right = right\n",
    "\n",
    "def pre(node): # preordered traversal\n",
    "    if not node:\n",
    "        return 'null'\n",
    "    return str(node.value) + '-' + pre(node.left) + '-' + pre(node.right)\n",
    "\n",
    "def find_subtree(node1, node2): # time O(n), space O()\n",
    "    return pre(node2) in pre(node1)\n",
    "\n",
    "def find_subtree2(node1, node2): # brute force with recursion, time O(nm), space O()\n",
    "    if not node1:\n",
    "        return False\n",
    "\n",
    "    is_match = node1.value == node2.value\n",
    "    if is_match:\n",
    "        is_match_left = (not node1.left or not node2.left) or find_subtree2(node1.left, node2.left)\n",
    "        if is_match_left:\n",
    "            is_match_right = (not node1.right or not node2.right) or find_subtree2(node1.right, node2.right)\n",
    "            if is_match_right:\n",
    "                return True\n",
    "\n",
    "    return find_subtree2(node1.left, node2) or find_subtree2(node1.right, node2)\n",
    "\n",
    "\n",
    "node1 = Node(1)\n",
    "node1.left = Node(4)\n",
    "node1.right = Node(5)\n",
    "node1.left.left = Node(3)\n",
    "node1.left.right = Node(2)\n",
    "node1.right.left = Node(4)\n",
    "node1.right.right = Node(1)\n",
    "\n",
    "node2 = Node(4)\n",
    "node2.left = Node(3)\n",
    "node2.right = Node(2)\n",
    "\n",
    "print(find_subtree(node1, node2))\n",
    "print(find_subtree2(node1, node2))\n",
    "# True"
   ]
  },
  {
   "cell_type": "code",
   "execution_count": null,
   "metadata": {},
   "outputs": [],
   "source": []
  }
 ],
 "metadata": {
  "kernelspec": {
   "display_name": "python3",
   "language": "python",
   "name": "python3"
  },
  "language_info": {
   "codemirror_mode": {
    "name": "ipython",
    "version": 3
   },
   "file_extension": ".py",
   "mimetype": "text/x-python",
   "name": "python",
   "nbconvert_exporter": "python",
   "pygments_lexer": "ipython3",
   "version": "3.8.3"
  }
 },
 "nbformat": 4,
 "nbformat_minor": 4
}
