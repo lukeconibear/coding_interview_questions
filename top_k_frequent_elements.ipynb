{
 "cells": [
  {
   "cell_type": "code",
   "execution_count": null,
   "metadata": {},
   "outputs": [],
   "source": [
    "# sort if need lots of returns: time O(nlogn)\n",
    "\n",
    "# k passes if have huge array and small number of values to return: time O(kn)\n",
    "# depends if k < or > logn\n",
    "\n",
    "# heaps have balanced binary trees\n",
    "# height = logn\n",
    "# min or max at the top node\n",
    "# time O(klogn), space O(n)\n",
    "\n",
    "# klogn faster than nlogn"
   ]
  },
  {
   "cell_type": "code",
   "execution_count": 14,
   "metadata": {},
   "outputs": [],
   "source": [
    "import heapq\n",
    "import collections"
   ]
  },
  {
   "cell_type": "code",
   "execution_count": 15,
   "metadata": {},
   "outputs": [],
   "source": [
    "class Solution(object):\n",
    "    def top_k_frequent(self, nums, k):\n",
    "        count = collections.defaultdict(int)\n",
    "        for num in nums:\n",
    "            count[num] += 1\n",
    "            \n",
    "        heap = []\n",
    "        for num, count in count.items():\n",
    "            heap.append((-count, num)) # as heap default in python is min at top\n",
    "        \n",
    "        heapq.heapify(heap)\n",
    "        \n",
    "        result = []\n",
    "        for i in range(k):\n",
    "            result.append(heapq.heappop(heap)[1])\n",
    "            \n",
    "        return result"
   ]
  },
  {
   "cell_type": "code",
   "execution_count": 16,
   "metadata": {},
   "outputs": [
    {
     "name": "stdout",
     "output_type": "stream",
     "text": [
      "[1, 2]\n"
     ]
    }
   ],
   "source": [
    "print(Solution().top_k_frequent([1, 1, 1, 2, 2, 3], 2))"
   ]
  },
  {
   "cell_type": "code",
   "execution_count": null,
   "metadata": {},
   "outputs": [],
   "source": []
  }
 ],
 "metadata": {
  "kernelspec": {
   "display_name": "python3",
   "language": "python",
   "name": "python3"
  },
  "language_info": {
   "codemirror_mode": {
    "name": "ipython",
    "version": 3
   },
   "file_extension": ".py",
   "mimetype": "text/x-python",
   "name": "python",
   "nbconvert_exporter": "python",
   "pygments_lexer": "ipython3",
   "version": "3.8.3"
  }
 },
 "nbformat": 4,
 "nbformat_minor": 4
}
