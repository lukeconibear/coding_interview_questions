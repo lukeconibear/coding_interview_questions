{
 "cells": [
  {
   "cell_type": "code",
   "execution_count": 17,
   "metadata": {},
   "outputs": [
    {
     "name": "stdout",
     "output_type": "stream",
     "text": [
      "[(1, 3), (4, 10), (20, 25)]\n"
     ]
    }
   ],
   "source": [
    "def merge(intervals): # time O(n and nlogn as sorting, so nlogn overall), space O(n)\n",
    "    results = []\n",
    "    for start, end in sorted(intervals, key=lambda x: x[0]):\n",
    "        if results and start <= results[-1][1]:\n",
    "            prev_start, prev_end = results[-1]\n",
    "            results[-1] = (prev_start, max(prev_end, end))\n",
    "        else:\n",
    "            results.append((start, end))\n",
    "\n",
    "    return results\n",
    "\n",
    "\n",
    "print(merge(([1, 3], [5, 8], [4, 10], [20, 25])))\n",
    "# [(1, 3), (4, 10), (20, 25)]"
   ]
  },
  {
   "cell_type": "code",
   "execution_count": null,
   "metadata": {},
   "outputs": [],
   "source": []
  }
 ],
 "metadata": {
  "kernelspec": {
   "display_name": "python3",
   "language": "python",
   "name": "python3"
  },
  "language_info": {
   "codemirror_mode": {
    "name": "ipython",
    "version": 3
   },
   "file_extension": ".py",
   "mimetype": "text/x-python",
   "name": "python",
   "nbconvert_exporter": "python",
   "pygments_lexer": "ipython3",
   "version": "3.8.3"
  }
 },
 "nbformat": 4,
 "nbformat_minor": 4
}
