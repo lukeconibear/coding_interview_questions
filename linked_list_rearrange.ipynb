{
 "cells": [
  {
   "cell_type": "code",
   "execution_count": 5,
   "metadata": {},
   "outputs": [
    {
     "name": "stdout",
     "output_type": "stream",
     "text": [
      "5 4 3 2 1 0\n",
      "1 0 2 5 4 3\n"
     ]
    }
   ],
   "source": [
    "class Node:\n",
    "    def __init__(self, value, next=None):\n",
    "        self.value = value\n",
    "        self.next = next\n",
    "        \n",
    "    def __repr__(self):\n",
    "        if self.next is None:\n",
    "            return f'{self.value}'\n",
    "        return f'{self.value} {self.next}'\n",
    "\n",
    "class Solution:\n",
    "    def rearrange_linked_list(self, head, k): # time O(n), space O(1)\n",
    "        smaller_list_head = None\n",
    "        smaller_list_tail = None\n",
    "        equal_list_head = None\n",
    "        equal_list_tail = None\n",
    "        greater_list_head = None\n",
    "        greater_list_tail = None\n",
    "\n",
    "        node = head\n",
    "        while node is not None:\n",
    "            if node.value < k:\n",
    "                smaller_list_head, smaller_list_tail = self._grow_linked_list(smaller_list_head, smaller_list_tail, node)\n",
    "            elif node.value > k:\n",
    "                greater_list_head, greater_list_tail = self._grow_linked_list(greater_list_head, greater_list_tail, node)\n",
    "            else:\n",
    "                equal_list_head, equal_list_tail = self._grow_linked_list(equal_list_head, equal_list_tail, node)\n",
    "\n",
    "            prev_node = node\n",
    "            node = node.next\n",
    "            prev_node.next = None\n",
    "\n",
    "        first_head, first_tail = self._connect_linked_lists(smaller_list_head, smaller_list_tail, equal_list_head, equal_list_tail)\n",
    "        final_head, _ = self._connect_linked_lists(first_head, first_tail, greater_list_head, greater_list_tail)\n",
    "        return final_head\n",
    "\n",
    "    def _grow_linked_list(self, head, tail, node):\n",
    "        new_head = head\n",
    "        new_tail = node\n",
    "\n",
    "        if new_head is None:\n",
    "            new_head = node\n",
    "\n",
    "        if tail is not None:\n",
    "            tail.next = node\n",
    "\n",
    "        return (new_head, new_tail)\n",
    "\n",
    "    def _connect_linked_lists(self, head1, tail1, head2, tail2):\n",
    "        if head1 is None:\n",
    "            new_head = head2\n",
    "        else:\n",
    "            new_head = head1\n",
    "\n",
    "        if tail2 is None:\n",
    "            new_tail = tail1\n",
    "        else:\n",
    "            new_tail = tail2\n",
    "\n",
    "        if tail1 is not None:\n",
    "            tail1.next = head2\n",
    "\n",
    "        return (new_head, new_tail)\n",
    "    \n",
    "    \n",
    "head = Node(5)\n",
    "head.next = Node(4)\n",
    "head.next.next = Node(3)\n",
    "head.next.next.next = Node(2)\n",
    "head.next.next.next.next = Node(1)\n",
    "head.next.next.next.next.next = Node(0)\n",
    "\n",
    "print(head)\n",
    "\n",
    "print(Solution().rearrange_linked_list(head, 2))\n",
    "# all values below 2 before 2, and all above 2 after 2\n",
    "# remaining in the same order: so 1 0 and 5 4 3"
   ]
  },
  {
   "cell_type": "code",
   "execution_count": null,
   "metadata": {},
   "outputs": [],
   "source": []
  }
 ],
 "metadata": {
  "kernelspec": {
   "display_name": "python3",
   "language": "python",
   "name": "python3"
  },
  "language_info": {
   "codemirror_mode": {
    "name": "ipython",
    "version": 3
   },
   "file_extension": ".py",
   "mimetype": "text/x-python",
   "name": "python",
   "nbconvert_exporter": "python",
   "pygments_lexer": "ipython3",
   "version": "3.8.3"
  }
 },
 "nbformat": 4,
 "nbformat_minor": 4
}
