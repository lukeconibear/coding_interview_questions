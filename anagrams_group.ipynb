{
 "cells": [
  {
   "cell_type": "code",
   "execution_count": 15,
   "metadata": {},
   "outputs": [
    {
     "name": "stdout",
     "output_type": "stream",
     "text": [
      "[['abc', 'cba'], ['bcd', 'cbd'], ['efg']]\n"
     ]
    }
   ],
   "source": [
    "import collections\n",
    "\n",
    "def anagrams_group(words): # time O(nlgn), space O(n)\n",
    "    anagrams = collections.defaultdict(list)\n",
    "    for word in words:\n",
    "        sorted_word = \"\".join(sorted(word))\n",
    "        anagrams[sorted_word].append(word)\n",
    "\n",
    "    return list(anagrams.values())\n",
    "\n",
    "\n",
    "print(anagrams_group(['abc', 'bcd', 'cba', 'cbd', 'efg']))\n",
    "# (['abc', 'cba'], ['bcd', 'cbd'], ['efg'])"
   ]
  },
  {
   "cell_type": "code",
   "execution_count": 9,
   "metadata": {},
   "outputs": [
    {
     "name": "stdout",
     "output_type": "stream",
     "text": [
      "(['abc', 'cba'], ['bcd', 'cbd'], ['efg'])\n"
     ]
    }
   ],
   "source": [
    "import collections\n",
    "\n",
    "def anagrams_group(words): # time O(nm) where n is words and m is average char per word, space O(n)\n",
    "    anagrams = collections.defaultdict(list)\n",
    "    for word in words:\n",
    "        anagrams[hash_key(word)].append(word)\n",
    "\n",
    "    return tuple(anagrams.values())\n",
    "\n",
    "def hash_key(word):\n",
    "    array = [0] * 26 # for each letter in alphabet\n",
    "    for char in word:\n",
    "        array[ord(char) - ord('a')] += 1 # ord gives position of alphabet letter, a = 97\n",
    "    return list(array)\n",
    "\n",
    "print(anagrams_group(['abc', 'bcd', 'cba', 'cbd', 'efg']))\n",
    "# (['abc', 'cba'], ['bcd', 'cbd'], ['efg'])"
   ]
  },
  {
   "cell_type": "code",
   "execution_count": null,
   "metadata": {},
   "outputs": [],
   "source": []
  }
 ],
 "metadata": {
  "kernelspec": {
   "display_name": "python3",
   "language": "python",
   "name": "python3"
  },
  "language_info": {
   "codemirror_mode": {
    "name": "ipython",
    "version": 3
   },
   "file_extension": ".py",
   "mimetype": "text/x-python",
   "name": "python",
   "nbconvert_exporter": "python",
   "pygments_lexer": "ipython3",
   "version": "3.8.3"
  }
 },
 "nbformat": 4,
 "nbformat_minor": 4
}
