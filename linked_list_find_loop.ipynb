{
 "cells": [
  {
   "cell_type": "code",
   "execution_count": 36,
   "metadata": {},
   "outputs": [
    {
     "name": "stdout",
     "output_type": "stream",
     "text": [
      "3\n"
     ]
    }
   ],
   "source": [
    "class Node:\n",
    "    def __init__(self, value, next=None):\n",
    "        self.value = value\n",
    "        self.next = next\n",
    "        \n",
    "    def __repr__(self):\n",
    "        return f'{self.value}' # don't print next as the loop will print infinite items\n",
    "\n",
    "class Solution:\n",
    "    def find_loop(self, node): # time O(n), space O(1)\n",
    "        first = node.next\n",
    "        second = node.next.next\n",
    "        while first != second:\n",
    "            first = first.next\n",
    "            second = second.next.next\n",
    "            \n",
    "        first = node\n",
    "        while first != second:\n",
    "            first = first.next\n",
    "            second = second.next\n",
    "            \n",
    "        return first\n",
    "\n",
    "    \n",
    "node = Node(0)\n",
    "node.next = Node(1)\n",
    "node.next.next = Node(2)\n",
    "node.next.next.next = Node(3) # loop starts\n",
    "node.next.next.next.next = Node(4)\n",
    "node.next.next.next.next.next = Node(5)\n",
    "node.next.next.next.next.next.next = Node(6)\n",
    "node.next.next.next.next.next.next.next = node.next.next.next # loop ends\n",
    "\n",
    "print(Solution().find_loop(node))"
   ]
  },
  {
   "cell_type": "code",
   "execution_count": null,
   "metadata": {},
   "outputs": [],
   "source": []
  }
 ],
 "metadata": {
  "kernelspec": {
   "display_name": "python3",
   "language": "python",
   "name": "python3"
  },
  "language_info": {
   "codemirror_mode": {
    "name": "ipython",
    "version": 3
   },
   "file_extension": ".py",
   "mimetype": "text/x-python",
   "name": "python",
   "nbconvert_exporter": "python",
   "pygments_lexer": "ipython3",
   "version": "3.8.3"
  }
 },
 "nbformat": 4,
 "nbformat_minor": 4
}
