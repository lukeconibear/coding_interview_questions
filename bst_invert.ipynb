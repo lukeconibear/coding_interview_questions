{
 "cells": [
  {
   "cell_type": "code",
   "execution_count": 1,
   "metadata": {},
   "outputs": [
    {
     "name": "stdout",
     "output_type": "stream",
     "text": [
      "abdecf\n",
      "acfbed\n"
     ]
    }
   ],
   "source": [
    "class Node(object):\n",
    "  def __init__(self, val, left=None, right=None):\n",
    "    self.val = val\n",
    "    self.left = left\n",
    "    self.right = right\n",
    "\n",
    "  def __repr__(self):\n",
    "    result = self.val\n",
    "    result += f\"{self.left}\" if self.left else ''\n",
    "    result += f\"{self.right}\" if self.right else ''\n",
    "    return result\n",
    "\n",
    "class Solution(object): # time O(n), space O(n)\n",
    "  def invert(self, n):\n",
    "    if not n:\n",
    "      return None\n",
    "    left = self.invert(n.left)\n",
    "    right = self.invert(n.right)\n",
    "    n.right = left\n",
    "    n.left = right\n",
    "    return n\n",
    "\n",
    "n = Node('a')\n",
    "n.left = Node('b')\n",
    "n.right = Node('c')\n",
    "n.left.left = Node('d')\n",
    "n.left.right = Node('e')\n",
    "n.right.left = Node('f')\n",
    "\n",
    "#       a\n",
    "#     /  \\\n",
    "#    b    c\n",
    "#   / \\  /\n",
    "#  d  e  f\n",
    "\n",
    "print(n)\n",
    "\n",
    "#       a\n",
    "#     /  \\\n",
    "#    c    b\n",
    "#     \\  / \\\n",
    "#     f e   d\n",
    "print(Solution().invert(n))\n",
    "# acfbed"
   ]
  }
 ],
 "metadata": {
  "kernelspec": {
   "display_name": "python3",
   "language": "python",
   "name": "python3"
  },
  "language_info": {
   "codemirror_mode": {
    "name": "ipython",
    "version": 3
   },
   "file_extension": ".py",
   "mimetype": "text/x-python",
   "name": "python",
   "nbconvert_exporter": "python",
   "pygments_lexer": "ipython3",
   "version": "3.8.3"
  }
 },
 "nbformat": 4,
 "nbformat_minor": 4
}
