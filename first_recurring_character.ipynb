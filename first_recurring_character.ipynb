{
 "cells": [
  {
   "cell_type": "code",
   "execution_count": 1,
   "metadata": {},
   "outputs": [
    {
     "name": "stdout",
     "output_type": "stream",
     "text": [
      "t\n",
      "None\n"
     ]
    }
   ],
   "source": [
    "def first_recurring_character(str): # time O(n), space O(n)\n",
    "  seen = set()\n",
    "\n",
    "  for c in str:\n",
    "    if c in seen: # constant time look up\n",
    "      return c\n",
    "    seen.add(c)\n",
    "\n",
    "  return None\n",
    "\n",
    "\n",
    "print(first_recurring_character('qwertty'))\n",
    "# t\n",
    "\n",
    "print(first_recurring_character('qwerty'))\n",
    "# None"
   ]
  }
 ],
 "metadata": {
  "kernelspec": {
   "display_name": "python3",
   "language": "python",
   "name": "python3"
  },
  "language_info": {
   "codemirror_mode": {
    "name": "ipython",
    "version": 3
   },
   "file_extension": ".py",
   "mimetype": "text/x-python",
   "name": "python",
   "nbconvert_exporter": "python",
   "pygments_lexer": "ipython3",
   "version": "3.8.3"
  }
 },
 "nbformat": 4,
 "nbformat_minor": 4
}
