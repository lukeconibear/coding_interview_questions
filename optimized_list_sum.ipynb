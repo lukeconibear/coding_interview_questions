{
 "cells": [
  {
   "cell_type": "code",
   "execution_count": 9,
   "metadata": {},
   "outputs": [
    {
     "name": "stdout",
     "output_type": "stream",
     "text": [
      "12\n"
     ]
    }
   ],
   "source": [
    "class ListFastSum:\n",
    "    def __init__(self, nums):\n",
    "        self.accumulated_sum = [0]\n",
    "\n",
    "        accumulated_sum = 0\n",
    "        for num in nums:\n",
    "            accumulated_sum += num # accumulated sum\n",
    "            self.accumulated_sum.append(accumulated_sum)\n",
    "\n",
    "    def partial_sum(self, start, end): # start index, end index, time O(n), space O(n)\n",
    "        return self.accumulated_sum[end] - self.accumulated_sum[start]\n",
    "\n",
    "\n",
    "print(ListFastSum([1, 2, 3, 4, 5, 6, 7]).partial_sum(2, 5)) \n",
    "# 12"
   ]
  },
  {
   "cell_type": "code",
   "execution_count": 10,
   "metadata": {},
   "outputs": [],
   "source": [
    "a = ListFastSum([1, 2, 3, 4, 5, 6, 7])"
   ]
  },
  {
   "cell_type": "code",
   "execution_count": 11,
   "metadata": {},
   "outputs": [
    {
     "data": {
      "text/plain": [
       "[0, 1, 3, 6, 10, 15, 21, 28]"
      ]
     },
     "execution_count": 11,
     "metadata": {},
     "output_type": "execute_result"
    }
   ],
   "source": [
    "a.accumulated_sum"
   ]
  },
  {
   "cell_type": "code",
   "execution_count": null,
   "metadata": {},
   "outputs": [],
   "source": []
  }
 ],
 "metadata": {
  "kernelspec": {
   "display_name": "python3",
   "language": "python",
   "name": "python3"
  },
  "language_info": {
   "codemirror_mode": {
    "name": "ipython",
    "version": 3
   },
   "file_extension": ".py",
   "mimetype": "text/x-python",
   "name": "python",
   "nbconvert_exporter": "python",
   "pygments_lexer": "ipython3",
   "version": "3.8.3"
  }
 },
 "nbformat": 4,
 "nbformat_minor": 4
}
