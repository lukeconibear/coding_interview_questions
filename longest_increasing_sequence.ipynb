{
 "cells": [
  {
   "cell_type": "code",
   "execution_count": 3,
   "metadata": {},
   "outputs": [
    {
     "name": "stdout",
     "output_type": "stream",
     "text": [
      "5\n"
     ]
    }
   ],
   "source": [
    "def longest_increasing_subsequence(arr): # time O(n^2), space O(n)\n",
    "  cache = [1] * len(arr)\n",
    "  for i in range(1, len(arr)):\n",
    "    for j in range(i):\n",
    "      if arr[i] > arr[j]:\n",
    "        cache[i] = max(cache[i], cache[j] + 1)\n",
    "  return max(cache)\n",
    "\n",
    "# only want the length not values\n",
    "# hence dynamic programming\n",
    "print(longest_increasing_subsequence( # doesnt have to be connected, \n",
    "    [0, 8, 4, 12, 2, 10, 6, 14, 1, 9, 5, 13, 3]))\n",
    "# 5"
   ]
  },
  {
   "cell_type": "code",
   "execution_count": null,
   "metadata": {},
   "outputs": [],
   "source": [
    "# in a single pass, estimate the longest increasing subsequence to that point\n",
    "# 1  2  2   3  2   3  etc.\n",
    " [0, 8, 4, 12, 2, 10, 6, 14, 1, 9, 5, 13, 3]"
   ]
  }
 ],
 "metadata": {
  "kernelspec": {
   "display_name": "python3",
   "language": "python",
   "name": "python3"
  },
  "language_info": {
   "codemirror_mode": {
    "name": "ipython",
    "version": 3
   },
   "file_extension": ".py",
   "mimetype": "text/x-python",
   "name": "python",
   "nbconvert_exporter": "python",
   "pygments_lexer": "ipython3",
   "version": "3.8.3"
  }
 },
 "nbformat": 4,
 "nbformat_minor": 4
}
