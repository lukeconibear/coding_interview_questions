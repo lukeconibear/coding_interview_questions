{
 "cells": [
  {
   "cell_type": "code",
   "execution_count": 1,
   "metadata": {},
   "outputs": [
    {
     "name": "stdout",
     "output_type": "stream",
     "text": [
      "[4, 5, 7]\n"
     ]
    }
   ],
   "source": [
    "class Node():\n",
    "  def __init__(self, value, left=None, right=None):\n",
    "    self.value = value\n",
    "    self.left = left\n",
    "    self.right = right\n",
    "\n",
    "\n",
    "def valuesAtLevel(node, depth): # time O(n), space O(n)\n",
    "  if not node:\n",
    "    return []\n",
    "\n",
    "  if depth == 1:\n",
    "    return [node.value]\n",
    "\n",
    "  return valuesAtLevel(node.left, depth - 1) + valuesAtLevel(node.right, depth - 1)\n",
    "\n",
    "\n",
    "#    1\n",
    "#   / \\\n",
    "#  2   3\n",
    "# / \\   \\\n",
    "# 4   5   7\n",
    "node = Node(1)\n",
    "node.left = Node(2)\n",
    "node.right = Node(3)\n",
    "node.right.right = Node(7)\n",
    "node.left.left = Node(4)\n",
    "node.left.right = Node(5)\n",
    "\n",
    "print(valuesAtLevel(node, 3))\n",
    "# [ 4, 5, 7]"
   ]
  },
  {
   "cell_type": "code",
   "execution_count": null,
   "metadata": {},
   "outputs": [],
   "source": []
  }
 ],
 "metadata": {
  "kernelspec": {
   "display_name": "python3",
   "language": "python",
   "name": "python3"
  },
  "language_info": {
   "codemirror_mode": {
    "name": "ipython",
    "version": 3
   },
   "file_extension": ".py",
   "mimetype": "text/x-python",
   "name": "python",
   "nbconvert_exporter": "python",
   "pygments_lexer": "ipython3",
   "version": "3.8.3"
  }
 },
 "nbformat": 4,
 "nbformat_minor": 4
}
