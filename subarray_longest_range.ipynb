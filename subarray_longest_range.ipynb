{
 "cells": [
  {
   "cell_type": "code",
   "execution_count": 5,
   "metadata": {},
   "outputs": [
    {
     "name": "stdout",
     "output_type": "stream",
     "text": [
      "[0, 1, 2, 3, 4, 5, 6, 7]\n"
     ]
    }
   ],
   "source": [
    "def largest_range(array): # time O(n), space O(n)\n",
    "    longest_range = []\n",
    "    longest_length = 0\n",
    "    nums = {}\n",
    "    for num in array:\n",
    "        nums[num] = True\n",
    "    for num in array:\n",
    "        if not nums[num]:\n",
    "            continue\n",
    "        nums[num] = False\n",
    "        current_length = 1\n",
    "        left = num - 1\n",
    "        right = num + 1\n",
    "        while left in nums:\n",
    "            nums[left] = False\n",
    "            current_length += 1\n",
    "            left -= 1\n",
    "        while right in nums:\n",
    "            nums[right] = False\n",
    "            current_length += 1\n",
    "            right += 1\n",
    "        if current_length > longest_length:\n",
    "            longest_length = current_length\n",
    "            longest_range = [left + 1, right - 1]\n",
    "    #return longest_range # for start and end indices\n",
    "    return [num for num in range(longest_range[0], longest_range[1] + 1)] # to print the range\n",
    "\n",
    "\n",
    "print(largest_range([1,11,3,0,15,5,2,4,10,7,12,6]))"
   ]
  },
  {
   "cell_type": "code",
   "execution_count": null,
   "metadata": {},
   "outputs": [],
   "source": []
  }
 ],
 "metadata": {
  "kernelspec": {
   "display_name": "python3",
   "language": "python",
   "name": "python3"
  },
  "language_info": {
   "codemirror_mode": {
    "name": "ipython",
    "version": 3
   },
   "file_extension": ".py",
   "mimetype": "text/x-python",
   "name": "python",
   "nbconvert_exporter": "python",
   "pygments_lexer": "ipython3",
   "version": "3.8.3"
  }
 },
 "nbformat": 4,
 "nbformat_minor": 4
}
