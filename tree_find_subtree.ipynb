{
 "cells": [
  {
   "cell_type": "code",
   "execution_count": 8,
   "metadata": {},
   "outputs": [
    {
     "name": "stdout",
     "output_type": "stream",
     "text": [
      "True\n",
      "True\n"
     ]
    }
   ],
   "source": [
    "class Node:\n",
    "  def __init__(self, value, left=None, right=None):\n",
    "    self.value = value\n",
    "    self.left = left\n",
    "    self.right = right\n",
    "\n",
    "\n",
    "n = Node(1)\n",
    "n.left = Node(4)\n",
    "n.right = Node(5)\n",
    "n.left.left = Node(3)\n",
    "n.left.right = Node(2)\n",
    "n.right.left = Node(4)\n",
    "n.right.right = Node(1)\n",
    "\n",
    "b = Node(4)\n",
    "b.left = Node(3)\n",
    "b.right = Node(2)\n",
    "\n",
    "\n",
    "def pre(n): # preordered traversal\n",
    "  if not n:\n",
    "    return 'null'\n",
    "  return str(n.value) + '-' + pre(n.left) + '-' + pre(n.right)\n",
    "\n",
    "\n",
    "def find_subtree(a, b): # time O(n), space O()\n",
    "  return pre(b) in pre(a)\n",
    "\n",
    "\n",
    "def find_subtree2(a, b): # brute force with recursion, time O(nm), space O()\n",
    "  if not a:\n",
    "    return False\n",
    "\n",
    "  is_match = a.value == b.value\n",
    "  if is_match:\n",
    "    is_match_left = (not a.left or not b.left) or find_subtree2(a.left, b.left)\n",
    "    if is_match_left:\n",
    "      is_match_right = (not a.right or not b.right) or find_subtree2(\n",
    "          a.right, b.right)\n",
    "      if is_match_right:\n",
    "        return True\n",
    "\n",
    "  return find_subtree2(a.left, b) or find_subtree2(a.right, b)\n",
    "\n",
    "\n",
    "print(find_subtree(n, b))\n",
    "# True\n",
    "\n",
    "print(find_subtree2(n, b))\n",
    "# True"
   ]
  },
  {
   "cell_type": "code",
   "execution_count": 9,
   "metadata": {},
   "outputs": [
    {
     "data": {
      "text/plain": [
       "'1-4-3-null-null-2-null-null-5-4-null-null-1-null-null'"
      ]
     },
     "execution_count": 9,
     "metadata": {},
     "output_type": "execute_result"
    }
   ],
   "source": [
    "pre(n)"
   ]
  },
  {
   "cell_type": "code",
   "execution_count": 10,
   "metadata": {},
   "outputs": [
    {
     "data": {
      "text/plain": [
       "'4-3-null-null-2-null-null'"
      ]
     },
     "execution_count": 10,
     "metadata": {},
     "output_type": "execute_result"
    }
   ],
   "source": [
    "pre(b)"
   ]
  },
  {
   "cell_type": "code",
   "execution_count": null,
   "metadata": {},
   "outputs": [],
   "source": []
  }
 ],
 "metadata": {
  "kernelspec": {
   "display_name": "python3",
   "language": "python",
   "name": "python3"
  },
  "language_info": {
   "codemirror_mode": {
    "name": "ipython",
    "version": 3
   },
   "file_extension": ".py",
   "mimetype": "text/x-python",
   "name": "python",
   "nbconvert_exporter": "python",
   "pygments_lexer": "ipython3",
   "version": "3.8.3"
  }
 },
 "nbformat": 4,
 "nbformat_minor": 4
}
