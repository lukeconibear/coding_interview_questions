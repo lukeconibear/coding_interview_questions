{
 "cells": [
  {
   "cell_type": "code",
   "execution_count": 1,
   "metadata": {},
   "outputs": [
    {
     "name": "stdout",
     "output_type": "stream",
     "text": [
      "4\n"
     ]
    }
   ],
   "source": [
    "class Node(object):\n",
    "  def __init__(self, val):\n",
    "    self.val = val\n",
    "    self.left = None\n",
    "    self.right = None\n",
    "\n",
    "  def __repr__(self):\n",
    "    return self.val\n",
    "\n",
    "\n",
    "def deepest(node): # time O(n), space O(n)\n",
    "  if not node:\n",
    "    return 0\n",
    "  return 1 + max(deepest(node.left), deepest(node.right))\n",
    "\n",
    "\n",
    "def deepest2(node, depth=0): # time O(n), space O(n)\n",
    "  if not node:\n",
    "    return depth + 0\n",
    "\n",
    "  if not node.left and not node.right:\n",
    "    return depth + 1\n",
    "\n",
    "  if not node.left:\n",
    "    return deepest2(node.right, depth + 1)\n",
    "\n",
    "  if not node.right:\n",
    "    return deepest2(node.left, depth + 1)\n",
    "\n",
    "  return max(deepest2(node.left, depth + 1),\n",
    "             deepest2(node.right, depth + 1))\n",
    "\n",
    "\n",
    "#    a\n",
    "#   / \\\n",
    "#  b   c\n",
    "# /\n",
    "# d\n",
    "#  \\\n",
    "#   e\n",
    "root = Node('a')\n",
    "root.left = Node('b')\n",
    "root.left.left = Node('d')\n",
    "root.left.left.right = Node('e')\n",
    "root.right = Node('c')\n",
    "\n",
    "print(deepest2(root))\n",
    "# 4"
   ]
  },
  {
   "cell_type": "code",
   "execution_count": null,
   "metadata": {},
   "outputs": [],
   "source": []
  }
 ],
 "metadata": {
  "kernelspec": {
   "display_name": "python3",
   "language": "python",
   "name": "python3"
  },
  "language_info": {
   "codemirror_mode": {
    "name": "ipython",
    "version": 3
   },
   "file_extension": ".py",
   "mimetype": "text/x-python",
   "name": "python",
   "nbconvert_exporter": "python",
   "pygments_lexer": "ipython3",
   "version": "3.8.3"
  }
 },
 "nbformat": 4,
 "nbformat_minor": 4
}
