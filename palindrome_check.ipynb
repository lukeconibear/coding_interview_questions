{
 "cells": [
  {
   "cell_type": "code",
   "execution_count": 8,
   "metadata": {},
   "outputs": [
    {
     "name": "stdout",
     "output_type": "stream",
     "text": [
      "True\n",
      "True\n",
      "True\n",
      "True\n",
      "True\n"
     ]
    }
   ],
   "source": [
    "class Solution(object):\n",
    "    def is_palindrome1(self, string): # time O(n), space O(1)\n",
    "        left_index = 0\n",
    "        right_index = len(string) - 1\n",
    "        while left_index < right_index:\n",
    "            if string[left_index] != string[right_index]:\n",
    "                return False\n",
    "            left_index += 1\n",
    "            right_index -= 1\n",
    "        return True\n",
    "    \n",
    "    def is_palindrome2(self, string): # time O(n), space O(n)\n",
    "        if string == string[::-1]:\n",
    "            return True\n",
    "        return False\n",
    "    \n",
    "    def is_palindrome3(self, string): # time O(n^2), space O(n)\n",
    "        reversed_string = ''\n",
    "        for index in reversed(range(len(string))):\n",
    "            reversed_string += string[index]\n",
    "        return string == reversed_string\n",
    "    \n",
    "    def is_palindrome4(self, string): # time O(n), space O(n)\n",
    "        reversed_chars = []\n",
    "        for index in reversed(range(len(string))):\n",
    "            reversed_chars.append(string[index])\n",
    "        return string == ''.join(reversed_chars)\n",
    "\n",
    "    def is_palindrome5(self, string, i=0): # time O(n), space O(n) from call stack\n",
    "        j = len(string) - 1 - i\n",
    "        if i >= j:\n",
    "            return True\n",
    "        if string[i] != string[j]:\n",
    "            return False\n",
    "        return self.is_palindrome5(string, i + 1) # tail recursion\n",
    "    \n",
    "    \n",
    "print(Solution().is_palindrome1('abcdcba'))\n",
    "print(Solution().is_palindrome2('abcdcba'))\n",
    "print(Solution().is_palindrome3('abcdcba'))\n",
    "print(Solution().is_palindrome4('abcdcba'))\n",
    "print(Solution().is_palindrome5('abcdcba'))"
   ]
  },
  {
   "cell_type": "code",
   "execution_count": null,
   "metadata": {},
   "outputs": [],
   "source": []
  }
 ],
 "metadata": {
  "kernelspec": {
   "display_name": "python3",
   "language": "python",
   "name": "python3"
  },
  "language_info": {
   "codemirror_mode": {
    "name": "ipython",
    "version": 3
   },
   "file_extension": ".py",
   "mimetype": "text/x-python",
   "name": "python",
   "nbconvert_exporter": "python",
   "pygments_lexer": "ipython3",
   "version": "3.8.3"
  }
 },
 "nbformat": 4,
 "nbformat_minor": 4
}
