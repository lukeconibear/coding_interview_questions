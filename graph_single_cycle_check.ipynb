{
 "cells": [
  {
   "cell_type": "code",
   "execution_count": 3,
   "metadata": {},
   "outputs": [
    {
     "name": "stdout",
     "output_type": "stream",
     "text": [
      "True\n"
     ]
    }
   ],
   "source": [
    "def single_cycle_check(array): # time O(n), space O(1)\n",
    "    num_elements_visited = 0\n",
    "    current_index = 0\n",
    "    while num_elements_visited < len(array):\n",
    "        if num_elements_visited > 0 and current_index == 0:\n",
    "            return False\n",
    "        num_elements_visited += 1\n",
    "        current_index = get_next_index(current_index, array)\n",
    "    return current_index == 0\n",
    "\n",
    "def get_next_index(current_index, array):\n",
    "    jump = array[current_index]\n",
    "    next_index = (current_index + jump) % len(array)\n",
    "    if next_index >= 0:\n",
    "        return next_index\n",
    "    else:\n",
    "        return next_index + len(array)\n",
    "\n",
    "print(single_cycle_check([2,3,1,-4,-4,2]))"
   ]
  },
  {
   "cell_type": "code",
   "execution_count": null,
   "metadata": {},
   "outputs": [],
   "source": []
  }
 ],
 "metadata": {
  "kernelspec": {
   "display_name": "python3",
   "language": "python",
   "name": "python3"
  },
  "language_info": {
   "codemirror_mode": {
    "name": "ipython",
    "version": 3
   },
   "file_extension": ".py",
   "mimetype": "text/x-python",
   "name": "python",
   "nbconvert_exporter": "python",
   "pygments_lexer": "ipython3",
   "version": "3.8.3"
  }
 },
 "nbformat": 4,
 "nbformat_minor": 4
}
