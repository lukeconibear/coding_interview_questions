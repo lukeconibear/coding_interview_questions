{
 "cells": [
  {
   "cell_type": "code",
   "execution_count": null,
   "metadata": {},
   "outputs": [],
   "source": [
    "# This is an input class. Do not edit.\n",
    "class AncestralTree:\n",
    "    def __init__(self, name):\n",
    "        self.name = name\n",
    "        self.ancestor = None\n",
    "\n",
    "\n",
    "def getYoungestCommonAncestor(topAncestor, descendantOne, descendantTwo): # time O(h), space O(1)\n",
    "    depth_one = get_descendant_depth(descendantOne, topAncestor)\n",
    "    depth_two = get_descendant_depth(descendantTwo, topAncestor)\n",
    "    if depth_one > depth_two:\n",
    "        return backtrack_ancestral_tree(descendantOne, descendantTwo, depth_one - depth_two)\n",
    "    else:\n",
    "        return backtrack_ancestral_tree(descendantTwo, descendantOne, depth_two - depth_one)\n",
    "    \n",
    "    \n",
    "def get_descendant_depth(descendant, topAncestor):\n",
    "    depth = 0\n",
    "    while descendant != topAncestor:\n",
    "        depth += 1\n",
    "        descendant = descendant.ancestor\n",
    "    return depth\n",
    "\n",
    "def backtrack_ancestral_tree(lower_descendant, higher_descendant, diff):\n",
    "    while diff > 0:\n",
    "        lower_descendant = lower_descendant.ancestor\n",
    "        diff -= 1\n",
    "    while lower_descendant != higher_descendant:\n",
    "        lower_descendant = lower_descendant.ancestor\n",
    "        higher_descendant = higher_descendant.ancestor\n",
    "    return lower_descendant\n"
   ]
  }
 ],
 "metadata": {
  "kernelspec": {
   "display_name": "python3",
   "language": "python",
   "name": "python3"
  },
  "language_info": {
   "codemirror_mode": {
    "name": "ipython",
    "version": 3
   },
   "file_extension": ".py",
   "mimetype": "text/x-python",
   "name": "python",
   "nbconvert_exporter": "python",
   "pygments_lexer": "ipython3",
   "version": "3.8.3"
  }
 },
 "nbformat": 4,
 "nbformat_minor": 4
}
