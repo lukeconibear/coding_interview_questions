{
 "cells": [
  {
   "cell_type": "code",
   "execution_count": 7,
   "metadata": {},
   "outputs": [
    {
     "name": "stdout",
     "output_type": "stream",
     "text": [
      "(['abc', 'cba'], ['bcd', 'cbd'], ['efg'])\n"
     ]
    }
   ],
   "source": [
    "import collections\n",
    "\n",
    "def hashkey(str): # time O(nlogn), space O(1)\n",
    "  return \"\".join(sorted(str))\n",
    "\n",
    "def hashkey2(str): # time O(nm) where n is words, and m is average char per word, space O(n)\n",
    "  arr = [0] * 26 # for each letter in alphabet\n",
    "  for c in str:\n",
    "    arr[ord(c) - ord('a')] += 1 # ord gives position of alphabet letter, a = 97\n",
    "  return tuple(arr)\n",
    "\n",
    "def groupAnagramWords(strs): \n",
    "  groups = collections.defaultdict(list)\n",
    "  for s in strs:\n",
    "    groups[hashkey2(s)].append(s)\n",
    "\n",
    "  return tuple(groups.values())\n",
    "\n",
    "print(groupAnagramWords(['abc', 'bcd', 'cba', 'cbd', 'efg']))\n",
    "# (['abc', 'cba'], ['bcd', 'cbd'], ['efg'])"
   ]
  },
  {
   "cell_type": "code",
   "execution_count": null,
   "metadata": {},
   "outputs": [],
   "source": []
  }
 ],
 "metadata": {
  "kernelspec": {
   "display_name": "python3",
   "language": "python",
   "name": "python3"
  },
  "language_info": {
   "codemirror_mode": {
    "name": "ipython",
    "version": 3
   },
   "file_extension": ".py",
   "mimetype": "text/x-python",
   "name": "python",
   "nbconvert_exporter": "python",
   "pygments_lexer": "ipython3",
   "version": "3.8.3"
  }
 },
 "nbformat": 4,
 "nbformat_minor": 4
}
