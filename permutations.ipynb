{
 "cells": [
  {
   "cell_type": "code",
   "execution_count": 16,
   "metadata": {},
   "outputs": [],
   "source": [
    "class Solution(object):\n",
    "    def _permute_helper(self, nums, start=0):\n",
    "        if start == len(nums) - 1:\n",
    "            return [nums[:]]\n",
    "        \n",
    "        result = []\n",
    "        for index in range(start, len(nums)):\n",
    "            nums[start], nums[index] = nums[index], nums[start]\n",
    "            result += self._permute_helper(nums, start + 1)\n",
    "            nums[start], nums[index] = nums[index], nums[start]\n",
    "        return result\n",
    "    \n",
    "    def permute(self, nums): # time O(n!), space O(n)\n",
    "        return self._permute_helper(nums)\n",
    "    \n",
    "    def permute2(self, nums, values=[]):\n",
    "        if not nums:\n",
    "            return [values]\n",
    "        result = []\n",
    "        for index in range(len(nums)):\n",
    "            result += self.permute2(nums[:index] + nums[index + 1:], values + [nums[index]])\n",
    "        return result\n",
    "\n",
    "    def permute2_iterative(self, nums):\n",
    "        results = []\n",
    "        stack = [(nums, [])]\n",
    "        while len(stack):\n",
    "            nums, values = stack.pop()\n",
    "            if not nums:\n",
    "                results += [values]\n",
    "            for index in range(len(nums)):\n",
    "                stack.append((nums[:index] + nums[index + 1:], values + [nums[index]]))\n",
    "        return results"
   ]
  },
  {
   "cell_type": "code",
   "execution_count": 18,
   "metadata": {},
   "outputs": [
    {
     "name": "stdout",
     "output_type": "stream",
     "text": [
      "CPU times: user 15 µs, sys: 6 µs, total: 21 µs\n",
      "Wall time: 25.5 µs\n"
     ]
    },
    {
     "data": {
      "text/plain": [
       "[[1, 2, 3], [1, 3, 2], [2, 1, 3], [2, 3, 1], [3, 2, 1], [3, 1, 2]]"
      ]
     },
     "execution_count": 18,
     "metadata": {},
     "output_type": "execute_result"
    }
   ],
   "source": [
    "%%time\n",
    "Solution().permute([1, 2, 3])"
   ]
  },
  {
   "cell_type": "code",
   "execution_count": 19,
   "metadata": {},
   "outputs": [
    {
     "name": "stdout",
     "output_type": "stream",
     "text": [
      "CPU times: user 35 µs, sys: 0 ns, total: 35 µs\n",
      "Wall time: 39.3 µs\n"
     ]
    },
    {
     "data": {
      "text/plain": [
       "[[1, 2, 3], [1, 3, 2], [2, 1, 3], [2, 3, 1], [3, 1, 2], [3, 2, 1]]"
      ]
     },
     "execution_count": 19,
     "metadata": {},
     "output_type": "execute_result"
    }
   ],
   "source": [
    "%%time\n",
    "Solution().permute2([1, 2, 3])"
   ]
  },
  {
   "cell_type": "code",
   "execution_count": 20,
   "metadata": {},
   "outputs": [
    {
     "name": "stdout",
     "output_type": "stream",
     "text": [
      "CPU times: user 51 µs, sys: 0 ns, total: 51 µs\n",
      "Wall time: 55.1 µs\n"
     ]
    },
    {
     "data": {
      "text/plain": [
       "[[3, 2, 1], [3, 1, 2], [2, 3, 1], [2, 1, 3], [1, 3, 2], [1, 2, 3]]"
      ]
     },
     "execution_count": 20,
     "metadata": {},
     "output_type": "execute_result"
    }
   ],
   "source": [
    "%%time\n",
    "Solution().permute2_iterative([1, 2, 3])"
   ]
  },
  {
   "cell_type": "code",
   "execution_count": null,
   "metadata": {},
   "outputs": [],
   "source": []
  }
 ],
 "metadata": {
  "kernelspec": {
   "display_name": "python3",
   "language": "python",
   "name": "python3"
  },
  "language_info": {
   "codemirror_mode": {
    "name": "ipython",
    "version": 3
   },
   "file_extension": ".py",
   "mimetype": "text/x-python",
   "name": "python",
   "nbconvert_exporter": "python",
   "pygments_lexer": "ipython3",
   "version": "3.8.3"
  }
 },
 "nbformat": 4,
 "nbformat_minor": 4
}
