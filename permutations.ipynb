{
 "cells": [
  {
   "cell_type": "code",
   "execution_count": 57,
   "metadata": {},
   "outputs": [
    {
     "name": "stdout",
     "output_type": "stream",
     "text": [
      "[[1, 2, 3], [1, 3, 2], [2, 1, 3], [2, 3, 1], [3, 2, 1], [3, 1, 2]]\n",
      "[[1, 2, 3], [1, 3, 2], [2, 1, 3], [2, 3, 1], [3, 1, 2], [3, 2, 1]]\n",
      "[[3, 2, 1], [3, 1, 2], [2, 3, 1], [2, 1, 3], [1, 3, 2], [1, 2, 3]]\n"
     ]
    }
   ],
   "source": [
    "class Solution:\n",
    "    def permute(self, array): # time O(n*n!) worst case O(n2*n!), space O(n*n!)\n",
    "        return self._permute_helper(array)\n",
    "    \n",
    "    def _permute_helper(self, array, start=0):\n",
    "        if start == len(array) - 1:\n",
    "            return [array[:]]\n",
    "        \n",
    "        permutations = []\n",
    "        for index in range(start, len(array)):\n",
    "            array[start], array[index] = array[index], array[start]\n",
    "            permutations += self._permute_helper(array, start + 1)\n",
    "            array[start], array[index] = array[index], array[start]\n",
    "        return permutations\n",
    "    \n",
    "    \n",
    "    def permute2(self, array, current_permutation=[]): # time O(n*n!), space O(n*n!)\n",
    "        if not array:\n",
    "            return [current_permutation]\n",
    "        permutations = []\n",
    "        for index in range(len(array)):\n",
    "            permutations += self.permute2(array[:index] + array[index + 1:], current_permutation + [array[index]])\n",
    "        return permutations #if len(permutations[0]) != 0 else []\n",
    "\n",
    "    \n",
    "    def permute2_iterative(self, array): # time O(n*n!), space O(n*n!)\n",
    "        permutations = []\n",
    "        stack = [(array, [])]\n",
    "        while len(stack):\n",
    "            array, current_permutation = stack.pop()\n",
    "            if not array:\n",
    "                permutations += [current_permutation]\n",
    "            for index in range(len(array)):\n",
    "                stack.append((array[:index] + array[index + 1:], current_permutation + [array[index]]))\n",
    "        return permutations #if len(permutations[0]) != 0 else []\n",
    "    \n",
    "    \n",
    "print(Solution().permute([1, 2, 3]))\n",
    "print(Solution().permute2([1, 2, 3]))\n",
    "print(Solution().permute2_iterative([1, 2, 3]))"
   ]
  },
  {
   "cell_type": "code",
   "execution_count": null,
   "metadata": {},
   "outputs": [],
   "source": []
  }
 ],
 "metadata": {
  "kernelspec": {
   "display_name": "python3",
   "language": "python",
   "name": "python3"
  },
  "language_info": {
   "codemirror_mode": {
    "name": "ipython",
    "version": 3
   },
   "file_extension": ".py",
   "mimetype": "text/x-python",
   "name": "python",
   "nbconvert_exporter": "python",
   "pygments_lexer": "ipython3",
   "version": "3.8.3"
  }
 },
 "nbformat": 4,
 "nbformat_minor": 4
}
