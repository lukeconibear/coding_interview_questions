{
 "cells": [
  {
   "cell_type": "code",
   "execution_count": 1,
   "metadata": {},
   "outputs": [
    {
     "name": "stdout",
     "output_type": "stream",
     "text": [
      "3\n"
     ]
    }
   ],
   "source": [
    "class Solution(object):\n",
    "  def num_islands(self, grid): # time O(n), space O(n)\n",
    "    if not grid or not grid[0]:\n",
    "      return 0\n",
    "    numRows, numCols = len(grid), len(grid[0])\n",
    "    count = 0\n",
    "\n",
    "    for row in range(numRows):\n",
    "      for col in range(numCols):\n",
    "        if self._is_land(grid, row, col):\n",
    "          count += 1\n",
    "          self._sinkLand(grid, row, col)\n",
    "    return count\n",
    "\n",
    "  def _sinkLand(self, grid, row, col):\n",
    "    if not self._is_land(grid, row, col):\n",
    "      return\n",
    "    grid[row][col] = 0\n",
    "    for d in [(0, 1), (0, -1), (1, 0), (-1, 0)]:\n",
    "      self._sinkLand(grid, row + d[0], col + d[1])\n",
    "\n",
    "  def _is_land(self, grid, row, col):\n",
    "    if row < 0 or col < 0 or row >= len(grid) or col >= len(grid[0]):\n",
    "      return False\n",
    "    return grid[row][col] == 1\n",
    "\n",
    "grid = [[1, 1, 0, 0, 0],\n",
    "        [0, 1, 0, 0, 1],\n",
    "        [1, 0, 0, 1, 1],\n",
    "        [0, 0, 0, 0, 0]]\n",
    "\n",
    "print(Solution().num_islands(grid))\n",
    "# 3"
   ]
  },
  {
   "cell_type": "code",
   "execution_count": null,
   "metadata": {},
   "outputs": [],
   "source": []
  }
 ],
 "metadata": {
  "kernelspec": {
   "display_name": "python3",
   "language": "python",
   "name": "python3"
  },
  "language_info": {
   "codemirror_mode": {
    "name": "ipython",
    "version": 3
   },
   "file_extension": ".py",
   "mimetype": "text/x-python",
   "name": "python",
   "nbconvert_exporter": "python",
   "pygments_lexer": "ipython3",
   "version": "3.8.3"
  }
 },
 "nbformat": 4,
 "nbformat_minor": 4
}
