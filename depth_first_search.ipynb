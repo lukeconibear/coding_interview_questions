{
 "cells": [
  {
   "cell_type": "code",
   "execution_count": 1,
   "metadata": {},
   "outputs": [
    {
     "name": "stdout",
     "output_type": "stream",
     "text": [
      "['A', 'B', 'E', 'F', 'I', 'J', 'C', 'D', 'G', 'K', 'H']\n"
     ]
    }
   ],
   "source": [
    "class Node:\n",
    "    def __init__(self, value, left=None, centre=None, right=None):\n",
    "        self.value = value\n",
    "        self.left = left\n",
    "        self.centre = centre\n",
    "        self.right = right\n",
    "        \n",
    "    def __repr__(self):\n",
    "        return f'{self.value}'\n",
    "    \n",
    "\n",
    "def depth_first_search(node, array=[]): # time O(nodes + arrows), space O(nodes)\n",
    "    array.append(node.value)\n",
    "    if node.left:\n",
    "        depth_first_search(node.left, array)\n",
    "    if node.centre:\n",
    "        depth_first_search(node.centre, array)\n",
    "    if node.right:\n",
    "        depth_first_search(node.right, array)\n",
    "    return array\n",
    "\n",
    "node = Node('A')\n",
    "node.left = Node('B')\n",
    "node.left.left = Node('E')\n",
    "node.left.right = Node('F')\n",
    "node.left.right.left = Node('I')\n",
    "node.left.right.right = Node('J')\n",
    "node.centre = Node('C')\n",
    "node.right = Node('D')\n",
    "node.right.left = Node('G')\n",
    "node.right.left.right = Node('K')\n",
    "node.right.right = Node('H')\n",
    "\n",
    "print(depth_first_search(node))\n",
    "# A, B, E, F, I, J, C, D, G, K, H"
   ]
  },
  {
   "cell_type": "code",
   "execution_count": null,
   "metadata": {},
   "outputs": [],
   "source": []
  }
 ],
 "metadata": {
  "kernelspec": {
   "display_name": "python3",
   "language": "python",
   "name": "python3"
  },
  "language_info": {
   "codemirror_mode": {
    "name": "ipython",
    "version": 3
   },
   "file_extension": ".py",
   "mimetype": "text/x-python",
   "name": "python",
   "nbconvert_exporter": "python",
   "pygments_lexer": "ipython3",
   "version": "3.8.3"
  }
 },
 "nbformat": 4,
 "nbformat_minor": 4
}
