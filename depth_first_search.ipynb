{
 "cells": [
  {
   "cell_type": "code",
   "execution_count": 14,
   "metadata": {},
   "outputs": [
    {
     "name": "stdout",
     "output_type": "stream",
     "text": [
      "['A', 'B', 'E', 'F', 'I', 'J', 'C', 'D', 'G', 'K', 'H']\n"
     ]
    }
   ],
   "source": [
    "class Node(object):\n",
    "    def __init__(self, value, left=None, centre=None, right=None):\n",
    "        self.value = value\n",
    "        self.left = left\n",
    "        self.centre = centre\n",
    "        self.right = right\n",
    "        \n",
    "    def __repr__(self):\n",
    "        return f'{self.value}'\n",
    "    \n",
    "\n",
    "def depth_first_search(tree, array=[]): # time O(nodes + arrows), space O(nodes)\n",
    "    array.append(tree.value)\n",
    "    if tree.left:\n",
    "        depth_first_search(tree.left, array)\n",
    "    if tree.centre:\n",
    "        depth_first_search(tree.centre, array)\n",
    "    if tree.right:\n",
    "        depth_first_search(tree.right, array)\n",
    "    return array\n",
    "\n",
    "tree = Node('A')\n",
    "tree.left = Node('B')\n",
    "tree.left.left = Node('E')\n",
    "tree.left.right = Node('F')\n",
    "tree.left.right.left = Node('I')\n",
    "tree.left.right.right = Node('J')\n",
    "tree.centre = Node('C')\n",
    "tree.right = Node('D')\n",
    "tree.right.left = Node('G')\n",
    "tree.right.left.right = Node('K')\n",
    "tree.right.right = Node('H')\n",
    "\n",
    "print(depth_first_search(tree))\n",
    "# A, B, E, F, I, J, C, D, G, K, H"
   ]
  },
  {
   "cell_type": "code",
   "execution_count": 4,
   "metadata": {},
   "outputs": [
    {
     "data": {
      "text/plain": [
       "A"
      ]
     },
     "execution_count": 4,
     "metadata": {},
     "output_type": "execute_result"
    }
   ],
   "source": [
    "tree"
   ]
  },
  {
   "cell_type": "code",
   "execution_count": null,
   "metadata": {},
   "outputs": [],
   "source": []
  }
 ],
 "metadata": {
  "kernelspec": {
   "display_name": "python3",
   "language": "python",
   "name": "python3"
  },
  "language_info": {
   "codemirror_mode": {
    "name": "ipython",
    "version": 3
   },
   "file_extension": ".py",
   "mimetype": "text/x-python",
   "name": "python",
   "nbconvert_exporter": "python",
   "pygments_lexer": "ipython3",
   "version": "3.8.3"
  }
 },
 "nbformat": 4,
 "nbformat_minor": 4
}
