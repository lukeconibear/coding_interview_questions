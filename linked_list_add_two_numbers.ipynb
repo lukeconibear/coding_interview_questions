{
 "cells": [
  {
   "cell_type": "code",
   "execution_count": 8,
   "metadata": {},
   "outputs": [],
   "source": [
    "class Node(object):\n",
    "    def __init__(self, x):\n",
    "        self.val = x\n",
    "        self.next = None"
   ]
  },
  {
   "cell_type": "code",
   "execution_count": 18,
   "metadata": {},
   "outputs": [],
   "source": [
    "class Solution:\n",
    "    def addTwoNumbers(self, l1, l2):\n",
    "        #return self.addTwoNumbersRecursion(l1, l2, 0)\n",
    "        return self.addTwoNumbersIterative(l1, l2)\n",
    "        \n",
    "    def addTwoNumbersRecursion(self, l1, l2, c): # time O(n), space O(n) \n",
    "        val = l1.val + l2.val + c\n",
    "        c = val // 10\n",
    "        ret = Node(val % 10)\n",
    "        \n",
    "        if l1.next != None or l2.next != None:\n",
    "            if not l1.next:\n",
    "                l1.next = Node(0)\n",
    "            if not l2.next:\n",
    "                l2.next = Node(0)\n",
    "            ret.next = self.addTwoNumbersHelper(l1.next, l2.next, c)\n",
    "        return ret\n",
    "    \n",
    "    def addTwoNumbersIterative(self, l1, l2): # time O(n), space O(n)\n",
    "        a = l1\n",
    "        b = l2\n",
    "        c = 0\n",
    "        ret = current = None\n",
    "        \n",
    "        while a or b:\n",
    "            val = a.val + b.val + c\n",
    "            c = val // 10\n",
    "            \n",
    "            if not current:\n",
    "                ret = current = Node(val % 10)\n",
    "            else:\n",
    "                current.next = Node(val % 10)\n",
    "                current = current.next\n",
    "            if a.next or b.next:\n",
    "                if not a.next:\n",
    "                    a.next = Node(0)\n",
    "                if not b.next:\n",
    "                    b.next = Node(0)\n",
    "            a = a.next\n",
    "            b = b.next\n",
    "        return ret"
   ]
  },
  {
   "cell_type": "code",
   "execution_count": 19,
   "metadata": {},
   "outputs": [],
   "source": [
    "l1 = Node(2)\n",
    "l1.next = Node(4)\n",
    "l1.next.next = Node(3)"
   ]
  },
  {
   "cell_type": "code",
   "execution_count": 20,
   "metadata": {},
   "outputs": [],
   "source": [
    "l2 = Node(5)\n",
    "l2.next = Node(6)\n",
    "l2.next.next = Node(4)"
   ]
  },
  {
   "cell_type": "code",
   "execution_count": 21,
   "metadata": {},
   "outputs": [
    {
     "name": "stdout",
     "output_type": "stream",
     "text": [
      "7 0 8 "
     ]
    }
   ],
   "source": [
    "answer = Solution().addTwoNumbers(l1, l2)\n",
    "while answer:\n",
    "    print(answer.val, end=' ')\n",
    "    answer = answer.next"
   ]
  },
  {
   "cell_type": "code",
   "execution_count": 24,
   "metadata": {},
   "outputs": [
    {
     "data": {
      "text/plain": [
       "6"
      ]
     },
     "execution_count": 24,
     "metadata": {},
     "output_type": "execute_result"
    }
   ],
   "source": [
    "16 % 10"
   ]
  },
  {
   "cell_type": "code",
   "execution_count": null,
   "metadata": {},
   "outputs": [],
   "source": []
  }
 ],
 "metadata": {
  "kernelspec": {
   "display_name": "python3",
   "language": "python",
   "name": "python3"
  },
  "language_info": {
   "codemirror_mode": {
    "name": "ipython",
    "version": 3
   },
   "file_extension": ".py",
   "mimetype": "text/x-python",
   "name": "python",
   "nbconvert_exporter": "python",
   "pygments_lexer": "ipython3",
   "version": "3.8.3"
  }
 },
 "nbformat": 4,
 "nbformat_minor": 4
}
