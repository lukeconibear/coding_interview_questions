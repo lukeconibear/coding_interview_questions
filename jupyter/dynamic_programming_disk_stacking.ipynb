{
 "cells": [
  {
   "cell_type": "code",
   "execution_count": 2,
   "metadata": {},
   "outputs": [
    {
     "name": "stdout",
     "output_type": "stream",
     "text": [
      "[[2, 1, 2], [3, 2, 3], [4, 4, 5]]\n"
     ]
    }
   ],
   "source": [
    "def disk_stacking(disks): # time O(n2), space O(n)\n",
    "    disks.sort(key=lambda disk: disk[2])\n",
    "    heights = [disk[2] for disk in disks]\n",
    "    sequences = [None for disk in disks]\n",
    "    max_height_index = 0\n",
    "    for index1 in range(1, len(disks)):\n",
    "        current_disk = disks[index1]\n",
    "        for index2 in range(0, index1):\n",
    "            other_disk = disks[index2]\n",
    "            if valid_dimensions(other_disk, current_disk):\n",
    "                if heights[index1] <= current_disk[2] + heights[index2]:\n",
    "                    heights[index1] = current_disk[2] + heights[index2]\n",
    "                    sequences[index1] = index2\n",
    "        if heights[index1] >= heights[max_height_index]:\n",
    "            max_height_index = index1\n",
    "    return build_sequence(disks, sequences, max_height_index)\n",
    "\n",
    "def valid_dimensions(other_disk, current_disk):\n",
    "    return other_disk[0] < current_disk[0] and other_disk[1] < current_disk[1] and other_disk[2] < current_disk[2]\n",
    "\n",
    "def build_sequence(array, sequences, current_index):\n",
    "    sequence = []\n",
    "    while current_index is not None:\n",
    "        sequence.append(array[current_index])\n",
    "        current_index = sequences[current_index]\n",
    "    return list(reversed(sequence))\n",
    "\n",
    "print(disk_stacking([[2,1,2], [3,2,3], [2,2,8], [2,3,4], [1,3,1], [4,4,5]]))\n",
    "# [width, depth, height]\n",
    "# strictly smaller widths, depths, and heights for each stacked disk\n",
    "# return the tallest disk stack"
   ]
  },
  {
   "cell_type": "code",
   "execution_count": null,
   "metadata": {},
   "outputs": [],
   "source": []
  }
 ],
 "metadata": {
  "kernelspec": {
   "display_name": "python3",
   "language": "python",
   "name": "python3"
  },
  "language_info": {
   "codemirror_mode": {
    "name": "ipython",
    "version": 3
   },
   "file_extension": ".py",
   "mimetype": "text/x-python",
   "name": "python",
   "nbconvert_exporter": "python",
   "pygments_lexer": "ipython3",
   "version": "3.8.3"
  }
 },
 "nbformat": 4,
 "nbformat_minor": 4
}
