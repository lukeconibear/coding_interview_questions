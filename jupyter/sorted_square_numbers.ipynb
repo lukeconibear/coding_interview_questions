{
 "cells": [
  {
   "cell_type": "code",
   "execution_count": 1,
   "metadata": {},
   "outputs": [
    {
     "name": "stdout",
     "output_type": "stream",
     "text": [
      "[0, 1, 1, 9, 16, 25, 25]\n"
     ]
    }
   ],
   "source": [
    "# quick sort has n2 time in worst case, but take the average case which is nlogn like other sorts\n",
    "def square_numbers(nums): # time O(n), space O(n)\n",
    "    neg_i = -1\n",
    "    i = 0\n",
    "\n",
    "    result = []\n",
    "    for n in nums:\n",
    "        if n >= 0:\n",
    "            if neg_i == -1:\n",
    "                neg_i = i - 1\n",
    "\n",
    "            while neg_i >= 0 and nums[neg_i] < 0 and -nums[neg_i] < nums[i]:\n",
    "                val = nums[neg_i]\n",
    "                result.append(val * val)\n",
    "                neg_i -= 1\n",
    "\n",
    "            val = nums[i]\n",
    "            result.append(val * val)\n",
    "        i += 1\n",
    "\n",
    "    while neg_i >= 0 and nums[neg_i] < 0:\n",
    "        val = nums[neg_i]\n",
    "        result.append(val * val)\n",
    "        neg_i -= 1\n",
    "\n",
    "    return result\n",
    "\n",
    "\n",
    "print(square_numbers([-5, -3, -1, 0, 1, 4, 5]))"
   ]
  },
  {
   "cell_type": "code",
   "execution_count": null,
   "metadata": {},
   "outputs": [],
   "source": []
  }
 ],
 "metadata": {
  "kernelspec": {
   "display_name": "python3",
   "language": "python",
   "name": "python3"
  },
  "language_info": {
   "codemirror_mode": {
    "name": "ipython",
    "version": 3
   },
   "file_extension": ".py",
   "mimetype": "text/x-python",
   "name": "python",
   "nbconvert_exporter": "python",
   "pygments_lexer": "ipython3",
   "version": "3.8.3"
  }
 },
 "nbformat": 4,
 "nbformat_minor": 4
}
