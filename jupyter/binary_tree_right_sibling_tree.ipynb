{
 "cells": [
  {
   "cell_type": "code",
   "execution_count": 15,
   "metadata": {},
   "outputs": [
    {
     "name": "stdout",
     "output_type": "stream",
     "text": [
      "1 2 4 8 None None 9 None None 5 None 10 None None 3 6 11 14 None None None None 7 12 None None 13 None None\n",
      "1 2 4 8 None 9 None None 5 None None 3 6 11 14 None None 14 None None 11 14 None None 14 None None 6 11 14 None None 14 None None 11 14 None None 14 None None None\n"
     ]
    }
   ],
   "source": [
    "class Node:\n",
    "    def __init__(self, value, left=None, right=None):\n",
    "        self.value = value\n",
    "        self.left = left\n",
    "        self.right = right\n",
    "        \n",
    "    def __repr__(self):\n",
    "        return f'{self.value} {self.left} {self.right}'\n",
    "\n",
    "class Solution:\n",
    "    def right_sibling_tree(self, head): # time O(n), space O(h)\n",
    "        self.mutate(head, None, False)\n",
    "        return head\n",
    "\n",
    "    def mutate(self, node, parent, is_left_child):\n",
    "        if node is None:\n",
    "            return\n",
    "\n",
    "        self.mutate(node.left, node, True)\n",
    "        if parent is None:\n",
    "            node.right = None\n",
    "        elif is_left_child:\n",
    "            node.right = parent.right\n",
    "        else:\n",
    "            node.right = None if parent.right is None else parent.right.left\n",
    "            \n",
    "        self.mutate(node.right, node, False)\n",
    "        \n",
    "\n",
    "head = Node(1)\n",
    "head.left = Node(2)\n",
    "head.right = Node(3)\n",
    "head.left.left = Node(4)\n",
    "head.left.right = Node(5)\n",
    "head.right.left = Node(6)\n",
    "head.right.right = Node(7)\n",
    "head.left.left.left = Node(8)\n",
    "head.left.left.right = Node(9)\n",
    "head.left.right.right = Node(10)\n",
    "head.right.left.left = Node(11)\n",
    "head.right.right.left = Node(12)\n",
    "head.right.right.right = Node(13)\n",
    "head.right.left.left.left = Node(14)\n",
    "\n",
    "print(head)\n",
    "print(Solution().right_sibling_tree(head))"
   ]
  },
  {
   "cell_type": "code",
   "execution_count": null,
   "metadata": {},
   "outputs": [],
   "source": []
  }
 ],
 "metadata": {
  "kernelspec": {
   "display_name": "python3",
   "language": "python",
   "name": "python3"
  },
  "language_info": {
   "codemirror_mode": {
    "name": "ipython",
    "version": 3
   },
   "file_extension": ".py",
   "mimetype": "text/x-python",
   "name": "python",
   "nbconvert_exporter": "python",
   "pygments_lexer": "ipython3",
   "version": "3.8.3"
  }
 },
 "nbformat": 4,
 "nbformat_minor": 4
}
