{
 "cells": [
  {
   "cell_type": "code",
   "execution_count": 9,
   "metadata": {},
   "outputs": [
    {
     "name": "stdout",
     "output_type": "stream",
     "text": [
      "25\n"
     ]
    }
   ],
   "source": [
    "# minimum while being better than left or right by at least 1\n",
    "def bonuses(scores): # time O(n), space O(n)\n",
    "    bonuses = [1 for _ in scores]\n",
    "    \n",
    "    for index in range(1, len(scores)):\n",
    "        if scores[index] > scores[index - 1]:\n",
    "            bonuses[index] = bonuses[index - 1] + 1\n",
    "            \n",
    "    for index in reversed((range(len(scores) - 1))):\n",
    "        if scores[index] > scores[index + 1]:\n",
    "            bonuses[index] = max(bonuses[index], bonuses[index + 1] + 1)\n",
    "            \n",
    "    return sum(bonuses)\n",
    "\n",
    "print(bonuses([8,4,2,1,3,6,7,9,5]))"
   ]
  },
  {
   "cell_type": "code",
   "execution_count": null,
   "metadata": {},
   "outputs": [],
   "source": []
  }
 ],
 "metadata": {
  "kernelspec": {
   "display_name": "python3",
   "language": "python",
   "name": "python3"
  },
  "language_info": {
   "codemirror_mode": {
    "name": "ipython",
    "version": 3
   },
   "file_extension": ".py",
   "mimetype": "text/x-python",
   "name": "python",
   "nbconvert_exporter": "python",
   "pygments_lexer": "ipython3",
   "version": "3.8.3"
  }
 },
 "nbformat": 4,
 "nbformat_minor": 4
}
