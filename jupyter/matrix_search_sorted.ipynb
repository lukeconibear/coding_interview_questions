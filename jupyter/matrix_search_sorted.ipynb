{
 "cells": [
  {
   "cell_type": "code",
   "execution_count": 4,
   "metadata": {},
   "outputs": [
    {
     "name": "stdout",
     "output_type": "stream",
     "text": [
      "False\n",
      "False\n",
      "True\n",
      "True\n"
     ]
    }
   ],
   "source": [
    "def search_sorted_matrix1(matrix, target): # time O(lgn) where lg is log base 2, space O(1)\n",
    "    if len(matrix) == 0:\n",
    "        return False\n",
    "\n",
    "    rows = len(matrix)\n",
    "    cols = len(matrix[0])\n",
    "\n",
    "    index_low = 0\n",
    "    index_high = rows * cols\n",
    "    while index_low < index_high:\n",
    "        index_mid = (index_low + index_high) // 2\n",
    "        mid_value = matrix[index_mid // cols][index_mid % cols]\n",
    "\n",
    "        if mid_value == target:\n",
    "            return True\n",
    "        if mid_value < target:\n",
    "            index_low = index_mid + 1\n",
    "        else:\n",
    "            index_high = index_mid\n",
    "\n",
    "    return False\n",
    "\n",
    "def search_sorted_matrix2(matrix, target): # time O(n), space O(1)\n",
    "    row = 0\n",
    "    col = len(matrix[0]) - 1\n",
    "    while row < len(matrix) and col >= 0:\n",
    "        if matrix[row][col] > target:\n",
    "            col -= 1\n",
    "        elif matrix[row][col] < target:\n",
    "            row += 1\n",
    "        else:\n",
    "            return True\n",
    "    return False\n",
    "\n",
    "matrix = [\n",
    "        [1, 3, 5, 8],\n",
    "        [10, 11, 15, 16],\n",
    "        [24, 27, 30, 31],\n",
    "]\n",
    "\n",
    "print(search_sorted_matrix1(matrix, 4))\n",
    "print(search_sorted_matrix2(matrix, 4))\n",
    "# False\n",
    "\n",
    "print(search_sorted_matrix1(matrix, 10))\n",
    "print(search_sorted_matrix1(matrix, 10))\n",
    "# True"
   ]
  },
  {
   "cell_type": "code",
   "execution_count": null,
   "metadata": {},
   "outputs": [],
   "source": []
  }
 ],
 "metadata": {
  "kernelspec": {
   "display_name": "python3",
   "language": "python",
   "name": "python3"
  },
  "language_info": {
   "codemirror_mode": {
    "name": "ipython",
    "version": 3
   },
   "file_extension": ".py",
   "mimetype": "text/x-python",
   "name": "python",
   "nbconvert_exporter": "python",
   "pygments_lexer": "ipython3",
   "version": "3.8.3"
  }
 },
 "nbformat": 4,
 "nbformat_minor": 4
}
