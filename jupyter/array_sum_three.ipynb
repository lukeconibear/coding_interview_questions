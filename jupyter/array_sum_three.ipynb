{
 "cells": [
  {
   "cell_type": "code",
   "execution_count": 43,
   "metadata": {},
   "outputs": [
    {
     "name": "stdout",
     "output_type": "stream",
     "text": [
      "[[0, 2, -3], [1, 2, -4]]\n",
      "[[2, 1, -4], [2, 0, -3]]\n",
      "[[-4, 1, 2], [-3, 0, 2]]\n"
     ]
    }
   ],
   "source": [
    "class Solution:\n",
    "    def three_sum_brute_force(self, nums, target): # time O(n3), space O(1)\n",
    "        result = []\n",
    "        for index1 in range(0, len(nums)):\n",
    "            for index2 in range(index1 + 1, len(nums)):\n",
    "                for index3 in range(index2 + 1, len(nums)):\n",
    "                    num1, num2, num3 = nums[index1], nums[index2], nums[index3]\n",
    "                    if num1 + num2 + num3 == target:\n",
    "                        result.append([num1, num2, num3])\n",
    "        return result\n",
    "    \n",
    "    def three_sum_hash_map(self, nums, target): # time O(n2), space O(n)\n",
    "        nums.sort()\n",
    "        result = []\n",
    "        for index1 in range(len(nums)):\n",
    "            values = {}\n",
    "            to_find = target - nums[index1]\n",
    "            for index2 in range(index1 + 1, len(nums)):\n",
    "                num = nums[index2]\n",
    "                diff = to_find - num\n",
    "                if diff in values:\n",
    "                    result.append([num, diff, nums[index1]])\n",
    "                values[num] = diff\n",
    "        return result\n",
    "    \n",
    "    def three_sum_indices(self, nums, target): # time O(nlgn), space(n)\n",
    "        nums.sort()\n",
    "        result = []\n",
    "        for index in range(len(nums) - 2):\n",
    "            low_index = index + 1\n",
    "            high_index = len(nums) - 1\n",
    "            while low_index < high_index:\n",
    "                total = nums[index] + nums[low_index] + nums[high_index]\n",
    "                if total == target:\n",
    "                    result.append([nums[index], nums[low_index], nums[high_index]])\n",
    "                    low_index += 1\n",
    "                    high_index -= 1\n",
    "                elif total < target:\n",
    "                    low_index += 1\n",
    "                else:\n",
    "                    high_index -= 1\n",
    "        return result\n",
    "    \n",
    "    \n",
    "print(Solution().three_sum_brute_force([-1, 0, 1, 2, -4, -3], -1))\n",
    "print(Solution().three_sum_hash_map([-1, 0, 1, 2, -4, -3], -1))\n",
    "print(Solution().three_sum_indices([-1, 0, 1, 2, -4, -3], -1))"
   ]
  },
  {
   "cell_type": "code",
   "execution_count": null,
   "metadata": {},
   "outputs": [],
   "source": []
  }
 ],
 "metadata": {
  "kernelspec": {
   "display_name": "python3",
   "language": "python",
   "name": "python3"
  },
  "language_info": {
   "codemirror_mode": {
    "name": "ipython",
    "version": 3
   },
   "file_extension": ".py",
   "mimetype": "text/x-python",
   "name": "python",
   "nbconvert_exporter": "python",
   "pygments_lexer": "ipython3",
   "version": "3.8.3"
  }
 },
 "nbformat": 4,
 "nbformat_minor": 4
}
