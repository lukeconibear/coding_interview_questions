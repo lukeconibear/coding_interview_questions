{
 "cells": [
  {
   "cell_type": "code",
   "execution_count": 60,
   "metadata": {},
   "outputs": [
    {
     "name": "stdout",
     "output_type": "stream",
     "text": [
      "True\n"
     ]
    }
   ],
   "source": [
    "class Node:\n",
    "    def __init__(self, value, left=None, right=None, parent=None):\n",
    "        self.value = value\n",
    "        self.left = left\n",
    "        self.right = right\n",
    "        self.parent = parent\n",
    "        \n",
    "class Solution:\n",
    "    def iterative_in_order_traversal(self, head, callback): # time O(n), space O(1)\n",
    "        previous_node = None\n",
    "        current_node = head\n",
    "        while current_node is not None:\n",
    "            if previous_node is None or previous_node == current_node.parent:\n",
    "                if current_node.left is not None:\n",
    "                    next_node = current_node.left\n",
    "                else:\n",
    "                    callback(current_node)\n",
    "                    next_node = current_node.right if current_node.right is not None else current_node.parent\n",
    "            elif previous_node == current_node.left:\n",
    "                callback(current_node)\n",
    "                next_node = current_node.right if current_node.right is not None else current_node.parent\n",
    "            else:\n",
    "                next_node = current_node.parent\n",
    "\n",
    "            previous_node = current_node\n",
    "            current_node = next_node\n",
    "            \n",
    "    def test_callback(self, array, node):\n",
    "        if node is None:\n",
    "            return\n",
    "        \n",
    "        array.append(node.value)\n",
    "            \n",
    "    def test(self):\n",
    "        head = Node(1)\n",
    "        head.left = Node(2, parent=head)\n",
    "        head.left.left = Node(4, parent=head.left)\n",
    "        head.left.left.right = Node(9, parent=head.left.left)\n",
    "        head.right = Node(3, parent=head)\n",
    "        head.right.left = Node(6, parent=head.right)\n",
    "        head.right.right = Node(7, parent=head.right)\n",
    "        \n",
    "        test_array = []\n",
    "        Solution().iterative_in_order_traversal(head, lambda node: test_callback(test_array, node))\n",
    "        return test_array == [4, 9, 2, 1, 6, 3, 7]\n",
    "\n",
    "\n",
    "print(Solution().test())"
   ]
  },
  {
   "cell_type": "code",
   "execution_count": null,
   "metadata": {},
   "outputs": [],
   "source": []
  }
 ],
 "metadata": {
  "kernelspec": {
   "display_name": "python3",
   "language": "python",
   "name": "python3"
  },
  "language_info": {
   "codemirror_mode": {
    "name": "ipython",
    "version": 3
   },
   "file_extension": ".py",
   "mimetype": "text/x-python",
   "name": "python",
   "nbconvert_exporter": "python",
   "pygments_lexer": "ipython3",
   "version": "3.8.3"
  }
 },
 "nbformat": 4,
 "nbformat_minor": 4
}
