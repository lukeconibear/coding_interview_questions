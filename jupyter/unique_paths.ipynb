{
 "cells": [
  {
   "cell_type": "code",
   "execution_count": 1,
   "metadata": {},
   "outputs": [
    {
     "name": "stdout",
     "output_type": "stream",
     "text": [
      "15\n",
      "15\n"
     ]
    }
   ],
   "source": [
    "class Solution:\n",
    "    def uniquePaths(self, m, n): # recursive, time O(2^mn), space O(mn)\n",
    "        if m == 1 or n == 1:\n",
    "            return 1\n",
    "        return self.uniquePaths(m - 1, n) + self.uniquePaths(m, n - 1)\n",
    "\n",
    "    def uniquePathsDP(self, m, n): # time O(mn), space O(mn)\n",
    "        cache = [[0] * n] * m\n",
    "        for i in range(m):\n",
    "            cache[i][0] = 1\n",
    "        for j in range(n):\n",
    "            cache[0][j] = 1\n",
    "\n",
    "        for c in range(1, m):\n",
    "            for r in range(1, n):\n",
    "                cache[c][r] = cache[c][r-1] + cache[c-1][r]\n",
    "        return cache[-1][-1]\n",
    "    \n",
    "    \n",
    "print(Solution().uniquePaths(5, 3))\n",
    "print(Solution().uniquePathsDP(5, 3))"
   ]
  },
  {
   "cell_type": "code",
   "execution_count": null,
   "metadata": {},
   "outputs": [],
   "source": []
  }
 ],
 "metadata": {
  "kernelspec": {
   "display_name": "python3",
   "language": "python",
   "name": "python3"
  },
  "language_info": {
   "codemirror_mode": {
    "name": "ipython",
    "version": 3
   },
   "file_extension": ".py",
   "mimetype": "text/x-python",
   "name": "python",
   "nbconvert_exporter": "python",
   "pygments_lexer": "ipython3",
   "version": "3.8.3"
  }
 },
 "nbformat": 4,
 "nbformat_minor": 4
}
