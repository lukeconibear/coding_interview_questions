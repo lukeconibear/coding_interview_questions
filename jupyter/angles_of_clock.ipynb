{
 "cells": [
  {
   "cell_type": "code",
   "execution_count": 7,
   "metadata": {},
   "outputs": [
    {
     "name": "stdout",
     "output_type": "stream",
     "text": [
      "7.5\n",
      "75.0\n"
     ]
    }
   ],
   "source": [
    "class Solution: \n",
    "    def calc_angle(self, time): # time O(1), space O(1)\n",
    "        hours, minutes = [int(item) for item in time.split(':')]\n",
    "        if hours >= 12:\n",
    "            hours = hours - 12\n",
    "            \n",
    "        hours_deg = (hours * (360 / 12)) + (minutes * (360 / 12) / 60)\n",
    "        minutes_deg = minutes * (360 / 60)\n",
    "        diff = abs(hours_deg - minutes_deg)\n",
    "        return min(diff, 360 - diff)\n",
    "    \n",
    "print(Solution().calc_angle('15:15'))\n",
    "print(Solution().calc_angle('15:30'))"
   ]
  },
  {
   "cell_type": "code",
   "execution_count": null,
   "metadata": {},
   "outputs": [],
   "source": []
  }
 ],
 "metadata": {
  "kernelspec": {
   "display_name": "python3",
   "language": "python",
   "name": "python3"
  },
  "language_info": {
   "codemirror_mode": {
    "name": "ipython",
    "version": 3
   },
   "file_extension": ".py",
   "mimetype": "text/x-python",
   "name": "python",
   "nbconvert_exporter": "python",
   "pygments_lexer": "ipython3",
   "version": "3.8.3"
  }
 },
 "nbformat": 4,
 "nbformat_minor": 4
}
