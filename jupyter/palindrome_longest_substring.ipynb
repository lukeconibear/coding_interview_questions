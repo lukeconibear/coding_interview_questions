{
 "cells": [
  {
   "cell_type": "code",
   "execution_count": 1,
   "metadata": {},
   "outputs": [
    {
     "name": "stdout",
     "output_type": "stream",
     "text": [
      "foxof\n"
     ]
    }
   ],
   "source": [
    "def longestPalindromicSubstring(string): # time O(n2), space O(n)\n",
    "    current_longest = [0, 1]\n",
    "    for index in range(1, len(string)):\n",
    "        odd = get_longest_palindrome_from(string, index - 1, index + 1)\n",
    "        even = get_longest_palindrome_from(string, index - 1, index)\n",
    "        longest = max(odd, even, key=lambda x: x[1] - x[0])\n",
    "        current_longest = max(longest, current_longest, key=lambda x: x[1] - x[0])\n",
    "    return string[current_longest[0]:current_longest[1]]\n",
    "\n",
    "def get_longest_palindrome_from(string, left_index, right_index):\n",
    "    while left_index >= 0 and right_index < len(string):\n",
    "        if string[left_index] != string[right_index]:\n",
    "            break\n",
    "        left_index -= 1\n",
    "        right_index += 1\n",
    "    return [left_index + 1, right_index]\n",
    "\n",
    "print(longestPalindromicSubstring('foxofdd'))"
   ]
  },
  {
   "cell_type": "code",
   "execution_count": null,
   "metadata": {},
   "outputs": [],
   "source": []
  }
 ],
 "metadata": {
  "kernelspec": {
   "display_name": "python3",
   "language": "python",
   "name": "python3"
  },
  "language_info": {
   "codemirror_mode": {
    "name": "ipython",
    "version": 3
   },
   "file_extension": ".py",
   "mimetype": "text/x-python",
   "name": "python",
   "nbconvert_exporter": "python",
   "pygments_lexer": "ipython3",
   "version": "3.8.3"
  }
 },
 "nbformat": 4,
 "nbformat_minor": 4
}
