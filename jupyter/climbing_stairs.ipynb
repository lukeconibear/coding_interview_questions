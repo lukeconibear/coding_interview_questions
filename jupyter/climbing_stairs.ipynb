{
 "cells": [
  {
   "cell_type": "code",
   "execution_count": 2,
   "metadata": {},
   "outputs": [
    {
     "name": "stdout",
     "output_type": "stream",
     "text": [
      "8\n",
      "8\n"
     ]
    }
   ],
   "source": [
    "def staircase1(n): # time O(n2), space O(1)\n",
    "    if n <= 1:\n",
    "        return 1\n",
    "    \n",
    "    return staircase1(n - 1) + staircase1(n - 2)\n",
    "\n",
    "def staircase2(n): # time O(n), space O(1)\n",
    "    prev = 1\n",
    "    prevprev = 1\n",
    "    curr = 0\n",
    "\n",
    "    for i in range(2, n + 1):\n",
    "        curr = prev + prevprev\n",
    "        prevprev = prev\n",
    "        prev = curr\n",
    "        \n",
    "    return curr\n",
    "\n",
    "\n",
    "print(staircase1(5))\n",
    "print(staircase2(5))\n",
    "# 8"
   ]
  },
  {
   "cell_type": "code",
   "execution_count": null,
   "metadata": {},
   "outputs": [],
   "source": []
  }
 ],
 "metadata": {
  "kernelspec": {
   "display_name": "python3",
   "language": "python",
   "name": "python3"
  },
  "language_info": {
   "codemirror_mode": {
    "name": "ipython",
    "version": 3
   },
   "file_extension": ".py",
   "mimetype": "text/x-python",
   "name": "python",
   "nbconvert_exporter": "python",
   "pygments_lexer": "ipython3",
   "version": "3.8.3"
  }
 },
 "nbformat": 4,
 "nbformat_minor": 4
}
