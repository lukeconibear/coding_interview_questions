{
 "cells": [
  {
   "cell_type": "code",
   "execution_count": 7,
   "metadata": {},
   "outputs": [
    {
     "name": "stdout",
     "output_type": "stream",
     "text": [
      "[4, 9]\n",
      "[9, 4]\n",
      "[9, 4]\n"
     ]
    }
   ],
   "source": [
    "class Solution:\n",
    "    def intersection1(self, nums1, nums2): # time O(nm), space O(n)\n",
    "        results = {}\n",
    "        for num in nums1:\n",
    "            if num in nums2 and num not in results:\n",
    "                results[num] = 1\n",
    "                \n",
    "        return list(results.keys())\n",
    "\n",
    "    \n",
    "    def intersection2(self, nums1, nums2): # time O(n), space O(2n)\n",
    "        return [num for num in set(nums1) if num in set(nums2)]\n",
    "\n",
    "    \n",
    "    def intersection3(self, nums1, nums2): # time O(n), space O(n)\n",
    "        values = {}\n",
    "        duplicates = {}\n",
    "        for num in nums1:\n",
    "            values[num] = 1\n",
    "            \n",
    "        for num in nums2:\n",
    "            if num in values:\n",
    "                duplicates[num] = 1\n",
    "\n",
    "        return list(duplicates.keys())\n",
    "\n",
    "\n",
    "print(Solution().intersection1([4, 9, 5], [9, 4, 9, 8, 4]))\n",
    "print(Solution().intersection2([4, 9, 5], [9, 4, 9, 8, 4]))\n",
    "print(Solution().intersection3([4, 9, 5], [9, 4, 9, 8, 4]))\n",
    "# (9, 4)"
   ]
  },
  {
   "cell_type": "code",
   "execution_count": null,
   "metadata": {},
   "outputs": [],
   "source": []
  }
 ],
 "metadata": {
  "kernelspec": {
   "display_name": "python3",
   "language": "python",
   "name": "python3"
  },
  "language_info": {
   "codemirror_mode": {
    "name": "ipython",
    "version": 3
   },
   "file_extension": ".py",
   "mimetype": "text/x-python",
   "name": "python",
   "nbconvert_exporter": "python",
   "pygments_lexer": "ipython3",
   "version": "3.8.3"
  }
 },
 "nbformat": 4,
 "nbformat_minor": 4
}
