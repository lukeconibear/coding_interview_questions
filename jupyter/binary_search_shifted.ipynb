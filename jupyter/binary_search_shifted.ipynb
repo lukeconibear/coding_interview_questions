{
 "cells": [
  {
   "cell_type": "code",
   "execution_count": 3,
   "metadata": {},
   "outputs": [
    {
     "name": "stdout",
     "output_type": "stream",
     "text": [
      "8\n"
     ]
    }
   ],
   "source": [
    "def shifted_binary_search(array, target): # time O(lgn, from halving array), space O(lgn, from calls on call stack)\n",
    "    return _shifted_binary_search_helper(array, target, 0, len(array) - 1)\n",
    "\n",
    "def _shifted_binary_search_helper(array, target, left_index, right_index):\n",
    "    if left_index > right_index:\n",
    "        return -1\n",
    "    \n",
    "    middle_index = (left_index + right_index) // 2\n",
    "    potential_match = array[middle_index]\n",
    "    left_num = array[left_index]\n",
    "    right_num = array[right_index]\n",
    "    if target == potential_match:\n",
    "        return middle_index\n",
    "    elif left_num <= potential_match:\n",
    "        if target < potential_match and target >= left_num:\n",
    "            return _shifted_binary_search_helper(array, target, left_index, middle_index - 1)\n",
    "        else:\n",
    "            return _shifted_binary_search_helper(array, target, middle_index + 1, right_index)\n",
    "    else:\n",
    "        if target > potential_match and target <= right_num:\n",
    "            return _shifted_binary_search_helper(array, target, middle_index + 1, right_index)\n",
    "        else:\n",
    "            return _shifted_binary_search_helper(array, target, left_index, middle_index - 1)\n",
    "\n",
    "\n",
    "print(shifted_binary_search([45,61,71,72,73,0,1,21,33,37], 33))"
   ]
  },
  {
   "cell_type": "code",
   "execution_count": 2,
   "metadata": {},
   "outputs": [
    {
     "name": "stdout",
     "output_type": "stream",
     "text": [
      "8\n"
     ]
    }
   ],
   "source": [
    "def shifted_binary_search(array, target): # time O(lgn, from halving array), space O(1)\n",
    "    return _shifted_binary_search_helper(array, target, 0, len(array) - 1)\n",
    "\n",
    "def _shifted_binary_search_helper(array, target, left_index, right_index):\n",
    "    while left_index <= right_index:\n",
    "        middle_index = (left_index + right_index) // 2\n",
    "        potential_match = array[middle_index]\n",
    "        left_num = array[left_index]\n",
    "        right_num = array[right_index]\n",
    "        if target == potential_match:\n",
    "            return middle_index\n",
    "        elif left_num <= potential_match:\n",
    "            if target < potential_match and target >= left_num:\n",
    "                right_index = middle_index - 1\n",
    "            else:\n",
    "                left_index = middle_index + 1\n",
    "        else:\n",
    "            if target > potential_match and target <= right_num:\n",
    "                left_index = middle_index + 1\n",
    "            else:\n",
    "                right_index = middle_index - 1\n",
    "    return -1\n",
    "\n",
    "\n",
    "print(shifted_binary_search([45,61,71,72,73,0,1,21,33,37], 33))"
   ]
  },
  {
   "cell_type": "code",
   "execution_count": null,
   "metadata": {},
   "outputs": [],
   "source": []
  }
 ],
 "metadata": {
  "kernelspec": {
   "display_name": "python3",
   "language": "python",
   "name": "python3"
  },
  "language_info": {
   "codemirror_mode": {
    "name": "ipython",
    "version": 3
   },
   "file_extension": ".py",
   "mimetype": "text/x-python",
   "name": "python",
   "nbconvert_exporter": "python",
   "pygments_lexer": "ipython3",
   "version": "3.8.3"
  }
 },
 "nbformat": 4,
 "nbformat_minor": 4
}
