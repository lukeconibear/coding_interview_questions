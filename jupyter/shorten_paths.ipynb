{
 "cells": [
  {
   "cell_type": "code",
   "execution_count": 36,
   "metadata": {},
   "outputs": [
    {
     "name": "stdout",
     "output_type": "stream",
     "text": [
      "/users/name\n",
      "/foo/bar/baz\n",
      "../../foo/bar/baz\n"
     ]
    }
   ],
   "source": [
    "def shorten_path(path): # time O(n), space O(n)\n",
    "    tokens = filter(lambda token: len(token) > 0 and token != '.', path.split('/'))\n",
    "    stack = []\n",
    "    if path[0] == '/': # if path is absolute and not relative\n",
    "        stack.append('')\n",
    "    \n",
    "    for token in tokens:\n",
    "        if token == '..':\n",
    "            if len(stack) == 0 or stack[-1] == '..':\n",
    "                stack.append(token)\n",
    "            elif stack[-1] != '':\n",
    "                stack.pop() # remove the last element already on the stack as the .. makes it redundant\n",
    "        else:\n",
    "            stack.append(token)\n",
    "            \n",
    "    if len(stack) == 1 and stack[0] == '':\n",
    "        return '/'\n",
    "    \n",
    "    return '/'.join(stack)\n",
    "\n",
    "\n",
    "print(shorten_path('/users/name/docs/.././desk/../'))\n",
    "# /users/name/\n",
    "\n",
    "print(shorten_path(\"/../../foo/bar/baz\"))\n",
    "#/foo/bar/baz\n",
    "\n",
    "print(shorten_path(\"../../foo/bar/baz\"))\n",
    "#../../foo/bar/baz"
   ]
  },
  {
   "cell_type": "code",
   "execution_count": null,
   "metadata": {},
   "outputs": [],
   "source": []
  }
 ],
 "metadata": {
  "kernelspec": {
   "display_name": "python3",
   "language": "python",
   "name": "python3"
  },
  "language_info": {
   "codemirror_mode": {
    "name": "ipython",
    "version": 3
   },
   "file_extension": ".py",
   "mimetype": "text/x-python",
   "name": "python",
   "nbconvert_exporter": "python",
   "pygments_lexer": "ipython3",
   "version": "3.8.3"
  }
 },
 "nbformat": 4,
 "nbformat_minor": 4
}
