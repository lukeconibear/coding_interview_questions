{
 "cells": [
  {
   "cell_type": "code",
   "execution_count": 4,
   "metadata": {},
   "outputs": [
    {
     "name": "stdout",
     "output_type": "stream",
     "text": [
      "3\n"
     ]
    }
   ],
   "source": [
    "def rectangle_mania(coords): # time O(n2), space O(n)\n",
    "    coords_table = get_coords_table(coords)\n",
    "    return get_rectangle_count(coords, coords_table)\n",
    "\n",
    "def get_coords_table(coords):\n",
    "    coords_table = {}\n",
    "    for coord in coords:\n",
    "        coord_string = coord_to_string(coord)\n",
    "        coords_table[coord_string] = True\n",
    "        \n",
    "    return coords_table\n",
    "\n",
    "def get_rectangle_count(coords, coords_table):\n",
    "    rectangle_count = 0\n",
    "    for x1, y1 in coords:\n",
    "        for x2, y2 in coords:\n",
    "            if not is_in_upper_right([x1, y1], [x2, y2]):\n",
    "                continue\n",
    "                \n",
    "            upper_coord_string = coord_to_string([x1, y2])\n",
    "            right_coord_string = coord_to_string([x2, y1])\n",
    "            if upper_coord_string in coords_table and right_coord_string in coords_table:\n",
    "                rectangle_count += 1\n",
    "                \n",
    "    return rectangle_count\n",
    "\n",
    "def is_in_upper_right(coord1, coord2):\n",
    "    x1, y1 = coord1\n",
    "    x2, y2 = coord2\n",
    "    return x2 > x1 and y2 > y1\n",
    "\n",
    "def coord_to_string(coord):\n",
    "    x, y = coord\n",
    "    return f'{x}-{y}'\n",
    "\n",
    "\n",
    "print(rectangle_mania([[0, 0], [0, 1], [1, 1], [1, 0], [2, 1], [2, 0]]))"
   ]
  },
  {
   "cell_type": "code",
   "execution_count": null,
   "metadata": {},
   "outputs": [],
   "source": []
  }
 ],
 "metadata": {
  "kernelspec": {
   "display_name": "python3",
   "language": "python",
   "name": "python3"
  },
  "language_info": {
   "codemirror_mode": {
    "name": "ipython",
    "version": 3
   },
   "file_extension": ".py",
   "mimetype": "text/x-python",
   "name": "python",
   "nbconvert_exporter": "python",
   "pygments_lexer": "ipython3",
   "version": "3.8.3"
  }
 },
 "nbformat": 4,
 "nbformat_minor": 4
}
