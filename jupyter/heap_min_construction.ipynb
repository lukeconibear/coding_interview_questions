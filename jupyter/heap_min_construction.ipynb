{
 "cells": [
  {
   "cell_type": "code",
   "execution_count": null,
   "metadata": {},
   "outputs": [],
   "source": [
    "class MinHeap:\n",
    "    def __init__(self, array):\n",
    "        self.heap = self.buildHeap(array)\n",
    "\n",
    "    def build_heap(self, array): # time O(n), space O(1)\n",
    "        first_parent_index = (len(array) - 2) // 2\n",
    "        for current_index in reversed(range(first_parent_index + 1)):\n",
    "            self.sift_down(current_index, len(array) - 1, array)\n",
    "        return array\n",
    "\n",
    "    def sift_down(self, current_index, end_index, heap): # time O(lgn), space O(1)\n",
    "        child_one_index = current_index * 2 + 1\n",
    "        while child_one_index <= end_index:\n",
    "            child_two_index = current_index * 2 + 2 if current_index * 2 + 2 <= end_index else -1\n",
    "            if child_two_index != -1 and heap[child_two_index] < heap[child_one_index]:\n",
    "                index_to_swap = child_two_index\n",
    "            else:\n",
    "                index_to_swap = child_one_index\n",
    "            if heap[index_to_swap] < heap[current_index]:\n",
    "                self.swap(current_index, index_to_swap, heap)\n",
    "                current_index = index_to_swap\n",
    "                child_one_index = current_index * 2 +1\n",
    "            else:\n",
    "                return\n",
    "\n",
    "    def sift_up(self, current_index, heap): # time O(lgn), space O(1)\n",
    "        parent_index = (current_index - 1) // 2\n",
    "        while current_index > 0 and heap[current_index] < heap[parent_index]:\n",
    "            self.swap(current_index, parent_index, heap)\n",
    "            current_index = parent_index\n",
    "            parent_index = (current_index - 1) // 2\n",
    "\n",
    "    def peek(self): # time O(1), space O(1)\n",
    "        return self.heap[0]\n",
    "\n",
    "    def remove(self): # time O(lgn), space O(1)\n",
    "        self.swap(0, len(self.heap) - 1, self.heap)\n",
    "        value_to_remove = self.heap.pop()\n",
    "        self.sift_down(0, len(self.heap) - 1, self.heap)\n",
    "        return value_to_remove\n",
    "\n",
    "    def insert(self, value): # time O(lgn), space O(1)\n",
    "        self.heap.append(value)\n",
    "        self.sift_up(len(self.heap) - 1, self.heap)\n",
    "\n",
    "    def swap(self, x, y, heap):\n",
    "        heap[x], heap[y] = heap[y], heap[x]"
   ]
  }
 ],
 "metadata": {
  "kernelspec": {
   "display_name": "python3",
   "language": "python",
   "name": "python3"
  },
  "language_info": {
   "codemirror_mode": {
    "name": "ipython",
    "version": 3
   },
   "file_extension": ".py",
   "mimetype": "text/x-python",
   "name": "python",
   "nbconvert_exporter": "python",
   "pygments_lexer": "ipython3",
   "version": "3.8.3"
  }
 },
 "nbformat": 4,
 "nbformat_minor": 4
}
