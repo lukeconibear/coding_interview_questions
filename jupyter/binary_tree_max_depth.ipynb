{
 "cells": [
  {
   "cell_type": "code",
   "execution_count": 3,
   "metadata": {},
   "outputs": [
    {
     "name": "stdout",
     "output_type": "stream",
     "text": [
      "3\n",
      "3\n"
     ]
    }
   ],
   "source": [
    "# Note - Recursion won't work on large trees, due to the limit on stack limit size.\n",
    "# Iteration, on the other hand, uses heap space which is limited only by how\n",
    "# much memory is in the computer.\n",
    "class Node:\n",
    "    def __init__(self, value, left=None, right=None):\n",
    "        self.value = value\n",
    "        self.left = left\n",
    "        self.right = right\n",
    "\n",
    "\n",
    "class Solution:\n",
    "    def maxDepth(self, node): # time O(n), space O(n)\n",
    "        stack = [(1, node)]\n",
    "\n",
    "        max_depth = 0\n",
    "        while len(stack) > 0:\n",
    "            depth, node = stack.pop()\n",
    "            if node:\n",
    "                max_depth = max(max_depth, depth)\n",
    "                stack.append((depth + 1, node.left))\n",
    "                stack.append((depth + 1, node.right))\n",
    "        return max_depth\n",
    "\n",
    "    def maxDepthRecursive(self, node):\n",
    "        if not node:\n",
    "            return 0\n",
    "        return max(self.maxDepthRecursive(node.left) + 1, self.maxDepthRecursive(node.right) + 1)\n",
    "\n",
    "\n",
    "node = Node(1)\n",
    "node.left = Node(2)\n",
    "node.right = Node(3)\n",
    "node.left.left = Node(4)\n",
    "\n",
    "print(Solution().maxDepth(node))\n",
    "print(Solution().maxDepthRecursive(node))\n",
    "# 3"
   ]
  },
  {
   "cell_type": "code",
   "execution_count": null,
   "metadata": {},
   "outputs": [],
   "source": []
  }
 ],
 "metadata": {
  "kernelspec": {
   "display_name": "python3",
   "language": "python",
   "name": "python3"
  },
  "language_info": {
   "codemirror_mode": {
    "name": "ipython",
    "version": 3
   },
   "file_extension": ".py",
   "mimetype": "text/x-python",
   "name": "python",
   "nbconvert_exporter": "python",
   "pygments_lexer": "ipython3",
   "version": "3.8.3"
  }
 },
 "nbformat": 4,
 "nbformat_minor": 4
}
