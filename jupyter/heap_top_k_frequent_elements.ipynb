{
 "cells": [
  {
   "cell_type": "code",
   "execution_count": 1,
   "metadata": {},
   "outputs": [
    {
     "name": "stdout",
     "output_type": "stream",
     "text": [
      "[1, 2]\n"
     ]
    }
   ],
   "source": [
    "import heapq\n",
    "import collections\n",
    "\n",
    "class Solution:\n",
    "    def top_k_frequent(self, nums, k): # time O(min(klgn, nlgn)), space O(n)\n",
    "        count = collections.defaultdict(int)\n",
    "        for num in nums:\n",
    "            count[num] += 1\n",
    "            \n",
    "        heap = []\n",
    "        for num, count in count.items():\n",
    "            heap.append((-count, num)) # as heap default in python is min at top\n",
    "        \n",
    "        heapq.heapify(heap)\n",
    "        \n",
    "        result = []\n",
    "        for i in range(k):\n",
    "            result.append(heapq.heappop(heap)[1])\n",
    "            \n",
    "        return result\n",
    "    \n",
    "\n",
    "print(Solution().top_k_frequent([1, 1, 1, 2, 2, 3], 2))"
   ]
  },
  {
   "cell_type": "code",
   "execution_count": null,
   "metadata": {},
   "outputs": [],
   "source": []
  }
 ],
 "metadata": {
  "kernelspec": {
   "display_name": "python3",
   "language": "python",
   "name": "python3"
  },
  "language_info": {
   "codemirror_mode": {
    "name": "ipython",
    "version": 3
   },
   "file_extension": ".py",
   "mimetype": "text/x-python",
   "name": "python",
   "nbconvert_exporter": "python",
   "pygments_lexer": "ipython3",
   "version": "3.8.3"
  }
 },
 "nbformat": 4,
 "nbformat_minor": 4
}
