{
 "cells": [
  {
   "cell_type": "code",
   "execution_count": 2,
   "metadata": {},
   "outputs": [
    {
     "name": "stdout",
     "output_type": "stream",
     "text": [
      "[5, 4, 4, 0, 1, 1, 0]\n"
     ]
    }
   ],
   "source": [
    "def right_smaller_than(array): # time O(n^2), space O(n)\n",
    "    right_smaller_counts = []\n",
    "    for index1 in range(len(array)):\n",
    "        right_smaller_count = 0\n",
    "        for index2 in range(index1 + 1, len(array)):\n",
    "            if array[index2] < array[index1]:\n",
    "                right_smaller_count += 1\n",
    "        right_smaller_counts.append(right_smaller_count)\n",
    "    return right_smaller_counts\n",
    "\n",
    "\n",
    "print(right_smaller_than([8,5,11,-1,3,4,2]))"
   ]
  },
  {
   "cell_type": "code",
   "execution_count": null,
   "metadata": {},
   "outputs": [],
   "source": []
  }
 ],
 "metadata": {
  "kernelspec": {
   "display_name": "python3",
   "language": "python",
   "name": "python3"
  },
  "language_info": {
   "codemirror_mode": {
    "name": "ipython",
    "version": 3
   },
   "file_extension": ".py",
   "mimetype": "text/x-python",
   "name": "python",
   "nbconvert_exporter": "python",
   "pygments_lexer": "ipython3",
   "version": "3.8.3"
  }
 },
 "nbformat": 4,
 "nbformat_minor": 4
}
