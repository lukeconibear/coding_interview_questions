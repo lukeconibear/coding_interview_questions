{
 "cells": [
  {
   "cell_type": "code",
   "execution_count": 10,
   "metadata": {},
   "outputs": [
    {
     "name": "stdout",
     "output_type": "stream",
     "text": [
      "7 0 8\n",
      "7 0 8\n"
     ]
    }
   ],
   "source": [
    "class Node:\n",
    "    def __init__(self, value, next=None):\n",
    "        self.value = value\n",
    "        self.next = next\n",
    "        \n",
    "    def __repr__(self):\n",
    "        return f'{self.value} {self.next}' if self.next is not None else f'{self.value}'\n",
    "    \n",
    "\n",
    "class Solution:\n",
    "    def add_two_numbers1(self, node1, node2): # time O(n), space O(n) \n",
    "        return self._add_two_numbers_helper1(node1, node2, 0)\n",
    "        \n",
    "    def _add_two_numbers_helper1(self, node1, node2, c): \n",
    "        value = node1.value + node2.value + c\n",
    "        c = value // 10\n",
    "        ret = Node(value % 10)\n",
    "        \n",
    "        if node1.next != None or node2.next != None:\n",
    "            if not node1.next:\n",
    "                node1.next = Node(0)\n",
    "            if not node2.next:\n",
    "                node2.next = Node(0)\n",
    "            ret.next = self._add_two_numbers_helper1(node1.next, node2.next, c)\n",
    "        return ret\n",
    "    \n",
    "    def add_two_numbers2(self, node1, node2): # time O(n), space O(n)\n",
    "        return self._add_two_numbers_helper2(node1, node2)\n",
    "    \n",
    "    def _add_two_numbers_helper2(self, node1, node2): \n",
    "        a = node1\n",
    "        b = node2\n",
    "        c = 0\n",
    "        ret = current = None\n",
    "        \n",
    "        while a or b:\n",
    "            value = a.value + b.value + c\n",
    "            c = value // 10\n",
    "            \n",
    "            if not current:\n",
    "                ret = current = Node(value % 10)\n",
    "            else:\n",
    "                current.next = Node(value % 10)\n",
    "                current = current.next\n",
    "            if a.next or b.next:\n",
    "                if not a.next:\n",
    "                    a.next = Node(0)\n",
    "                if not b.next:\n",
    "                    b.next = Node(0)\n",
    "            a = a.next\n",
    "            b = b.next\n",
    "        return ret\n",
    "    \n",
    "    \n",
    "node1 = Node(2)\n",
    "node1.next = Node(4)\n",
    "node1.next.next = Node(3)\n",
    "\n",
    "node2 = Node(5)\n",
    "node2.next = Node(6)\n",
    "node2.next.next = Node(4)\n",
    "\n",
    "print(Solution().add_two_numbers1(node1, node2))\n",
    "print(Solution().add_two_numbers2(node1, node2))"
   ]
  },
  {
   "cell_type": "code",
   "execution_count": null,
   "metadata": {},
   "outputs": [],
   "source": []
  }
 ],
 "metadata": {
  "kernelspec": {
   "display_name": "python3",
   "language": "python",
   "name": "python3"
  },
  "language_info": {
   "codemirror_mode": {
    "name": "ipython",
    "version": 3
   },
   "file_extension": ".py",
   "mimetype": "text/x-python",
   "name": "python",
   "nbconvert_exporter": "python",
   "pygments_lexer": "ipython3",
   "version": "3.8.3"
  }
 },
 "nbformat": 4,
 "nbformat_minor": 4
}
