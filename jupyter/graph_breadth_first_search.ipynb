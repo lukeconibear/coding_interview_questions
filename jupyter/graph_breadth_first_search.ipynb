{
 "cells": [
  {
   "cell_type": "code",
   "execution_count": 1,
   "metadata": {},
   "outputs": [
    {
     "name": "stdout",
     "output_type": "stream",
     "text": [
      "['A', 'B', 'C', 'D', 'E', 'F', 'G', 'H', 'I', 'J', 'K']\n"
     ]
    }
   ],
   "source": [
    "class Node:\n",
    "    def __init__(self, value, left=None, centre=None, right=None):\n",
    "        self.value = value\n",
    "        self.left = left\n",
    "        self.centre = centre\n",
    "        self.right = right\n",
    "\n",
    "    def __repr__(self):\n",
    "        return f'{self.value}'\n",
    "    \n",
    "    \n",
    "def breadth_first_search(self, array=[]): # time O(nodes + arrows), space O(nodes)\n",
    "    queue = [self]\n",
    "    while len(queue) > 0:\n",
    "        current = queue.pop(0)\n",
    "        array.append(current.value)\n",
    "        if current.left:\n",
    "            queue.append(current.left)\n",
    "        if current.centre:\n",
    "            queue.append(current.centre)\n",
    "        if current.right:\n",
    "            queue.append(current.right)\n",
    "    return array\n",
    "        \n",
    "       \n",
    "node = Node('A')\n",
    "node.left = Node('B')\n",
    "node.left.left = Node('E')\n",
    "node.left.right = Node('F')\n",
    "node.left.right.left = Node('I')\n",
    "node.left.right.right = Node('J')\n",
    "node.centre = Node('C')\n",
    "node.right = Node('D')\n",
    "node.right.left = Node('G')\n",
    "node.right.left.right = Node('K')\n",
    "node.right.right = Node('H')\n",
    "\n",
    "print(breadth_first_search(node))\n",
    "# A, B, C, D, E, F, G, H, I, J, K"
   ]
  },
  {
   "cell_type": "code",
   "execution_count": null,
   "metadata": {},
   "outputs": [],
   "source": [
    "def breadth_first_search(node, adjacent):\n",
    "    level = {node: 0}\n",
    "    parent = {node: None}\n",
    "    index = 1\n",
    "    frontier = [node]\n",
    "    while frontier:\n",
    "        next_node = []\n",
    "        for u in frontier:\n",
    "            for v in adjacent[u]:\n",
    "                if v not in level:\n",
    "                    level[v] = index\n",
    "                    parent[v] = u\n",
    "                    next_node.append(v)\n",
    "        frontier = next\n",
    "        index += 1"
   ]
  }
 ],
 "metadata": {
  "kernelspec": {
   "display_name": "python3",
   "language": "python",
   "name": "python3"
  },
  "language_info": {
   "codemirror_mode": {
    "name": "ipython",
    "version": 3
   },
   "file_extension": ".py",
   "mimetype": "text/x-python",
   "name": "python",
   "nbconvert_exporter": "python",
   "pygments_lexer": "ipython3",
   "version": "3.8.3"
  }
 },
 "nbformat": 4,
 "nbformat_minor": 4
}
