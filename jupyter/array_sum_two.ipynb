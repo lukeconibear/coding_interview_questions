{
 "cells": [
  {
   "cell_type": "code",
   "execution_count": 9,
   "metadata": {},
   "outputs": [
    {
     "name": "stdout",
     "output_type": "stream",
     "text": [
      "[7, 11]\n",
      "[1, 2]\n",
      "[11, 7]\n"
     ]
    }
   ],
   "source": [
    "class Solution: \n",
    "    def two_sum(self, nums, target): # time O(n2), space O(1)\n",
    "        for index1, num1 in enumerate(nums):\n",
    "            for index2, num2 in enumerate(nums):\n",
    "                if num1 == num2:\n",
    "                    continue\n",
    "                if num1 + num2 == target:\n",
    "                    return [num1, num2] # if want indicies then [index1, index2]\n",
    "        return []\n",
    "\n",
    "    def two_sum2(self, nums, target): # time O(nlogn), space O(1)\n",
    "        nums.sort()\n",
    "        left_index = 0\n",
    "        right_index = len(nums) - 1\n",
    "        while left_index < right_index:\n",
    "            current_sum = nums[left_index] + nums[right_index]\n",
    "            if current_sum == target:\n",
    "                return [nums[left_index], nums[right_index]] # if want indicies then \n",
    "            elif current_sum < target:\n",
    "                left_index += 1\n",
    "            elif current_sum > target:\n",
    "                right_index -= 1\n",
    "        return []\n",
    "        \n",
    "        \n",
    "    def two_sum3(self, nums, target): # time O(n), space O(n)\n",
    "        values = {}\n",
    "        for index, num in enumerate(nums):\n",
    "            diff = target - num\n",
    "            if diff in values:\n",
    "                return [num, diff] # if wants indices then [index, values[diff]]\n",
    "            values[num] = diff  # if wants indices then index\n",
    "        return []\n",
    "    \n",
    "print(Solution().two_sum([2, 7, 11, 15], 18))\n",
    "print(Solution().two_sum2([2, 7, 11, 15], 18))\n",
    "print(Solution().two_sum3([2, 7, 11, 15], 18))"
   ]
  },
  {
   "cell_type": "code",
   "execution_count": null,
   "metadata": {},
   "outputs": [],
   "source": []
  }
 ],
 "metadata": {
  "kernelspec": {
   "display_name": "python3",
   "language": "python",
   "name": "python3"
  },
  "language_info": {
   "codemirror_mode": {
    "name": "ipython",
    "version": 3
   },
   "file_extension": ".py",
   "mimetype": "text/x-python",
   "name": "python",
   "nbconvert_exporter": "python",
   "pygments_lexer": "ipython3",
   "version": "3.8.3"
  }
 },
 "nbformat": 4,
 "nbformat_minor": 4
}
