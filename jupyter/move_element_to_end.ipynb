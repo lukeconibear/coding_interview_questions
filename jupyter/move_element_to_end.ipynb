{
 "cells": [
  {
   "cell_type": "code",
   "execution_count": 30,
   "metadata": {},
   "outputs": [
    {
     "name": "stdout",
     "output_type": "stream",
     "text": [
      "[4, 1, 3, 2, 2, 2, 2, 2]\n",
      "[5, 1, 2, 4, 3]\n"
     ]
    }
   ],
   "source": [
    "def move_element_to_end(array, to_move): # time O(n), space O(1)\n",
    "    left = 0\n",
    "    right = len(array) - 1\n",
    "    while left < right:\n",
    "        while left < right and array[right] == to_move:\n",
    "            right -= 1\n",
    "        if array[left] == to_move:\n",
    "            array[left], array[right] = array[right], array[left]\n",
    "        left += 1\n",
    "            \n",
    "    return array\n",
    "\n",
    "print(move_element_to_end([2,1,2,2,2,3,4,2], 2))\n",
    "print(move_element_to_end([5, 1, 2, 4, 3], 3))"
   ]
  },
  {
   "cell_type": "code",
   "execution_count": null,
   "metadata": {},
   "outputs": [],
   "source": []
  }
 ],
 "metadata": {
  "kernelspec": {
   "display_name": "python3",
   "language": "python",
   "name": "python3"
  },
  "language_info": {
   "codemirror_mode": {
    "name": "ipython",
    "version": 3
   },
   "file_extension": ".py",
   "mimetype": "text/x-python",
   "name": "python",
   "nbconvert_exporter": "python",
   "pygments_lexer": "ipython3",
   "version": "3.8.3"
  }
 },
 "nbformat": 4,
 "nbformat_minor": 4
}
