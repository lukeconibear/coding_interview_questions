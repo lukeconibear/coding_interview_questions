{
 "cells": [
  {
   "cell_type": "code",
   "execution_count": 5,
   "metadata": {},
   "outputs": [
    {
     "name": "stdout",
     "output_type": "stream",
     "text": [
      "2\n"
     ]
    }
   ],
   "source": [
    "def min_jumps_to_end(array): # time O(n2), sapce O(n)\n",
    "    jumps = [float('inf') for _ in array]\n",
    "    jumps[0] = 0\n",
    "    for index1 in range(1, len(array)):\n",
    "        for index2 in range(0, index1):\n",
    "            if array[index2] >= index1 - index2:\n",
    "                jumps[index1] = min(jumps[index2] + 1, jumps[index1])\n",
    "    return jumps[-1]\n",
    "\n",
    "\n",
    "print(min_jumps_to_end([3, 2, 5, 1, 1, 9, 3, 4]))"
   ]
  },
  {
   "cell_type": "code",
   "execution_count": 2,
   "metadata": {},
   "outputs": [
    {
     "name": "stdout",
     "output_type": "stream",
     "text": [
      "2\n"
     ]
    }
   ],
   "source": [
    "def min_jumps_to_end(array): # time O(n), space O(1)\n",
    "    if len(array) == 1:\n",
    "        return 0\n",
    "    jumps = 0\n",
    "    max_reach = array[0]\n",
    "    steps = array[0]\n",
    "    for index in range(1, len(array) - 1):\n",
    "        max_reach = max(max_reach, index + array[index])\n",
    "        steps -= 1\n",
    "        if steps == 0:\n",
    "            jumps += 1\n",
    "            steps = max_reach - index\n",
    "    return jumps + 1\n",
    "\n",
    "\n",
    "print(min_jumps_to_end([3, 2, 5, 1, 1, 9, 3, 4]))"
   ]
  },
  {
   "cell_type": "code",
   "execution_count": null,
   "metadata": {},
   "outputs": [],
   "source": []
  }
 ],
 "metadata": {
  "kernelspec": {
   "display_name": "python3",
   "language": "python",
   "name": "python3"
  },
  "language_info": {
   "codemirror_mode": {
    "name": "ipython",
    "version": 3
   },
   "file_extension": ".py",
   "mimetype": "text/x-python",
   "name": "python",
   "nbconvert_exporter": "python",
   "pygments_lexer": "ipython3",
   "version": "3.8.3"
  }
 },
 "nbformat": 4,
 "nbformat_minor": 4
}
