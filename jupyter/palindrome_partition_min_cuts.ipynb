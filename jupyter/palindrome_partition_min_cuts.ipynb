{
 "cells": [
  {
   "cell_type": "code",
   "execution_count": 6,
   "metadata": {},
   "outputs": [
    {
     "name": "stdout",
     "output_type": "stream",
     "text": [
      "2\n",
      "2\n"
     ]
    }
   ],
   "source": [
    "def palindrome_partition_min_cuts1(string): # time O(n3), space O(n2)\n",
    "    palindromes = [[False for x in string] for y in string]\n",
    "    for x in range(len(string)):\n",
    "        for y in range(x, len(string)):\n",
    "            palindromes[x][y] = is_palindrome(string[x:y + 1])\n",
    "            \n",
    "    min_cuts = [float('inf') for x in string]\n",
    "    for x in range(len(string)):\n",
    "        if palindromes[0][x]:\n",
    "            min_cuts[x] = 0\n",
    "        else:\n",
    "            for y in range(1, x + 1):\n",
    "                if palindromes[y][x]:\n",
    "                    min_cuts[x] = min(min_cuts[x], min_cuts[y - 1] + 1)\n",
    "    \n",
    "    return min_cuts[-1]\n",
    "\n",
    "def is_palindrome(string):\n",
    "    left_index = 0\n",
    "    right_index = len(string) - 1\n",
    "    while left_index < right_index:\n",
    "        if string[left_index] != string[right_index]:\n",
    "            return False\n",
    "        \n",
    "        left_index += 1\n",
    "        right_index -= 1\n",
    "    \n",
    "    return True\n",
    "\n",
    "def palindrome_partition_min_cuts2(string): # time O(n2), space O(n2)\n",
    "    palindromes = [[False for x in string] for y in string]\n",
    "    for x in range(len(string)):\n",
    "        palindromes[x][x] = True\n",
    "        \n",
    "    for length in range(2, len(string) + 1):\n",
    "        for x in range(0, len(string) - length + 1):\n",
    "            y = x + length - 1\n",
    "            if length == 2:\n",
    "                palindromes[x][y] = string[x] == string[y]\n",
    "            else:\n",
    "                palindromes[x][y] = string[x] == string[y] and palindromes[x + 1][y - 1]\n",
    "        \n",
    "    min_cuts = [float('inf') for x in string]\n",
    "    for x in range(len(string)):\n",
    "        if palindromes[0][x]:\n",
    "            min_cuts[x] = 0\n",
    "        else:\n",
    "            for y in range(1, x + 1):\n",
    "                if palindromes[y][x]:\n",
    "                    min_cuts[x] = min(min_cuts[x], min_cuts[y - 1] + 1)\n",
    "                    \n",
    "    return min_cuts[-1]\n",
    "\n",
    "print(palindrome_partition_min_cuts1('noonabbad'))\n",
    "print(palindrome_partition_min_cuts2('noonabbad'))"
   ]
  },
  {
   "cell_type": "code",
   "execution_count": null,
   "metadata": {},
   "outputs": [],
   "source": []
  }
 ],
 "metadata": {
  "kernelspec": {
   "display_name": "python3",
   "language": "python",
   "name": "python3"
  },
  "language_info": {
   "codemirror_mode": {
    "name": "ipython",
    "version": 3
   },
   "file_extension": ".py",
   "mimetype": "text/x-python",
   "name": "python",
   "nbconvert_exporter": "python",
   "pygments_lexer": "ipython3",
   "version": "3.8.3"
  }
 },
 "nbformat": 4,
 "nbformat_minor": 4
}
