{
 "cells": [
  {
   "cell_type": "code",
   "execution_count": 2,
   "metadata": {},
   "outputs": [
    {
     "name": "stdout",
     "output_type": "stream",
     "text": [
      "7\n"
     ]
    }
   ],
   "source": [
    "def findTime(tasks, cooldown): # time O(n), space O(n)\n",
    "    lastPos = {}\n",
    "    current = 0\n",
    "    for task in tasks:\n",
    "        if task in lastPos:\n",
    "            if current - lastPos[task] <= cooldown:\n",
    "                current = cooldown + lastPos[task] + 1\n",
    "        lastPos[task] = current\n",
    "        current = current + 1\n",
    "        \n",
    "    return current\n",
    "\n",
    "print(findTime([1, 1, 2, 1], 2))\n",
    "# [1, 1, 2, 1]  \n",
    "# 1 _ _ 1 _ _ 1 {_ _}  \n",
    "#        2 _ _  \n",
    "# total = 7"
   ]
  },
  {
   "cell_type": "code",
   "execution_count": null,
   "metadata": {},
   "outputs": [],
   "source": []
  }
 ],
 "metadata": {
  "kernelspec": {
   "display_name": "python3",
   "language": "python",
   "name": "python3"
  },
  "language_info": {
   "codemirror_mode": {
    "name": "ipython",
    "version": 3
   },
   "file_extension": ".py",
   "mimetype": "text/x-python",
   "name": "python",
   "nbconvert_exporter": "python",
   "pygments_lexer": "ipython3",
   "version": "3.8.3"
  }
 },
 "nbformat": 4,
 "nbformat_minor": 4
}
