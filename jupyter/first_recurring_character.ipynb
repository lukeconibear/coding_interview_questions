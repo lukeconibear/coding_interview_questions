{
 "cells": [
  {
   "cell_type": "code",
   "execution_count": 2,
   "metadata": {},
   "outputs": [
    {
     "name": "stdout",
     "output_type": "stream",
     "text": [
      "t\n",
      "None\n"
     ]
    }
   ],
   "source": [
    "def first_recurring_character(string): # time O(n), space O(n)\n",
    "    seen = set()\n",
    "    for c in string:\n",
    "        if c in seen:\n",
    "            return c\n",
    "        seen.add(c)\n",
    "\n",
    "    return None\n",
    "\n",
    "\n",
    "print(first_recurring_character('qwertty'))\n",
    "# t\n",
    "print(first_recurring_character('qwerty'))\n",
    "# None"
   ]
  },
  {
   "cell_type": "code",
   "execution_count": null,
   "metadata": {},
   "outputs": [],
   "source": []
  }
 ],
 "metadata": {
  "kernelspec": {
   "display_name": "python3",
   "language": "python",
   "name": "python3"
  },
  "language_info": {
   "codemirror_mode": {
    "name": "ipython",
    "version": 3
   },
   "file_extension": ".py",
   "mimetype": "text/x-python",
   "name": "python",
   "nbconvert_exporter": "python",
   "pygments_lexer": "ipython3",
   "version": "3.8.3"
  }
 },
 "nbformat": 4,
 "nbformat_minor": 4
}
