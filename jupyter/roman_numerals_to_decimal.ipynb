{
 "cells": [
  {
   "cell_type": "code",
   "execution_count": 2,
   "metadata": {},
   "outputs": [
    {
     "name": "stdout",
     "output_type": "stream",
     "text": [
      "1904\n"
     ]
    }
   ],
   "source": [
    "class Solution():\n",
    "    def romanToInt(self, s): # time O(n), space O(1)\n",
    "        romanNumerals = {\n",
    "            'I': 1,\n",
    "            'V': 5,\n",
    "            'X': 10,\n",
    "            'L': 50,\n",
    "            'C': 100, \n",
    "            'D': 500,\n",
    "            'M': 1000\n",
    "        }\n",
    "        prev = 0\n",
    "        total = 0\n",
    "        for i in s[::-1]: # reverse the string and go by element\n",
    "            curr = romanNumerals[i]\n",
    "            if prev > curr: # if lower value preceeding bigger value\n",
    "                total -= curr # then take it away\n",
    "            else:\n",
    "                total += curr # otherwise add it\n",
    "            prev = curr\n",
    "        return total\n",
    "\n",
    "n = 'MCMIV'\n",
    "print(Solution().romanToInt(n))\n",
    "# 1904"
   ]
  },
  {
   "cell_type": "code",
   "execution_count": null,
   "metadata": {},
   "outputs": [],
   "source": []
  },
  {
   "cell_type": "code",
   "execution_count": null,
   "metadata": {},
   "outputs": [],
   "source": []
  }
 ],
 "metadata": {
  "kernelspec": {
   "display_name": "python3",
   "language": "python",
   "name": "python3"
  },
  "language_info": {
   "codemirror_mode": {
    "name": "ipython",
    "version": 3
   },
   "file_extension": ".py",
   "mimetype": "text/x-python",
   "name": "python",
   "nbconvert_exporter": "python",
   "pygments_lexer": "ipython3",
   "version": "3.8.3"
  }
 },
 "nbformat": 4,
 "nbformat_minor": 4
}
