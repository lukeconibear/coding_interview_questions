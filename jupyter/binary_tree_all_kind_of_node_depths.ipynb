{
 "cells": [
  {
   "cell_type": "code",
   "execution_count": 2,
   "metadata": {},
   "outputs": [
    {
     "name": "stdout",
     "output_type": "stream",
     "text": [
      "True\n"
     ]
    }
   ],
   "source": [
    "# The depth of a node is the number of edges from the root to the node.\n",
    "class Node:\n",
    "    def __init__(self, value, left=None, right=None):\n",
    "        self.value = value\n",
    "        self.left = left\n",
    "        self.right = right\n",
    "\n",
    "class Solution:\n",
    "    def all_kind_of_node_depths(self, node, depth_sum=0, depth=0): # time O(n), space O(h) due to calls on call stack\n",
    "        if node is None:\n",
    "            return 0\n",
    "\n",
    "        depth_sum += depth\n",
    "        return (\n",
    "            depth_sum \n",
    "            + self.all_kind_of_node_depths(node.left, depth_sum, depth + 1)\n",
    "            + self.all_kind_of_node_depths(node.right, depth_sum, depth + 1)\n",
    "        )\n",
    "    \n",
    "    def test(self):\n",
    "        head = Node(1)\n",
    "        head.left = Node(2)\n",
    "        head.right = Node(3)\n",
    "        head.left.left = Node(4)\n",
    "        head.left.right = Node(5)\n",
    "        head.left.left.left = Node(8)\n",
    "        head.left.left.right = Node(9)\n",
    "        head.right.left = Node(6)\n",
    "        head.right.right = Node(7)\n",
    "        \n",
    "        return Solution().all_kind_of_node_depths(head) == 26\n",
    "    \n",
    "print(Solution().test())"
   ]
  },
  {
   "cell_type": "code",
   "execution_count": null,
   "metadata": {},
   "outputs": [],
   "source": []
  }
 ],
 "metadata": {
  "kernelspec": {
   "display_name": "python3",
   "language": "python",
   "name": "python3"
  },
  "language_info": {
   "codemirror_mode": {
    "name": "ipython",
    "version": 3
   },
   "file_extension": ".py",
   "mimetype": "text/x-python",
   "name": "python",
   "nbconvert_exporter": "python",
   "pygments_lexer": "ipython3",
   "version": "3.8.3"
  }
 },
 "nbformat": 4,
 "nbformat_minor": 4
}
