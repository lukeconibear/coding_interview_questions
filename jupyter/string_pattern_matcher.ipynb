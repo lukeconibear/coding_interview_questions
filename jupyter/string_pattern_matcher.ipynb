{
 "cells": [
  {
   "cell_type": "code",
   "execution_count": 9,
   "metadata": {},
   "outputs": [
    {
     "name": "stdout",
     "output_type": "stream",
     "text": [
      "['go', 'powerranger']\n"
     ]
    }
   ],
   "source": [
    "def pattern_matcher(string, pattern): # time O(n^2 + m), space O(n + m) where n is the string and m is the pattern\n",
    "    if len(pattern) > len(string):\n",
    "        return []\n",
    "    new_pattern = get_new_pattern(pattern)\n",
    "    did_switch = new_pattern[0] != pattern[0]\n",
    "    counts = {\n",
    "        'x': 0,\n",
    "        'y': 0\n",
    "    }\n",
    "    first_y_position = get_counts_and_first_y_position(new_pattern, counts)\n",
    "    if counts['y'] != 0:\n",
    "        for len_of_x in range(1, len(string)):\n",
    "            len_of_y = (len(string) - len_of_x * counts['x']) / counts['y']\n",
    "            if len_of_y <= 0 or len_of_y % 1 != 0:\n",
    "                continue\n",
    "            len_of_y = int(len_of_y)\n",
    "            y_index = first_y_position * len_of_x\n",
    "            x = string[:len_of_x]\n",
    "            y = string[y_index:y_index + len_of_y]\n",
    "            potential_match = [x if char == 'x' else y for char in new_pattern]\n",
    "            if string == ''.join(potential_match):\n",
    "                return [x, y] if not did_switch else [y, x]\n",
    "    else:\n",
    "        len_of_x = len(string) / counts['x']\n",
    "        if len_of_x % 1 == 0:\n",
    "            len_of_x = int(len_of_x)\n",
    "            x = string[:len_of_x]\n",
    "            potential_match = map(lambda char: x, new_pattern)\n",
    "            if string == ''.join(potential_match):\n",
    "                return [x, ''] if not did_switch else ['', x]\n",
    "    return []\n",
    "\n",
    "def get_new_pattern(pattern):\n",
    "    pattern_letters = list(pattern)\n",
    "    if pattern[0] == 'x':\n",
    "        return pattern_letters\n",
    "    else:\n",
    "        return ['x' if char == 'y' else 'y' for char in pattern_letters]\n",
    "    \n",
    "def get_counts_and_first_y_position(pattern, counts):\n",
    "    first_y_position = None\n",
    "    for index, char in enumerate(pattern):\n",
    "        counts[char] += 1\n",
    "        if char == 'y' and first_y_position is None:\n",
    "            first_y_position = index\n",
    "    return first_y_position\n",
    "            \n",
    "    \n",
    "print(pattern_matcher('gogopowerrangergogopowerranger', 'xxyxxy'))"
   ]
  },
  {
   "cell_type": "code",
   "execution_count": null,
   "metadata": {},
   "outputs": [],
   "source": []
  },
  {
   "cell_type": "code",
   "execution_count": null,
   "metadata": {},
   "outputs": [],
   "source": []
  }
 ],
 "metadata": {
  "kernelspec": {
   "display_name": "python3",
   "language": "python",
   "name": "python3"
  },
  "language_info": {
   "codemirror_mode": {
    "name": "ipython",
    "version": 3
   },
   "file_extension": ".py",
   "mimetype": "text/x-python",
   "name": "python",
   "nbconvert_exporter": "python",
   "pygments_lexer": "ipython3",
   "version": "3.8.3"
  }
 },
 "nbformat": 4,
 "nbformat_minor": 4
}
