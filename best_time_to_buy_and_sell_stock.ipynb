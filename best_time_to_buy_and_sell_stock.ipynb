{
 "cells": [
  {
   "cell_type": "code",
   "execution_count": 1,
   "metadata": {},
   "outputs": [
    {
     "name": "stdout",
     "output_type": "stream",
     "text": [
      "5\n",
      "5\n"
     ]
    }
   ],
   "source": [
    "def buy_and_sell(array): # time O(n2), space O(1)\n",
    "    max_profit = 0\n",
    "    for i in range(len(array)):\n",
    "        for j in range(i, len(array)):\n",
    "            max_profit = max(max_profit, array[j] - array[i])\n",
    "            \n",
    "    return max_profit\n",
    "\n",
    "\n",
    "def buy_and_sell2(array): # time O(n), space O(1)\n",
    "    max_current_price = 0\n",
    "    max_profit = 0\n",
    "    for price in array[::-1]:\n",
    "        max_current_price = max(max_current_price, price)\n",
    "        max_profit = max(max_profit, max_current_price - price)\n",
    "\n",
    "    return max_profit\n",
    "\n",
    "\n",
    "print(buy_and_sell([9, 11, 8, 5, 7, 10]))\n",
    "print(buy_and_sell2([9, 11, 8, 5, 7, 10]))"
   ]
  },
  {
   "cell_type": "code",
   "execution_count": null,
   "metadata": {},
   "outputs": [],
   "source": []
  }
 ],
 "metadata": {
  "kernelspec": {
   "display_name": "python3",
   "language": "python",
   "name": "python3"
  },
  "language_info": {
   "codemirror_mode": {
    "name": "ipython",
    "version": 3
   },
   "file_extension": ".py",
   "mimetype": "text/x-python",
   "name": "python",
   "nbconvert_exporter": "python",
   "pygments_lexer": "ipython3",
   "version": "3.8.3"
  }
 },
 "nbformat": 4,
 "nbformat_minor": 4
}
