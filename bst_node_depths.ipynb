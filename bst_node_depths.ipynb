{
 "cells": [
  {
   "cell_type": "code",
   "execution_count": 7,
   "metadata": {},
   "outputs": [
    {
     "name": "stdout",
     "output_type": "stream",
     "text": [
      "16\n",
      "16\n"
     ]
    }
   ],
   "source": [
    "class Node:\n",
    "    def __init__(self, value, left=None, right=None):\n",
    "        self.value = value\n",
    "        self.left = left\n",
    "        self.right = right\n",
    "        \n",
    "    def __repr__(self):\n",
    "        return f'{self.value}'\n",
    "    \n",
    "\n",
    "def node_depth_recursion(tree, depth=0): # time O(nodes), space (height)\n",
    "    if tree is None:\n",
    "        return 0\n",
    "    return depth + node_depth_recursion(tree.left, depth + 1) + node_depth_recursion(tree.right, depth + 1)\n",
    "    \n",
    "    \n",
    "def node_depth_iterative(tree): # time O(nodes), space (height)\n",
    "    depth_sum = 0\n",
    "    stack = [{'node': tree, 'depth': 0}]\n",
    "    while len(stack) > 0:\n",
    "        node_info = stack.pop()\n",
    "        node, depth = node_info['node'], node_info['depth']\n",
    "        if node is None:\n",
    "            continue\n",
    "        depth_sum += depth\n",
    "        stack.append({'node': node.left, 'depth': depth + 1})\n",
    "        stack.append({'node': node.right, 'depth': depth + 1})\n",
    "    return depth_sum\n",
    "\n",
    "\n",
    "tree = Node(1)\n",
    "tree.left = Node(2)\n",
    "tree.left.left = Node(4)\n",
    "tree.left.right = Node(5)\n",
    "tree.left.left.left = Node(8)\n",
    "tree.left.left.right = Node(9)\n",
    "tree.right = Node(3)\n",
    "tree.right.left = Node(6)\n",
    "tree.right.right = Node(7)\n",
    "\n",
    "print(node_depth_recursion(tree))\n",
    "print(node_depth_iterative(tree))\n",
    "# 16"
   ]
  },
  {
   "cell_type": "code",
   "execution_count": 2,
   "metadata": {},
   "outputs": [
    {
     "data": {
      "text/plain": [
       "1"
      ]
     },
     "execution_count": 2,
     "metadata": {},
     "output_type": "execute_result"
    }
   ],
   "source": [
    "tree"
   ]
  },
  {
   "cell_type": "code",
   "execution_count": 8,
   "metadata": {},
   "outputs": [
    {
     "data": {
      "text/plain": [
       "[{'node': 1, 'depth': 0}]"
      ]
     },
     "execution_count": 8,
     "metadata": {},
     "output_type": "execute_result"
    }
   ],
   "source": [
    "stack  = [{'node': tree, 'depth': 0}]\n",
    "stack"
   ]
  },
  {
   "cell_type": "code",
   "execution_count": null,
   "metadata": {},
   "outputs": [],
   "source": []
  }
 ],
 "metadata": {
  "kernelspec": {
   "display_name": "python3",
   "language": "python",
   "name": "python3"
  },
  "language_info": {
   "codemirror_mode": {
    "name": "ipython",
    "version": 3
   },
   "file_extension": ".py",
   "mimetype": "text/x-python",
   "name": "python",
   "nbconvert_exporter": "python",
   "pygments_lexer": "ipython3",
   "version": "3.8.3"
  }
 },
 "nbformat": 4,
 "nbformat_minor": 4
}
