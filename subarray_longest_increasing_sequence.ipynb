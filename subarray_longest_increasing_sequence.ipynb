{
 "cells": [
  {
   "cell_type": "code",
   "execution_count": 1,
   "metadata": {},
   "outputs": [
    {
     "name": "stdout",
     "output_type": "stream",
     "text": [
      "5\n"
     ]
    }
   ],
   "source": [
    "# only want the length not values, hence dynamic programming\n",
    "# doesnt have to be connected\n",
    "def longest_increasing_subsequence(array): # time O(n^2), space O(n)\n",
    "    cache = [1] * len(array)\n",
    "    for i in range(1, len(array)):\n",
    "        for j in range(i):\n",
    "            if array[i] > array[j]:\n",
    "                cache[i] = max(cache[i], cache[j] + 1)\n",
    "    return max(cache)\n",
    "\n",
    "\n",
    "print(longest_increasing_subsequence([0, 8, 4, 12, 2, 10, 6, 14, 1, 9, 5, 13, 3]))\n",
    "# in a single pass, estimate the longest increasing subsequence to that point\n",
    "# 1  2  2   3  2   3  etc.\n",
    "# [0, 8, 4, 12, 2, 10, 6, 14, 1, 9, 5, 13, 3]\n",
    "# = 5"
   ]
  },
  {
   "cell_type": "code",
   "execution_count": null,
   "metadata": {},
   "outputs": [],
   "source": []
  }
 ],
 "metadata": {
  "kernelspec": {
   "display_name": "python3",
   "language": "python",
   "name": "python3"
  },
  "language_info": {
   "codemirror_mode": {
    "name": "ipython",
    "version": 3
   },
   "file_extension": ".py",
   "mimetype": "text/x-python",
   "name": "python",
   "nbconvert_exporter": "python",
   "pygments_lexer": "ipython3",
   "version": "3.8.3"
  }
 },
 "nbformat": 4,
 "nbformat_minor": 4
}
