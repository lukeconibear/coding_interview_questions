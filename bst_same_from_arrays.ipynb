{
 "cells": [
  {
   "cell_type": "code",
   "execution_count": 7,
   "metadata": {},
   "outputs": [
    {
     "name": "stdout",
     "output_type": "stream",
     "text": [
      "True\n"
     ]
    }
   ],
   "source": [
    "def same_bsts(array_one, array_two): # time O(n2), space O(n2)\n",
    "    if len(array_one) != len(array_two):\n",
    "        return False\n",
    "    \n",
    "    if len(array_one) == 0 and len(array_two) == 0:\n",
    "        return True\n",
    "    \n",
    "    if array_one[0] != array_two[0]:\n",
    "        return False\n",
    "    \n",
    "    left_one = get_smaller(array_one)\n",
    "    left_two = get_smaller(array_two)\n",
    "    right_one = get_bigger_or_equal(array_one)\n",
    "    right_two = get_bigger_or_equal(array_two)\n",
    "    \n",
    "    return same_bsts(left_one, left_two) and same_bsts(right_one, right_two)\n",
    "\n",
    "def get_smaller(array):\n",
    "    smaller = []\n",
    "    for index in range(1, len(array)):\n",
    "        if array[index] < array[0]:\n",
    "            smaller.append(array[index])\n",
    "    return smaller\n",
    "\n",
    "def get_bigger_or_equal(array):\n",
    "    bigger_or_equal = []\n",
    "    for index in range(1, len(array)):\n",
    "        if array[index] >= array[0]:\n",
    "            bigger_or_equal.append(array[index])\n",
    "    return bigger_or_equal\n",
    "\n",
    "\n",
    "array_one = [10,15,8,12,94,81,5,2,11]\n",
    "array_two = [10,8,5,15,2,12,11,94,81]\n",
    "print(same_bsts(array_one, array_two))"
   ]
  },
  {
   "cell_type": "code",
   "execution_count": null,
   "metadata": {},
   "outputs": [],
   "source": []
  }
 ],
 "metadata": {
  "kernelspec": {
   "display_name": "python3",
   "language": "python",
   "name": "python3"
  },
  "language_info": {
   "codemirror_mode": {
    "name": "ipython",
    "version": 3
   },
   "file_extension": ".py",
   "mimetype": "text/x-python",
   "name": "python",
   "nbconvert_exporter": "python",
   "pygments_lexer": "ipython3",
   "version": "3.8.3"
  }
 },
 "nbformat": 4,
 "nbformat_minor": 4
}
