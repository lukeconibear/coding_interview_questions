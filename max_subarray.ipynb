{
 "cells": [
  {
   "cell_type": "code",
   "execution_count": 1,
   "metadata": {},
   "outputs": [
    {
     "name": "stdout",
     "output_type": "stream",
     "text": [
      "6\n",
      "12\n"
     ]
    }
   ],
   "source": [
    "class Solution:\n",
    "  def maxSubArray(self, nums): # time O(n), space O(1)\n",
    "    maxSum = 0\n",
    "    sum = 0\n",
    "    for n in nums:\n",
    "      sum += n\n",
    "      if sum < 0:\n",
    "        sum = 0\n",
    "      else:\n",
    "        maxSum = max(maxSum, sum)\n",
    "    return maxSum\n",
    "\n",
    "print(Solution().maxSubArray([-2, 1, -3, 4, -1, 2, 1, -5, 4]))\n",
    "# 6\n",
    "\n",
    "print(Solution().maxSubArray([-1, -4, 3, 8, 1]))\n",
    "# 12"
   ]
  },
  {
   "cell_type": "code",
   "execution_count": null,
   "metadata": {},
   "outputs": [],
   "source": []
  }
 ],
 "metadata": {
  "kernelspec": {
   "display_name": "python3",
   "language": "python",
   "name": "python3"
  },
  "language_info": {
   "codemirror_mode": {
    "name": "ipython",
    "version": 3
   },
   "file_extension": ".py",
   "mimetype": "text/x-python",
   "name": "python",
   "nbconvert_exporter": "python",
   "pygments_lexer": "ipython3",
   "version": "3.8.3"
  }
 },
 "nbformat": 4,
 "nbformat_minor": 4
}
