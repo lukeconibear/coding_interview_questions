{
 "cells": [
  {
   "cell_type": "code",
   "execution_count": null,
   "metadata": {},
   "outputs": [],
   "source": [
    "# also known as kadane's algorithm"
   ]
  },
  {
   "cell_type": "code",
   "execution_count": 5,
   "metadata": {},
   "outputs": [
    {
     "name": "stdout",
     "output_type": "stream",
     "text": [
      "6\n",
      "-1\n"
     ]
    }
   ],
   "source": [
    "class Solution(object):\n",
    "    def max_subarray(self, nums): # time O(n), space O(1)\n",
    "        max_here = nums[0]\n",
    "        max_so_far = nums[0]\n",
    "        for index in range(1, len(nums)):\n",
    "            max_here = max(nums[index], max_here + nums[index])\n",
    "            max_so_far = max(max_so_far, max_here)\n",
    "        return max_so_far\n",
    "    \n",
    "print(Solution().max_subarray([-2, 1, -3, 4, -1, 2, 1, -5, 4]))\n",
    "print(Solution().max_subarray([-1, -2, -3]))"
   ]
  },
  {
   "cell_type": "code",
   "execution_count": null,
   "metadata": {},
   "outputs": [],
   "source": []
  }
 ],
 "metadata": {
  "kernelspec": {
   "display_name": "python3",
   "language": "python",
   "name": "python3"
  },
  "language_info": {
   "codemirror_mode": {
    "name": "ipython",
    "version": 3
   },
   "file_extension": ".py",
   "mimetype": "text/x-python",
   "name": "python",
   "nbconvert_exporter": "python",
   "pygments_lexer": "ipython3",
   "version": "3.8.3"
  }
 },
 "nbformat": 4,
 "nbformat_minor": 4
}
