{
 "cells": [
  {
   "cell_type": "code",
   "execution_count": 1,
   "metadata": {},
   "outputs": [
    {
     "name": "stdout",
     "output_type": "stream",
     "text": [
      "2\n"
     ]
    }
   ],
   "source": [
    "class Rectangle(object): # time O(1), space O(1)\n",
    "  def __init__(self, min_x=0, min_y=0, max_x=0, max_y=0):\n",
    "    self.min_x = min_x\n",
    "    self.min_y = min_y\n",
    "    self.max_x = max_x\n",
    "    self.max_y = max_y\n",
    "\n",
    "  def area(self):\n",
    "    if self.min_x >= self.max_x:\n",
    "      return 0\n",
    "    if self.min_y >= self.max_y:\n",
    "      return 0\n",
    "    return (self.max_x - self.min_x) * (self.max_y - self.min_y)\n",
    "\n",
    "\n",
    "def intersect_rect(a, b):\n",
    "  return Rectangle(max(a.min_x, b.min_x),\n",
    "                   max(a.min_y, b.min_y),\n",
    "                   min(a.max_x, b.max_x),\n",
    "                   min(a.max_y, b.max_y))\n",
    "\n",
    "\n",
    "a = Rectangle(0, 0, 3, 2)\n",
    "b = Rectangle(1, 1, 3, 3)\n",
    "\n",
    "intersection = intersect_rect(a, b)\n",
    "print(intersection.area())"
   ]
  },
  {
   "cell_type": "code",
   "execution_count": null,
   "metadata": {},
   "outputs": [],
   "source": []
  }
 ],
 "metadata": {
  "kernelspec": {
   "display_name": "python3",
   "language": "python",
   "name": "python3"
  },
  "language_info": {
   "codemirror_mode": {
    "name": "ipython",
    "version": 3
   },
   "file_extension": ".py",
   "mimetype": "text/x-python",
   "name": "python",
   "nbconvert_exporter": "python",
   "pygments_lexer": "ipython3",
   "version": "3.8.3"
  }
 },
 "nbformat": 4,
 "nbformat_minor": 4
}
