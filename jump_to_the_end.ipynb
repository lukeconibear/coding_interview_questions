{
 "cells": [
  {
   "cell_type": "code",
   "execution_count": 1,
   "metadata": {},
   "outputs": [
    {
     "name": "stdout",
     "output_type": "stream",
     "text": [
      "2\n"
     ]
    }
   ],
   "source": [
    "def jumpToEnd(nums): # time O(n^2), sapce O(n)\n",
    "  hops = [float('inf')] * len(nums)\n",
    "  hops[0] = 0\n",
    "\n",
    "  for i, n in enumerate(nums):\n",
    "    for j in range(1, n + 1):\n",
    "      if i + j < len(hops):\n",
    "        hops[i + j] = min(hops[i + j], hops[i] + 1)\n",
    "      else:\n",
    "        break\n",
    "  return hops[-1]\n",
    "\n",
    "\n",
    "print(jumpToEnd([3, 2, 5, 1, 1, 9, 3, 4])) # can jump the number represented by the value\n",
    "# 2"
   ]
  },
  {
   "cell_type": "code",
   "execution_count": null,
   "metadata": {},
   "outputs": [],
   "source": []
  }
 ],
 "metadata": {
  "kernelspec": {
   "display_name": "python3",
   "language": "python",
   "name": "python3"
  },
  "language_info": {
   "codemirror_mode": {
    "name": "ipython",
    "version": 3
   },
   "file_extension": ".py",
   "mimetype": "text/x-python",
   "name": "python",
   "nbconvert_exporter": "python",
   "pygments_lexer": "ipython3",
   "version": "3.8.3"
  }
 },
 "nbformat": 4,
 "nbformat_minor": 4
}
