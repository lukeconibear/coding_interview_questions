{
 "cells": [
  {
   "cell_type": "code",
   "execution_count": 1,
   "metadata": {},
   "outputs": [
    {
     "name": "stdout",
     "output_type": "stream",
     "text": [
      "2\n"
     ]
    }
   ],
   "source": [
    "class Solution:\n",
    "    def first_missing_position(self, nums): # time O(n), space O(n)\n",
    "        hash = {}\n",
    "        for n in nums:\n",
    "            hash[n] = 1\n",
    "\n",
    "        for i in range(1, len(nums)):\n",
    "            if i not in hash:\n",
    "                return i\n",
    "\n",
    "        return -1\n",
    "\n",
    "\n",
    "print(Solution().first_missing_position([3, 4, -1, 1]))\n",
    "# 2"
   ]
  },
  {
   "cell_type": "code",
   "execution_count": null,
   "metadata": {},
   "outputs": [],
   "source": []
  }
 ],
 "metadata": {
  "kernelspec": {
   "display_name": "python3",
   "language": "python",
   "name": "python3"
  },
  "language_info": {
   "codemirror_mode": {
    "name": "ipython",
    "version": 3
   },
   "file_extension": ".py",
   "mimetype": "text/x-python",
   "name": "python",
   "nbconvert_exporter": "python",
   "pygments_lexer": "ipython3",
   "version": "3.8.3"
  }
 },
 "nbformat": 4,
 "nbformat_minor": 4
}
