{
 "cells": [
  {
   "cell_type": "code",
   "execution_count": 29,
   "metadata": {},
   "outputs": [
    {
     "name": "stdout",
     "output_type": "stream",
     "text": [
      "[['11:30', '12:00'], ['15:00', '16:00'], ['18:00', '18:30']]\n"
     ]
    }
   ],
   "source": [
    "def calendar_matching(calendar1, daily_bounds1, calendar2, daily_bounds2, meeting_duration): # time O(calendar1 + calendar2), space O(calendar1 + calendar2)\n",
    "    updated_calendar1 = update_calendar(calendar1, daily_bounds1)\n",
    "    updated_calendar2 = update_calendar(calendar2, daily_bounds2)\n",
    "    merged_calendar = merge_calendars(updated_calendar1, updated_calendar2)\n",
    "    flattened_calendar = flatten_calendar(merged_calendar)\n",
    "    return get_matching_availabilities(flattened_calendar, meeting_duration)\n",
    "\n",
    "def update_calendar(calendar, daily_bounds):\n",
    "    updated_calendar = calendar[:]\n",
    "    updated_calendar.insert(0, ['0:00', daily_bounds[0]])\n",
    "    updated_calendar.append([daily_bounds[1], '23:59'])\n",
    "    return [[time_to_minutes(times[0]), time_to_minutes(times[1])] for times in updated_calendar]\n",
    "\n",
    "def merge_calendars(calendar1, calendar2):\n",
    "    merged = []\n",
    "    index1, index2 = 0, 0\n",
    "    while index1 < len(calendar1) and index2 < len(calendar2):\n",
    "        meeting1, meeting2 = calendar1[index1], calendar2[index2]\n",
    "        if meeting1[0] < meeting2[0]:\n",
    "            merged.append(meeting1)\n",
    "            index1 += 1\n",
    "        else:\n",
    "            merged.append(meeting2)\n",
    "            index2 += 1\n",
    "    \n",
    "    while index1 < len(calendar1):\n",
    "        merged.append(calendar1[index1])\n",
    "        index1 += 1\n",
    "    \n",
    "    while index2 < len(calendar2):\n",
    "        merged.append(calendar2[index2])\n",
    "        index2 += 1\n",
    "    \n",
    "    return merged\n",
    "\n",
    "def flatten_calendar(calendar):\n",
    "    flattened = [calendar[0][:]]\n",
    "    for index in range(1, len(calendar)):\n",
    "        current_meeting = calendar[index]\n",
    "        previous_meeting = flattened[-1]\n",
    "        current_start, current_end = current_meeting\n",
    "        previous_start, previous_end = previous_meeting\n",
    "        if previous_end >= current_start:\n",
    "            new_previous_meeting = [previous_start, max(previous_end, current_end)]\n",
    "            flattened[-1] = new_previous_meeting\n",
    "        else:\n",
    "            flattened.append(current_meeting[:])\n",
    "    \n",
    "    return flattened\n",
    "\n",
    "def get_matching_availabilities(calendar, meeting_duration):\n",
    "    matching_availabilities = []\n",
    "    for index in range(1, len(calendar)):\n",
    "        start = calendar[index - 1][1]\n",
    "        end = calendar[index][0]\n",
    "        availability_duration = end - start\n",
    "        if availability_duration >= meeting_duration:\n",
    "            matching_availabilities.append([start, end])\n",
    "            \n",
    "    return [[minutes_to_time(minutes[0]), minutes_to_time(minutes[1])] for minutes in matching_availabilities]\n",
    "\n",
    "def time_to_minutes(time):\n",
    "    hours, minutes = [int(t) for t in time.split(':')]\n",
    "    return hours * 60 + minutes\n",
    "\n",
    "def minutes_to_time(minutes):\n",
    "    hours = minutes // 60\n",
    "    minutes = minutes % 60\n",
    "    hours_string = str(hours)\n",
    "    minutes_string = '0' + str(minutes) if minutes < 10 else str(minutes)\n",
    "    return f'{hours_string}:{minutes_string}'\n",
    "\n",
    "    \n",
    "calendar1 = [[\"9:00\", \"10:30\"], [\"12:00\", \"13:00\"], [\"16:00\", \"18:00\"]]\n",
    "calendar2 = [[\"10:00\", \"11:30\"], [\"12:30\", \"14:30\"], [\"14:30\", \"15:00\"], [\"16:00\", \"17:00\"]]\n",
    "daily_bounds1 = [\"9:00\", \"20:00\"]\n",
    "daily_bounds2 = [\"10:00\", \"18:30\"]\n",
    "meeting_duration = 30\n",
    "print(calendar_matching(calendar1, daily_bounds1, calendar2, daily_bounds2, meeting_duration))"
   ]
  },
  {
   "cell_type": "code",
   "execution_count": null,
   "metadata": {},
   "outputs": [],
   "source": []
  }
 ],
 "metadata": {
  "kernelspec": {
   "display_name": "python3",
   "language": "python",
   "name": "python3"
  },
  "language_info": {
   "codemirror_mode": {
    "name": "ipython",
    "version": 3
   },
   "file_extension": ".py",
   "mimetype": "text/x-python",
   "name": "python",
   "nbconvert_exporter": "python",
   "pygments_lexer": "ipython3",
   "version": "3.8.3"
  }
 },
 "nbformat": 4,
 "nbformat_minor": 4
}
