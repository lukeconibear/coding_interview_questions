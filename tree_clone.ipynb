{
 "cells": [
  {
   "cell_type": "code",
   "execution_count": 2,
   "metadata": {},
   "outputs": [
    {
     "name": "stdout",
     "output_type": "stream",
     "text": [
      "4\n",
      "4\n"
     ]
    }
   ],
   "source": [
    "class Node:\n",
    "    def __init__(self, value, left=None, right=None):\n",
    "        self.value = value\n",
    "        self.left = left\n",
    "        self.right = right\n",
    "\n",
    "    def __repr__(self):\n",
    "        return f'{self.value}'\n",
    "\n",
    "class Solution:\n",
    "    def find_node1(self, node1, node2, node): # time O(n), space O(n)\n",
    "        if node1 == node:\n",
    "            return node2\n",
    "        \n",
    "        if node1.left and node2.left:\n",
    "            found = self.find_node1(node1.left, node2.left, node)\n",
    "            if found:\n",
    "                return found\n",
    "            \n",
    "        if node1.right and node2.right:\n",
    "            found = self.find_node1(node1.right, node2.right, node)\n",
    "            if found:\n",
    "                return found\n",
    "            \n",
    "        return None\n",
    "\n",
    "    def find_node2(self, node1, node2, node): # time O(n), space O(n)\n",
    "        stack = [(node1, node2)]\n",
    "        while len(stack):\n",
    "            (node1, node2) = stack.pop()\n",
    "            if node1 == node:\n",
    "                return node2\n",
    "            \n",
    "            if node1.left and node2.left:\n",
    "                stack.append((node1.left, node2.left))\n",
    "                \n",
    "            if node2.right and node2.right:\n",
    "                stack.append((node1.right, node2.right))\n",
    "                \n",
    "        return None\n",
    "\n",
    "node1 = Node(1)\n",
    "node1.left = Node(2)\n",
    "node1.right = Node(3)\n",
    "node1.right.left = Node(4)\n",
    "node1.right.right = Node(5)\n",
    "#  1\n",
    "# / \\\n",
    "#2   3\n",
    "#   / \\\n",
    "#  4*  5\n",
    "\n",
    "node2 = Node(1)\n",
    "node2.left = Node(2)\n",
    "node2.right = Node(3)\n",
    "node2.right.left = Node(4)\n",
    "node2.right.right = Node(5)\n",
    "\n",
    "print(Solution().find_node1(node1, node2, node1.right.left))\n",
    "print(Solution().find_node2(node1, node2, node1.right.left))\n",
    "# 4"
   ]
  },
  {
   "cell_type": "code",
   "execution_count": null,
   "metadata": {},
   "outputs": [],
   "source": []
  }
 ],
 "metadata": {
  "kernelspec": {
   "display_name": "python3",
   "language": "python",
   "name": "python3"
  },
  "language_info": {
   "codemirror_mode": {
    "name": "ipython",
    "version": 3
   },
   "file_extension": ".py",
   "mimetype": "text/x-python",
   "name": "python",
   "nbconvert_exporter": "python",
   "pygments_lexer": "ipython3",
   "version": "3.8.3"
  }
 },
 "nbformat": 4,
 "nbformat_minor": 4
}
