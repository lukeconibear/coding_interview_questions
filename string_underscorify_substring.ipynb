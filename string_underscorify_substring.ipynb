{
 "cells": [
  {
   "cell_type": "code",
   "execution_count": 7,
   "metadata": {},
   "outputs": [
    {
     "name": "stdout",
     "output_type": "stream",
     "text": [
      "_abc_def _abc_ def _abc_de bcd _abcabc_ ab_abc_\n"
     ]
    }
   ],
   "source": [
    "def underscorify_substring(string, substring): # time O(n + m) where n is the string and m is the substring, space O(n)\n",
    "    locations = collapse(get_locations(string, substring))\n",
    "    return underscorify(string, locations)\n",
    "\n",
    "def get_locations(string, substring):\n",
    "    locations = []\n",
    "    start_index = 0\n",
    "    while start_index < len(string):\n",
    "        next_index = string.find(substring, start_index)\n",
    "        if next_index != -1:\n",
    "            locations.append([next_index, next_index + len(substring)])\n",
    "            start_index = next_index + 1\n",
    "        else:\n",
    "            break\n",
    "    return locations\n",
    "\n",
    "def collapse(locations):\n",
    "    if not len(locations):\n",
    "        return locations\n",
    "    new_locations = [locations[0]]\n",
    "    previous = new_locations[0]\n",
    "    for index in range(1, len(locations)):\n",
    "        current = locations[index]\n",
    "        if current[0] <= previous[1]:\n",
    "            previous[1] = current[1]\n",
    "        else:\n",
    "            new_locations.append(current)\n",
    "            previous = current\n",
    "    return new_locations\n",
    "\n",
    "def underscorify(string, locations):\n",
    "    locations_index = 0\n",
    "    string_index = 0\n",
    "    in_between_underscores = False\n",
    "    final_chars = []\n",
    "    index = 0\n",
    "    while string_index < len(string) and locations_index < len(locations):\n",
    "        if string_index == locations[locations_index][index]:\n",
    "            final_chars.append('_')\n",
    "            in_between_underscores = not in_between_underscores\n",
    "            if not in_between_underscores:\n",
    "                locations_index += 1\n",
    "            index = 0 if index == 1 else 1\n",
    "        final_chars.append(string[string_index])\n",
    "        string_index += 1\n",
    "    if locations_index < len(locations):\n",
    "        final_chars.append('_')\n",
    "    elif string_index < len(string):\n",
    "        final_chars.append(string[string_index:])\n",
    "    return ''.join(final_chars)\n",
    "\n",
    "\n",
    "print(underscorify_substring('abcdef abc def abcde bcd abcabc ababc', 'abc'))"
   ]
  },
  {
   "cell_type": "code",
   "execution_count": null,
   "metadata": {},
   "outputs": [],
   "source": []
  }
 ],
 "metadata": {
  "kernelspec": {
   "display_name": "python3",
   "language": "python",
   "name": "python3"
  },
  "language_info": {
   "codemirror_mode": {
    "name": "ipython",
    "version": 3
   },
   "file_extension": ".py",
   "mimetype": "text/x-python",
   "name": "python",
   "nbconvert_exporter": "python",
   "pygments_lexer": "ipython3",
   "version": "3.8.3"
  }
 },
 "nbformat": 4,
 "nbformat_minor": 4
}
