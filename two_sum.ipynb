{
 "cells": [
  {
   "cell_type": "code",
   "execution_count": 1,
   "metadata": {},
   "outputs": [
    {
     "name": "stdout",
     "output_type": "stream",
     "text": [
      "[1, 2]\n",
      "[2, 1]\n"
     ]
    }
   ],
   "source": [
    "# techlead - return indicies\n",
    "class Solution(object): # nested loops, time O(n2), space O(1)\n",
    "    def twoSum(self, nums, target):\n",
    "        for index1, num1 in enumerate(nums):\n",
    "            for index2, num2 in enumerate(nums):\n",
    "                if num1 == num2:\n",
    "                    continue\n",
    "                if num1 + num2 == target:\n",
    "                    return [index1, index2]\n",
    "        return []\n",
    "\n",
    "    def twoSumB(self, nums, target): # time O(n), space O(n)\n",
    "        values = {}\n",
    "        for index, num in enumerate(nums):\n",
    "            diff = target - num\n",
    "            if diff in values:\n",
    "                return [index, values[diff]]\n",
    "            values[num] = index\n",
    "        return []\n",
    "    \n",
    "print(Solution().twoSum([2, 7, 11, 15], 18))\n",
    "print(Solution().twoSumB([2, 7, 11, 15], 18))"
   ]
  },
  {
   "cell_type": "code",
   "execution_count": 6,
   "metadata": {},
   "outputs": [
    {
     "name": "stdout",
     "output_type": "stream",
     "text": [
      "[11, 7]\n",
      "[7, 11]\n"
     ]
    }
   ],
   "source": [
    "# algoexpert - return values\n",
    "def twoNumberSum(array, targetSum): # time O(n), space O(n)\n",
    "    values = {}\n",
    "    for index, num in enumerate(array):\n",
    "        diff = targetSum - num\n",
    "        if diff in values:\n",
    "            return [num, diff]\n",
    "        values[num] = diff # retrieving values from hash table is constant time\n",
    "    return []\n",
    "\n",
    "\n",
    "def twoNumberSumB(array, targetSum): # time O(nlogn), space O(1)\n",
    "    array.sort() # sorting takes nlogn time\n",
    "    left = 0 # may need to run through whole array which is n time (still less than nlogn)\n",
    "    right = len(array) - 1\n",
    "    while left < right:\n",
    "        currentSum = array[left] + array[right]\n",
    "        if currentSum == targetSum:\n",
    "            return [array[left], array[right]]\n",
    "        elif currentSum < targetSum:\n",
    "            left += 1\n",
    "        elif currentSum > targetSum:\n",
    "            right -= 1\n",
    "    return []\n",
    "\n",
    "print(twoNumberSum([2, 7, 11, 15], 18))\n",
    "print(twoNumberSumB([2, 7, 11, 15], 18))"
   ]
  },
  {
   "cell_type": "code",
   "execution_count": null,
   "metadata": {},
   "outputs": [],
   "source": []
  }
 ],
 "metadata": {
  "kernelspec": {
   "display_name": "python3",
   "language": "python",
   "name": "python3"
  },
  "language_info": {
   "codemirror_mode": {
    "name": "ipython",
    "version": 3
   },
   "file_extension": ".py",
   "mimetype": "text/x-python",
   "name": "python",
   "nbconvert_exporter": "python",
   "pygments_lexer": "ipython3",
   "version": "3.8.3"
  }
 },
 "nbformat": 4,
 "nbformat_minor": 4
}
