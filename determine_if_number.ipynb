{
 "cells": [
  {
   "cell_type": "code",
   "execution_count": 1,
   "metadata": {},
   "outputs": [
    {
     "name": "stdout",
     "output_type": "stream",
     "text": [
      "True\n",
      "False\n"
     ]
    }
   ],
   "source": [
    "from enum import Enum\n",
    "\n",
    "\n",
    "class DigitState(Enum):\n",
    "  BEGIN = 0\n",
    "  NEGATIVE1 = 1\n",
    "  DIGIT1 = 2\n",
    "  DOT = 3\n",
    "  DIGIT2 = 4\n",
    "  E = 5\n",
    "  NEGATIVE2 = 6\n",
    "  DIGIT3 = 7\n",
    "\n",
    "\n",
    "STATE_VALIDATOR = {\n",
    "    DigitState.BEGIN: lambda x: True,\n",
    "    DigitState.DIGIT1: lambda x: x.isdigit(),\n",
    "    DigitState.NEGATIVE1: lambda x: x == '-',\n",
    "    DigitState.DIGIT2: lambda x: x.isdigit(),\n",
    "    DigitState.DOT: lambda x: x == '.',\n",
    "    DigitState.E: lambda x: x == 'e',\n",
    "    DigitState.NEGATIVE2: lambda x: x == '-',\n",
    "    DigitState.DIGIT3: lambda x: x.isdigit(),\n",
    "}\n",
    "\n",
    "NEXT_STATES_MAP = {\n",
    "    DigitState.BEGIN: [DigitState.NEGATIVE1, DigitState.DIGIT1],\n",
    "    DigitState.NEGATIVE1: [DigitState.DIGIT1, DigitState.DOT],\n",
    "    DigitState.DIGIT1: [DigitState.DIGIT1, DigitState.DOT, DigitState.E],\n",
    "    DigitState.DOT: [DigitState.DIGIT2],\n",
    "    DigitState.DIGIT2: [DigitState.DIGIT2, DigitState.E],\n",
    "    DigitState.NEGATIVE2: [DigitState.DIGIT3],\n",
    "    DigitState.DIGIT3: [DigitState.DIGIT3],\n",
    "}\n",
    "\n",
    "\n",
    "def parse_number(str): # time O(n), space O(1)\n",
    "  state = DigitState.BEGIN\n",
    "\n",
    "  for c in str:\n",
    "    found = False\n",
    "    for next_state in NEXT_STATES_MAP[state]:\n",
    "      if STATE_VALIDATOR[next_state](c):\n",
    "        state = next_state\n",
    "        found = True\n",
    "        break\n",
    "    if not found:\n",
    "      return False\n",
    "\n",
    "  return state in [DigitState.DIGIT1, DigitState.DIGIT2, DigitState.DIGIT3]\n",
    "\n",
    "\n",
    "print(parse_number('12.3'))\n",
    "# True\n",
    "\n",
    "print(parse_number('12a'))\n",
    "# False"
   ]
  },
  {
   "cell_type": "code",
   "execution_count": 28,
   "metadata": {},
   "outputs": [
    {
     "name": "stdout",
     "output_type": "stream",
     "text": [
      "False\n"
     ]
    }
   ],
   "source": [
    "print(parse_number('1.2E4'))"
   ]
  },
  {
   "cell_type": "code",
   "execution_count": null,
   "metadata": {},
   "outputs": [],
   "source": []
  }
 ],
 "metadata": {
  "kernelspec": {
   "display_name": "python3",
   "language": "python",
   "name": "python3"
  },
  "language_info": {
   "codemirror_mode": {
    "name": "ipython",
    "version": 3
   },
   "file_extension": ".py",
   "mimetype": "text/x-python",
   "name": "python",
   "nbconvert_exporter": "python",
   "pygments_lexer": "ipython3",
   "version": "3.8.3"
  }
 },
 "nbformat": 4,
 "nbformat_minor": 4
}
