{
 "cells": [
  {
   "cell_type": "code",
   "execution_count": 7,
   "metadata": {},
   "outputs": [
    {
     "name": "stdout",
     "output_type": "stream",
     "text": [
      "2\n"
     ]
    }
   ],
   "source": [
    "def numbers_in_pi(pi, numbers): # time O(n^3 + m), space O(n + m)\n",
    "    numbers_table = {number: True for number in numbers}\n",
    "    min_spaces = get_min_spaces(pi, numbers_table, {}, 0)\n",
    "    return -1 if min_spaces == float('inf') else min_spaces\n",
    "\n",
    "def get_min_spaces(pi, numbers_table, cache, starting_index):\n",
    "    if starting_index == len(pi):\n",
    "        return -1\n",
    "    if starting_index in cache:\n",
    "        return cache[starting_index]\n",
    "    min_spaces = float('inf')\n",
    "    for index in range(starting_index, len(pi)):\n",
    "        prefix = pi[starting_index:index + 1]\n",
    "        if prefix in numbers_table:\n",
    "            min_spaces_in_suffix = get_min_spaces(pi, numbers_table, cache, index + 1)\n",
    "            min_spaces = min(min_spaces, min_spaces_in_suffix + 1)\n",
    "    cache[starting_index] = min_spaces\n",
    "    return cache[starting_index]\n",
    "    \n",
    "\n",
    "print(numbers_in_pi(\n",
    "    \"3141592\",\n",
    "    [\"3141\", \"5\", \"9\", \"2\", \"31\", \"42\", '4159']\n",
    "))"
   ]
  },
  {
   "cell_type": "code",
   "execution_count": null,
   "metadata": {},
   "outputs": [],
   "source": []
  }
 ],
 "metadata": {
  "kernelspec": {
   "display_name": "python3",
   "language": "python",
   "name": "python3"
  },
  "language_info": {
   "codemirror_mode": {
    "name": "ipython",
    "version": 3
   },
   "file_extension": ".py",
   "mimetype": "text/x-python",
   "name": "python",
   "nbconvert_exporter": "python",
   "pygments_lexer": "ipython3",
   "version": "3.8.3"
  }
 },
 "nbformat": 4,
 "nbformat_minor": 4
}
