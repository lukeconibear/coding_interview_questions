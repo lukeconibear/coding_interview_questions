{
 "cells": [
  {
   "cell_type": "code",
   "execution_count": 1,
   "metadata": {},
   "outputs": [
    {
     "name": "stdout",
     "output_type": "stream",
     "text": [
      "[4, 1, 3, 2]\n"
     ]
    }
   ],
   "source": [
    "class JobGraph:\n",
    "    def __init__(self, jobs):\n",
    "        self.nodes = []\n",
    "        self.graph = {}\n",
    "        for job in jobs:\n",
    "            self.add_node(job)\n",
    "            \n",
    "    def add_node(self, job):\n",
    "        self.graph[job] = JobNode(job)\n",
    "        self.nodes.append(self.graph[job])\n",
    "        \n",
    "    def add_prereq(self, job, prereq):\n",
    "        job_node = self.get_node(job)\n",
    "        prereq_node = self.get_node(prereq)\n",
    "        job_node.prereqs.append(prereq_node)\n",
    "        \n",
    "    def get_node(self, job):\n",
    "        if job not in self.graph:\n",
    "            self.add_node(job)\n",
    "        return self.graph[job]\n",
    "        \n",
    "class JobNode:\n",
    "    def __init__(self, job):\n",
    "        self.job = job\n",
    "        self.prereqs = []\n",
    "        self.visited = False\n",
    "        self.visiting = False\n",
    "\n",
    "class Solution:\n",
    "    def topological_sort(self, jobs, deps): # time O(jobs + deps), space O(jobs + deps)\n",
    "        job_graph = self.create_job_graph(jobs, deps)\n",
    "        return self.get_ordered_jobs(job_graph)\n",
    "\n",
    "    def create_job_graph(self, jobs, deps):\n",
    "        graph = JobGraph(jobs)\n",
    "        for prereq, job in deps:\n",
    "            graph.add_prereq(job, prereq)\n",
    "        return graph\n",
    "\n",
    "    def get_ordered_jobs(self, graph):\n",
    "        ordered_jobs = []\n",
    "        nodes = graph.nodes\n",
    "        while len(nodes):\n",
    "            node = nodes.pop()\n",
    "            contains_cycle = self.depth_first_traverse(node, ordered_jobs)\n",
    "            if contains_cycle:\n",
    "                return []\n",
    "        return ordered_jobs\n",
    "\n",
    "    def depth_first_traverse(self, node, ordered_jobs):\n",
    "        if node.visited:\n",
    "            return False\n",
    "        if node.visiting:\n",
    "            return True\n",
    "        node.visiting = True\n",
    "        for prereq_node in node.prereqs:\n",
    "            contains_cycle = self.depth_first_traverse(prereq_node, ordered_jobs)\n",
    "            if contains_cycle:\n",
    "                return True\n",
    "        node.visited = True\n",
    "        node.visiting = False\n",
    "        ordered_jobs.append(node.job)\n",
    "        \n",
    "        \n",
    "jobs = [1, 2, 3, 4]\n",
    "deps = [[1, 2], [1, 3], [3, 2], [4, 2], [4, 3]]\n",
    "print(Solution().topological_sort(jobs, deps))\n",
    "# [4, 1, 3, 2]"
   ]
  },
  {
   "cell_type": "code",
   "execution_count": null,
   "metadata": {},
   "outputs": [],
   "source": []
  }
 ],
 "metadata": {
  "kernelspec": {
   "display_name": "python3",
   "language": "python",
   "name": "python3"
  },
  "language_info": {
   "codemirror_mode": {
    "name": "ipython",
    "version": 3
   },
   "file_extension": ".py",
   "mimetype": "text/x-python",
   "name": "python",
   "nbconvert_exporter": "python",
   "pygments_lexer": "ipython3",
   "version": "3.8.3"
  }
 },
 "nbformat": 4,
 "nbformat_minor": 4
}
