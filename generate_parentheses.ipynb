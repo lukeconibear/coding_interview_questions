{
 "cells": [
  {
   "cell_type": "code",
   "execution_count": 2,
   "metadata": {},
   "outputs": [
    {
     "name": "stdout",
     "output_type": "stream",
     "text": [
      "['((()))', '(()())', '(())()', '()(())', '()()()']\n"
     ]
    }
   ],
   "source": [
    "class Solution:\n",
    "    def genParens(self, num): # time O(2^n), space O(2^n)\n",
    "        return self._genParensHelper(num, 0, 0, '')\n",
    "    \n",
    "    def _genParensHelper(self, num, left, right, string):\n",
    "        if left + right == 2 * num:\n",
    "            return [string]\n",
    "\n",
    "        result = []\n",
    "        if left < num:\n",
    "            result += self._genParensHelper(num, left + 1, right, string + '(')\n",
    "\n",
    "        if right < left:\n",
    "            result += self._genParensHelper(num, left, right + 1, string + ')')\n",
    "            \n",
    "        return result\n",
    "\n",
    "\n",
    "print(Solution().genParens(3))\n",
    "# ['((()))', '(()())', '(())()', '()(())', '()()()']"
   ]
  },
  {
   "cell_type": "code",
   "execution_count": null,
   "metadata": {},
   "outputs": [],
   "source": []
  }
 ],
 "metadata": {
  "kernelspec": {
   "display_name": "python3",
   "language": "python",
   "name": "python3"
  },
  "language_info": {
   "codemirror_mode": {
    "name": "ipython",
    "version": 3
   },
   "file_extension": ".py",
   "mimetype": "text/x-python",
   "name": "python",
   "nbconvert_exporter": "python",
   "pygments_lexer": "ipython3",
   "version": "3.8.3"
  }
 },
 "nbformat": 4,
 "nbformat_minor": 4
}
