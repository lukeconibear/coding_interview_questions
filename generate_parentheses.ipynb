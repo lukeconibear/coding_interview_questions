{
 "cells": [
  {
   "cell_type": "code",
   "execution_count": 1,
   "metadata": {},
   "outputs": [
    {
     "name": "stdout",
     "output_type": "stream",
     "text": [
      "['((()))', '(()())', '(())()', '()(())', '()()()']\n"
     ]
    }
   ],
   "source": [
    "class Solution(object):\n",
    "  def _genParensHelper(self, n, left, right, str):\n",
    "    if left + right == 2 * n:\n",
    "      return [str]\n",
    "\n",
    "    result = []\n",
    "    if left < n:\n",
    "      result += self._genParensHelper(n, left + 1, right, str+'(')\n",
    "\n",
    "    if right < left:\n",
    "      result += self._genParensHelper(n, left, right + 1, str+')')\n",
    "    return result\n",
    "\n",
    "  def genParens(self, n): # time O(< 2**n), space O(same)\n",
    "    return self._genParensHelper(n, 0, 0, '')\n",
    "\n",
    "\n",
    "print(Solution().genParens(3))\n",
    "# ['((()))', '(()())', '(())()', '()(())', '()()()']"
   ]
  },
  {
   "cell_type": "code",
   "execution_count": null,
   "metadata": {},
   "outputs": [],
   "source": []
  }
 ],
 "metadata": {
  "kernelspec": {
   "display_name": "python3",
   "language": "python",
   "name": "python3"
  },
  "language_info": {
   "codemirror_mode": {
    "name": "ipython",
    "version": 3
   },
   "file_extension": ".py",
   "mimetype": "text/x-python",
   "name": "python",
   "nbconvert_exporter": "python",
   "pygments_lexer": "ipython3",
   "version": "3.8.3"
  }
 },
 "nbformat": 4,
 "nbformat_minor": 4
}
