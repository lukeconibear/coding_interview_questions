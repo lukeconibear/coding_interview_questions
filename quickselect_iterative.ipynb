{
 "cells": [
  {
   "cell_type": "code",
   "execution_count": 1,
   "metadata": {},
   "outputs": [],
   "source": [
    "import heapq\n",
    "\n",
    "def findKthLargest(arr, k): # time O(n2), space O()\n",
    "  for i in range(0, k):\n",
    "    (max_value, max_index) = (arr[0], 0)\n",
    "    for j in range(0, len(arr)):\n",
    "      if max_value < arr[j]:\n",
    "        (max_value, max_index) = arr[j], j\n",
    "    arr = arr[:max_index] + arr[max_index + 1:]\n",
    "  for j in range(0, len(arr)):\n",
    "    if max_value < arr[j]:\n",
    "      (max_value, max_index) = arr[j], j\n",
    "  return max_value\n",
    "\n",
    "\n",
    "def findKthLargest2(arr, k): # time O(nlogn), space O()\n",
    "  return sorted(arr)[-k]\n",
    "\n",
    "\n",
    "def findKthLargest3(arr, k): # time O(logn), space O()\n",
    "  arr = list(map(lambda x: -x, arr))\n",
    "  heapq.heapify(arr)\n",
    "  for i in range(0, k - 1):\n",
    "    heapq.heappop(arr)\n",
    "  return -arr[0]\n",
    "\n",
    "\n",
    "def partition(arr, low, high): \n",
    "  pivot = arr[high]\n",
    "  i = low\n",
    "  for j in range(low, high):\n",
    "    if arr[j] <= pivot:\n",
    "      arr[i], arr[j] = arr[j], arr[i]\n",
    "      i += 1\n",
    "  arr[i], arr[high] = arr[high], arr[i]\n",
    "  return i\n",
    "\n",
    "\n",
    "def quickselect(arr, k): # time O(n), space O()\n",
    "  k = len(arr) - k\n",
    "  left = 0\n",
    "  right = len(arr) - 1\n",
    "\n",
    "  while left <= right:\n",
    "    pivotIndex = partition(arr, left, right)\n",
    "    if pivotIndex == k:\n",
    "      return arr[pivotIndex]\n",
    "    elif pivotIndex > k:\n",
    "      right = pivotIndex - 1\n",
    "    else:\n",
    "      left = pivotIndex + 1\n",
    "  return -1"
   ]
  },
  {
   "cell_type": "code",
   "execution_count": 3,
   "metadata": {},
   "outputs": [
    {
     "name": "stdout",
     "output_type": "stream",
     "text": [
      "7\n",
      "7\n",
      "7\n",
      "7\n"
     ]
    }
   ],
   "source": [
    "print(findKthLargest([8, 7, 2, 3, 4, 1, 5, 6, 9, 0], 3))\n",
    "print(findKthLargest2([8, 7, 2, 3, 4, 1, 5, 6, 9, 0], 3))\n",
    "print(findKthLargest3([8, 7, 2, 3, 4, 1, 5, 6, 9, 0], 3))\n",
    "print(quickselect([8, 7, 2, 3, 4, 1, 5, 6, 9, 0], 3))"
   ]
  },
  {
   "cell_type": "code",
   "execution_count": null,
   "metadata": {},
   "outputs": [],
   "source": []
  }
 ],
 "metadata": {
  "kernelspec": {
   "display_name": "python3",
   "language": "python",
   "name": "python3"
  },
  "language_info": {
   "codemirror_mode": {
    "name": "ipython",
    "version": 3
   },
   "file_extension": ".py",
   "mimetype": "text/x-python",
   "name": "python",
   "nbconvert_exporter": "python",
   "pygments_lexer": "ipython3",
   "version": "3.8.3"
  }
 },
 "nbformat": 4,
 "nbformat_minor": 4
}
