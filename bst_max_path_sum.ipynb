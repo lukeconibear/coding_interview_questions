{
 "cells": [
  {
   "cell_type": "code",
   "execution_count": 14,
   "metadata": {},
   "outputs": [
    {
     "name": "stdout",
     "output_type": "stream",
     "text": [
      "1 2 4 None None 5 None None 3 6 None None 7 None None\n",
      "18\n"
     ]
    }
   ],
   "source": [
    "class Node(object):\n",
    "    def __init__(self, value, left=None, right=None):\n",
    "        self.value = value\n",
    "        self.left = left\n",
    "        self.right = right\n",
    "        \n",
    "    def __repr__(self):\n",
    "        return f'{self.value} {self.left} {self.right}'\n",
    "    \n",
    "    \n",
    "def max_path_sum(node): # time O(n), space O(lgn)\n",
    "    _, max_path_sum = find_max_path_sum(node)\n",
    "    return max_path_sum\n",
    "\n",
    "def find_max_path_sum(node):\n",
    "    if node is None:\n",
    "        return (0, float('-inf'))\n",
    "    \n",
    "    left_max_path_sum_as_branch, left_max_path_sum = find_max_path_sum(node.left)\n",
    "    right_max_path_sum_as_branch, right_max_path_sum = find_max_path_sum(node.right)\n",
    "    child_max_path_sum_as_branch = max(left_max_path_sum_as_branch, right_max_path_sum_as_branch)\n",
    "    \n",
    "    max_path_sum_as_branch = max(child_max_path_sum_as_branch + node.value, node.value)\n",
    "    max_path_sum_as_root_node = max(left_max_path_sum_as_branch + node.value + right_max_path_sum_as_branch, max_path_sum_as_branch)\n",
    "    max_path_sum = max(left_max_path_sum, right_max_path_sum, max_path_sum_as_root_node)\n",
    "    \n",
    "    return (max_path_sum_as_branch, max_path_sum)\n",
    "\n",
    "    \n",
    "node = Node(1)\n",
    "node.left = Node(2)\n",
    "node.left.left = Node(4)\n",
    "node.left.right = Node(5)\n",
    "node.right = Node(3)\n",
    "node.right.left = Node(6)\n",
    "node.right.right = Node(7)\n",
    "\n",
    "print(node)\n",
    "print(max_path_sum(node))"
   ]
  },
  {
   "cell_type": "code",
   "execution_count": null,
   "metadata": {},
   "outputs": [],
   "source": []
  }
 ],
 "metadata": {
  "kernelspec": {
   "display_name": "python3",
   "language": "python",
   "name": "python3"
  },
  "language_info": {
   "codemirror_mode": {
    "name": "ipython",
    "version": 3
   },
   "file_extension": ".py",
   "mimetype": "text/x-python",
   "name": "python",
   "nbconvert_exporter": "python",
   "pygments_lexer": "ipython3",
   "version": "3.8.3"
  }
 },
 "nbformat": 4,
 "nbformat_minor": 4
}
