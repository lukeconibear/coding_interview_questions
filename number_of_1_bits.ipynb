{
 "cells": [
  {
   "cell_type": "code",
   "execution_count": 5,
   "metadata": {},
   "outputs": [
    {
     "name": "stdout",
     "output_type": "stream",
     "text": [
      "4\n"
     ]
    }
   ],
   "source": [
    "# count how many one bits are there\n",
    "\n",
    "def one_bits(n): # time O(lgn as dividing by 2 each time), space O(1)\n",
    "  count = 0\n",
    "  while n > 0:\n",
    "    if n & 1:# if any value is 1 then\n",
    "      count = count + 1\n",
    "    n = n >> 1\n",
    "  return count\n",
    "\n",
    "print(one_bits(23))\n",
    "# 10111"
   ]
  },
  {
   "cell_type": "raw",
   "metadata": {},
   "source": [
    "<< left shift then * 2 = 46 as 101110 which is 32+8+4+2\n",
    ">> right shift then / 2 = 11 as 1011 which is 8+2+1"
   ]
  }
 ],
 "metadata": {
  "kernelspec": {
   "display_name": "python3",
   "language": "python",
   "name": "python3"
  },
  "language_info": {
   "codemirror_mode": {
    "name": "ipython",
    "version": 3
   },
   "file_extension": ".py",
   "mimetype": "text/x-python",
   "name": "python",
   "nbconvert_exporter": "python",
   "pygments_lexer": "ipython3",
   "version": "3.8.3"
  }
 },
 "nbformat": 4,
 "nbformat_minor": 4
}
