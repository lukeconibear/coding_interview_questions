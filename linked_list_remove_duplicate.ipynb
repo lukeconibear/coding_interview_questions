{
 "cells": [
  {
   "cell_type": "code",
   "execution_count": 4,
   "metadata": {},
   "outputs": [
    {
     "name": "stdout",
     "output_type": "stream",
     "text": [
      "(1, (2, (2, (3, (3, None)))))\n",
      "(1, (2, (3, None)))\n"
     ]
    }
   ],
   "source": [
    "class Node:\n",
    "    def __init__(self, value, next=None):\n",
    "        self.value = value\n",
    "        self.next = next\n",
    "\n",
    "    def __repr__(self):\n",
    "        return f\"({self.value}, {self.next})\"\n",
    "\n",
    "class Solution:\n",
    "    def remove_duplicates(self, node):\n",
    "        curr = node\n",
    "        while curr and curr.next:\n",
    "            if curr.value == curr.next.value:\n",
    "                curr.next = curr.next.next\n",
    "            else:\n",
    "                curr = curr.next\n",
    "\n",
    "\n",
    "node = Node(1)\n",
    "node.next = Node(2)\n",
    "node.next.next = Node(2)\n",
    "node.next.next.next = Node(3)\n",
    "node.next.next.next.next = Node(3)\n",
    "\n",
    "print(node)\n",
    "Solution().remove_duplicates(node)\n",
    "print(node)\n",
    "# (1, (2, (3, None)))"
   ]
  },
  {
   "cell_type": "code",
   "execution_count": null,
   "metadata": {},
   "outputs": [],
   "source": []
  }
 ],
 "metadata": {
  "kernelspec": {
   "display_name": "python3",
   "language": "python",
   "name": "python3"
  },
  "language_info": {
   "codemirror_mode": {
    "name": "ipython",
    "version": 3
   },
   "file_extension": ".py",
   "mimetype": "text/x-python",
   "name": "python",
   "nbconvert_exporter": "python",
   "pygments_lexer": "ipython3",
   "version": "3.8.3"
  }
 },
 "nbformat": 4,
 "nbformat_minor": 4
}
