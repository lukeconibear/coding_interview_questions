{
 "cells": [
  {
   "cell_type": "code",
   "execution_count": 1,
   "metadata": {},
   "outputs": [
    {
     "name": "stdout",
     "output_type": "stream",
     "text": [
      "True\n",
      "False\n"
     ]
    }
   ],
   "source": [
    "from collections import defaultdict\n",
    "\n",
    "class Solution:\n",
    "    def canSpell(self, magazine, note): # time O(n), space O(n)\n",
    "        letters = defaultdict(int)\n",
    "        for character in magazine:\n",
    "            letters[character] += 1\n",
    "            \n",
    "        for character in note:\n",
    "            if letters[character] <= 0:\n",
    "                return False\n",
    "            letters[character] -= 1\n",
    "                                \n",
    "        return True\n",
    "    \n",
    "    \n",
    "print(Solution().canSpell(['a', 'b', 'c', 'd', 'e', 'f'], 'bed'))\n",
    "# True\n",
    "print(Solution().canSpell(['a', 'b', 'c', 'd', 'e', 'f'], 'cat'))\n",
    "# False"
   ]
  },
  {
   "cell_type": "code",
   "execution_count": null,
   "metadata": {},
   "outputs": [],
   "source": []
  }
 ],
 "metadata": {
  "kernelspec": {
   "display_name": "python3",
   "language": "python",
   "name": "python3"
  },
  "language_info": {
   "codemirror_mode": {
    "name": "ipython",
    "version": 3
   },
   "file_extension": ".py",
   "mimetype": "text/x-python",
   "name": "python",
   "nbconvert_exporter": "python",
   "pygments_lexer": "ipython3",
   "version": "3.8.3"
  }
 },
 "nbformat": 4,
 "nbformat_minor": 4
}
