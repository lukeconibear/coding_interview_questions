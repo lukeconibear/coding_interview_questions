{
 "cells": [
  {
   "cell_type": "code",
   "execution_count": 5,
   "metadata": {},
   "outputs": [
    {
     "name": "stdout",
     "output_type": "stream",
     "text": [
      "6\n"
     ]
    }
   ],
   "source": [
    "def longest_peak(array): # time O(n), space O(1)\n",
    "    longest_peak_length = 0\n",
    "    index = 1\n",
    "    while index < len(array) - 1:\n",
    "        is_peak = array[index - 1] < array[index] and array[index] > array[index + 1]\n",
    "        if not is_peak:\n",
    "            index += 1\n",
    "            continue\n",
    "            \n",
    "        left_index = index - 2\n",
    "        while left_index >= 0 and array[left_index] < array[left_index + 1]:\n",
    "            left_index -= 1\n",
    "            \n",
    "        right_index = index + 2\n",
    "        while right_index < len(array) and array[right_index] < array[right_index - 1]:\n",
    "            right_index += 1\n",
    "            \n",
    "        current_peak_length = right_index - left_index - 1\n",
    "        longest_peak_length = max(longest_peak_length, current_peak_length)\n",
    "        index = right_index\n",
    "        \n",
    "    return longest_peak_length\n",
    "\n",
    "print(longest_peak([1,2,3,3,4,0,10,6,5,-1,-3,2,3]))"
   ]
  },
  {
   "cell_type": "code",
   "execution_count": null,
   "metadata": {},
   "outputs": [],
   "source": []
  }
 ],
 "metadata": {
  "kernelspec": {
   "display_name": "python3",
   "language": "python",
   "name": "python3"
  },
  "language_info": {
   "codemirror_mode": {
    "name": "ipython",
    "version": 3
   },
   "file_extension": ".py",
   "mimetype": "text/x-python",
   "name": "python",
   "nbconvert_exporter": "python",
   "pygments_lexer": "ipython3",
   "version": "3.8.3"
  }
 },
 "nbformat": 4,
 "nbformat_minor": 4
}
