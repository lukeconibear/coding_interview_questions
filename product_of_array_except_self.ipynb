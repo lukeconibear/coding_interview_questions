{
 "cells": [
  {
   "cell_type": "code",
   "execution_count": 5,
   "metadata": {},
   "outputs": [],
   "source": [
    "class Solution: # time O(n), space O(n)\n",
    "    def product_except_self(self, nums):\n",
    "        right = [1] * len(nums)\n",
    "        prod = 1\n",
    "        \n",
    "        for i in range(len(nums) - 2, -1, -1):\n",
    "            prod *= nums[i + 1]\n",
    "            right[i] = prod\n",
    "        \n",
    "        prod = 1\n",
    "        \n",
    "        for i in range(1, len(nums)):\n",
    "            prod *= nums[i - 1]\n",
    "            right[i] *= prod\n",
    "        \n",
    "        return right"
   ]
  },
  {
   "cell_type": "code",
   "execution_count": 6,
   "metadata": {},
   "outputs": [
    {
     "name": "stdout",
     "output_type": "stream",
     "text": [
      "[24, 12, 8, 6]\n"
     ]
    }
   ],
   "source": [
    "print(Solution().product_except_self([1, 2, 3, 4]))"
   ]
  },
  {
   "cell_type": "code",
   "execution_count": null,
   "metadata": {},
   "outputs": [],
   "source": []
  }
 ],
 "metadata": {
  "kernelspec": {
   "display_name": "python3",
   "language": "python",
   "name": "python3"
  },
  "language_info": {
   "codemirror_mode": {
    "name": "ipython",
    "version": 3
   },
   "file_extension": ".py",
   "mimetype": "text/x-python",
   "name": "python",
   "nbconvert_exporter": "python",
   "pygments_lexer": "ipython3",
   "version": "3.8.3"
  }
 },
 "nbformat": 4,
 "nbformat_minor": 4
}
