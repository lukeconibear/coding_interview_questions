{
 "cells": [
  {
   "cell_type": "code",
   "execution_count": 1,
   "metadata": {},
   "outputs": [
    {
     "name": "stdout",
     "output_type": "stream",
     "text": [
      "[123, 132, 213, 312, 321]\n"
     ]
    }
   ],
   "source": [
    "class Node:\n",
    "  def __init__(self, value, left=None, right=None):\n",
    "    self.value = value\n",
    "    self.left = left\n",
    "    self.right = right\n",
    "\n",
    "  def __repr__(self):\n",
    "    result = str(self.value)\n",
    "    if self.left:\n",
    "      result = result + str(self.left)\n",
    "    if self.right:\n",
    "      result = result + str(self.right)\n",
    "    return result\n",
    "\n",
    "\n",
    "def gen_tree(nums):\n",
    "  if len(nums) == 0:\n",
    "    return [None]\n",
    "  if len(nums) == 1:\n",
    "    return [Node(nums[0])]\n",
    "  bsts = []\n",
    "\n",
    "  for n in nums:\n",
    "    lefts = gen_tree(range(nums[0], n))\n",
    "    rights = gen_tree(range(n + 1, nums[-1] + 1))\n",
    "\n",
    "    for left in lefts:\n",
    "      for right in rights:\n",
    "        tree = Node(n, left, right)\n",
    "        bsts.append(tree)\n",
    "\n",
    "  return bsts\n",
    "\n",
    "\n",
    "def generate_bst(n): # time O(2^n number of trees, n time per tree creation), space O()\n",
    "  return gen_tree(range(1, n + 1))\n",
    "\n",
    "\n",
    "print(generate_bst(3))\n",
    "# 5 trees"
   ]
  },
  {
   "cell_type": "code",
   "execution_count": null,
   "metadata": {},
   "outputs": [],
   "source": []
  }
 ],
 "metadata": {
  "kernelspec": {
   "display_name": "python3",
   "language": "python",
   "name": "python3"
  },
  "language_info": {
   "codemirror_mode": {
    "name": "ipython",
    "version": 3
   },
   "file_extension": ".py",
   "mimetype": "text/x-python",
   "name": "python",
   "nbconvert_exporter": "python",
   "pygments_lexer": "ipython3",
   "version": "3.8.3"
  }
 },
 "nbformat": 4,
 "nbformat_minor": 4
}
