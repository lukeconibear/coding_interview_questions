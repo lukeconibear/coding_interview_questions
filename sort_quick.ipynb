{
 "cells": [
  {
   "cell_type": "code",
   "execution_count": 5,
   "metadata": {},
   "outputs": [
    {
     "name": "stdout",
     "output_type": "stream",
     "text": [
      "[2, 3, 3, 4, 4, 5, 6]\n"
     ]
    }
   ],
   "source": [
    "def quick_sort(array): # time O(nlgn, worst = n^2), space O(lgn)\n",
    "    _quick_sort_helper(array, 0, len(array) - 1)\n",
    "    return array\n",
    "\n",
    "def _quick_sort_helper(array, start_index, end_index):\n",
    "    if start_index >= end_index:\n",
    "        return\n",
    "    \n",
    "    pivot_index = start_index\n",
    "    left_index = start_index + 1\n",
    "    right_index  = end_index\n",
    "    while right_index >= left_index:\n",
    "        if array[left_index] > array[pivot_index] and array[right_index] < array[pivot_index]:\n",
    "            array[left_index], array[right_index] = array[right_index], array[left_index]\n",
    "        if array[left_index] <= array[pivot_index]:\n",
    "            left_index += 1\n",
    "        if array[right_index] >= array[pivot_index]:\n",
    "            right_index -= 1\n",
    "    array[pivot_index], array[right_index] = array[right_index], array[pivot_index]\n",
    "    left_subarray_size = right_index - 1 - start_index\n",
    "    right_subarray_size = end_index - (right_index + 1)\n",
    "    left_subarray_is_smaller = left_subarray_size < right_subarray_size\n",
    "    if left_subarray_is_smaller:\n",
    "        _quick_sort_helper(array, start_index, right_index - 1)\n",
    "        _quick_sort_helper(array, right_index + 1, end_index)\n",
    "    else:\n",
    "        _quick_sort_helper(array, right_index + 1, end_index)\n",
    "        _quick_sort_helper(array, start_index, right_index - 1)\n",
    "\n",
    "        \n",
    "print(quick_sort([4,5,3,6,3,4,2]))"
   ]
  },
  {
   "cell_type": "code",
   "execution_count": null,
   "metadata": {},
   "outputs": [],
   "source": []
  }
 ],
 "metadata": {
  "kernelspec": {
   "display_name": "python3",
   "language": "python",
   "name": "python3"
  },
  "language_info": {
   "codemirror_mode": {
    "name": "ipython",
    "version": 3
   },
   "file_extension": ".py",
   "mimetype": "text/x-python",
   "name": "python",
   "nbconvert_exporter": "python",
   "pygments_lexer": "ipython3",
   "version": "3.8.3"
  }
 },
 "nbformat": 4,
 "nbformat_minor": 4
}
