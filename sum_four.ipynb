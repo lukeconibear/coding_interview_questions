{
 "cells": [
  {
   "cell_type": "code",
   "execution_count": 11,
   "metadata": {},
   "outputs": [
    {
     "name": "stdout",
     "output_type": "stream",
     "text": [
      "[[0, 1, 2, -4], [-1, 1, 2, -3]]\n",
      "[[7, 6, 4, -1], [7, 6, 1, 2]]\n"
     ]
    }
   ],
   "source": [
    "def sum_four(array, target): # time O(n2) average O(n3) worst, space O(n2)\n",
    "    all_pair_sums = {}\n",
    "    results = []\n",
    "    for index1 in range(1, len(array) - 1):\n",
    "        for index2 in range(index1 + 1, len(array)):\n",
    "            total = array[index1] + array[index2]\n",
    "            diff = target - total\n",
    "            if diff in all_pair_sums:\n",
    "                for pair in all_pair_sums[diff]:\n",
    "                    results.append(pair + [array[index1], array[index2]])\n",
    "        for index3 in range(0, index1):\n",
    "            total = array[index1] + array[index3]\n",
    "            if total not in all_pair_sums:\n",
    "                all_pair_sums[total] = [[array[index3], array[index1]]]\n",
    "            else:\n",
    "                all_pair_sums[total].append([array[index3], array[index1]])\n",
    "    return results\n",
    "\n",
    "print(sum_four([-1, 0, 1, 2, -4, -3], -1))\n",
    "print(sum_four([7, 6, 4, -1, 1, 2], 16))"
   ]
  },
  {
   "cell_type": "code",
   "execution_count": null,
   "metadata": {},
   "outputs": [],
   "source": []
  }
 ],
 "metadata": {
  "kernelspec": {
   "display_name": "python3",
   "language": "python",
   "name": "python3"
  },
  "language_info": {
   "codemirror_mode": {
    "name": "ipython",
    "version": 3
   },
   "file_extension": ".py",
   "mimetype": "text/x-python",
   "name": "python",
   "nbconvert_exporter": "python",
   "pygments_lexer": "ipython3",
   "version": "3.8.3"
  }
 },
 "nbformat": 4,
 "nbformat_minor": 4
}
