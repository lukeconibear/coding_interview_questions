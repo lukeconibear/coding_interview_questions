{
 "cells": [
  {
   "cell_type": "code",
   "execution_count": 1,
   "metadata": {},
   "outputs": [
    {
     "name": "stdout",
     "output_type": "stream",
     "text": [
      "[3, 9]\n"
     ]
    }
   ],
   "source": [
    "def subarray_sort(array): # time O(n), space O(1)\n",
    "    min_out_of_order = float('inf')\n",
    "    max_out_of_order = float('-inf')\n",
    "    for index in range(len(array)):\n",
    "        num = array[index]\n",
    "        if is_out_of_order(index, num, array):\n",
    "            min_out_of_order = min(min_out_of_order, num)\n",
    "            max_out_of_order = max(max_out_of_order, num)\n",
    "    if min_out_of_order == float('inf'):\n",
    "        return [-1, -1]\n",
    "    subarray_left_index = 0\n",
    "    while min_out_of_order >= array[subarray_left_index]:\n",
    "        subarray_left_index += 1\n",
    "    subarray_right_index = len(array) - 1\n",
    "    while max_out_of_order <= array[subarray_right_index]:\n",
    "        subarray_right_index -= 1\n",
    "    return [subarray_left_index, subarray_right_index]\n",
    "\n",
    "def is_out_of_order(index, num, array):\n",
    "    if index == 0:\n",
    "        return num > array[index + 1]\n",
    "    if index == len(array) - 1:\n",
    "        return num < array[index - 1]\n",
    "    return num > array[index + 1] or num < array[index - 1]\n",
    "    \n",
    "\n",
    "print(subarray_sort([1,2,4,7,10,11,7,12,6,7,16,18,19]))"
   ]
  },
  {
   "cell_type": "code",
   "execution_count": null,
   "metadata": {},
   "outputs": [],
   "source": []
  }
 ],
 "metadata": {
  "kernelspec": {
   "display_name": "python3",
   "language": "python",
   "name": "python3"
  },
  "language_info": {
   "codemirror_mode": {
    "name": "ipython",
    "version": 3
   },
   "file_extension": ".py",
   "mimetype": "text/x-python",
   "name": "python",
   "nbconvert_exporter": "python",
   "pygments_lexer": "ipython3",
   "version": "3.8.3"
  }
 },
 "nbformat": 4,
 "nbformat_minor": 4
}
