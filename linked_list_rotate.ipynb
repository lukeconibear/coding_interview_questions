{
 "cells": [
  {
   "cell_type": "code",
   "execution_count": 4,
   "metadata": {},
   "outputs": [
    {
     "name": "stdout",
     "output_type": "stream",
     "text": [
      "(4, (5, (1, (2, (3, None)))))\n"
     ]
    }
   ],
   "source": [
    "class Node:\n",
    "    def __init__(self, value, next=None):\n",
    "        self.value = value\n",
    "        self.next = next\n",
    "\n",
    "    def __repr__(self):\n",
    "        return f\"({self.value}, {self.next})\"\n",
    "\n",
    "class Solution:\n",
    "    def rotate(self, node, rotations): # time O(2n), space O(1)\n",
    "        length = 0\n",
    "        curr = node\n",
    "        while curr != None: \n",
    "            curr = curr.next\n",
    "            length +=1\n",
    "            \n",
    "        rotations = rotations % length\n",
    "        slow, fast = node, node\n",
    "        for i in range(rotations): # move fast pointed first to get to the end of the new list\n",
    "            fast = fast.next\n",
    "            \n",
    "        while fast.next != None: # then keep moving them until fast reaches the end\n",
    "            slow = slow.next\n",
    "            fast = fast.next\n",
    "            \n",
    "        fast.next = node  \n",
    "        head = slow.next # now slow pointer at the head\n",
    "        slow.next = None\n",
    "        return head\n",
    "\n",
    "    \n",
    "node = Node(1)\n",
    "node.next = Node(2)\n",
    "node.next.next = Node(3)\n",
    "node.next.next.next = Node(4)\n",
    "node.next.next.next.next = Node(5)\n",
    "\n",
    "print(Solution().rotate(node, 12))\n",
    "# 4, 5, 1, 2, 3"
   ]
  },
  {
   "cell_type": "code",
   "execution_count": null,
   "metadata": {},
   "outputs": [],
   "source": []
  }
 ],
 "metadata": {
  "kernelspec": {
   "display_name": "python3",
   "language": "python",
   "name": "python3"
  },
  "language_info": {
   "codemirror_mode": {
    "name": "ipython",
    "version": 3
   },
   "file_extension": ".py",
   "mimetype": "text/x-python",
   "name": "python",
   "nbconvert_exporter": "python",
   "pygments_lexer": "ipython3",
   "version": "3.8.3"
  }
 },
 "nbformat": 4,
 "nbformat_minor": 4
}
