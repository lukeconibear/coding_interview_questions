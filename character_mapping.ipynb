{
 "cells": [
  {
   "cell_type": "code",
   "execution_count": 1,
   "metadata": {},
   "outputs": [
    {
     "name": "stdout",
     "output_type": "stream",
     "text": [
      "True\n",
      "False\n"
     ]
    }
   ],
   "source": [
    "def has_character_map(s1, s2): # time O(n), space O(n)\n",
    "  if len(s1) != len(s2):\n",
    "    return False\n",
    "\n",
    "  chars = {}\n",
    "  for i in range(len(s1)):\n",
    "    if s1[i] not in chars:\n",
    "      chars[s1[i]] = s2[i]\n",
    "    else:\n",
    "      if chars[s1[i]] != s2[i]:\n",
    "        return False\n",
    "  return True\n",
    "\n",
    "\n",
    "print(has_character_map('abc', 'def'))\n",
    "# True\n",
    "\n",
    "print(has_character_map('aac', 'def'))\n",
    "# False"
   ]
  }
 ],
 "metadata": {
  "kernelspec": {
   "display_name": "python3",
   "language": "python",
   "name": "python3"
  },
  "language_info": {
   "codemirror_mode": {
    "name": "ipython",
    "version": 3
   },
   "file_extension": ".py",
   "mimetype": "text/x-python",
   "name": "python",
   "nbconvert_exporter": "python",
   "pygments_lexer": "ipython3",
   "version": "3.8.3"
  }
 },
 "nbformat": 4,
 "nbformat_minor": 4
}
