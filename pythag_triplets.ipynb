{
 "cells": [
  {
   "cell_type": "code",
   "execution_count": 1,
   "metadata": {},
   "outputs": [
    {
     "name": "stdout",
     "output_type": "stream",
     "text": [
      "True\n",
      "True\n"
     ]
    }
   ],
   "source": [
    "def find_pythag_triplets1(nums): # time O(n3), space O(1)\n",
    "    for a in nums:\n",
    "        for b in nums:\n",
    "            for c in nums:\n",
    "                if a*a + b*b == c*c:\n",
    "                    return True\n",
    "                \n",
    "    return False\n",
    "\n",
    "def find_pythag_triplets2(nums): # time O(n2), space O(n)\n",
    "    squares = set([n*n for n in nums])\n",
    "    \n",
    "    for a in nums:\n",
    "        for b in nums:\n",
    "            if a*a + b*b in squares:\n",
    "                return True\n",
    "            \n",
    "    return False\n",
    "\n",
    "\n",
    "print(find_pythag_triplets1([3, 5, 12, 5, 13]))\n",
    "print(find_pythag_triplets2([3, 5, 12, 5, 13]))"
   ]
  },
  {
   "cell_type": "code",
   "execution_count": null,
   "metadata": {},
   "outputs": [],
   "source": []
  }
 ],
 "metadata": {
  "kernelspec": {
   "display_name": "python3",
   "language": "python",
   "name": "python3"
  },
  "language_info": {
   "codemirror_mode": {
    "name": "ipython",
    "version": 3
   },
   "file_extension": ".py",
   "mimetype": "text/x-python",
   "name": "python",
   "nbconvert_exporter": "python",
   "pygments_lexer": "ipython3",
   "version": "3.8.3"
  }
 },
 "nbformat": 4,
 "nbformat_minor": 4
}
