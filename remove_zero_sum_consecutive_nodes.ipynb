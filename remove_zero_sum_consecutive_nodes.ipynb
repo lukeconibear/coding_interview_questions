{
 "cells": [
  {
   "cell_type": "code",
   "execution_count": 1,
   "metadata": {},
   "outputs": [
    {
     "name": "stdout",
     "output_type": "stream",
     "text": [
      "3 4 1 \n"
     ]
    }
   ],
   "source": [
    "import collections\n",
    "\n",
    "class Node(object):\n",
    "  def __init__(self, val, next=None):\n",
    "    self.val = val\n",
    "    self.next = next\n",
    "\n",
    "  def __repr__(self):\n",
    "    n = self\n",
    "    ret = ''\n",
    "    while n:\n",
    "      ret += str(n.val) + ' '\n",
    "      n = n.next\n",
    "    return ret\n",
    "\n",
    "\n",
    "class Solution(object):\n",
    "  def removeZeroSumSublists(self, node): # time O(n), space O(n)\n",
    "    sumToNode = collections.OrderedDict()\n",
    "    sum = 0\n",
    "    dummy = Node(0)\n",
    "    dummy.next = node\n",
    "    n = dummy\n",
    "    while n:\n",
    "      sum += n.val\n",
    "      if sum not in sumToNode:\n",
    "        sumToNode[sum] = n\n",
    "      else:\n",
    "        prev = sumToNode[sum]\n",
    "        prev.next = n.next\n",
    "        while list(sumToNode.keys())[-1] != sum:\n",
    "          sumToNode.popitem()\n",
    "      n = n.next\n",
    "    return dummy.next\n",
    "\n",
    "\n",
    "# 3, 1, 2, -1, -2, 4, 1\n",
    "n = Node(3)\n",
    "n.next = Node(1)\n",
    "n.next.next = Node(2)\n",
    "n.next.next.next = Node(-1)\n",
    "n.next.next.next.next = Node(-2)\n",
    "n.next.next.next.next.next = Node(4)\n",
    "n.next.next.next.next.next.next = Node(1)\n",
    "print(Solution().removeZeroSumSublists(n))\n",
    "# 3, 4, 1"
   ]
  },
  {
   "cell_type": "code",
   "execution_count": null,
   "metadata": {},
   "outputs": [],
   "source": []
  }
 ],
 "metadata": {
  "kernelspec": {
   "display_name": "python3",
   "language": "python",
   "name": "python3"
  },
  "language_info": {
   "codemirror_mode": {
    "name": "ipython",
    "version": 3
   },
   "file_extension": ".py",
   "mimetype": "text/x-python",
   "name": "python",
   "nbconvert_exporter": "python",
   "pygments_lexer": "ipython3",
   "version": "3.8.3"
  }
 },
 "nbformat": 4,
 "nbformat_minor": 4
}
