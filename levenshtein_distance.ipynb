{
 "cells": [
  {
   "cell_type": "code",
   "execution_count": null,
   "metadata": {},
   "outputs": [],
   "source": [
    "def levenshtein_distance(str1, str2): # time O(nm), space O(nm)\n",
    "    edits = [[x for x in range(len(str1) + 1)] for y in range(len(str2) + 1)]\n",
    "    for index in range(1, len(str2) + 1):\n",
    "        edits[index][0] = edits[index - 1][0] + 1\n",
    "    for index1 in range(1, len(str2) + 1):\n",
    "        for index2 in range(1, len(str1) + 1):\n",
    "            if str2[index1 - 1] == str1[index2 - 1]:\n",
    "                edits[index1][index2] = edits[index1 - 1][index2 - 1]\n",
    "            else:\n",
    "                edits[index1][index2] = 1 + min(edits[index1 - 1][index2 - 1], edits[index1 - 1][index2], edits[index1][index2 - 1])\n",
    "    return edits[-1][-1]\n",
    "\n",
    "\n",
    "def levenshtein_distance(str1, str2): # time O(nm), space O(min(n, m))\n",
    "    small = str1 if len(str1) < len(str2) else str2\n",
    "    big = str1 if len(str1) >= len(str2) else str2\n",
    "    even_edits = [x for x in range(len(small) + 1)]\n",
    "    odd_edits = [None for x in range(len(small) + 1)]\n",
    "    for index in range(1, len(big) + 1):\n",
    "        if index % 2 == 1:\n",
    "            current_edits = odd_edits\n",
    "            previous_edits = even_edits\n",
    "        else:\n",
    "            current_edits = even_edits\n",
    "            previous_edits = odd_edits\n",
    "        current_edits[0] = index\n",
    "        for index2 in range(1, len(small) + 1):\n",
    "            if big[index - 1] == small[index2 - 1]:\n",
    "                current_edits[index2] = previous_edits[index2 - 1]\n",
    "            else:\n",
    "                current_edits[index2] = 1 + min(previous_edits[index2 - 1], previous_edits[index2], current_edits[index2 - 1])\n",
    "    return even_edits[-1] if len(big) % 2 == 0 else odd_edits[-1]"
   ]
  },
  {
   "cell_type": "code",
   "execution_count": null,
   "metadata": {},
   "outputs": [],
   "source": []
  }
 ],
 "metadata": {
  "kernelspec": {
   "display_name": "python3",
   "language": "python",
   "name": "python3"
  },
  "language_info": {
   "codemirror_mode": {
    "name": "ipython",
    "version": 3
   },
   "file_extension": ".py",
   "mimetype": "text/x-python",
   "name": "python",
   "nbconvert_exporter": "python",
   "pygments_lexer": "ipython3",
   "version": "3.8.3"
  }
 },
 "nbformat": 4,
 "nbformat_minor": 4
}
