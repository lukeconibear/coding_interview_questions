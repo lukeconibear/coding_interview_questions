{
 "cells": [
  {
   "cell_type": "code",
   "execution_count": 46,
   "metadata": {},
   "outputs": [
    {
     "name": "stdout",
     "output_type": "stream",
     "text": [
      "True\n"
     ]
    }
   ],
   "source": [
    "def isValidSubsequence(array, sequence): # time O(n), space O(1)\n",
    "    current = 0\n",
    "    for num in array:\n",
    "        if current == len(sequence):\n",
    "            break\n",
    "        if num == sequence[current]:\n",
    "            current += 1\n",
    "            \n",
    "    return current == len(sequence)\n",
    "\n",
    "print(is_valid_subsequence([5,1,22,25,6,-1,8,10], [1,6,-1,10]))"
   ]
  },
  {
   "cell_type": "code",
   "execution_count": 49,
   "metadata": {},
   "outputs": [
    {
     "name": "stdout",
     "output_type": "stream",
     "text": [
      "True\n"
     ]
    }
   ],
   "source": [
    "def isValidSubsequence(array, sequence): # time O(n), space O(1)\n",
    "    index_array = 0\n",
    "    index_sequence = 0\n",
    "    while (index_array < len(array)) and (index_sequence < len(sequence)):\n",
    "        if array[index_array] == sequence[index_sequence]:\n",
    "            index_sequence += 1\n",
    "        index_array += 1\n",
    "    return index_sequence == len(sequence)\n",
    "\n",
    "print(is_valid_subsequence([5,1,22,25,6,-1,8,10], [1,6,-1,10]))"
   ]
  },
  {
   "cell_type": "code",
   "execution_count": null,
   "metadata": {},
   "outputs": [],
   "source": []
  },
  {
   "cell_type": "code",
   "execution_count": null,
   "metadata": {},
   "outputs": [],
   "source": [
    "# this would work ONLY if the ordering doesn't matter\n",
    "# however, it does matter here\n",
    "\n",
    "def isValidSubsequence(array, sequence): # time O(1), space O(n)\n",
    "    if len(set(sequence) - set(array)) == 0:\n",
    "        return True\n",
    "    return False\n",
    "\n",
    "print(is_valid_subsequence([5,1,22,25,6,-1,8,10], [6,1,-1,10]))"
   ]
  }
 ],
 "metadata": {
  "kernelspec": {
   "display_name": "python3",
   "language": "python",
   "name": "python3"
  },
  "language_info": {
   "codemirror_mode": {
    "name": "ipython",
    "version": 3
   },
   "file_extension": ".py",
   "mimetype": "text/x-python",
   "name": "python",
   "nbconvert_exporter": "python",
   "pygments_lexer": "ipython3",
   "version": "3.8.3"
  }
 },
 "nbformat": 4,
 "nbformat_minor": 4
}
