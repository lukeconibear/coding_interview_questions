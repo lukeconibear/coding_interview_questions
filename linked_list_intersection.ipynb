{
 "cells": [
  {
   "cell_type": "code",
   "execution_count": 3,
   "metadata": {},
   "outputs": [
    {
     "name": "stdout",
     "output_type": "stream",
     "text": [
      "3\n"
     ]
    }
   ],
   "source": [
    "class Node:\n",
    "    def __init__(self, value, next=None):\n",
    "        self.value = value\n",
    "        self.next = next\n",
    "        \n",
    "    def __repr__(self):\n",
    "        return f'{self.value}'\n",
    "\n",
    "class Solution:\n",
    "    def intersection(self, node1, node2): # time O(m + n), space O(1)\n",
    "        length_node1 = self._length(node1)\n",
    "        length_node2 = self._length(node2)\n",
    "        curr_node1 = node1\n",
    "        curr_node2 = node2\n",
    "\n",
    "        if length_node1 > length_node2:\n",
    "            for _ in range(length_node1 - length_node2):\n",
    "                curr_node1 = curr_node1.next\n",
    "        else:\n",
    "            for _ in range(length_node2 - length_node1):\n",
    "                curr_node2 = curr_node2.next\n",
    "\n",
    "        while curr_node1 != curr_node2:\n",
    "            curr_node1 = curr_node1.next\n",
    "            curr_node2 = curr_node2.next\n",
    "\n",
    "        return curr_node1\n",
    "    \n",
    "    def _length(self, node):\n",
    "        length = 0\n",
    "        curr = node\n",
    "        while curr:\n",
    "            curr = curr.next\n",
    "            length += 1\n",
    "            \n",
    "        return length\n",
    "\n",
    "\n",
    "node1 = Node(1)\n",
    "node1.next = Node(2)\n",
    "node1.next.next = Node(3)\n",
    "node1.next.next.next = Node(4)\n",
    "\n",
    "node2 = Node(6)\n",
    "node2.next = node1.next.next\n",
    "\n",
    "print(Solution().intersection(node1, node2))\n",
    "# 3"
   ]
  },
  {
   "cell_type": "code",
   "execution_count": null,
   "metadata": {},
   "outputs": [],
   "source": []
  }
 ],
 "metadata": {
  "kernelspec": {
   "display_name": "python3",
   "language": "python",
   "name": "python3"
  },
  "language_info": {
   "codemirror_mode": {
    "name": "ipython",
    "version": 3
   },
   "file_extension": ".py",
   "mimetype": "text/x-python",
   "name": "python",
   "nbconvert_exporter": "python",
   "pygments_lexer": "ipython3",
   "version": "3.8.3"
  }
 },
 "nbformat": 4,
 "nbformat_minor": 4
}
