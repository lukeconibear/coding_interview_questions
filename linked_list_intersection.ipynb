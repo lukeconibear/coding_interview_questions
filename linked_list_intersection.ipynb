{
 "cells": [
  {
   "cell_type": "code",
   "execution_count": null,
   "metadata": {},
   "outputs": [],
   "source": [
    "class Node(object):\n",
    "  def __init__(self, value, next=None):\n",
    "    self.value = value\n",
    "    self.next = next\n",
    "\n",
    "class Solution(object):\n",
    "  def _length(self, n):\n",
    "    len = 0\n",
    "    curr = n\n",
    "    while curr:\n",
    "      curr = curr.next\n",
    "      len += 1\n",
    "    return len\n",
    "\n",
    "  def intersection(self, a, b): # time O(m) + O(n), space O(1)\n",
    "    lenA = self._length(a)\n",
    "    lenB = self._length(b)\n",
    "    currA = a\n",
    "    currB = b\n",
    "\n",
    "    if lenA > lenB:\n",
    "      for _ in range(lenA - lenB):\n",
    "        currA = currA.next\n",
    "    else:\n",
    "      for _ in range(lenB - lenA):\n",
    "        currB = currB.next\n",
    "\n",
    "    while currA != currB:\n",
    "      currA = currA.next\n",
    "      currB = currB.next\n",
    "\n",
    "    return currA\n",
    "\n",
    "a = Node(1)\n",
    "a.next = Node(2)\n",
    "a.next.next = Node(3)\n",
    "a.next.next.next = Node(4)\n",
    "\n",
    "b = Node(6)\n",
    "b.next = a.next.next\n",
    "\n",
    "print(Solution().intersection(a, b).value)\n",
    "# 3"
   ]
  }
 ],
 "metadata": {
  "kernelspec": {
   "display_name": "python3",
   "language": "python",
   "name": "python3"
  },
  "language_info": {
   "codemirror_mode": {
    "name": "ipython",
    "version": 3
   },
   "file_extension": ".py",
   "mimetype": "text/x-python",
   "name": "python",
   "nbconvert_exporter": "python",
   "pygments_lexer": "ipython3",
   "version": "3.8.3"
  }
 },
 "nbformat": 4,
 "nbformat_minor": 4
}
