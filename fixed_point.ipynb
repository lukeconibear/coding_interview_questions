{
 "cells": [
  {
   "cell_type": "code",
   "execution_count": null,
   "metadata": {},
   "outputs": [],
   "source": [
    "# want sublinear time\n",
    "# the array is already sorted"
   ]
  },
  {
   "cell_type": "code",
   "execution_count": 4,
   "metadata": {},
   "outputs": [
    {
     "name": "stdout",
     "output_type": "stream",
     "text": [
      "1\n",
      "1\n"
     ]
    }
   ],
   "source": [
    "def find_fixed_point_helper(index_low, index_high, nums):\n",
    "  if index_low == index_high:\n",
    "    return None\n",
    "\n",
    "  index_mid = int((index_low + index_high) / 2)\n",
    "  if nums[index_mid] == index_mid:\n",
    "    return index_mid\n",
    "  if nums[index_mid] < index_mid:\n",
    "    return find_fixed_point_helper(index_mid + 1, index_high, nums)\n",
    "  else:\n",
    "    return find_fixed_point_helper(index_low, index_mid, nums)\n",
    "\n",
    "\n",
    "def find_fixed_point(nums): # time O(lgn), space O(lgn), as used binary search tree recursively\n",
    "  return find_fixed_point_helper(0, len(nums), nums)\n",
    "\n",
    "\n",
    "def find_fixed_point_iterative(nums): # time O(lgn), space O(n), as used binary search tree iteratively\n",
    "  index_low = 0\n",
    "  index_high = len(nums)\n",
    "\n",
    "  while (index_low != index_high):\n",
    "    index_mid = int((index_low + index_high) / 2)\n",
    "    if nums[index_mid] == index_mid:\n",
    "      return index_mid\n",
    "    if nums[index_mid] < index_mid:\n",
    "      index_low = index_mid + 1\n",
    "    else:\n",
    "      index_high = index_mid\n",
    "\n",
    "  return None\n",
    "\n",
    "\n",
    "print(find_fixed_point([-5, 1, 3, 4])) # where the index equals the value\n",
    "# 1\n",
    "\n",
    "print(find_fixed_point_iterative([-5, 1, 3, 4])) # where the index equals the value\n",
    "# 1"
   ]
  },
  {
   "cell_type": "code",
   "execution_count": 1,
   "metadata": {},
   "outputs": [
    {
     "name": "stdout",
     "output_type": "stream",
     "text": [
      "1\n"
     ]
    }
   ],
   "source": [
    "# easy to do in linear time\n",
    "\n",
    "def find_fixed_point(nums): # time O(n), space O()\n",
    "    for index, value in enumerate(nums):\n",
    "        if index == value:\n",
    "            return index\n",
    "        \n",
    "print(find_fixed_point([-5,1,3,4]))"
   ]
  },
  {
   "cell_type": "code",
   "execution_count": null,
   "metadata": {},
   "outputs": [],
   "source": []
  }
 ],
 "metadata": {
  "kernelspec": {
   "display_name": "python3",
   "language": "python",
   "name": "python3"
  },
  "language_info": {
   "codemirror_mode": {
    "name": "ipython",
    "version": 3
   },
   "file_extension": ".py",
   "mimetype": "text/x-python",
   "name": "python",
   "nbconvert_exporter": "python",
   "pygments_lexer": "ipython3",
   "version": "3.8.3"
  }
 },
 "nbformat": 4,
 "nbformat_minor": 4
}
