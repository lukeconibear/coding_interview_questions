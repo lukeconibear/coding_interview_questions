{
 "cells": [
  {
   "cell_type": "code",
   "execution_count": 2,
   "metadata": {},
   "outputs": [
    {
     "name": "stdout",
     "output_type": "stream",
     "text": [
      "[1, 1, 2, 3, 4, 6, 9, 52]\n"
     ]
    }
   ],
   "source": [
    "def merge_sort(array): # time O(nlgn), space O(nlgn)\n",
    "    if len(array) == 1:\n",
    "        return array\n",
    "    middle_index = len(array) // 2\n",
    "    left_half = array[:middle_index]\n",
    "    right_half = array[middle_index:]\n",
    "    return _merge_sorted_arrays(mergeSort(left_half), mergeSort(right_half))\n",
    "\n",
    "def _merge_sorted_arrays(left_half, right_half):\n",
    "    sorted_array = [None] * (len(left_half) + len(right_half))\n",
    "    current_index = left_index = right_index = 0\n",
    "    while left_index < len(left_half) and right_index < len(right_half):\n",
    "        if left_half[left_index] <= right_half[right_index]:\n",
    "            sorted_array[current_index] = left_half[left_index]\n",
    "            left_index += 1\n",
    "        else:\n",
    "            sorted_array[current_index] = right_half[right_index]\n",
    "            right_index += 1\n",
    "        current_index += 1\n",
    "        \n",
    "    while left_index < len(left_half):\n",
    "        sorted_array[current_index] = left_half[left_index]\n",
    "        left_index += 1\n",
    "        current_index += 1\n",
    "    \n",
    "    while right_index < len(right_half):\n",
    "        sorted_array[current_index] = right_half[right_index]\n",
    "        right_index += 1\n",
    "        current_index += 1\n",
    "        \n",
    "    return sorted_array\n",
    "\n",
    "\n",
    "print(merge_sort([1,3,4,52,1,6,2,9]))"
   ]
  },
  {
   "cell_type": "code",
   "execution_count": null,
   "metadata": {},
   "outputs": [],
   "source": []
  }
 ],
 "metadata": {
  "kernelspec": {
   "display_name": "python3",
   "language": "python",
   "name": "python3"
  },
  "language_info": {
   "codemirror_mode": {
    "name": "ipython",
    "version": 3
   },
   "file_extension": ".py",
   "mimetype": "text/x-python",
   "name": "python",
   "nbconvert_exporter": "python",
   "pygments_lexer": "ipython3",
   "version": "3.8.3"
  }
 },
 "nbformat": 4,
 "nbformat_minor": 4
}
