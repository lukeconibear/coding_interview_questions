{
 "cells": [
  {
   "cell_type": "code",
   "execution_count": 4,
   "metadata": {},
   "outputs": [
    {
     "name": "stdout",
     "output_type": "stream",
     "text": [
      "[28, 26]\n"
     ]
    }
   ],
   "source": [
    "def smallest_difference(array1, array2): # time O(nlgn + mlgm), space O(1)\n",
    "    array1.sort()\n",
    "    array2.sort()\n",
    "    index1 = 0\n",
    "    index2 = 0\n",
    "    smallest = float('inf')\n",
    "    current = float('inf')\n",
    "    smallest_pair = []\n",
    "    while index1 < len(array1) and index2 < len(array2):\n",
    "        num1 = array1[index1]\n",
    "        num2 = array2[index2]\n",
    "        if num1 < num2:\n",
    "            current = num2 - num1\n",
    "            index1 += 1\n",
    "        elif num2 < num1:\n",
    "            current = num1 - num2\n",
    "            index2 += 1\n",
    "        else:\n",
    "            return [num1, num2]\n",
    "        if smallest > current:\n",
    "            smallest = current\n",
    "            smallest_pair = [num1, num2]\n",
    "    return smallest_pair\n",
    "\n",
    "\n",
    "print(smallest_difference([-1,5,10,20,28,3], [26,134,135,15,17]))"
   ]
  },
  {
   "cell_type": "code",
   "execution_count": null,
   "metadata": {},
   "outputs": [],
   "source": []
  }
 ],
 "metadata": {
  "kernelspec": {
   "display_name": "python3",
   "language": "python",
   "name": "python3"
  },
  "language_info": {
   "codemirror_mode": {
    "name": "ipython",
    "version": 3
   },
   "file_extension": ".py",
   "mimetype": "text/x-python",
   "name": "python",
   "nbconvert_exporter": "python",
   "pygments_lexer": "ipython3",
   "version": "3.8.3"
  }
 },
 "nbformat": 4,
 "nbformat_minor": 4
}
