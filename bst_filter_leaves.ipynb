{
 "cells": [
  {
   "cell_type": "code",
   "execution_count": 1,
   "metadata": {},
   "outputs": [
    {
     "name": "stdout",
     "output_type": "stream",
     "text": [
      "1, (2, (2, (None), (None)), (None)), (None)\n"
     ]
    }
   ],
   "source": [
    "class Node:\n",
    "  def __init__(self, value, left=None, right=None):\n",
    "    self.value = value\n",
    "    self.left = left\n",
    "    self.right = right\n",
    "\n",
    "  def __repr__(self):\n",
    "    return f\"{self.value}, ({self.left.__repr__()}), ({self.right.__repr__()})\"\n",
    "\n",
    "\n",
    "def filter(node, n): # time O(n), space O(n) as recursion and worst case is unbalanced tree\n",
    "  if not node:\n",
    "    return None\n",
    "\n",
    "  node.left = filter(node.left, n)\n",
    "  node.right = filter(node.right, n)\n",
    "\n",
    "  if node.value != n and not node.left and not node.right:\n",
    "    return None\n",
    "\n",
    "  return node\n",
    "\n",
    "\n",
    "#     1\n",
    "#    / \\\n",
    "#   2   1\n",
    "#  /   /\n",
    "# 2   1\n",
    "n1 = Node(1, Node(2, Node(2), Node(1, Node(1))))\n",
    "print(filter(n1, 2))"
   ]
  }
 ],
 "metadata": {
  "kernelspec": {
   "display_name": "python3",
   "language": "python",
   "name": "python3"
  },
  "language_info": {
   "codemirror_mode": {
    "name": "ipython",
    "version": 3
   },
   "file_extension": ".py",
   "mimetype": "text/x-python",
   "name": "python",
   "nbconvert_exporter": "python",
   "pygments_lexer": "ipython3",
   "version": "3.8.3"
  }
 },
 "nbformat": 4,
 "nbformat_minor": 4
}
