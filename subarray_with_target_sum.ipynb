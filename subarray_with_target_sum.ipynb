{
 "cells": [
  {
   "cell_type": "code",
   "execution_count": 1,
   "metadata": {},
   "outputs": [
    {
     "name": "stdout",
     "output_type": "stream",
     "text": [
      "[2, 5, 7]\n"
     ]
    }
   ],
   "source": [
    "def find_continuous_k(list, k): # time O(n2), space O(1)\n",
    "  for start in range(len(list)):\n",
    "    sum = 0\n",
    "    for end in range(start, len(list)):\n",
    "      sum += list[end]\n",
    "      if sum == k:\n",
    "        return list[start:end + 1]\n",
    "  return None\n",
    "\n",
    "print(find_continuous_k([1, 3, 2, 5, 7, 2], 14))"
   ]
  },
  {
   "cell_type": "code",
   "execution_count": 2,
   "metadata": {},
   "outputs": [
    {
     "name": "stdout",
     "output_type": "stream",
     "text": [
      "[2, 5, 7]\n"
     ]
    }
   ],
   "source": [
    "def find_continuous_k(list, k): # time O(n), space O(n)\n",
    "  previous_sums = {0: -1} # {sum: index}\n",
    "  sum = 0\n",
    "  for index, n in enumerate(list):\n",
    "    sum += n\n",
    "    previous_sums[sum] = index\n",
    "    if previous_sums.get(sum - k):\n",
    "      return list[previous_sums[sum-k] + 1: index + 1]\n",
    "  return None\n",
    "\n",
    "\n",
    "print(find_continuous_k([1, 3, 2, 5, 7, 2], 14))"
   ]
  },
  {
   "cell_type": "code",
   "execution_count": null,
   "metadata": {},
   "outputs": [],
   "source": []
  }
 ],
 "metadata": {
  "kernelspec": {
   "display_name": "python3",
   "language": "python",
   "name": "python3"
  },
  "language_info": {
   "codemirror_mode": {
    "name": "ipython",
    "version": 3
   },
   "file_extension": ".py",
   "mimetype": "text/x-python",
   "name": "python",
   "nbconvert_exporter": "python",
   "pygments_lexer": "ipython3",
   "version": "3.8.3"
  }
 },
 "nbformat": 4,
 "nbformat_minor": 4
}
