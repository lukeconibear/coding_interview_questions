{
 "cells": [
  {
   "cell_type": "code",
   "execution_count": 1,
   "metadata": {},
   "outputs": [
    {
     "name": "stdout",
     "output_type": "stream",
     "text": [
      "3\n",
      "3\n"
     ]
    }
   ],
   "source": [
    "# Note - Recursion won't work on large trees, due to the limit on stack limit size.\n",
    "# Iteration, on the other hand, uses heap space which is limited only by how\n",
    "# much memory is in the computer.\n",
    "\n",
    "\n",
    "class Node(object):\n",
    "  def __init__(self, val, left=None, right=None):\n",
    "    self.val = val\n",
    "    self.left = left\n",
    "    self.right = right\n",
    "\n",
    "\n",
    "class Solution(object):\n",
    "  def maxDepth(self, n): # time O(n), space O(n)\n",
    "    stack = [(1, n)]\n",
    "\n",
    "    max_depth = 0\n",
    "    while len(stack) > 0:\n",
    "      depth, node = stack.pop()\n",
    "      if node:\n",
    "        max_depth = max(max_depth, depth)\n",
    "        stack.append((depth + 1, node.left))\n",
    "        stack.append((depth + 1, node.right))\n",
    "    return max_depth\n",
    "\n",
    "  def maxDepthRecursive(self, n):\n",
    "    if not n:\n",
    "      return 0\n",
    "    return max(self.maxDepthRecursive(n.left) + 1,\n",
    "               self.maxDepthRecursive(n.right) + 1)\n",
    "\n",
    "\n",
    "n = Node(1)\n",
    "n.left = Node(2)\n",
    "n.right = Node(3)\n",
    "n.left.left = Node(4)\n",
    "\n",
    "print(Solution().maxDepth(n))\n",
    "# 3\n",
    "\n",
    "print(Solution().maxDepthRecursive(n))\n",
    "# 3"
   ]
  },
  {
   "cell_type": "code",
   "execution_count": null,
   "metadata": {},
   "outputs": [],
   "source": []
  }
 ],
 "metadata": {
  "kernelspec": {
   "display_name": "python3",
   "language": "python",
   "name": "python3"
  },
  "language_info": {
   "codemirror_mode": {
    "name": "ipython",
    "version": 3
   },
   "file_extension": ".py",
   "mimetype": "text/x-python",
   "name": "python",
   "nbconvert_exporter": "python",
   "pygments_lexer": "ipython3",
   "version": "3.8.3"
  }
 },
 "nbformat": 4,
 "nbformat_minor": 4
}
