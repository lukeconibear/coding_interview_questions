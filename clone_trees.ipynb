{
 "cells": [
  {
   "cell_type": "code",
   "execution_count": 6,
   "metadata": {},
   "outputs": [
    {
     "name": "stdout",
     "output_type": "stream",
     "text": [
      "4\n"
     ]
    }
   ],
   "source": [
    "class Node:\n",
    "  def __init__(self, val, left=None, right=None):\n",
    "    self.val = val\n",
    "    self.left = left\n",
    "    self.right = right\n",
    "\n",
    "  def __str__(self):\n",
    "    return str(self.val)\n",
    "\n",
    "def findNode(a, b, node): # recursive, time O(n), space O(n)\n",
    "  if a == node:\n",
    "    return b\n",
    "  if a.left and b.left:\n",
    "    found = findNode(a.left, b.left, node)\n",
    "    if found:\n",
    "      return found\n",
    "  if a.right and b.right:\n",
    "    found = findNode(a.right, b.right, node)\n",
    "    if found:\n",
    "      return found\n",
    "  return None\n",
    "\n",
    "def findNode2(a, b, node): # iterative, time O(n), space O(n)\n",
    "  stack = [(a, b)]\n",
    "  while len(stack):\n",
    "    (a,b) = stack.pop()\n",
    "    if a == node:\n",
    "      return b\n",
    "    if a.left and b.left:\n",
    "      stack.append((a.left, b.left))\n",
    "    if b.right and b.right:\n",
    "      stack.append((a.right, b.right))\n",
    "  return None\n",
    "\n",
    "#  1\n",
    "# / \\\n",
    "#2   3\n",
    "#   / \\\n",
    "#  4*  5\n",
    "a = Node(1)\n",
    "a.left = Node(2)\n",
    "a.right = Node(3)\n",
    "a.right.left = Node(4)\n",
    "a.right.right = Node(5)\n",
    "\n",
    "b = Node(1)\n",
    "b.left = Node(2)\n",
    "b.right = Node(3)\n",
    "b.right.left = Node(4)\n",
    "b.right.right = Node(5)\n",
    "\n",
    "print(findNode2(a, b, a.right.left))\n",
    "# 4"
   ]
  },
  {
   "cell_type": "code",
   "execution_count": null,
   "metadata": {},
   "outputs": [],
   "source": []
  }
 ],
 "metadata": {
  "kernelspec": {
   "display_name": "python3",
   "language": "python",
   "name": "python3"
  },
  "language_info": {
   "codemirror_mode": {
    "name": "ipython",
    "version": 3
   },
   "file_extension": ".py",
   "mimetype": "text/x-python",
   "name": "python",
   "nbconvert_exporter": "python",
   "pygments_lexer": "ipython3",
   "version": "3.8.3"
  }
 },
 "nbformat": 4,
 "nbformat_minor": 4
}
