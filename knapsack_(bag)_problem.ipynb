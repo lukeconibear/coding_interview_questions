{
 "cells": [
  {
   "cell_type": "code",
   "execution_count": 3,
   "metadata": {},
   "outputs": [
    {
     "name": "stdout",
     "output_type": "stream",
     "text": [
      "[10, [1, 3]]\n"
     ]
    }
   ],
   "source": [
    "def bag_problem(items, bag_capacity): # time O(nc), space O(nc)\n",
    "    bag_values = [[0 for _ in range(0, bag_capacity + 1)] for _ in range(0, len(items) + 1)]\n",
    "    for index in range(1, len(items) + 1):\n",
    "        current_weight = items[index - 1][1]\n",
    "        current_value = items[index - 1][0]\n",
    "        for capacity in range(0, bag_capacity + 1):\n",
    "            if current_weight > capac:\n",
    "                bag_values[index][capac] = bag_values[index - 1][capac]\n",
    "            else:\n",
    "                bag_values[index][capac] = max(\n",
    "                    bag_values[index - 1][capac], bag_values[index - 1][capacity - current_weight] + current_value\n",
    "                )\n",
    "    return [bag_values[-1][-1], get_bag_items(bag_values, items)]\n",
    "\n",
    "def get_bag_items(bag_values, items):\n",
    "    sequence = []\n",
    "    index = len(bag_values) - 1\n",
    "    capacity = len(bag_values[0]) - 1\n",
    "    while index > 0:\n",
    "        if bag_values[index][capac] == bag_values[index - 1][capac]:\n",
    "            index -= 1\n",
    "        else:\n",
    "            sequence.append(index - 1)\n",
    "            capacity -= items[index - 1][1]\n",
    "            index -= 1\n",
    "        if capacity == 0:\n",
    "            break\n",
    "    return list(reversed(sequence))\n",
    "\n",
    "\n",
    "print(bag_problem([[1,2], [4,3], [5,6], [6,7]], 10))"
   ]
  },
  {
   "cell_type": "code",
   "execution_count": null,
   "metadata": {},
   "outputs": [],
   "source": []
  }
 ],
 "metadata": {
  "kernelspec": {
   "display_name": "python3",
   "language": "python",
   "name": "python3"
  },
  "language_info": {
   "codemirror_mode": {
    "name": "ipython",
    "version": 3
   },
   "file_extension": ".py",
   "mimetype": "text/x-python",
   "name": "python",
   "nbconvert_exporter": "python",
   "pygments_lexer": "ipython3",
   "version": "3.8.3"
  }
 },
 "nbformat": 4,
 "nbformat_minor": 4
}
