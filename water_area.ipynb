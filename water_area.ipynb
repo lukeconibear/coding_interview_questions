{
 "cells": [
  {
   "cell_type": "code",
   "execution_count": 1,
   "metadata": {},
   "outputs": [
    {
     "name": "stdout",
     "output_type": "stream",
     "text": [
      "48\n"
     ]
    }
   ],
   "source": [
    "def water_area(heights): # time O(n), space O(1)\n",
    "    if len(heights) == 0:\n",
    "        return 0\n",
    "    \n",
    "    left_index = 0\n",
    "    right_index = len(heights) - 1\n",
    "    left_max = heights[left_index]\n",
    "    right_max = heights[right_index]\n",
    "    area = 0\n",
    "    \n",
    "    while left_index < right_index:\n",
    "        if heights[left_index] < heights[right_index]:\n",
    "            left_index += 1\n",
    "            left_max = max(left_max, heights[left_index])\n",
    "            area += left_max - heights[left_index]\n",
    "        else:\n",
    "            right_index -= 1\n",
    "            right_max = max(right_max, heights[right_index])\n",
    "            area += right_max - heights[right_index]\n",
    "            \n",
    "    return area\n",
    "\n",
    "print(water_area([0,8,0,0,5,0,0,10,0,0,1,1,0,3]))"
   ]
  },
  {
   "cell_type": "code",
   "execution_count": null,
   "metadata": {},
   "outputs": [],
   "source": []
  }
 ],
 "metadata": {
  "kernelspec": {
   "display_name": "python3",
   "language": "python",
   "name": "python3"
  },
  "language_info": {
   "codemirror_mode": {
    "name": "ipython",
    "version": 3
   },
   "file_extension": ".py",
   "mimetype": "text/x-python",
   "name": "python",
   "nbconvert_exporter": "python",
   "pygments_lexer": "ipython3",
   "version": "3.8.3"
  }
 },
 "nbformat": 4,
 "nbformat_minor": 4
}
