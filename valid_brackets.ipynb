{
 "cells": [
  {
   "cell_type": "code",
   "execution_count": 10,
   "metadata": {},
   "outputs": [
    {
     "name": "stdout",
     "output_type": "stream",
     "text": [
      "True\n",
      "False\n"
     ]
    }
   ],
   "source": [
    "class Solution(object):\n",
    "    def valid_brackets(self, string): # time O(n), space O(n)\n",
    "        open_brackets = {\n",
    "            '[': ']',\n",
    "            '(': ')',\n",
    "            '{': '}'\n",
    "        }\n",
    "        closed_brackets = {value: key for key, value in open_brackets.items()}\n",
    "        stack = []\n",
    "        for char in string:\n",
    "            if char in open_brackets:\n",
    "                stack.append(char)\n",
    "            elif char in closed_brackets:\n",
    "                if len(stack) == 0 or stack[-1] != closed_brackets[char]:\n",
    "                    return False\n",
    "                else:\n",
    "                    stack.pop()\n",
    "        return len(stack) == 0\n",
    "       \n",
    "\n",
    "print(Solution().is_valid('(){}[]'))\n",
    "print(Solution().is_valid('()['))"
   ]
  },
  {
   "cell_type": "code",
   "execution_count": null,
   "metadata": {},
   "outputs": [],
   "source": []
  }
 ],
 "metadata": {
  "kernelspec": {
   "display_name": "python3",
   "language": "python",
   "name": "python3"
  },
  "language_info": {
   "codemirror_mode": {
    "name": "ipython",
    "version": 3
   },
   "file_extension": ".py",
   "mimetype": "text/x-python",
   "name": "python",
   "nbconvert_exporter": "python",
   "pygments_lexer": "ipython3",
   "version": "3.8.3"
  }
 },
 "nbformat": 4,
 "nbformat_minor": 4
}
