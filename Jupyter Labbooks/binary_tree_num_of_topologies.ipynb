{
 "cells": [
  {
   "cell_type": "code",
   "execution_count": 3,
   "metadata": {},
   "outputs": [
    {
     "name": "stdout",
     "output_type": "stream",
     "text": [
      "5\n",
      "5\n"
     ]
    }
   ],
   "source": [
    "def num_of_binary_tree_topologies1(num, cache={0: 1}): # time O(n2), space O(n)\n",
    "    if num in cache:\n",
    "        return cache[num]\n",
    "    \n",
    "    num_of_trees = 0\n",
    "    for left_tree_size in range(num):\n",
    "        right_tree_size = num - 1 - left_tree_size\n",
    "        num_of_left_trees = num_of_binary_tree_topologies1(left_tree_size, cache)\n",
    "        num_of_right_trees = num_of_binary_tree_topologies1(right_tree_size, cache)\n",
    "        num_of_trees += num_of_left_trees * num_of_right_trees\n",
    "        \n",
    "    cache[num] = num_of_trees\n",
    "    return num_of_trees\n",
    "\n",
    "def num_of_binary_tree_topologies2(num): # time O(n2), space O(n)\n",
    "    cache = [1]\n",
    "    for m in range(1, num + 1):\n",
    "        num_of_trees = 0\n",
    "        for left_tree_size in range(m):\n",
    "            right_tree_size = m - 1 - left_tree_size\n",
    "            num_of_left_trees = cache[left_tree_size]\n",
    "            num_of_right_trees = cache[right_tree_size]\n",
    "            num_of_trees += num_of_left_trees * num_of_right_trees\n",
    "        \n",
    "        cache.append(num_of_trees)\n",
    "    return cache[num]\n",
    "\n",
    "\n",
    "print(num_of_binary_tree_topologies1(3))\n",
    "print(num_of_binary_tree_topologies2(3))"
   ]
  },
  {
   "cell_type": "code",
   "execution_count": null,
   "metadata": {},
   "outputs": [],
   "source": []
  }
 ],
 "metadata": {
  "kernelspec": {
   "display_name": "python3",
   "language": "python",
   "name": "python3"
  },
  "language_info": {
   "codemirror_mode": {
    "name": "ipython",
    "version": 3
   },
   "file_extension": ".py",
   "mimetype": "text/x-python",
   "name": "python",
   "nbconvert_exporter": "python",
   "pygments_lexer": "ipython3",
   "version": "3.8.6"
  }
 },
 "nbformat": 4,
 "nbformat_minor": 4
}
