{
 "cells": [
  {
   "cell_type": "code",
   "execution_count": 1,
   "metadata": {},
   "outputs": [
    {
     "name": "stdout",
     "output_type": "stream",
     "text": [
      "True\n",
      "False\n"
     ]
    }
   ],
   "source": [
    "# last letter of first word is the first letter of the second word and so on, making a circle of all words\n",
    "import collections\n",
    "\n",
    "def chainedWords(words): # time O(n), space O(n)\n",
    "    symbol = collections.defaultdict(list) # defaults type to whatever is inside e.g. list, int, str\n",
    "    for word in words:\n",
    "        symbol[word[0]].append(word) # a: apple, e: eggs, etc.\n",
    "\n",
    "    return is_cycle_dfs(symbol, words[0], words[0], len(words), set())\n",
    "\n",
    "def is_cycle_dfs(symbol, current_word, start_word, length, visited):\n",
    "    if length == 1:\n",
    "        return start_word[0] == current_word[-1]\n",
    "\n",
    "    visited.add(current_word)\n",
    "    for neighbor in symbol[current_word[-1]]:\n",
    "        if (neighbor not in visited and is_cycle_dfs(symbol, neighbor, start_word, length - 1, visited)):\n",
    "            return True\n",
    "        \n",
    "    visited.remove(current_word)\n",
    "    return False\n",
    "\n",
    "\n",
    "print(chainedWords(['apple', 'eggs', 'snack', 'karat', 'tuna']))\n",
    "# True\n",
    "print(chainedWords(['apple', 'eggs', 'snack', 'karat', 'tunax']))\n",
    "# False"
   ]
  },
  {
   "cell_type": "code",
   "execution_count": null,
   "metadata": {},
   "outputs": [],
   "source": []
  }
 ],
 "metadata": {
  "kernelspec": {
   "display_name": "python3",
   "language": "python",
   "name": "python3"
  },
  "language_info": {
   "codemirror_mode": {
    "name": "ipython",
    "version": 3
   },
   "file_extension": ".py",
   "mimetype": "text/x-python",
   "name": "python",
   "nbconvert_exporter": "python",
   "pygments_lexer": "ipython3",
   "version": "3.8.3"
  }
 },
 "nbformat": 4,
 "nbformat_minor": 4
}
