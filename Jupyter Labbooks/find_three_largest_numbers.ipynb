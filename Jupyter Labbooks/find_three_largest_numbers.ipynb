{
 "cells": [
  {
   "cell_type": "code",
   "execution_count": 1,
   "metadata": {},
   "outputs": [
    {
     "name": "stdout",
     "output_type": "stream",
     "text": [
      "[18, 141, 541]\n"
     ]
    }
   ],
   "source": [
    "def find_three_largest_numbers(array): # time O(n), space O(1)\n",
    "    three_largest = [None, None, None]\n",
    "    for num in array:\n",
    "        update_largest(three_largest, num)\n",
    "        \n",
    "    return three_largest\n",
    "\n",
    "def update_largest(three_largest, num):\n",
    "    if three_largest[2] is None or num > three_largest[2]:\n",
    "        shift_and_update(three_largest, num, 2)\n",
    "    elif three_largest[1] is None or num > three_largest[1]:\n",
    "        shift_and_update(three_largest, num, 1)\n",
    "    elif three_largest[0] is None or num > three_largest[0]:\n",
    "        shift_and_update(three_largest, num, 0)\n",
    "        \n",
    "def shift_and_update(three_largest, num, last_index):\n",
    "    for index in range(last_index + 1):\n",
    "        if index == last_index:\n",
    "            three_largest[index] = num\n",
    "        else:\n",
    "            three_largest[index] = three_largest[index + 1]\n",
    "            \n",
    "\n",
    "print(find_three_largest_numbers([141,1,17,-7,-17,-27,18,541,8,7,7]))"
   ]
  },
  {
   "cell_type": "code",
   "execution_count": null,
   "metadata": {},
   "outputs": [],
   "source": []
  }
 ],
 "metadata": {
  "kernelspec": {
   "display_name": "python3",
   "language": "python",
   "name": "python3"
  },
  "language_info": {
   "codemirror_mode": {
    "name": "ipython",
    "version": 3
   },
   "file_extension": ".py",
   "mimetype": "text/x-python",
   "name": "python",
   "nbconvert_exporter": "python",
   "pygments_lexer": "ipython3",
   "version": "3.8.3"
  }
 },
 "nbformat": 4,
 "nbformat_minor": 4
}
