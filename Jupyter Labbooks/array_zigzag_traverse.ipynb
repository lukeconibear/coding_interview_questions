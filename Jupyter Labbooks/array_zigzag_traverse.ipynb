{
 "cells": [
  {
   "cell_type": "code",
   "execution_count": 1,
   "metadata": {},
   "outputs": [
    {
     "name": "stdout",
     "output_type": "stream",
     "text": [
      "[1, 2, 3, 4, 5, 6, 7, 8, 9, 10, 11, 12, 13, 14, 15, 16]\n"
     ]
    }
   ],
   "source": [
    "def zigzagTraverse(array): # time O(n), space O(n)\n",
    "    height = len(array) - 1\n",
    "    width = len(array[0]) - 1\n",
    "    result = []\n",
    "    row, col = 0, 0\n",
    "    going_down = True\n",
    "    while not is_out_of_bounds(row, col, height, width):\n",
    "        result.append(array[row][col])\n",
    "        if going_down:\n",
    "            if col == 0 or row == height:\n",
    "                going_down = False\n",
    "                if row == height:\n",
    "                    col += 1\n",
    "                else:\n",
    "                    row += 1\n",
    "            else:\n",
    "                row += 1\n",
    "                col -= 1\n",
    "        else:\n",
    "            if row == 0 or col == width:\n",
    "                going_down = True\n",
    "                if col == width:\n",
    "                    row += 1\n",
    "                else:\n",
    "                    col += 1\n",
    "            else:\n",
    "                row -= 1\n",
    "                col += 1\n",
    "    return result\n",
    "\n",
    "def is_out_of_bounds(row, col, height, width):\n",
    "    return row < 0 or row > height or col < 0 or col > width\n",
    "\n",
    "\n",
    "array = [\n",
    "    [1,3,4,10],\n",
    "    [2,5,9,11],\n",
    "    [6,8,12,15],\n",
    "    [7,13,14,16]\n",
    "]\n",
    "print(zigzagTraverse(array))"
   ]
  },
  {
   "cell_type": "code",
   "execution_count": null,
   "metadata": {},
   "outputs": [],
   "source": []
  }
 ],
 "metadata": {
  "kernelspec": {
   "display_name": "python3",
   "language": "python",
   "name": "python3"
  },
  "language_info": {
   "codemirror_mode": {
    "name": "ipython",
    "version": 3
   },
   "file_extension": ".py",
   "mimetype": "text/x-python",
   "name": "python",
   "nbconvert_exporter": "python",
   "pygments_lexer": "ipython3",
   "version": "3.8.3"
  }
 },
 "nbformat": 4,
 "nbformat_minor": 4
}
