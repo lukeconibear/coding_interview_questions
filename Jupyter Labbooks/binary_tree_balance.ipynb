{
 "cells": [
  {
   "cell_type": "code",
   "execution_count": 11,
   "metadata": {},
   "outputs": [
    {
     "name": "stdout",
     "output_type": "stream",
     "text": [
      "True\n",
      "True\n",
      "False\n",
      "False\n"
     ]
    }
   ],
   "source": [
    "class Node:\n",
    "    def __init__(self, value, left=None, right=None):\n",
    "        self.value = value\n",
    "        self.left = left\n",
    "        self.right = right\n",
    "\n",
    "class Solution:\n",
    "    def is_tree_balanced1(self, node): # time O(n), space O(n)\n",
    "        return tree_height(node) != -1\n",
    "    \n",
    "    def tree_height(self, node):\n",
    "        if node is None:\n",
    "            return 0\n",
    "\n",
    "        heightLeft = tree_height(node.left)\n",
    "        heightRight = tree_height(node.right)\n",
    "\n",
    "        if heightLeft >= 0 and heightRight >= 0 and abs(heightLeft - heightRight) <= 1:\n",
    "            return max(heightLeft, heightRight) + 1\n",
    "\n",
    "        return -1\n",
    "\n",
    "    def is_tree_balanced2(self, node): # time O(n), space O(n)\n",
    "        return self._is_balanced_helper(node)[0]\n",
    "\n",
    "    def _is_balanced_helper(self, node): \n",
    "        if not node:\n",
    "            return (True, 0)\n",
    "\n",
    "        left_balanced, left_height = self._is_balanced_helper(node.left)\n",
    "        right_balanced, right_height = self._is_balanced_helper(node.right)\n",
    "        return (left_balanced and right_balanced and abs(left_height - right_height) <= 1, max(left_height, right_height) + 1)\n",
    "\n",
    "    \n",
    "\n",
    "# node4 = Node(4)\n",
    "# node3 = Node(3)\n",
    "# node2 = Node(2, node4)\n",
    "# node1 = Node(1, node2, node3)\n",
    "node = Node(1)\n",
    "node.left = Node(2)\n",
    "node.left.left = Node(4)\n",
    "node.right = Node(3)\n",
    "#      1\n",
    "#     / \\\n",
    "#    2   3\n",
    "#   /\n",
    "#  4\n",
    "print(Solution().is_tree_balanced1(node))\n",
    "print(Solution().is_tree_balanced2(node))\n",
    "# True\n",
    "\n",
    "node.right = None\n",
    "#      1\n",
    "#     /\n",
    "#    2\n",
    "#   /\n",
    "#  4\n",
    "print(Solution().is_tree_balanced1(node))\n",
    "print(Solution().is_tree_balanced2(node))\n",
    "# False"
   ]
  },
  {
   "cell_type": "code",
   "execution_count": null,
   "metadata": {},
   "outputs": [],
   "source": []
  }
 ],
 "metadata": {
  "kernelspec": {
   "display_name": "python3",
   "language": "python",
   "name": "python3"
  },
  "language_info": {
   "codemirror_mode": {
    "name": "ipython",
    "version": 3
   },
   "file_extension": ".py",
   "mimetype": "text/x-python",
   "name": "python",
   "nbconvert_exporter": "python",
   "pygments_lexer": "ipython3",
   "version": "3.8.3"
  }
 },
 "nbformat": 4,
 "nbformat_minor": 4
}
