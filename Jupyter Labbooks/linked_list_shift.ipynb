{
 "cells": [
  {
   "cell_type": "code",
   "execution_count": 8,
   "metadata": {},
   "outputs": [
    {
     "name": "stdout",
     "output_type": "stream",
     "text": [
      "0 1 2 3 4 5\n",
      "4 5 0 1 2 3\n"
     ]
    }
   ],
   "source": [
    "class Node:\n",
    "    def __init__(self, value, next=None):\n",
    "        self.value = value\n",
    "        self.next = next\n",
    "\n",
    "    def __repr__(self):\n",
    "        if self.next is None:\n",
    "            return f'{self.value}'\n",
    "        return f'{self.value} {self.next}'\n",
    "            \n",
    "    \n",
    "    \n",
    "class Solution:\n",
    "    def shift(self, head, k): # time O(n), space O(1)\n",
    "        list_length = 1\n",
    "        list_tail = head\n",
    "        while list_tail.next is not None:\n",
    "            list_tail = list_tail.next\n",
    "            list_length += 1\n",
    "\n",
    "        offset = abs(k) % list_length\n",
    "        if offset == 0:\n",
    "            return head\n",
    "\n",
    "        if k > 0:\n",
    "            new_tail_position = list_length - offset\n",
    "        else:\n",
    "            new_tail_position = offset\n",
    "            \n",
    "        new_tail = head\n",
    "        for _ in range(1, new_tail_position):\n",
    "            new_tail = new_tail.next\n",
    "\n",
    "        new_head = new_tail.next\n",
    "        new_tail.next = None\n",
    "        list_tail.next = head\n",
    "        return new_head\n",
    "\n",
    "    \n",
    "head = Node(0)\n",
    "head.next = Node(1)\n",
    "head.next.next = Node(2)\n",
    "head.next.next.next = Node(3)\n",
    "head.next.next.next.next = Node(4)\n",
    "head.next.next.next.next.next = Node(5)\n",
    "\n",
    "print(head)\n",
    "\n",
    "print(Solution().shift(head, 2))"
   ]
  },
  {
   "cell_type": "code",
   "execution_count": null,
   "metadata": {},
   "outputs": [],
   "source": []
  }
 ],
 "metadata": {
  "kernelspec": {
   "display_name": "python3",
   "language": "python",
   "name": "python3"
  },
  "language_info": {
   "codemirror_mode": {
    "name": "ipython",
    "version": 3
   },
   "file_extension": ".py",
   "mimetype": "text/x-python",
   "name": "python",
   "nbconvert_exporter": "python",
   "pygments_lexer": "ipython3",
   "version": "3.8.3"
  }
 },
 "nbformat": 4,
 "nbformat_minor": 4
}
