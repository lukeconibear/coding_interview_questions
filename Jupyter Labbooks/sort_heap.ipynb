{
 "cells": [
  {
   "cell_type": "code",
   "execution_count": 2,
   "metadata": {},
   "outputs": [
    {
     "name": "stdout",
     "output_type": "stream",
     "text": [
      "[1, 2, 3, 4, 5, 8, 45]\n"
     ]
    }
   ],
   "source": [
    "def heap_sort(array): # time O(nlgn), space O(1)\n",
    "    build_max_heap(array)\n",
    "    for end_index in reversed(range(1, len(array))):\n",
    "        array[0], array[end_index] = array[end_index], array[0]\n",
    "        sift_down(0, end_index - 1, array)\n",
    "    return array\n",
    "\n",
    "def build_max_heap(array): # time O(n)\n",
    "    first_parent_index = (len(array) - 2) // 2\n",
    "    for index in reversed(range(first_parent_index + 1)):\n",
    "        sift_down(index, len(array) - 1, array)\n",
    "        \n",
    "def sift_down(index, end_index, heap): # time O(lgn) which is called n times\n",
    "    child_one_index = index * 2 + 1\n",
    "    while child_one_index <= end_index:\n",
    "        child_two_index = index * 2 + 2 if index * 2 + 2 <= end_index else -1\n",
    "        if child_two_index > -1 and heap[child_two_index] > heap[child_one_index]:\n",
    "            index_to_swap = child_two_index\n",
    "        else:\n",
    "            index_to_swap = child_one_index\n",
    "        if heap[index_to_swap] > heap[index]:\n",
    "            heap[index], heap[index_to_swap] = heap[index_to_swap], heap[index]\n",
    "            index = index_to_swap\n",
    "            child_one_index = index * 2 + 1\n",
    "        else:\n",
    "            return\n",
    "        \n",
    "        \n",
    "print(heap_sort([1,5,45,3,2,4,8]))"
   ]
  },
  {
   "cell_type": "code",
   "execution_count": null,
   "metadata": {},
   "outputs": [],
   "source": []
  }
 ],
 "metadata": {
  "kernelspec": {
   "display_name": "python3",
   "language": "python",
   "name": "python3"
  },
  "language_info": {
   "codemirror_mode": {
    "name": "ipython",
    "version": 3
   },
   "file_extension": ".py",
   "mimetype": "text/x-python",
   "name": "python",
   "nbconvert_exporter": "python",
   "pygments_lexer": "ipython3",
   "version": "3.8.3"
  }
 },
 "nbformat": 4,
 "nbformat_minor": 4
}
