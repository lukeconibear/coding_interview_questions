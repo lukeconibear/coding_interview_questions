{
 "cells": [
  {
   "cell_type": "code",
   "execution_count": 4,
   "metadata": {},
   "outputs": [
    {
     "name": "stdout",
     "output_type": "stream",
     "text": [
      "True\n"
     ]
    }
   ],
   "source": [
    "def square_of_zeroes(matrix): # time O(n4), space O(1)\n",
    "    len_matrix = len(matrix)\n",
    "    for top_row in range(len_matrix):\n",
    "        for left_col in range(len_matrix):\n",
    "            square_length = 2\n",
    "            while (square_length <= len_matrix - left_col) and (square_length <= len_matrix - top_row):\n",
    "                bottom_row = top_row + square_length - 1\n",
    "                right_col = left_col + square_length - 1\n",
    "                if is_square_of_zeroes(matrix, top_row, left_col, bottom_row, right_col):\n",
    "                    return True\n",
    "                \n",
    "                square_length += 1\n",
    "    \n",
    "    return False\n",
    "\n",
    "def is_square_of_zeroes(matrix, top_row, left_col, bottom_row, right_col):\n",
    "    for row in range(top_row, bottom_row + 1):\n",
    "        if (matrix[row][left_col]) != 0 or (matrix[row][right_col]) != 0:\n",
    "            return False\n",
    "        \n",
    "    for col in range(left_col, right_col + 1):\n",
    "        if (matrix[top_row][col]) != 0 or (matrix[bottom_row][col]) != 0:\n",
    "            return False\n",
    "        \n",
    "    return True\n",
    "\n",
    "print(square_of_zeroes([[1, 1, 0, 1], [1, 0, 0, 1], [0, 0, 0, 1], [1, 1, 1, 1]]))"
   ]
  },
  {
   "cell_type": "code",
   "execution_count": 5,
   "metadata": {},
   "outputs": [
    {
     "name": "stdout",
     "output_type": "stream",
     "text": [
      "True\n"
     ]
    }
   ],
   "source": [
    "def square_of_zeroes(matrix): # time O(n3), space O(n2)\n",
    "    info_matrix = pre_compute_num_of_zeroes(matrix)\n",
    "    len_matrix = len(matrix)\n",
    "    for top_row in range(len_matrix):\n",
    "        for left_col in range(len_matrix):\n",
    "            square_length = 2\n",
    "            while (square_length <= len_matrix - left_col) and (square_length <= len_matrix - top_row):\n",
    "                bottom_row = top_row + square_length - 1\n",
    "                right_col = left_col + square_length - 1\n",
    "                if is_square_of_zeros(info_matrix, top_row, left_col, bottom_row, right_col):\n",
    "                    return True\n",
    "                \n",
    "                square_length += 1\n",
    "    \n",
    "    return False\n",
    "\n",
    "def is_square_of_zeros(info_matrix, top_row, left_col, bottom_row, right_col):\n",
    "    square_length = right_col - left_col + 1\n",
    "    has_top_border = info_matrix[top_row][left_col]['num_zeroes_right'] >= square_length\n",
    "    has_left_border = info_matrix[top_row][left_col]['num_zeroes_below'] >= square_length\n",
    "    has_bottom_border = info_matrix[bottom_row][left_col]['num_zeroes_right'] >= square_length\n",
    "    has_right_border = info_matrix[top_row][right_col]['num_zeroes_below'] >= square_length\n",
    "    return has_top_border and has_left_border and has_bottom_border and has_right_border\n",
    "\n",
    "def pre_compute_num_of_zeroes(matrix):\n",
    "    info_matrix = [[x for x in row] for row in matrix]\n",
    "    len_matrix = len(matrix)\n",
    "    for row in range(len_matrix):\n",
    "        for col in range(len_matrix):\n",
    "            num_zeroes = 1 if matrix[row][col] == 0 else 0\n",
    "            info_matrix[row][col] = {\n",
    "                'num_zeroes_below': num_zeroes,\n",
    "                'num_zeroes_right': num_zeroes,\n",
    "            }\n",
    "            \n",
    "    last_index = len_matrix - 1\n",
    "    for row in reversed(range(len_matrix)):\n",
    "        for col in reversed(range(len_matrix)):\n",
    "            if matrix[row][col] == 1:\n",
    "                continue\n",
    "            \n",
    "            if row < last_index:\n",
    "                info_matrix[row][col]['num_zeroes_below'] += info_matrix[row + 1][col]['num_zeroes_below']\n",
    "                \n",
    "            if col < last_index:\n",
    "                info_matrix[row][col]['num_zeroes_right'] += info_matrix[row][col + 1]['num_zeroes_right']\n",
    "                \n",
    "    return info_matrix\n",
    "\n",
    "print(square_of_zeroes([[1, 1, 0, 1], [1, 0, 0, 1], [0, 0, 0, 1], [1, 1, 1, 1]]))"
   ]
  },
  {
   "cell_type": "code",
   "execution_count": null,
   "metadata": {},
   "outputs": [],
   "source": []
  }
 ],
 "metadata": {
  "kernelspec": {
   "display_name": "python3",
   "language": "python",
   "name": "python3"
  },
  "language_info": {
   "codemirror_mode": {
    "name": "ipython",
    "version": 3
   },
   "file_extension": ".py",
   "mimetype": "text/x-python",
   "name": "python",
   "nbconvert_exporter": "python",
   "pygments_lexer": "ipython3",
   "version": "3.8.3"
  }
 },
 "nbformat": 4,
 "nbformat_minor": 4
}
