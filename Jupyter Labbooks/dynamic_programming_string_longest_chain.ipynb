{
 "cells": [
  {
   "cell_type": "code",
   "execution_count": 3,
   "metadata": {},
   "outputs": [
    {
     "name": "stdout",
     "output_type": "stream",
     "text": [
      "['abcdef', 'abcde', 'abde', 'ade', 'ae']\n"
     ]
    }
   ],
   "source": [
    "def string_longest_chain(strings): # time O(nm^2 + nlgn), space O(nm) where n is the number of strings and m is the length of the largest string\n",
    "    string_chains = {}\n",
    "    for string in strings:\n",
    "        string_chains[string] = {\n",
    "            'next_string': '',\n",
    "            'max_chain_length': 1\n",
    "        }\n",
    "\n",
    "    sorted_strings = sorted(strings, key=len)\n",
    "    for string in sorted_strings:\n",
    "        find_longest_string_chain(string, string_chains)\n",
    "        \n",
    "    return build_longest_string_chain(strings, string_chains)\n",
    "\n",
    "def find_longest_string_chain(string, string_chains):\n",
    "    for index in range(len(string)):\n",
    "        smaller_string = string[0:index] + string[index + 1:]\n",
    "        if smaller_string not in string_chains:\n",
    "            continue\n",
    "            \n",
    "        string_chain_length = string_chains[string]['max_chain_length']\n",
    "        smaller_string_chain_length = string_chains[smaller_string]['max_chain_length']\n",
    "        if string_chain_length < smaller_string_chain_length + 1:\n",
    "            string_chains[string]['next_string'] = smaller_string\n",
    "            string_chains[string]['max_chain_length'] = smaller_string_chain_length + 1\n",
    "        \n",
    "def build_longest_string_chain(strings, string_chains):\n",
    "    max_chain_length = 0\n",
    "    chain_starting_string = ''\n",
    "    for string in strings:\n",
    "        if string_chains[string]['max_chain_length'] > max_chain_length:\n",
    "            max_chain_length = string_chains[string]['max_chain_length']\n",
    "            chain_starting_string = string\n",
    "            \n",
    "    longest_string_chain = []\n",
    "    string = chain_starting_string\n",
    "    while string != '':\n",
    "        longest_string_chain.append(string)\n",
    "        string = string_chains[string]['next_string']\n",
    "        \n",
    "    return [] if len(longest_string_chain) == 1 else longest_string_chain\n",
    "\n",
    "\n",
    "print(string_longest_chain([\"abde\", \"abc\", \"abd\", \"abcde\", \"ade\", \"ae\", \"1abde\", \"abcdef\"]))"
   ]
  },
  {
   "cell_type": "code",
   "execution_count": null,
   "metadata": {},
   "outputs": [],
   "source": []
  }
 ],
 "metadata": {
  "kernelspec": {
   "display_name": "python3",
   "language": "python",
   "name": "python3"
  },
  "language_info": {
   "codemirror_mode": {
    "name": "ipython",
    "version": 3
   },
   "file_extension": ".py",
   "mimetype": "text/x-python",
   "name": "python",
   "nbconvert_exporter": "python",
   "pygments_lexer": "ipython3",
   "version": "3.8.3"
  }
 },
 "nbformat": 4,
 "nbformat_minor": 4
}
