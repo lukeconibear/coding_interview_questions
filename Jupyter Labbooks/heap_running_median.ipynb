{
 "cells": [
  {
   "cell_type": "code",
   "execution_count": 1,
   "metadata": {},
   "outputs": [
    {
     "name": "stdout",
     "output_type": "stream",
     "text": [
      "[2, 1.5, 2, 3.0, 2, 2.0, 2]\n"
     ]
    }
   ],
   "source": [
    "import heapq\n",
    "\n",
    "def add(num, min_heap, max_heap): # time O(logn)\n",
    "    if len(min_heap) + len(max_heap) <= 1:\n",
    "        heapq.heappush(max_heap, -num)\n",
    "        return\n",
    "\n",
    "    median = get_median(min_heap, max_heap)\n",
    "    if num > median:\n",
    "        heapq.heappush(min_heap, num)\n",
    "    else:\n",
    "        heapq.heappush(max_heap, -num)\n",
    "\n",
    "def rebalance(min_heap, max_heap): # time O(2logn)\n",
    "    if len(min_heap) > len(max_heap) + 1:\n",
    "        root = heapq.heappop(min_heap)\n",
    "        heapq.heappush(max_heap, -root)\n",
    "    elif len(max_heap) > len(min_heap) + 1:\n",
    "        root = -heapq.heappop(max_heap)\n",
    "        heapq.heappush(min_heap, root)\n",
    "\n",
    "def print_median(min_heap, max_heap):\n",
    "    print(get_median(min_heap, max_heap))\n",
    "\n",
    "\n",
    "def get_median(min_heap, max_heap): # time O(1)\n",
    "    if len(min_heap) > len(max_heap):\n",
    "        return min_heap[0]\n",
    "    elif len(min_heap) < len(max_heap):\n",
    "        return -max_heap[0]\n",
    "    else:\n",
    "        return (min_heap[0] + -max_heap[0]) / 2.0\n",
    "\n",
    "\n",
    "def running_median(stream): # time O(nlogn), space O()\n",
    "    min_heap = []\n",
    "    max_heap = []\n",
    "    answer = []\n",
    "    for num in stream:\n",
    "        add(num, min_heap, max_heap)\n",
    "        rebalance(min_heap, max_heap)\n",
    "        answer.append(get_median(min_heap, max_heap))\n",
    "    return answer\n",
    "\n",
    "print(running_median([2, 1, 4, 7, 2, 0, 5]))\n",
    "# [2, 1.5, 2, 3, 2, 2, 2]"
   ]
  }
 ],
 "metadata": {
  "kernelspec": {
   "display_name": "python3",
   "language": "python",
   "name": "python3"
  },
  "language_info": {
   "codemirror_mode": {
    "name": "ipython",
    "version": 3
   },
   "file_extension": ".py",
   "mimetype": "text/x-python",
   "name": "python",
   "nbconvert_exporter": "python",
   "pygments_lexer": "ipython3",
   "version": "3.8.3"
  }
 },
 "nbformat": 4,
 "nbformat_minor": 4
}
