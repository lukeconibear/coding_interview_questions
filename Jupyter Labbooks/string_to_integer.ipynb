{
 "cells": [
  {
   "cell_type": "code",
   "execution_count": 1,
   "metadata": {},
   "outputs": [
    {
     "name": "stdout",
     "output_type": "stream",
     "text": [
      "-104\n"
     ]
    }
   ],
   "source": [
    "def convert_to_int(string): # time O(n), space O(1)\n",
    "    is_negative = False\n",
    "    start_index = 0\n",
    "    if string[0] == '-':\n",
    "        is_negative = True\n",
    "        start_index = 1\n",
    "\n",
    "    result = 0\n",
    "    for char in string[start_index:]:\n",
    "        result = result * 10 + ord(char) - ord('0')\n",
    "\n",
    "    if is_negative:\n",
    "        result *= -1\n",
    "    return result\n",
    "\n",
    "\n",
    "print(convert_to_int('-105') + 1)\n",
    "# -104"
   ]
  },
  {
   "cell_type": "code",
   "execution_count": null,
   "metadata": {},
   "outputs": [],
   "source": []
  }
 ],
 "metadata": {
  "kernelspec": {
   "display_name": "python3",
   "language": "python",
   "name": "python3"
  },
  "language_info": {
   "codemirror_mode": {
    "name": "ipython",
    "version": 3
   },
   "file_extension": ".py",
   "mimetype": "text/x-python",
   "name": "python",
   "nbconvert_exporter": "python",
   "pygments_lexer": "ipython3",
   "version": "3.8.3"
  }
 },
 "nbformat": 4,
 "nbformat_minor": 4
}
