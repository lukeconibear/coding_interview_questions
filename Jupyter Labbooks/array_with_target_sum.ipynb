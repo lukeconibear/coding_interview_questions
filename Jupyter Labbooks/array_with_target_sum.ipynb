{
 "cells": [
  {
   "cell_type": "code",
   "execution_count": 2,
   "metadata": {},
   "outputs": [
    {
     "name": "stdout",
     "output_type": "stream",
     "text": [
      "[2, 5, 7]\n",
      "[2, 5, 7]\n"
     ]
    }
   ],
   "source": [
    "def find_continuous_total1(list, total): # time O(n2), space O(1)\n",
    "    for start in range(len(list)):\n",
    "        total = 0\n",
    "        for end in range(start, len(list)):\n",
    "            total += list[end]\n",
    "            if total == k:\n",
    "                return list[start:end + 1]\n",
    "    return None\n",
    "\n",
    "def find_continuous_total2(list, total): # time O(n), space O(n)\n",
    "    previous_totals = {0: -1} # {total: index}\n",
    "    total = 0\n",
    "    for index, n in enumerate(list):\n",
    "        total += n\n",
    "        previous_totals[total] = index\n",
    "        if previous_totals.get(total - k):\n",
    "            return list[previous_totals[total-k] + 1: index + 1]\n",
    "    return None\n",
    "\n",
    "\n",
    "print(find_continuous_k1([1, 3, 2, 5, 7, 2], 14))\n",
    "print(find_continuous_k2([1, 3, 2, 5, 7, 2], 14))"
   ]
  },
  {
   "cell_type": "code",
   "execution_count": null,
   "metadata": {},
   "outputs": [],
   "source": []
  }
 ],
 "metadata": {
  "kernelspec": {
   "display_name": "python3",
   "language": "python",
   "name": "python3"
  },
  "language_info": {
   "codemirror_mode": {
    "name": "ipython",
    "version": 3
   },
   "file_extension": ".py",
   "mimetype": "text/x-python",
   "name": "python",
   "nbconvert_exporter": "python",
   "pygments_lexer": "ipython3",
   "version": "3.8.3"
  }
 },
 "nbformat": 4,
 "nbformat_minor": 4
}
