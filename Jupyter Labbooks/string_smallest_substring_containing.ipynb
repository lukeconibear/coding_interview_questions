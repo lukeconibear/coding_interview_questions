{
 "cells": [
  {
   "cell_type": "code",
   "execution_count": 1,
   "metadata": {},
   "outputs": [
    {
     "name": "stdout",
     "output_type": "stream",
     "text": [
      "abcdef\n"
     ]
    }
   ],
   "source": [
    "def smallest_substring_containing(big_string, small_string): # time O(b + s), space O(b + s) where b is len(big_string) and s is len(small_string)\n",
    "    target_char_counts = get_char_counts(small_string)\n",
    "    substring_bounds = get_substring_bounds(big_string, target_char_counts)\n",
    "    return get_string_from_bounds(big_string, substring_bounds)\n",
    "\n",
    "def get_char_counts(string):\n",
    "    char_counts = {}\n",
    "    for char in string:\n",
    "        if char not in char_counts:\n",
    "            char_counts[char] = 0\n",
    "\n",
    "        char_counts[char] += 1\n",
    "        \n",
    "    return char_counts\n",
    "\n",
    "def get_substring_bounds(string, target_char_counts):\n",
    "    substring_bounds = [0, float('inf')]\n",
    "    substring_char_counts = {}\n",
    "    num_unique_chars = len(target_char_counts.keys())\n",
    "    num_unique_chars_done = 0\n",
    "    left_index = 0\n",
    "    right_index = 0\n",
    "    while right_index < len(string):\n",
    "        right_char = string[right_index]\n",
    "        if right_char not in target_char_counts:\n",
    "            right_index += 1\n",
    "            continue\n",
    "            \n",
    "        if right_char not in substring_char_counts:\n",
    "            substring_char_counts[right_char] = 0\n",
    "\n",
    "        substring_char_counts[right_char] += 1\n",
    "        \n",
    "        if substring_char_counts[right_char] == target_char_counts[right_char]:\n",
    "            num_unique_chars_done += 1\n",
    "            \n",
    "        while num_unique_chars_done == num_unique_chars and left_index <= right_index:\n",
    "            substring_bounds = get_closer_bounds(left_index, right_index, substring_bounds[0], substring_bounds[1])\n",
    "            left_char = string[left_index]\n",
    "            if left_char not in target_char_counts:\n",
    "                left_index += 1\n",
    "                continue\n",
    "            \n",
    "            if substring_char_counts[left_char] == target_char_counts[left_char]:\n",
    "                num_unique_chars_done -= 1\n",
    "                \n",
    "            substring_char_counts[left_char] -= 1\n",
    "            left_index += 1\n",
    "        \n",
    "        right_index += 1\n",
    "    \n",
    "    return substring_bounds\n",
    "\n",
    "def get_closer_bounds(index1, index2, index3, index4):\n",
    "    return [index1, index2] if (index2 - index1) < (index4 - index3) else [index3, index4]\n",
    "\n",
    "def get_string_from_bounds(string, bounds):\n",
    "    start, end = bounds\n",
    "    if end == float('inf'):\n",
    "        return ''\n",
    "    \n",
    "    return string[start: end + 1]\n",
    "         \n",
    "        \n",
    "print(smallest_substring_containing('abcdef', 'fa'))"
   ]
  },
  {
   "cell_type": "code",
   "execution_count": null,
   "metadata": {},
   "outputs": [],
   "source": []
  }
 ],
 "metadata": {
  "kernelspec": {
   "display_name": "python3",
   "language": "python",
   "name": "python3"
  },
  "language_info": {
   "codemirror_mode": {
    "name": "ipython",
    "version": 3
   },
   "file_extension": ".py",
   "mimetype": "text/x-python",
   "name": "python",
   "nbconvert_exporter": "python",
   "pygments_lexer": "ipython3",
   "version": "3.8.6"
  }
 },
 "nbformat": 4,
 "nbformat_minor": 4
}
