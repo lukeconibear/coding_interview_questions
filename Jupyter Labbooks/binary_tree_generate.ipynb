{
 "cells": [
  {
   "cell_type": "code",
   "execution_count": 5,
   "metadata": {},
   "outputs": [
    {
     "name": "stdout",
     "output_type": "stream",
     "text": [
      "[123, 132, 213, 312, 321]\n"
     ]
    }
   ],
   "source": [
    "class Node:\n",
    "    def __init__(self, value, left=None, right=None):\n",
    "        self.value = value\n",
    "        self.left = left\n",
    "        self.right = right\n",
    "\n",
    "    def __repr__(self):\n",
    "        result = str(self.value)\n",
    "        \n",
    "        if self.left:\n",
    "            result = result + str(self.left)\n",
    "            \n",
    "        if self.right:\n",
    "            result = result + str(self.right)\n",
    "            \n",
    "        return result\n",
    "\n",
    "class Solution:\n",
    "    def gen_tree(self, nums):\n",
    "        if len(nums) == 0:\n",
    "            return [None]\n",
    "        \n",
    "        if len(nums) == 1:\n",
    "            return [Node(nums[0])]\n",
    "        \n",
    "        bsts = []\n",
    "\n",
    "        for num in nums:\n",
    "            lefts = self.gen_tree(range(nums[0], num))\n",
    "            rights = self.gen_tree(range(num + 1, nums[-1] + 1))\n",
    "\n",
    "            for left in lefts:\n",
    "                for right in rights:\n",
    "                    node = Node(num, left, right)\n",
    "                    bsts.append(node)\n",
    "\n",
    "        return bsts\n",
    "\n",
    "    def generate_bst(self, num): # time O(2^n number of trees, n time per tree creation), space O()\n",
    "        return self.gen_tree(range(1, num + 1))\n",
    "\n",
    "\n",
    "print(Solution().generate_bst(3))\n",
    "# 5 trees"
   ]
  },
  {
   "cell_type": "code",
   "execution_count": null,
   "metadata": {},
   "outputs": [],
   "source": []
  }
 ],
 "metadata": {
  "kernelspec": {
   "display_name": "python3",
   "language": "python",
   "name": "python3"
  },
  "language_info": {
   "codemirror_mode": {
    "name": "ipython",
    "version": 3
   },
   "file_extension": ".py",
   "mimetype": "text/x-python",
   "name": "python",
   "nbconvert_exporter": "python",
   "pygments_lexer": "ipython3",
   "version": "3.8.3"
  }
 },
 "nbformat": 4,
 "nbformat_minor": 4
}
