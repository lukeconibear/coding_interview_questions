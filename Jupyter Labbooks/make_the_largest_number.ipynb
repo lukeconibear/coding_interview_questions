{
 "cells": [
  {
   "cell_type": "code",
   "execution_count": 15,
   "metadata": {},
   "outputs": [
    {
     "name": "stdout",
     "output_type": "stream",
     "text": [
      "77245217\n"
     ]
    }
   ],
   "source": [
    "from functools import cmp_to_key\n",
    "\n",
    "def largestNum(nums): # time O(nlogn), space O(n) uses quick sort\n",
    "    sorted_nums = sorted(\n",
    "        nums, \n",
    "        key=cmp_to_key(\n",
    "            lambda a, b: \n",
    "            1 if str(a) + str(b) < str(b) + str(a) \n",
    "            else -1)\n",
    "        )\n",
    "    return ''.join(str(n) for n in sorted_nums)\n",
    "\n",
    "\n",
    "print(largestNum([17, 7, 2, 45, 72]))\n",
    "# 77245217"
   ]
  },
  {
   "cell_type": "code",
   "execution_count": null,
   "metadata": {},
   "outputs": [],
   "source": []
  }
 ],
 "metadata": {
  "kernelspec": {
   "display_name": "python3",
   "language": "python",
   "name": "python3"
  },
  "language_info": {
   "codemirror_mode": {
    "name": "ipython",
    "version": 3
   },
   "file_extension": ".py",
   "mimetype": "text/x-python",
   "name": "python",
   "nbconvert_exporter": "python",
   "pygments_lexer": "ipython3",
   "version": "3.8.3"
  }
 },
 "nbformat": 4,
 "nbformat_minor": 4
}
