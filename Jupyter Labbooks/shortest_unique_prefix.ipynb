{
 "cells": [
  {
   "cell_type": "code",
   "execution_count": 1,
   "metadata": {},
   "outputs": [
    {
     "name": "stdout",
     "output_type": "stream",
     "text": [
      "['jon', 'joh', 'ja', 't']\n"
     ]
    }
   ],
   "source": [
    "class Node:\n",
    "    def __init__(self):\n",
    "        self.count = 0\n",
    "        self.children = {}\n",
    "\n",
    "\n",
    "class Trie:\n",
    "    def __init__(self):\n",
    "        self.root = Node()\n",
    "\n",
    "    def insert(self, word):\n",
    "        node = self.root\n",
    "\n",
    "        for c in word:\n",
    "            if c not in node.children:\n",
    "                node.children[c] = Node()\n",
    "            node = node.children[c]\n",
    "            node.count = node.count + 1\n",
    "\n",
    "    def unique_prefix(self, word):\n",
    "        node = self.root\n",
    "        prefix = ''\n",
    "\n",
    "        for c in word:\n",
    "            if node.count == 1:\n",
    "                return prefix\n",
    "            else:\n",
    "                node = node.children[c]\n",
    "                prefix += c\n",
    "        return prefix\n",
    "\n",
    "\n",
    "def shortest_unique_prefix(words): # time O(n), space O(n)\n",
    "    trie = Trie()\n",
    "\n",
    "    for word in words:\n",
    "        trie.insert(word)\n",
    "\n",
    "    unique_prefixes = []\n",
    "    for word in words:\n",
    "        unique_prefixes.append(trie.unique_prefix(word))\n",
    "\n",
    "    return unique_prefixes\n",
    "\n",
    "\n",
    "print(shortest_unique_prefix(['jon', 'john', 'jack', 'techlead']))"
   ]
  },
  {
   "cell_type": "code",
   "execution_count": null,
   "metadata": {},
   "outputs": [],
   "source": []
  }
 ],
 "metadata": {
  "kernelspec": {
   "display_name": "python3",
   "language": "python",
   "name": "python3"
  },
  "language_info": {
   "codemirror_mode": {
    "name": "ipython",
    "version": 3
   },
   "file_extension": ".py",
   "mimetype": "text/x-python",
   "name": "python",
   "nbconvert_exporter": "python",
   "pygments_lexer": "ipython3",
   "version": "3.8.3"
  }
 },
 "nbformat": 4,
 "nbformat_minor": 4
}
