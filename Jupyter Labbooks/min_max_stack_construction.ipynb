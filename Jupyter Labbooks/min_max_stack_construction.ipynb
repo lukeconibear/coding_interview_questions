{
 "cells": [
  {
   "cell_type": "code",
   "execution_count": 1,
   "metadata": {},
   "outputs": [],
   "source": [
    "class MinMaxStack:\n",
    "    def __init__(self):\n",
    "        self.minMaxStack = []\n",
    "        self.stack = []\n",
    "    \n",
    "    def peek(self): # time O(1), space O(1)\n",
    "        return self.stack[len(self.stack) - 1]\n",
    "\n",
    "    def pop(self): # time O(1), space O(1)\n",
    "        self.minMaxStack.pop()\n",
    "        return self.stack.pop()\n",
    "\n",
    "    def push(self, number): # time O(1), space O(1)\n",
    "        new_min_max = {'min': number, 'max': number}\n",
    "        if len(self.minMaxStack):\n",
    "            last_min_max = self.minMaxStack[len(self.minMaxStack) - 1]\n",
    "            new_min_max['min'] = min(last_min_max['min'], number)\n",
    "            new_min_max['max'] = max(last_min_max['max'], number)\n",
    "        self.minMaxStack.append(new_min_max)\n",
    "        self.stack.append(number)\n",
    "\n",
    "    def getMin(self): # time O(1), space O(1)\n",
    "        return self.minMaxStack[len(self.minMaxStack) - 1]['min']\n",
    "\n",
    "    def getMax(self): # time O(1), space O(1)\n",
    "        return self.minMaxStack[len(self.minMaxStack) - 1]['max']\n"
   ]
  },
  {
   "cell_type": "code",
   "execution_count": null,
   "metadata": {},
   "outputs": [],
   "source": []
  }
 ],
 "metadata": {
  "kernelspec": {
   "display_name": "python3",
   "language": "python",
   "name": "python3"
  },
  "language_info": {
   "codemirror_mode": {
    "name": "ipython",
    "version": 3
   },
   "file_extension": ".py",
   "mimetype": "text/x-python",
   "name": "python",
   "nbconvert_exporter": "python",
   "pygments_lexer": "ipython3",
   "version": "3.8.3"
  }
 },
 "nbformat": 4,
 "nbformat_minor": 4
}
