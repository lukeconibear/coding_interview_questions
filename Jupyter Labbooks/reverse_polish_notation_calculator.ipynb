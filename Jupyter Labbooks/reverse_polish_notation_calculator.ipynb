{
 "cells": [
  {
   "cell_type": "code",
   "execution_count": 1,
   "metadata": {},
   "outputs": [
    {
     "name": "stdout",
     "output_type": "stream",
     "text": [
      "-9\n"
     ]
    }
   ],
   "source": [
    "def calc(inputs): # time O(n), space O(n)\n",
    "    stack = []\n",
    "\n",
    "    for i in inputs:\n",
    "        if i in ('-', '+', '*', '/'):\n",
    "            b = stack.pop()\n",
    "            a = stack.pop()\n",
    "            if i == '-':\n",
    "                stack.append(a - b)\n",
    "            if i == '+':\n",
    "                stack.append(a + b)\n",
    "            if i == '*':\n",
    "                stack.append(a * b)\n",
    "            if i == '/':\n",
    "                stack.append(a / b)\n",
    "        else:\n",
    "            stack.append(i)\n",
    "    return stack[0]\n",
    "\n",
    "print(calc([1, 2, 3, '+', 2, '*', '-']))"
   ]
  },
  {
   "cell_type": "raw",
   "metadata": {},
   "source": [
    "1\n",
    "2\n",
    "3\n",
    "+ # (this then adds 2 and 3 = 5)\n",
    "2\n",
    "* # (this then multiplies 2 and whatever the last digit was i.e. 5, so = 10\n",
    "- # this takes away the previous from the last digit not used i.e. 1, so 1 - 10 = -9\n",
    "\n",
    "1 - (2+3) * 2"
   ]
  }
 ],
 "metadata": {
  "kernelspec": {
   "display_name": "python3",
   "language": "python",
   "name": "python3"
  },
  "language_info": {
   "codemirror_mode": {
    "name": "ipython",
    "version": 3
   },
   "file_extension": ".py",
   "mimetype": "text/x-python",
   "name": "python",
   "nbconvert_exporter": "python",
   "pygments_lexer": "ipython3",
   "version": "3.8.3"
  }
 },
 "nbformat": 4,
 "nbformat_minor": 4
}
