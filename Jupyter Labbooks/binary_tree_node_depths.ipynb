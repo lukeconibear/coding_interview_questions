{
 "cells": [
  {
   "cell_type": "code",
   "execution_count": 8,
   "metadata": {},
   "outputs": [
    {
     "name": "stdout",
     "output_type": "stream",
     "text": [
      "True\n"
     ]
    }
   ],
   "source": [
    "class Node:\n",
    "    def __init__(self, value, left=None, right=None):\n",
    "        self.value = value\n",
    "        self.left = left\n",
    "        self.right = right\n",
    "        \n",
    "    def __repr__(self):\n",
    "        return f'{self.value}'\n",
    "    \n",
    "class Solution:\n",
    "    def node_depth_recursion(self, node, depth=0): # time O(nodes), space (height)\n",
    "        if node is None:\n",
    "            return 0\n",
    "        return depth + self.node_depth_recursion(node.left, depth + 1) + self.node_depth_recursion(node.right, depth + 1)\n",
    "\n",
    "\n",
    "    def node_depth_iterative(self, node): # time O(nodes), space (height)\n",
    "        depth_sum = 0\n",
    "        stack = [{'node': node, 'depth': 0}]\n",
    "        while len(stack) > 0:\n",
    "            node_info = stack.pop()\n",
    "            node, depth = node_info['node'], node_info['depth']\n",
    "            if node is None:\n",
    "                continue\n",
    "            depth_sum += depth\n",
    "            stack.append({'node': node.left, 'depth': depth + 1})\n",
    "            stack.append({'node': node.right, 'depth': depth + 1})\n",
    "        return depth_sum\n",
    "\n",
    "    def test(self):\n",
    "        head = Node(1)\n",
    "        head.left = Node(2)\n",
    "        head.left.left = Node(4)\n",
    "        head.left.right = Node(5)\n",
    "        head.left.left.left = Node(8)\n",
    "        head.left.left.right = Node(9)\n",
    "        head.right = Node(3)\n",
    "        head.right.left = Node(6)\n",
    "        head.right.right = Node(7)\n",
    "        \n",
    "        return Solution().node_depth_recursion(head) == 16 and Solution().node_depth_iterative(head) == 16\n",
    "    \n",
    "print(Solution().test())"
   ]
  },
  {
   "cell_type": "code",
   "execution_count": 7,
   "metadata": {},
   "outputs": [
    {
     "name": "stdout",
     "output_type": "stream",
     "text": [
      "16\n",
      "16\n"
     ]
    }
   ],
   "source": [
    "head = Node(1)\n",
    "head.left = Node(2)\n",
    "head.left.left = Node(4)\n",
    "head.left.right = Node(5)\n",
    "head.left.left.left = Node(8)\n",
    "head.left.left.right = Node(9)\n",
    "head.right = Node(3)\n",
    "head.right.left = Node(6)\n",
    "head.right.right = Node(7)\n",
    "\n",
    "print(Solution().node_depth_recursion(head))\n",
    "print(Solution().node_depth_iterative(head))"
   ]
  },
  {
   "cell_type": "code",
   "execution_count": null,
   "metadata": {},
   "outputs": [],
   "source": []
  }
 ],
 "metadata": {
  "kernelspec": {
   "display_name": "python3",
   "language": "python",
   "name": "python3"
  },
  "language_info": {
   "codemirror_mode": {
    "name": "ipython",
    "version": 3
   },
   "file_extension": ".py",
   "mimetype": "text/x-python",
   "name": "python",
   "nbconvert_exporter": "python",
   "pygments_lexer": "ipython3",
   "version": "3.8.3"
  }
 },
 "nbformat": 4,
 "nbformat_minor": 4
}
