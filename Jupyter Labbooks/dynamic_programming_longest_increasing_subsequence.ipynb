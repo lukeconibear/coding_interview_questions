{
 "cells": [
  {
   "cell_type": "code",
   "execution_count": 2,
   "metadata": {},
   "outputs": [
    {
     "name": "stdout",
     "output_type": "stream",
     "text": [
      "[-24, 2, 3, 5, 6, 35]\n",
      "[-24, 2, 3, 5, 6, 35]\n"
     ]
    }
   ],
   "source": [
    "def longest_increasing_subsequence1(array): # time O(n2), space O(n)\n",
    "    sequences = [None for _ in array]\n",
    "    lengths = [1 for _ in array]\n",
    "    max_length_index = 0\n",
    "    for index1 in range(len(array)):\n",
    "        num1 = array[index1]\n",
    "        for index2 in range(0, index1):\n",
    "            num2 = array[index2]\n",
    "            if num2 < num1 and lengths[index2] + 1 >= lengths[index1]:\n",
    "                lengths[index1] = lengths[index2] + 1\n",
    "                sequences[index1] = index2\n",
    "                \n",
    "        if lengths[index1] >= lengths[max_length_index]:\n",
    "            max_length_index = index1\n",
    "        \n",
    "    return build_sequence(array, sequences, max_length_index)\n",
    "\n",
    "def build_sequence(array, sequences, index):\n",
    "    sequence = []\n",
    "    while index is not None:\n",
    "        sequence.append(array[index])\n",
    "        index = sequences[index]\n",
    "        \n",
    "    return list(reversed(sequence))\n",
    "\n",
    "def longest_increasing_subsequence2(array): # time O(nlgn), space O(n)\n",
    "    sequences = [None for _ in array]\n",
    "    indices = [None for _ in range(len(array) + 1)]\n",
    "    length = 0\n",
    "    for index, num in enumerate(array):\n",
    "        new_length = binary_search(1, length, indices, array, num)\n",
    "        sequences[index] = indices[new_length - 1]\n",
    "        indices[new_length] = index\n",
    "        length = max(length, new_length)\n",
    "        \n",
    "    return build_sequence(array, sequences, indices[length])\n",
    "\n",
    "def binary_search(start_index, end_index, indices, array, num):\n",
    "    if start_index > end_index:\n",
    "        return start_index\n",
    "    \n",
    "    middle_index = (start_index + end_index) // 2\n",
    "    if array[indices[middle_index]] < num:\n",
    "        start_index = middle_index + 1\n",
    "    else:\n",
    "        end_index = middle_index - 1\n",
    "    \n",
    "    return binary_search(start_index, end_index, indices, array, num)\n",
    "\n",
    "def build_sequence(array, sequences, index):\n",
    "    sequence = []\n",
    "    while index is not None:\n",
    "        sequence.append(array[index])\n",
    "        index = sequences[index]\n",
    "        \n",
    "    return list(reversed(sequence))\n",
    "\n",
    "\n",
    "print(longest_increasing_subsequence1([5, 7, -24, 12, 10, 2, 3, 12, 5, 6, 35]))\n",
    "print(longest_increasing_subsequence2([5, 7, -24, 12, 10, 2, 3, 12, 5, 6, 35]))"
   ]
  },
  {
   "cell_type": "code",
   "execution_count": null,
   "metadata": {},
   "outputs": [],
   "source": []
  }
 ],
 "metadata": {
  "kernelspec": {
   "display_name": "python3",
   "language": "python",
   "name": "python3"
  },
  "language_info": {
   "codemirror_mode": {
    "name": "ipython",
    "version": 3
   },
   "file_extension": ".py",
   "mimetype": "text/x-python",
   "name": "python",
   "nbconvert_exporter": "python",
   "pygments_lexer": "ipython3",
   "version": "3.8.3"
  }
 },
 "nbformat": 4,
 "nbformat_minor": 4
}
