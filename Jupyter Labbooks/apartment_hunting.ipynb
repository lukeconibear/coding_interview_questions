{
 "cells": [
  {
   "cell_type": "code",
   "execution_count": 3,
   "metadata": {},
   "outputs": [
    {
     "name": "stdout",
     "output_type": "stream",
     "text": [
      "3\n"
     ]
    }
   ],
   "source": [
    "def apartment_hunting(blocks, reqs): # time O(br), space O(br)\n",
    "    min_distances_from_blocks = [get_min_distances(blocks, req) for req in reqs]\n",
    "    max_distances_at_blocks = get_max_distances_at_blocks(blocks, min_distances_from_blocks)\n",
    "    return get_index_at_min_value(max_distances_at_blocks)\n",
    "\n",
    "def get_min_distances(blocks, req):\n",
    "    min_distances = [0 for _ in blocks]\n",
    "    closest_req_index = float('inf')\n",
    "    for index in range(len(blocks)):\n",
    "        if blocks[index][req]:\n",
    "            closest_req_index = index\n",
    "        min_distances[index] = abs(index - closest_req_index)\n",
    "    \n",
    "    for index in reversed(range(len(blocks))):\n",
    "        if blocks[index][req]:\n",
    "            closest_req_index = index\n",
    "        min_distances[index] = min(min_distances[index], abs(index - closest_req_index))\n",
    "        \n",
    "    return min_distances\n",
    "\n",
    "def get_max_distances_at_blocks(blocks, min_distances_from_blocks):\n",
    "    max_distances_at_blocks = [0 for _ in blocks]\n",
    "    for index in range(len(blocks)):\n",
    "        min_distances_at_block = [distances[index] for distances in min_distances_from_blocks]\n",
    "        max_distances_at_blocks[index] = max(min_distances_at_block)\n",
    "        \n",
    "    return max_distances_at_blocks\n",
    "\n",
    "def get_index_at_min_value(array):\n",
    "    index_at_min_value = 0\n",
    "    min_value = float('inf')\n",
    "    for index in range(len(array)):\n",
    "        current_value = array[index]\n",
    "        if current_value < min_value:\n",
    "            min_value = current_value\n",
    "            index_at_min_value = index\n",
    "    \n",
    "    return index_at_min_value\n",
    "\n",
    "blocks = [\n",
    "    {\"gym\": False, \"school\": True, \"store\": False},\n",
    "    {\"gym\": True, \"school\": False, \"store\": False},\n",
    "    {\"gym\": True, \"school\": True, \"store\": False},\n",
    "    {\"gym\": False, \"school\": True, \"store\": False},\n",
    "    {\"gym\": False, \"school\": True, \"store\": True}\n",
    "]\n",
    "reqs = [\"gym\", \"school\", \"store\"]\n",
    "print(apartment_hunting(blocks, reqs))"
   ]
  },
  {
   "cell_type": "code",
   "execution_count": null,
   "metadata": {},
   "outputs": [],
   "source": []
  }
 ],
 "metadata": {
  "kernelspec": {
   "display_name": "python3",
   "language": "python",
   "name": "python3"
  },
  "language_info": {
   "codemirror_mode": {
    "name": "ipython",
    "version": 3
   },
   "file_extension": ".py",
   "mimetype": "text/x-python",
   "name": "python",
   "nbconvert_exporter": "python",
   "pygments_lexer": "ipython3",
   "version": "3.8.3"
  }
 },
 "nbformat": 4,
 "nbformat_minor": 4
}
