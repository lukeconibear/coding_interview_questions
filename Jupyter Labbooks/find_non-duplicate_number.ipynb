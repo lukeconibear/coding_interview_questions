{
 "cells": [
  {
   "cell_type": "code",
   "execution_count": 1,
   "metadata": {},
   "outputs": [
    {
     "name": "stdout",
     "output_type": "stream",
     "text": [
      "1\n"
     ]
    }
   ],
   "source": [
    "class Solution: \n",
    "    def single_number(self, nums): # time O(n), space O(n)\n",
    "        occurence = {}\n",
    "        \n",
    "        for num in nums:\n",
    "            occurence[num] = occurence.get(num, 0) + 1\n",
    "            \n",
    "        for key, value in occurence.items():\n",
    "            if value == 1:\n",
    "                return key\n",
    "            \n",
    "    def single_number2(self, nums): # time O(n), space O(1)\n",
    "        unique = 0\n",
    "        for num in nums:\n",
    "            unique ^= 0 # ^ is xor\n",
    "        return unique\n",
    "    \n",
    "    \n",
    "print(Solution().single_number([4, 3, 2, 1, 2, 3, 4]))"
   ]
  },
  {
   "cell_type": "code",
   "execution_count": null,
   "metadata": {},
   "outputs": [],
   "source": []
  }
 ],
 "metadata": {
  "kernelspec": {
   "display_name": "python3",
   "language": "python",
   "name": "python3"
  },
  "language_info": {
   "codemirror_mode": {
    "name": "ipython",
    "version": 3
   },
   "file_extension": ".py",
   "mimetype": "text/x-python",
   "name": "python",
   "nbconvert_exporter": "python",
   "pygments_lexer": "ipython3",
   "version": "3.8.3"
  }
 },
 "nbformat": 4,
 "nbformat_minor": 4
}
