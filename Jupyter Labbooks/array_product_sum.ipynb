{
 "cells": [
  {
   "cell_type": "code",
   "execution_count": 5,
   "metadata": {},
   "outputs": [
    {
     "name": "stdout",
     "output_type": "stream",
     "text": [
      "12\n"
     ]
    }
   ],
   "source": [
    "# special arrays where brackets add a multiplier factor\n",
    "def product_sum(array, multiplier=1): # time O(n), space O(depth)\n",
    "    total = 0\n",
    "    for element in array:\n",
    "        if type(element) is list:\n",
    "            total += product_sum(element, multiplier + 1)\n",
    "        else:\n",
    "            total += element\n",
    "    return total * multiplier\n",
    "        \n",
    "\n",
    "print(product_sum([5,2,[7,-1],3,[6,[-13,8],4]]))"
   ]
  },
  {
   "cell_type": "code",
   "execution_count": null,
   "metadata": {},
   "outputs": [],
   "source": []
  }
 ],
 "metadata": {
  "kernelspec": {
   "display_name": "python3",
   "language": "python",
   "name": "python3"
  },
  "language_info": {
   "codemirror_mode": {
    "name": "ipython",
    "version": 3
   },
   "file_extension": ".py",
   "mimetype": "text/x-python",
   "name": "python",
   "nbconvert_exporter": "python",
   "pygments_lexer": "ipython3",
   "version": "3.8.3"
  }
 },
 "nbformat": 4,
 "nbformat_minor": 4
}
