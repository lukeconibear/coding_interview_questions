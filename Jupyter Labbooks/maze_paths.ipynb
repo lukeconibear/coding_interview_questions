{
 "cells": [
  {
   "cell_type": "code",
   "execution_count": 1,
   "metadata": {},
   "outputs": [
    {
     "name": "stdout",
     "output_type": "stream",
     "text": [
      "[[1, 0, 0], [1, 1, 0], [1, 2, 2]]\n",
      "2\n"
     ]
    }
   ],
   "source": [
    "def paths_through_maze(maze): # time O(), space O()\n",
    "    paths = [[0] * len(maze[0]) for _ in range(len(maze))] # create empty matrix\n",
    "    paths[0][0] = 1 # initialise first element to 1\n",
    "    for i, row in enumerate(maze):\n",
    "        for j, val in enumerate(row):\n",
    "            if val == 1 or (i == 0 and j == 0):\n",
    "                continue\n",
    "\n",
    "            leftPaths = 0\n",
    "            topPaths = 0\n",
    "            if i > 0:\n",
    "                leftPaths = paths[i - 1][j]\n",
    "                \n",
    "            if j > 0:\n",
    "                topPaths = paths[i][j-1]\n",
    "                \n",
    "            paths[i][j] = leftPaths + topPaths\n",
    "    print(paths)\n",
    "    return paths[-1][-1]\n",
    "\n",
    "\n",
    "print(paths_through_maze([[0, 1, 0],\n",
    "                          [0, 0, 1],\n",
    "                          [0, 0, 0]])) # the 1's are blockages, can only go right or down (not diag)\n",
    "\n",
    "# prints the matrix where integer represents how many ways to get to that element\n",
    "# returns number of paths "
   ]
  },
  {
   "cell_type": "code",
   "execution_count": null,
   "metadata": {},
   "outputs": [],
   "source": []
  }
 ],
 "metadata": {
  "kernelspec": {
   "display_name": "python3",
   "language": "python",
   "name": "python3"
  },
  "language_info": {
   "codemirror_mode": {
    "name": "ipython",
    "version": 3
   },
   "file_extension": ".py",
   "mimetype": "text/x-python",
   "name": "python",
   "nbconvert_exporter": "python",
   "pygments_lexer": "ipython3",
   "version": "3.8.3"
  }
 },
 "nbformat": 4,
 "nbformat_minor": 4
}
