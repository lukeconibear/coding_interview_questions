{
 "cells": [
  {
   "cell_type": "code",
   "execution_count": 1,
   "metadata": {},
   "outputs": [
    {
     "name": "stdout",
     "output_type": "stream",
     "text": [
      "[1, 1, 2, 2, 3, 3, 3]\n",
      "[1, 1, 2, 2, 3, 3, 3]\n"
     ]
    }
   ],
   "source": [
    "def sort_nums(nums): # time O(n), space O(n)\n",
    "    counts = {}\n",
    "    for num in nums:\n",
    "        counts[num] = counts.get(num, 0) + 1\n",
    "    return ([1] * counts.get(1, 0) +\n",
    "            [2] * counts.get(2, 0) +\n",
    "            [3] * counts.get(3, 0))\n",
    "\n",
    "def sort_nums_inplace(nums): # time O(n), space O(1)\n",
    "    one_index = 0\n",
    "    three_index = len(nums) - 1\n",
    "    index = 0\n",
    "    while index <= three_index:\n",
    "        if nums[index] == 1:\n",
    "            nums[index], nums[one_index] = nums[one_index], nums[index]\n",
    "            one_index += 1\n",
    "            index += 1\n",
    "        elif nums[index] == 2:\n",
    "            index += 1\n",
    "        elif nums[index] == 3:\n",
    "            nums[index], nums[three_index] = nums[three_index], nums[index]\n",
    "            three_index -= 1\n",
    "    return nums\n",
    "\n",
    "\n",
    "print(sort_nums([3, 3, 2, 1, 3, 2, 1]))\n",
    "print(sort_nums_inplace([3, 3, 2, 1, 3, 2, 1]))"
   ]
  },
  {
   "cell_type": "code",
   "execution_count": null,
   "metadata": {},
   "outputs": [],
   "source": []
  }
 ],
 "metadata": {
  "kernelspec": {
   "display_name": "python3",
   "language": "python",
   "name": "python3"
  },
  "language_info": {
   "codemirror_mode": {
    "name": "ipython",
    "version": 3
   },
   "file_extension": ".py",
   "mimetype": "text/x-python",
   "name": "python",
   "nbconvert_exporter": "python",
   "pygments_lexer": "ipython3",
   "version": "3.8.3"
  }
 },
 "nbformat": 4,
 "nbformat_minor": 4
}
