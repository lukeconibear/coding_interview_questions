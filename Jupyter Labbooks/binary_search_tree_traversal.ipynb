{
 "cells": [
  {
   "cell_type": "code",
   "execution_count": null,
   "metadata": {},
   "outputs": [],
   "source": [
    "def inOrderTraverse(tree, array): # time O(n), space O(n)\n",
    "    if tree is not None:\n",
    "        inOrderTraverse(tree.left, array)\n",
    "        array.append(tree.value)\n",
    "        inOrderTraverse(tree.right, array)\n",
    "    return array\n",
    "\n",
    "\n",
    "def preOrderTraverse(tree, array): # time O(n), space O(n)\n",
    "    if tree is not None:\n",
    "        array.append(tree.value)\n",
    "        preOrderTraverse(tree.left, array)\n",
    "        preOrderTraverse(tree.right, array)\n",
    "    return array\n",
    "    \n",
    "\n",
    "def postOrderTraverse(tree, array): # time O(n), space O(n)\n",
    "    if tree is not None:\n",
    "        postOrderTraverse(tree.left, array)\n",
    "        postOrderTraverse(tree.right, array)\n",
    "        array.append(tree.value)\n",
    "    return array"
   ]
  }
 ],
 "metadata": {
  "kernelspec": {
   "display_name": "python3",
   "language": "python",
   "name": "python3"
  },
  "language_info": {
   "codemirror_mode": {
    "name": "ipython",
    "version": 3
   },
   "file_extension": ".py",
   "mimetype": "text/x-python",
   "name": "python",
   "nbconvert_exporter": "python",
   "pygments_lexer": "ipython3",
   "version": "3.8.3"
  }
 },
 "nbformat": 4,
 "nbformat_minor": 4
}
