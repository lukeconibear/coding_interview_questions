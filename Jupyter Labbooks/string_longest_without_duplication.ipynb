{
 "cells": [
  {
   "cell_type": "code",
   "execution_count": 7,
   "metadata": {},
   "outputs": [
    {
     "name": "stdout",
     "output_type": "stream",
     "text": [
      "shogw\n",
      "hsogw\n"
     ]
    }
   ],
   "source": [
    "def longest_substring_without_duplication(string): # time O(n), space O(min(n, a)) where a is the alphabet represented in string\n",
    "    last_seen = {}\n",
    "    longest = [0, 1]\n",
    "    start_index = 0\n",
    "    for index, char in enumerate(string):\n",
    "        if char in last_seen:\n",
    "            start_index = max(start_index, last_seen[char] + 1)\n",
    "        if index + 1 - start_index > longest[1] - longest[0]:\n",
    "            longest = [start_index, index + 1]\n",
    "        last_seen[char] = index\n",
    "    return string[longest[0]:longest[1]]\n",
    "\n",
    "\n",
    "print(longest_substring_without_duplication('shogwosh'))\n",
    "print(longest_substring_without_duplication('shsogwosh'))"
   ]
  },
  {
   "cell_type": "code",
   "execution_count": null,
   "metadata": {},
   "outputs": [],
   "source": []
  }
 ],
 "metadata": {
  "kernelspec": {
   "display_name": "python3",
   "language": "python",
   "name": "python3"
  },
  "language_info": {
   "codemirror_mode": {
    "name": "ipython",
    "version": 3
   },
   "file_extension": ".py",
   "mimetype": "text/x-python",
   "name": "python",
   "nbconvert_exporter": "python",
   "pygments_lexer": "ipython3",
   "version": "3.8.3"
  }
 },
 "nbformat": 4,
 "nbformat_minor": 4
}
