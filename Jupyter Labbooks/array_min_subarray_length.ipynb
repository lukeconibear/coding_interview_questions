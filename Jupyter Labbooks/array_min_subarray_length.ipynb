{
 "cells": [
  {
   "cell_type": "code",
   "execution_count": 2,
   "metadata": {},
   "outputs": [
    {
     "name": "stdout",
     "output_type": "stream",
     "text": [
      "2\n"
     ]
    }
   ],
   "source": [
    "class Solution:\n",
    "    def minSubArray(self, k, nums): # time O(n), space O(1)\n",
    "        leftIndex = rightIndex = 0\n",
    "        total = 0\n",
    "        minLen = float('inf')\n",
    "\n",
    "        while rightIndex < len(nums):\n",
    "            total += nums[rightIndex]\n",
    "            while total >= k:\n",
    "                minLen = min(minLen, rightIndex - leftIndex + 1)\n",
    "                total -= nums[leftIndex]\n",
    "                leftIndex += 1\n",
    "            rightIndex += 1\n",
    "\n",
    "        if minLen == float('inf'):\n",
    "            return 0\n",
    "        \n",
    "        return minLen\n",
    "\n",
    "print(Solution().minSubArray(7, [2, 3, 1, 2, 4, 3]))\n",
    "# 2"
   ]
  },
  {
   "cell_type": "code",
   "execution_count": null,
   "metadata": {},
   "outputs": [],
   "source": []
  }
 ],
 "metadata": {
  "kernelspec": {
   "display_name": "python3",
   "language": "python",
   "name": "python3"
  },
  "language_info": {
   "codemirror_mode": {
    "name": "ipython",
    "version": 3
   },
   "file_extension": ".py",
   "mimetype": "text/x-python",
   "name": "python",
   "nbconvert_exporter": "python",
   "pygments_lexer": "ipython3",
   "version": "3.8.3"
  }
 },
 "nbformat": 4,
 "nbformat_minor": 4
}
