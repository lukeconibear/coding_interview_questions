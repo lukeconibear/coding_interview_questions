{
 "cells": [
  {
   "cell_type": "code",
   "execution_count": 16,
   "metadata": {},
   "outputs": [
    {
     "name": "stdout",
     "output_type": "stream",
     "text": [
      "abdecf\n",
      "acfbed\n"
     ]
    }
   ],
   "source": [
    "class Node:\n",
    "    def __init__(self, value, left=None, right=None):\n",
    "        self.value = value\n",
    "        self.left = left\n",
    "        self.right = right\n",
    "        \n",
    "    def __repr__(self):\n",
    "        result = self.value\n",
    "        result += f'{self.left}' if self.left else ''\n",
    "        result += f'{self.right}' if self.right else ''\n",
    "        return result\n",
    "    \n",
    "    \n",
    "class Solution:\n",
    "    def invert(self, node): # recursion, time O(n), space O(n)\n",
    "        if node is None:\n",
    "            return None\n",
    "        node.left, node.right = node.right, node.left\n",
    "        self.invert(node.left)\n",
    "        self.invert(node.right)\n",
    "        return node\n",
    "    \n",
    "    def invert(self, node): # iterative, time O(n), space O(n)\n",
    "        queue = [node]\n",
    "        while len(queue):\n",
    "            current = queue.pop(0)\n",
    "            if current is None:\n",
    "                continue\n",
    "            current.left, current.right = current.right, current.left\n",
    "            queue.append(current.left)\n",
    "            queue.append(current.right)\n",
    "        return node\n",
    "    \n",
    "    \n",
    "node = Node('a')\n",
    "node.left = Node('b')\n",
    "node.right = Node('c')\n",
    "node.left.left = Node('d')\n",
    "node.left.right = Node('e')\n",
    "node.right.left = Node('f')\n",
    "\n",
    "#       a\n",
    "#     /  \\\n",
    "#    b    c\n",
    "#   / \\  /\n",
    "#  d  e  f\n",
    "print(node)\n",
    "# abdecf\n",
    "\n",
    "#       a\n",
    "#     /  \\\n",
    "#    c    b\n",
    "#     \\  / \\\n",
    "#     f e   d\n",
    "print(Solution().invert(node))\n",
    "# acfbed"
   ]
  }
 ],
 "metadata": {
  "kernelspec": {
   "display_name": "python3",
   "language": "python",
   "name": "python3"
  },
  "language_info": {
   "codemirror_mode": {
    "name": "ipython",
    "version": 3
   },
   "file_extension": ".py",
   "mimetype": "text/x-python",
   "name": "python",
   "nbconvert_exporter": "python",
   "pygments_lexer": "ipython3",
   "version": "3.8.3"
  }
 },
 "nbformat": 4,
 "nbformat_minor": 4
}
