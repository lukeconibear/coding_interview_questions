{
 "cells": [
  {
   "cell_type": "code",
   "execution_count": 61,
   "metadata": {},
   "outputs": [
    {
     "name": "stdout",
     "output_type": "stream",
     "text": [
      "zab\n"
     ]
    }
   ],
   "source": [
    "def encryptor(string, key): # time O(n), space O(n)\n",
    "    new_string = []\n",
    "    new_key = key % 26\n",
    "    for char in string:\n",
    "        new_char_key = ord(char) + new_key\n",
    "        if new_char_key <= ord('z'):\n",
    "            new_string.append(chr(new_char_key))\n",
    "        else:\n",
    "            new_string.append(chr(ord('a') - 1 + new_char_key % ord('z')))\n",
    "        \n",
    "    return ''.join(new_string)\n",
    "                              \n",
    "\n",
    "print(encryptor('xyz', 2))"
   ]
  },
  {
   "cell_type": "code",
   "execution_count": 62,
   "metadata": {},
   "outputs": [
    {
     "name": "stdout",
     "output_type": "stream",
     "text": [
      "zab\n"
     ]
    }
   ],
   "source": [
    "def encryptor(string, key): # time O(n), space O(n)\n",
    "    new_string = ''\n",
    "    new_key = key % 26\n",
    "    alphabet = list('abcdefghijklmnopqrstuvwxyz')\n",
    "    for char in string:\n",
    "        new_string += alphabet[(alphabet.index(char) + new_key) % 26]\n",
    "    \n",
    "    return new_string\n",
    "                              \n",
    "\n",
    "print(encryptor('xyz', 2))"
   ]
  },
  {
   "cell_type": "code",
   "execution_count": null,
   "metadata": {},
   "outputs": [],
   "source": []
  }
 ],
 "metadata": {
  "kernelspec": {
   "display_name": "python3",
   "language": "python",
   "name": "python3"
  },
  "language_info": {
   "codemirror_mode": {
    "name": "ipython",
    "version": 3
   },
   "file_extension": ".py",
   "mimetype": "text/x-python",
   "name": "python",
   "nbconvert_exporter": "python",
   "pygments_lexer": "ipython3",
   "version": "3.8.3"
  }
 },
 "nbformat": 4,
 "nbformat_minor": 4
}
