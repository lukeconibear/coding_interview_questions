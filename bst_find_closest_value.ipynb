{
 "cells": [
  {
   "cell_type": "code",
   "execution_count": 20,
   "metadata": {},
   "outputs": [
    {
     "name": "stdout",
     "output_type": "stream",
     "text": [
      "13\n",
      "13\n"
     ]
    }
   ],
   "source": [
    "class Node:\n",
    "    def __init__(self, value, left=None, right=None):\n",
    "        self.value = value\n",
    "        self.left = left\n",
    "        self.right = right\n",
    "        \n",
    "    def __repr__(self):\n",
    "        return f'{self.value}'\n",
    "\n",
    "\n",
    "class Solution:\n",
    "    def find_closest_value_in_bst1(self, node, target): # time O(lgn average, n worst case if single branch), space O(same if recursion)\n",
    "        return self.find_closest_value_in_bst_helper1(node, target, node.value)\n",
    "\n",
    "    def find_closest_value_in_bst_helper1(self, node, target, closest):\n",
    "        if node is None:\n",
    "            return closest\n",
    "\n",
    "        if abs(target - closest) > abs(target - node.value):\n",
    "            closest = node.value\n",
    "\n",
    "        if target < node.value:\n",
    "            return self.find_closest_value_in_bst_helper1(node.left, target, closest)\n",
    "        elif target > node.value:\n",
    "            return self.find_closest_value_in_bst_helper1(node.right, target, closest)\n",
    "        else:\n",
    "            return closest\n",
    "    \n",
    "    def find_closest_value_in_bst2(self, node, target): # time O(lgn average, n worst case if single branch), space O(1)\n",
    "        return self.find_closest_value_in_bst_helper2(node, target, node.value)\n",
    "    \n",
    "    def find_closest_value_in_bst_helper2(self, node, target, closest): \n",
    "        current_node = node\n",
    "        while current_node is not None:\n",
    "            if abs(target - closest) > abs(target - current_node.value):\n",
    "                closest = current_node.value\n",
    "\n",
    "            if target < current_node.value:\n",
    "                current_node = current_node.left\n",
    "            elif target > current_node.value:\n",
    "                current_node = current_node.right\n",
    "            else: \n",
    "                break\n",
    "\n",
    "        return closest\n",
    "\n",
    "    \n",
    "node = Node(10)\n",
    "node.left = Node(5)\n",
    "node.left.left = Node(2)\n",
    "node.left.right = Node(5)\n",
    "node.left.left.left = Node(1)\n",
    "node.right = Node(15)\n",
    "node.right.left = Node(13)\n",
    "node.right.right = Node(22)\n",
    "node.right.left.right = Node(14)\n",
    "\n",
    "print(Solution().find_closest_value_in_bst1(node, 12))\n",
    "print(Solution().find_closest_value_in_bst2(node, 12))\n",
    "# 13"
   ]
  },
  {
   "cell_type": "code",
   "execution_count": null,
   "metadata": {},
   "outputs": [],
   "source": []
  }
 ],
 "metadata": {
  "kernelspec": {
   "display_name": "python3",
   "language": "python",
   "name": "python3"
  },
  "language_info": {
   "codemirror_mode": {
    "name": "ipython",
    "version": 3
   },
   "file_extension": ".py",
   "mimetype": "text/x-python",
   "name": "python",
   "nbconvert_exporter": "python",
   "pygments_lexer": "ipython3",
   "version": "3.8.3"
  }
 },
 "nbformat": 4,
 "nbformat_minor": 4
}
