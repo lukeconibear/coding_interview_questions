{
 "cells": [
  {
   "cell_type": "code",
   "execution_count": 27,
   "metadata": {},
   "outputs": [
    {
     "name": "stdout",
     "output_type": "stream",
     "text": [
      "None\n"
     ]
    }
   ],
   "source": [
    "class Node(object):\n",
    "    def __init__(self, value, left=None, right=None):\n",
    "        self.value = value\n",
    "        self.left = left\n",
    "        self.right = right\n",
    "        \n",
    "    def __repr__(self):\n",
    "        return f'{self.value}'\n",
    "\n",
    "        \n",
    "def find_closest_value_in_bst(tree, target):\n",
    "    find_closest_value_in_bst_helper(tree, target, tree.value)\n",
    "    \n",
    "    \n",
    "# def find_closest_value_in_bst_helper(tree, target, closest):\n",
    "#     # time O(lgn average, n worst case if single branch), space O(same if recursion)\n",
    "#     if tree is None:\n",
    "#         return closest\n",
    "    \n",
    "#     if abs(target - closest) > abs(target - tree.value):\n",
    "#         closest = tree.value\n",
    "        \n",
    "#     if target < tree.value:\n",
    "#         return find_closest_value_in_bst_helper(tree.left, target, closest)\n",
    "#     elif target > tree.value:\n",
    "#         return find_closest_value_in_bst_helper(tree.right, target, closest)\n",
    "#     else: # target == tree.value\n",
    "#         return closest\n",
    "    \n",
    "    \n",
    "def find_closest_value_in_bst_helper(tree, target, closest):\n",
    "    # time O(lgn average, n worst case if single branch), space O(1)\n",
    "    current_node = tree\n",
    "    while current_node is not None:\n",
    "        if abs(target - closest) > abs(target - current_node.value):\n",
    "            closest = tree.value\n",
    "\n",
    "        if target < current_node.value:\n",
    "            current_node = current_node.left\n",
    "        elif target > current_node.value:\n",
    "            current_node = current_node.right\n",
    "        else: # target == tree.value\n",
    "            break\n",
    "        \n",
    "    return closest\n",
    "\n",
    "    \n",
    "tree = Node(10)\n",
    "tree.left = Node(5)\n",
    "tree.left.left = Node(2)\n",
    "tree.left.right = Node(5)\n",
    "tree.left.left.left = Node(1)\n",
    "tree.right = Node(15)\n",
    "tree.right.left = Node(13)\n",
    "tree.right.right = Node(22)\n",
    "tree.right.left.right = Node(14)\n",
    "\n",
    "print(find_closest_value_in_bst(tree, 12))"
   ]
  },
  {
   "cell_type": "code",
   "execution_count": 31,
   "metadata": {},
   "outputs": [
    {
     "data": {
      "text/plain": [
       "2"
      ]
     },
     "execution_count": 31,
     "metadata": {},
     "output_type": "execute_result"
    }
   ],
   "source": [
    "target = 12\n",
    "closest = tree.value\n",
    "abs(target - closest)"
   ]
  },
  {
   "cell_type": "code",
   "execution_count": 30,
   "metadata": {},
   "outputs": [
    {
     "data": {
      "text/plain": [
       "10"
      ]
     },
     "execution_count": 30,
     "metadata": {},
     "output_type": "execute_result"
    }
   ],
   "source": [
    "find_closest_value_in_bst_helper(tree, 12, tree.value)"
   ]
  },
  {
   "cell_type": "code",
   "execution_count": 28,
   "metadata": {},
   "outputs": [
    {
     "data": {
      "text/plain": [
       "10"
      ]
     },
     "execution_count": 28,
     "metadata": {},
     "output_type": "execute_result"
    }
   ],
   "source": [
    "tree.value"
   ]
  },
  {
   "cell_type": "code",
   "execution_count": null,
   "metadata": {},
   "outputs": [],
   "source": [
    "def __repr__(self):\n",
    "    return f\"{self.value}, ({self.left.__repr__()}), ({self.right.__repr__()})\""
   ]
  }
 ],
 "metadata": {
  "kernelspec": {
   "display_name": "python3",
   "language": "python",
   "name": "python3"
  },
  "language_info": {
   "codemirror_mode": {
    "name": "ipython",
    "version": 3
   },
   "file_extension": ".py",
   "mimetype": "text/x-python",
   "name": "python",
   "nbconvert_exporter": "python",
   "pygments_lexer": "ipython3",
   "version": "3.8.3"
  }
 },
 "nbformat": 4,
 "nbformat_minor": 4
}
