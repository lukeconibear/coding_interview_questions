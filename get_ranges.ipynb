{
 "cells": [
  {
   "cell_type": "code",
   "execution_count": 20,
   "metadata": {},
   "outputs": [],
   "source": [
    "class Solution():\n",
    "    def get_range(self, array, target):\n",
    "        first = self.binary_search(array, 0, len(array) - 1, target, True)\n",
    "        last = self.binary_search(array, 0, len(array) - 1, target, False)\n",
    "        #first = self.binary_search_iterative(array, 0, len(array) - 1, target, True)\n",
    "        #last = self.binary_search_iterative(array, 0, len(array) - 1, target, False)\n",
    "        return [first, last]\n",
    "\n",
    "    def binary_search(self, array, low, high, target, find_first): # time O(n), space O(1)\n",
    "        if high < low:\n",
    "            return -1\n",
    "        mid = low + (high - low) // 2\n",
    "        if find_first:\n",
    "            if (mid == 0 or target > array[mid - 1]) and array[mid] == target:\n",
    "                return mid\n",
    "            if target > array[mid]:\n",
    "                return self.binary_search(array, mid + 1, high, target, find_first)\n",
    "            else:\n",
    "                return self.binary_search(array, low, mid - 1, target, find_first)\n",
    "        else:\n",
    "            if (mid == len(array) - 1 or target < array[mid + 1]) and array[mid] == target:\n",
    "                return mid\n",
    "            if target < array[mid]:\n",
    "                return self.binary_search(array, low, mid - 1, target, find_first)\n",
    "            else:\n",
    "                return self.binary_search(array, mid + 1, high, target, find_first)\n",
    "            \n",
    "    def binary_search_iterative(self, array, low, high, target, find_first): # time O(log n), space O(log n)\n",
    "        while True:\n",
    "            if high < low:\n",
    "                return -1\n",
    "            mid = low + (high - low) // 2\n",
    "            if find_first:\n",
    "                if (mid == 0 or target > array[mid - 1]) and array[mid] == target:\n",
    "                    return mid\n",
    "                if target > array[mid]:\n",
    "                    low = mid + 1\n",
    "                else:\n",
    "                    high = mid - 1\n",
    "            else:\n",
    "                if (mid == len(array) - 1 or target < array[mid + 1]) and array[mid] == target:\n",
    "                    return mid\n",
    "                if target < array[mid]:\n",
    "                    high = mid - 1\n",
    "                else:\n",
    "                    low = mid + 1"
   ]
  },
  {
   "cell_type": "code",
   "execution_count": 17,
   "metadata": {},
   "outputs": [],
   "source": [
    "array = [1, 3, 3, 5, 7, 8, 9, 9, 9, 15]\n",
    "target = 9"
   ]
  },
  {
   "cell_type": "code",
   "execution_count": 21,
   "metadata": {},
   "outputs": [
    {
     "name": "stdout",
     "output_type": "stream",
     "text": [
      "CPU times: user 17 µs, sys: 6 µs, total: 23 µs\n",
      "Wall time: 28.8 µs\n"
     ]
    },
    {
     "data": {
      "text/plain": [
       "[6, 8]"
      ]
     },
     "execution_count": 21,
     "metadata": {},
     "output_type": "execute_result"
    }
   ],
   "source": [
    "%%time\n",
    "Solution().get_range(array, target)"
   ]
  },
  {
   "cell_type": "code",
   "execution_count": 19,
   "metadata": {},
   "outputs": [
    {
     "name": "stdout",
     "output_type": "stream",
     "text": [
      "CPU times: user 15 µs, sys: 6 µs, total: 21 µs\n",
      "Wall time: 25.3 µs\n"
     ]
    },
    {
     "data": {
      "text/plain": [
       "[6, 8]"
      ]
     },
     "execution_count": 19,
     "metadata": {},
     "output_type": "execute_result"
    }
   ],
   "source": [
    "%%time\n",
    "Solution().get_range(array, target)"
   ]
  },
  {
   "cell_type": "code",
   "execution_count": null,
   "metadata": {},
   "outputs": [],
   "source": []
  }
 ],
 "metadata": {
  "kernelspec": {
   "display_name": "python3",
   "language": "python",
   "name": "python3"
  },
  "language_info": {
   "codemirror_mode": {
    "name": "ipython",
    "version": 3
   },
   "file_extension": ".py",
   "mimetype": "text/x-python",
   "name": "python",
   "nbconvert_exporter": "python",
   "pygments_lexer": "ipython3",
   "version": "3.8.3"
  }
 },
 "nbformat": 4,
 "nbformat_minor": 4
}
