{
 "cells": [
  {
   "cell_type": "code",
   "execution_count": 1,
   "metadata": {},
   "outputs": [
    {
     "name": "stdout",
     "output_type": "stream",
     "text": [
      "[6, 8]\n",
      "[6, 8]\n"
     ]
    }
   ],
   "source": [
    "class Solution:\n",
    "    def get_range1(self, array, target): # time O(n), space O(1)\n",
    "        first = self._binary_search1(array, 0, len(array) - 1, target, True)\n",
    "        last = self._binary_search1(array, 0, len(array) - 1, target, False)\n",
    "        return [first, last]\n",
    "\n",
    "    def _binary_search1(self, array, low, high, target, find_first):\n",
    "        if high < low:\n",
    "            return -1\n",
    "        mid = low + (high - low) // 2\n",
    "        if find_first:\n",
    "            if (mid == 0 or target > array[mid - 1]) and array[mid] == target:\n",
    "                return mid\n",
    "            if target > array[mid]:\n",
    "                return self._binary_search1(array, mid + 1, high, target, find_first)\n",
    "            else:\n",
    "                return self._binary_search1(array, low, mid - 1, target, find_first)\n",
    "        else:\n",
    "            if (mid == len(array) - 1 or target < array[mid + 1]) and array[mid] == target:\n",
    "                return mid\n",
    "            if target < array[mid]:\n",
    "                return self._binary_search1(array, low, mid - 1, target, find_first)\n",
    "            else:\n",
    "                return self._binary_search1(array, mid + 1, high, target, find_first)\n",
    "            \n",
    "    def get_range2(self, array, target): # time O(log n), space O(log n)\n",
    "        first = self._binary_search2(array, 0, len(array) - 1, target, True)\n",
    "        last = self._binary_search2(array, 0, len(array) - 1, target, False)\n",
    "        return [first, last]\n",
    "        \n",
    "    def _binary_search2(self, array, low, high, target, find_first): \n",
    "        while True:\n",
    "            if high < low:\n",
    "                return -1\n",
    "            mid = low + (high - low) // 2\n",
    "            if find_first:\n",
    "                if (mid == 0 or target > array[mid - 1]) and array[mid] == target:\n",
    "                    return mid\n",
    "                if target > array[mid]:\n",
    "                    low = mid + 1\n",
    "                else:\n",
    "                    high = mid - 1\n",
    "            else:\n",
    "                if (mid == len(array) - 1 or target < array[mid + 1]) and array[mid] == target:\n",
    "                    return mid\n",
    "                if target < array[mid]:\n",
    "                    high = mid - 1\n",
    "                else:\n",
    "                    low = mid + 1\n",
    "                    \n",
    "                    \n",
    "print(Solution().get_range1([1, 3, 3, 5, 7, 8, 9, 9, 9, 15], 9))\n",
    "print(Solution().get_range2([1, 3, 3, 5, 7, 8, 9, 9, 9, 15], 9))"
   ]
  },
  {
   "cell_type": "code",
   "execution_count": null,
   "metadata": {},
   "outputs": [],
   "source": []
  }
 ],
 "metadata": {
  "kernelspec": {
   "display_name": "python3",
   "language": "python",
   "name": "python3"
  },
  "language_info": {
   "codemirror_mode": {
    "name": "ipython",
    "version": 3
   },
   "file_extension": ".py",
   "mimetype": "text/x-python",
   "name": "python",
   "nbconvert_exporter": "python",
   "pygments_lexer": "ipython3",
   "version": "3.8.3"
  }
 },
 "nbformat": 4,
 "nbformat_minor": 4
}
