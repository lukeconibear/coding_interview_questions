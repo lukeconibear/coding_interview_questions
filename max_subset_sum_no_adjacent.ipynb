{
 "cells": [
  {
   "cell_type": "code",
   "execution_count": 11,
   "metadata": {},
   "outputs": [
    {
     "name": "stdout",
     "output_type": "stream",
     "text": [
      "330\n"
     ]
    }
   ],
   "source": [
    "def max_subset_sum_no_adjacent(array): # time O(n), space O(1)\n",
    "    if not len(array):\n",
    "        return 0\n",
    "    elif len(array) == 1:\n",
    "        return array[0]\n",
    "    prev = max(array[0], array[1])\n",
    "    prevprev = array[0]\n",
    "    for index in range(2, len(array)):\n",
    "        current = max(prev, prevprev + array[index])\n",
    "        prevprev = prev\n",
    "        prev = current\n",
    "    return prev\n",
    "\n",
    "print(max_subset_sum_no_adjacent([75,105,120,75,90,135]))"
   ]
  },
  {
   "cell_type": "code",
   "execution_count": null,
   "metadata": {},
   "outputs": [],
   "source": []
  }
 ],
 "metadata": {
  "kernelspec": {
   "display_name": "python3",
   "language": "python",
   "name": "python3"
  },
  "language_info": {
   "codemirror_mode": {
    "name": "ipython",
    "version": 3
   },
   "file_extension": ".py",
   "mimetype": "text/x-python",
   "name": "python",
   "nbconvert_exporter": "python",
   "pygments_lexer": "ipython3",
   "version": "3.8.3"
  }
 },
 "nbformat": 4,
 "nbformat_minor": 4
}
