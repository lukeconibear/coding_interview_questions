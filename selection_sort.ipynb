{
 "cells": [
  {
   "cell_type": "code",
   "execution_count": 5,
   "metadata": {},
   "outputs": [
    {
     "name": "stdout",
     "output_type": "stream",
     "text": [
      "[2, 3, 5, 5, 6, 8, 9]\n"
     ]
    }
   ],
   "source": [
    "def selection_sort(array): # time O(n^2), space O(1)\n",
    "    current_index = 0\n",
    "    while current_index < len(array) - 1:\n",
    "        smallest_index = current_index\n",
    "        for index in range(current_index + 1, len(array)):\n",
    "            if array[smallest_index] > array[index]:\n",
    "                smallest_index = index\n",
    "        array[current_index], array[smallest_index] = array[smallest_index], array[current_index]\n",
    "        current_index += 1\n",
    "    return array\n",
    "    \n",
    "print(selection_sort([8,5,2,9,5,6,3]))"
   ]
  },
  {
   "cell_type": "code",
   "execution_count": null,
   "metadata": {},
   "outputs": [],
   "source": []
  }
 ],
 "metadata": {
  "kernelspec": {
   "display_name": "python3",
   "language": "python",
   "name": "python3"
  },
  "language_info": {
   "codemirror_mode": {
    "name": "ipython",
    "version": 3
   },
   "file_extension": ".py",
   "mimetype": "text/x-python",
   "name": "python",
   "nbconvert_exporter": "python",
   "pygments_lexer": "ipython3",
   "version": "3.8.3"
  }
 },
 "nbformat": 4,
 "nbformat_minor": 4
}
