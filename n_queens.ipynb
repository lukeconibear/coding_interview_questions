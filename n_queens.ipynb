{
 "cells": [
  {
   "cell_type": "code",
   "execution_count": 1,
   "metadata": {},
   "outputs": [
    {
     "name": "stdout",
     "output_type": "stream",
     "text": [
      "[(0, 0), (1, 2), (2, 4), (3, 1), (4, 3)]\n"
     ]
    }
   ],
   "source": [
    "def nqueens_helper(n, row, col, asc_diag, desc_diag, queen_pos): # time O(n^n), space O(6n)\n",
    "  if len(queen_pos) == n:\n",
    "    return queen_pos\n",
    "\n",
    "  curr_row = len(queen_pos)\n",
    "  for curr_col in range(n):\n",
    "    if col[curr_col] and row[curr_row] and asc_diag[curr_row + curr_col] and desc_diag[curr_row - curr_col]:\n",
    "      col[curr_col] = False\n",
    "      row[curr_row] = False\n",
    "      asc_diag[curr_row + curr_col] = False\n",
    "      desc_diag[curr_row - curr_col] = False\n",
    "\n",
    "      queen_pos.append((curr_row, curr_col))\n",
    "      nqueens_helper(n, row, col, asc_diag, desc_diag, queen_pos)\n",
    "\n",
    "      if len(queen_pos) == n:\n",
    "        return queen_pos\n",
    "\n",
    "      # backtrack\n",
    "      col[curr_col] = True\n",
    "      row[curr_row] = True\n",
    "      asc_diag[curr_row + curr_col] = True\n",
    "      desc_diag[curr_row - curr_col] = True\n",
    "      queen_pos.pop()\n",
    "\n",
    "  return queen_pos\n",
    "\n",
    "\n",
    "def nqueens(n):\n",
    "  col = [True] * n\n",
    "  row = [True] * n\n",
    "  asc_diag = [True] * (n * 2 - 1)\n",
    "  desc_diag = [True] * (n * 2 - 1)\n",
    "  return nqueens_helper(n, col, row, asc_diag, desc_diag, [])\n",
    "\n",
    "\n",
    "print(nqueens(5))\n",
    "# Q . . . .\n",
    "# . . . Q .\n",
    "# . Q . . .\n",
    "# . . . . Q\n",
    "# . . Q . .\n",
    "# [(0, 0), (1, 2), (2, 4), (3, 1), (4, 3)]"
   ]
  },
  {
   "cell_type": "code",
   "execution_count": null,
   "metadata": {},
   "outputs": [],
   "source": []
  }
 ],
 "metadata": {
  "kernelspec": {
   "display_name": "python3",
   "language": "python",
   "name": "python3"
  },
  "language_info": {
   "codemirror_mode": {
    "name": "ipython",
    "version": 3
   },
   "file_extension": ".py",
   "mimetype": "text/x-python",
   "name": "python",
   "nbconvert_exporter": "python",
   "pygments_lexer": "ipython3",
   "version": "3.8.3"
  }
 },
 "nbformat": 4,
 "nbformat_minor": 4
}
