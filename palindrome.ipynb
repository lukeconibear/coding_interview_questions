{
 "cells": [
  {
   "cell_type": "code",
   "execution_count": 8,
   "metadata": {},
   "outputs": [
    {
     "name": "stdout",
     "output_type": "stream",
     "text": [
      "True\n"
     ]
    }
   ],
   "source": [
    "def is_palindrome(string): # time O(n), space O(1)\n",
    "    left_index = 0\n",
    "    right_index = len(string) - 1\n",
    "    while left_index < right_index:\n",
    "        if string[left_index] != string[right_index]:\n",
    "            return False\n",
    "        left_index += 1\n",
    "        right_index -= 1\n",
    "    return True\n",
    "    \n",
    "\n",
    "print(is_palindrome('abcdcba'))"
   ]
  },
  {
   "cell_type": "code",
   "execution_count": 2,
   "metadata": {},
   "outputs": [
    {
     "name": "stdout",
     "output_type": "stream",
     "text": [
      "True\n"
     ]
    }
   ],
   "source": [
    "def is_palindrome(string): # time O(n), space O(n)\n",
    "    if string == string[::-1]:\n",
    "        return True\n",
    "    return False\n",
    "\n",
    "print(is_palindrome('abcdcba'))"
   ]
  },
  {
   "cell_type": "code",
   "execution_count": 3,
   "metadata": {},
   "outputs": [
    {
     "name": "stdout",
     "output_type": "stream",
     "text": [
      "True\n"
     ]
    }
   ],
   "source": [
    "def is_palindrome(string): # time O(n^2), space O(n)\n",
    "    reversed_string = ''\n",
    "    for index in reversed(range(len(string))):\n",
    "        reversed_string += string[index]\n",
    "    return string == reversed_string\n",
    "\n",
    "print(is_palindrome('abcdcba'))"
   ]
  },
  {
   "cell_type": "code",
   "execution_count": 4,
   "metadata": {},
   "outputs": [
    {
     "name": "stdout",
     "output_type": "stream",
     "text": [
      "True\n"
     ]
    }
   ],
   "source": [
    "def is_palindrome(string): # time O(n), space O(n)\n",
    "    reversed_chars = []\n",
    "    for index in reversed(range(len(string))):\n",
    "        reversed_chars.append(string[index])\n",
    "    return string == ''.join(reversed_chars)\n",
    "\n",
    "print(is_palindrome('abcdcba'))"
   ]
  },
  {
   "cell_type": "code",
   "execution_count": 11,
   "metadata": {},
   "outputs": [
    {
     "name": "stdout",
     "output_type": "stream",
     "text": [
      "True\n"
     ]
    }
   ],
   "source": [
    "def is_palindrome(string, i=0): # time O(n), space O(n) from call stack\n",
    "    j = len(string) - 1 - i\n",
    "    if i >= j:\n",
    "        return True\n",
    "    if string[i] != string[j]:\n",
    "        return False\n",
    "    return is_palindrome(string, i + 1) # tail recursion\n",
    "\n",
    "print(is_palindrome('abcdcba'))"
   ]
  },
  {
   "cell_type": "code",
   "execution_count": 1,
   "metadata": {},
   "outputs": [
    {
     "name": "stdout",
     "output_type": "stream",
     "text": [
      "foxof\n"
     ]
    }
   ],
   "source": [
    "# palindrome is the same going forward as backwards from the middle\n",
    "\n",
    "from collections import defaultdict\n",
    "\n",
    "def find_palindrome(str): # time O(2n), space O(n)\n",
    "  char_counts = defaultdict(int)\n",
    "\n",
    "  for c in str:\n",
    "    char_counts[c] += 1\n",
    "\n",
    "  pal = ''\n",
    "  odd_char = ''\n",
    "  for c, cnt in char_counts.items():\n",
    "    if cnt % 2 == 0:\n",
    "      pal += c * (cnt // 2)\n",
    "    elif odd_char == '':\n",
    "      odd_char = c\n",
    "      pal += c * (cnt // 2)\n",
    "    else:\n",
    "      return False\n",
    "  return pal + odd_char + pal[::-1]\n",
    "\n",
    "\n",
    "print(find_palindrome('foxfo'))\n",
    "# foxof"
   ]
  },
  {
   "cell_type": "code",
   "execution_count": null,
   "metadata": {},
   "outputs": [],
   "source": []
  }
 ],
 "metadata": {
  "kernelspec": {
   "display_name": "python3",
   "language": "python",
   "name": "python3"
  },
  "language_info": {
   "codemirror_mode": {
    "name": "ipython",
    "version": 3
   },
   "file_extension": ".py",
   "mimetype": "text/x-python",
   "name": "python",
   "nbconvert_exporter": "python",
   "pygments_lexer": "ipython3",
   "version": "3.8.3"
  }
 },
 "nbformat": 4,
 "nbformat_minor": 4
}
