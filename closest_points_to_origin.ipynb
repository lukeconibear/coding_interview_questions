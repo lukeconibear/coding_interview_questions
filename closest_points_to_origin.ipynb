{
 "cells": [
  {
   "cell_type": "code",
   "execution_count": 2,
   "metadata": {},
   "outputs": [
    {
     "name": "stdout",
     "output_type": "stream",
     "text": [
      "[[1, 1], [-1, -1], [2, 2]]\n",
      "[[-1, -1], [1, 1], [2, 2]]\n"
     ]
    }
   ],
   "source": [
    "import heapq # pop from the start\n",
    "\n",
    "def calcDistance(p):\n",
    "  return p[0]*p[0] + p[1]*p[1]\n",
    "\n",
    "def findClosestPoints(points, k): # time O(nlogn), space O(nlogn)\n",
    "  points = sorted(points, key=lambda x: calcDistance(x))\n",
    "  return points[:k]\n",
    "\n",
    "def findClosestPoints2(points, k): # time O(klogn), space O(n)\n",
    "  # ( distance, object )\n",
    "  data = []\n",
    "  for p in points:\n",
    "    data.append((calcDistance(p), p))\n",
    "  heapq.heapify(data) # lowest to highest\n",
    "\n",
    "  result = []\n",
    "  for i in range(k):\n",
    "    result.append(heapq.heappop(data)[1]) # pop the lowest distance, and take the point coordinates\n",
    "  return result\n",
    "\n",
    "print(findClosestPoints([[1, 1], [3, 3], [2, 2], [4, 4], [-1, -1]], 3))\n",
    "print(findClosestPoints2([[1, 1], [3, 3], [2, 2], [4, 4], [-1, -1]], 3))"
   ]
  },
  {
   "cell_type": "code",
   "execution_count": null,
   "metadata": {},
   "outputs": [],
   "source": []
  }
 ],
 "metadata": {
  "kernelspec": {
   "display_name": "python3",
   "language": "python",
   "name": "python3"
  },
  "language_info": {
   "codemirror_mode": {
    "name": "ipython",
    "version": 3
   },
   "file_extension": ".py",
   "mimetype": "text/x-python",
   "name": "python",
   "nbconvert_exporter": "python",
   "pygments_lexer": "ipython3",
   "version": "3.8.3"
  }
 },
 "nbformat": 4,
 "nbformat_minor": 4
}
