{
 "cells": [
  {
   "cell_type": "code",
   "execution_count": 5,
   "metadata": {},
   "outputs": [
    {
     "name": "stdout",
     "output_type": "stream",
     "text": [
      "[3, 7]\n"
     ]
    }
   ],
   "source": [
    "import collections\n",
    "\n",
    "def find_anagrams(word, key): # time O(n), space O(len(key))\n",
    "    char_map = collections.defaultdict(int)\n",
    "\n",
    "    for char in key:\n",
    "        char_map[char] += 1\n",
    "\n",
    "    anagrams = []\n",
    "    for index in range(len(word)):\n",
    "        char = word[index]\n",
    "\n",
    "        if index >= len(key):\n",
    "            char_old = word[index - len(key)]\n",
    "            char_map[char_old] += 1\n",
    "            if char_map[char_old] == 0:\n",
    "                del char_map[char_old]\n",
    "\n",
    "        char_map[char] -= 1\n",
    "        if char_map[char] == 0:\n",
    "            del char_map[char]\n",
    "\n",
    "        if index + 1 >= len(key) and len(char_map) == 0:\n",
    "            anagrams.append(index - len(key) + 1)\n",
    "\n",
    "    return anagrams\n",
    "\n",
    "\n",
    "print(find_anagrams('acdbacdacb', 'abc'))\n",
    "# [3, 7]"
   ]
  },
  {
   "cell_type": "code",
   "execution_count": null,
   "metadata": {},
   "outputs": [],
   "source": []
  }
 ],
 "metadata": {
  "kernelspec": {
   "display_name": "python3",
   "language": "python",
   "name": "python3"
  },
  "language_info": {
   "codemirror_mode": {
    "name": "ipython",
    "version": 3
   },
   "file_extension": ".py",
   "mimetype": "text/x-python",
   "name": "python",
   "nbconvert_exporter": "python",
   "pygments_lexer": "ipython3",
   "version": "3.8.3"
  }
 },
 "nbformat": 4,
 "nbformat_minor": 4
}
