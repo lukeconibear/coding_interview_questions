{
 "cells": [
  {
   "cell_type": "code",
   "execution_count": 1,
   "metadata": {},
   "outputs": [
    {
     "name": "stdout",
     "output_type": "stream",
     "text": [
      "[3, 7]\n"
     ]
    }
   ],
   "source": [
    "from collections import defaultdict\n",
    "\n",
    "\n",
    "def find_anagrams(a, b): # time O(n), space O(len(b))\n",
    "  char_map = defaultdict(int)\n",
    "\n",
    "  for c in b:\n",
    "    char_map[c] += 1\n",
    "\n",
    "  results = []\n",
    "  for i in range(len(a)):\n",
    "    c = a[i]\n",
    "\n",
    "    if i >= len(b):\n",
    "      c_old = a[i - len(b)]\n",
    "      char_map[c_old] += 1\n",
    "      if char_map[c_old] == 0:\n",
    "        del char_map[c_old]\n",
    "\n",
    "    char_map[c] -= 1\n",
    "    if char_map[c] == 0:\n",
    "      del char_map[c]\n",
    "\n",
    "    if i + 1 >= len(b) and len(char_map) == 0:\n",
    "      results.append(i - len(b) + 1)\n",
    "\n",
    "  return results\n",
    "\n",
    "\n",
    "print(find_anagrams('acdbacdacb', 'abc'))\n",
    "# [3, 7]"
   ]
  },
  {
   "cell_type": "code",
   "execution_count": null,
   "metadata": {},
   "outputs": [],
   "source": []
  }
 ],
 "metadata": {
  "kernelspec": {
   "display_name": "python3",
   "language": "python",
   "name": "python3"
  },
  "language_info": {
   "codemirror_mode": {
    "name": "ipython",
    "version": 3
   },
   "file_extension": ".py",
   "mimetype": "text/x-python",
   "name": "python",
   "nbconvert_exporter": "python",
   "pygments_lexer": "ipython3",
   "version": "3.8.3"
  }
 },
 "nbformat": 4,
 "nbformat_minor": 4
}
