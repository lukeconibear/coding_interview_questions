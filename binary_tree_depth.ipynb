{
 "cells": [
  {
   "cell_type": "code",
   "execution_count": 8,
   "metadata": {},
   "outputs": [
    {
     "name": "stdout",
     "output_type": "stream",
     "text": [
      "4\n",
      "4\n"
     ]
    }
   ],
   "source": [
    "# The depth of a node is the number of edges from the root to the node.\n",
    "class Node:\n",
    "    def __init__(self, value, left=None, right=None):\n",
    "        self.value = value\n",
    "        self.left = left\n",
    "        self.right = right\n",
    "\n",
    "    def __repr__(self):\n",
    "        return f'{self.value}'\n",
    "\n",
    "\n",
    "class Solution:\n",
    "    def deepest1(self, node): # time O(n), space O(n)\n",
    "        if not node:\n",
    "            return 0\n",
    "        \n",
    "        return 1 + max(self.deepest1(node.left), self.deepest1(node.right))\n",
    "\n",
    "\n",
    "    def deepest2(self, node, depth=0): # time O(n), space O(n)\n",
    "        if not node:\n",
    "            return depth + 0\n",
    "\n",
    "        if not node.left and not node.right:\n",
    "            return depth + 1\n",
    "\n",
    "        if not node.left:\n",
    "            return self.deepest2(node.right, depth + 1)\n",
    "\n",
    "        if not node.right:\n",
    "            return self.deepest2(node.left, depth + 1)\n",
    "\n",
    "        return max(self.deepest2(node.left, depth + 1), self.deepest2(node.right, depth + 1))\n",
    "\n",
    "\n",
    "node = Node('a')\n",
    "node.left = Node('b')\n",
    "node.left.left = Node('d')\n",
    "node.left.left.right = Node('e')\n",
    "node.right = Node('c')\n",
    "#    a\n",
    "#   / \\\n",
    "#  b   c\n",
    "# /\n",
    "# d\n",
    "#  \\\n",
    "#   e\n",
    "print(Solution().deepest1(node))\n",
    "print(Solution().deepest2(node))\n",
    "# 4"
   ]
  },
  {
   "cell_type": "code",
   "execution_count": null,
   "metadata": {},
   "outputs": [],
   "source": []
  }
 ],
 "metadata": {
  "kernelspec": {
   "display_name": "python3",
   "language": "python",
   "name": "python3"
  },
  "language_info": {
   "codemirror_mode": {
    "name": "ipython",
    "version": 3
   },
   "file_extension": ".py",
   "mimetype": "text/x-python",
   "name": "python",
   "nbconvert_exporter": "python",
   "pygments_lexer": "ipython3",
   "version": "3.8.3"
  }
 },
 "nbformat": 4,
 "nbformat_minor": 4
}
