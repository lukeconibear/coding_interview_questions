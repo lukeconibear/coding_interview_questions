{
 "cells": [
  {
   "cell_type": "code",
   "execution_count": 6,
   "metadata": {},
   "outputs": [
    {
     "name": "stdout",
     "output_type": "stream",
     "text": [
      "['a', 'b', 'c']\n"
     ]
    }
   ],
   "source": [
    "def longest_common_subsequence(string1, string2): # time O(nm*min(n, m)), space O(nm*min(n, m))\n",
    "    longest = [[[] for x in range(len(string1) + 1)] for y in range(len(string2) + 1)]\n",
    "    for index1 in range(1, len(string2) + 1):\n",
    "        for index2 in range(1, len(string1) + 1):\n",
    "            if string2[index1 - 1] == string1[index2 - 1]:\n",
    "                longest[index1][index2] = longest[index1 - 1][index2 - 1] + [string2[index1 - 1]]\n",
    "            else:\n",
    "                longest[index1][index2] = max(longest[index1 - 1][index2], longest[index1][index2 - 1], key=len)\n",
    "    return longest[-1][-1]\n",
    "\n",
    "\n",
    "print(longest_common_subsequence('aabbcc', 'abc'))"
   ]
  },
  {
   "cell_type": "code",
   "execution_count": 7,
   "metadata": {},
   "outputs": [
    {
     "name": "stdout",
     "output_type": "stream",
     "text": [
      "['a', 'b', 'c']\n"
     ]
    }
   ],
   "source": [
    "def longest_common_subsequence(string1, string2): # time O(nm), space O(nm)\n",
    "    lengths = [[0 for x in range(len(string1) + 1)] for y in range(len(string2) + 1)]\n",
    "    for index1 in range(1, len(string2) + 1):\n",
    "        for index2 in range(1, len(string1) + 1):\n",
    "            if string2[index1 - 1] == string1[index2 - 1]:\n",
    "                lengths[index1][index2] = lengths[index1 - 1][index2 - 1] + 1\n",
    "            else:\n",
    "                lengths[index1][index2] = max(lengths[index1 - 1][index2], lengths[index1][index2 - 1])\n",
    "    return build_sequence(lengths, string1)\n",
    "\n",
    "def build_sequence(lengths, string):\n",
    "    sequence = []\n",
    "    index1 = len(lengths) - 1\n",
    "    index2 = len(lengths[0]) - 1\n",
    "    while index1 != 0 and index2 != 0:\n",
    "        if lengths[index1][index2] == lengths[index1 - 1][index2]:\n",
    "            index1 -= 1\n",
    "        elif lengths[index1][index2] == lengths[index1][index2 - 1]:\n",
    "            index2 -= 1\n",
    "        else:\n",
    "            sequence.append(string[index2 - 1])\n",
    "            index1 -= 1\n",
    "            index2 -= 1\n",
    "    return list(reversed(sequence))\n",
    "\n",
    "\n",
    "print(longest_common_subsequence('aabbcc', 'abc'))"
   ]
  },
  {
   "cell_type": "code",
   "execution_count": null,
   "metadata": {},
   "outputs": [],
   "source": []
  }
 ],
 "metadata": {
  "kernelspec": {
   "display_name": "python3",
   "language": "python",
   "name": "python3"
  },
  "language_info": {
   "codemirror_mode": {
    "name": "ipython",
    "version": 3
   },
   "file_extension": ".py",
   "mimetype": "text/x-python",
   "name": "python",
   "nbconvert_exporter": "python",
   "pygments_lexer": "ipython3",
   "version": "3.8.3"
  }
 },
 "nbformat": 4,
 "nbformat_minor": 4
}
