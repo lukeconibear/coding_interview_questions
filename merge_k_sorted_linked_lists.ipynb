{
 "cells": [
  {
   "cell_type": "code",
   "execution_count": 128,
   "metadata": {},
   "outputs": [
    {
     "name": "stdout",
     "output_type": "stream",
     "text": [
      "135\n",
      "246\n",
      "123456\n"
     ]
    }
   ],
   "source": [
    "class Node(object):\n",
    "  def __init__(self, val, next=None):\n",
    "    self.val = val\n",
    "    self.next = next\n",
    "\n",
    "  def __str__(self):\n",
    "    c = self\n",
    "    answer = ''\n",
    "    while c:\n",
    "      answer += str(c.val) if c.val else \"\"\n",
    "      c = c.next\n",
    "    return answer\n",
    "\n",
    "\n",
    "def merge(lists): # time O(nlogn), space O()\n",
    "  arr = []\n",
    "  for node in lists:\n",
    "    while node:\n",
    "      arr.append(node.val)\n",
    "      node = node.next\n",
    "  head = root = None\n",
    "  for val in sorted(arr):\n",
    "    if not root:\n",
    "      head = root = Node(val)\n",
    "    else:\n",
    "      root.next = Node(val)\n",
    "      root = root.next\n",
    "  return head\n",
    "\n",
    "\n",
    "def merge2(lists): # time O(nk) where k is number of lists and n is elements in list, space O()\n",
    "  head = current = Node(-1)\n",
    "\n",
    "  while any(list is not None for list in lists):\n",
    "    current_min, i = min((list.val, i)\n",
    "                         for i, list in enumerate(lists) if list is not None)\n",
    "    lists[i] = lists[i].next\n",
    "    current.next = Node(current_min)\n",
    "    current = current.next\n",
    "\n",
    "  return head.next\n",
    "\n",
    "\n",
    "a = Node(1, Node(3, Node(5)))\n",
    "b = Node(2, Node(4, Node(6)))\n",
    "\n",
    "print(a)\n",
    "# 135\n",
    "print(b)\n",
    "# 246\n",
    "print(merge2([a, b]))\n",
    "# 123456"
   ]
  },
  {
   "cell_type": "code",
   "execution_count": null,
   "metadata": {},
   "outputs": [],
   "source": []
  }
 ],
 "metadata": {
  "kernelspec": {
   "display_name": "python3",
   "language": "python",
   "name": "python3"
  },
  "language_info": {
   "codemirror_mode": {
    "name": "ipython",
    "version": 3
   },
   "file_extension": ".py",
   "mimetype": "text/x-python",
   "name": "python",
   "nbconvert_exporter": "python",
   "pygments_lexer": "ipython3",
   "version": "3.8.3"
  }
 },
 "nbformat": 4,
 "nbformat_minor": 4
}
