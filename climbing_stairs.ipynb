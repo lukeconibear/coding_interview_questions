{
 "cells": [
  {
   "cell_type": "code",
   "execution_count": 1,
   "metadata": {},
   "outputs": [
    {
     "name": "stdout",
     "output_type": "stream",
     "text": [
      "8\n",
      "8\n"
     ]
    }
   ],
   "source": [
    "def staircase(n): # time O(2**n), space O(1)\n",
    "  if n <= 1:\n",
    "    return 1\n",
    "  return staircase(n-1) + staircase(n-2)\n",
    "\n",
    "\n",
    "def staircase2(n): # time O(n), space O(1)\n",
    "  prev = 1\n",
    "  prevprev = 1\n",
    "  curr = 0\n",
    "\n",
    "  for i in range(2, n + 1):\n",
    "    curr = prev + prevprev\n",
    "\n",
    "    prevprev = prev\n",
    "    prev = curr\n",
    "  return curr\n",
    "\n",
    "\n",
    "print(staircase(5))\n",
    "# 8\n",
    "\n",
    "print(staircase2(5))\n",
    "# 8"
   ]
  }
 ],
 "metadata": {
  "kernelspec": {
   "display_name": "python3",
   "language": "python",
   "name": "python3"
  },
  "language_info": {
   "codemirror_mode": {
    "name": "ipython",
    "version": 3
   },
   "file_extension": ".py",
   "mimetype": "text/x-python",
   "name": "python",
   "nbconvert_exporter": "python",
   "pygments_lexer": "ipython3",
   "version": "3.8.3"
  }
 },
 "nbformat": 4,
 "nbformat_minor": 4
}
