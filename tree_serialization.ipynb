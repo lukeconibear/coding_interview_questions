{
 "cells": [
  {
   "cell_type": "code",
   "execution_count": 5,
   "metadata": {},
   "outputs": [
    {
     "name": "stdout",
     "output_type": "stream",
     "text": [
      "132547\n"
     ]
    }
   ],
   "source": [
    "class Node:\n",
    "    def __init__(self, value, left=None, right=None):\n",
    "        self.value = value\n",
    "        self.left = left\n",
    "        self.right = right\n",
    "\n",
    "    def __str__(self):\n",
    "        result = ''\n",
    "        result += str(self.value)\n",
    "        if self.left:\n",
    "            result += str(self.left)\n",
    "        if self.right:\n",
    "            result += str(self.right)\n",
    "        return result\n",
    "    \n",
    "def serialize(node): # time O(), space O()\n",
    "    if node == None:\n",
    "        return '#' # for empty children\n",
    "    return str(node.value) + ' ' + serialize(node.left) + ' ' + serialize(node.right)\n",
    "\n",
    "\n",
    "def deserialize(string): # time O(), space O()\n",
    "    def deserialize_helper(values):\n",
    "        value = next(values)\n",
    "        if value == '#':\n",
    "            return None\n",
    "        node = Node(int(value))\n",
    "        node.left = deserialize_helper(values)\n",
    "        node.right = deserialize_helper(values)\n",
    "        return node\n",
    "    values = iter(string.split())\n",
    "    return deserialize_helper(values)\n",
    "\n",
    "\n",
    "node = Node(1)\n",
    "node.left = Node(3)\n",
    "node.right = Node(4)\n",
    "node.left.left = Node(2)\n",
    "node.left.right = Node(5)\n",
    "node.right.right = Node(7)\n",
    "#            1\n",
    "#         / \\\n",
    "#        3     4\n",
    "#     / \\     \\\n",
    "#    2     5     7\n",
    "\n",
    "print(deserialize(serialize(node)))\n",
    "# 132547"
   ]
  },
  {
   "cell_type": "code",
   "execution_count": null,
   "metadata": {},
   "outputs": [],
   "source": []
  }
 ],
 "metadata": {
  "kernelspec": {
   "display_name": "python3",
   "language": "python",
   "name": "python3"
  },
  "language_info": {
   "codemirror_mode": {
    "name": "ipython",
    "version": 3
   },
   "file_extension": ".py",
   "mimetype": "text/x-python",
   "name": "python",
   "nbconvert_exporter": "python",
   "pygments_lexer": "ipython3",
   "version": "3.8.3"
  }
 },
 "nbformat": 4,
 "nbformat_minor": 4
}
