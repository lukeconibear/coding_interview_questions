{
 "cells": [
  {
   "cell_type": "code",
   "execution_count": 1,
   "metadata": {},
   "outputs": [
    {
     "name": "stdout",
     "output_type": "stream",
     "text": [
      "132547\n"
     ]
    }
   ],
   "source": [
    "class Node:\n",
    "  def __init__(self, val, left=None, right=None):\n",
    "    self.val = val\n",
    "    self.left = left\n",
    "    self.right = right\n",
    "\n",
    "  def __str__(self):\n",
    "    result = ''\n",
    "    result += str(self.val)\n",
    "    if self.left:\n",
    "      result += str(self.left)\n",
    "    if self.right:\n",
    "      result += str(self.right)\n",
    "    return result\n",
    "\n",
    "\n",
    "def serialize(node): # time O(), space O()\n",
    "  if node == None:\n",
    "    return '#' # for empty children\n",
    "  return str(node.val) + ' ' + serialize(node.left) + ' ' + serialize(node.right)\n",
    "\n",
    "\n",
    "def deserialize(str): # time O(), space O()\n",
    "  def deserialize_helper(values):\n",
    "    value = next(values)\n",
    "    if value == '#':\n",
    "      return None\n",
    "    node = Node(int(value))\n",
    "    node.left = deserialize_helper(values)\n",
    "    node.right = deserialize_helper(values)\n",
    "    return node\n",
    "  values = iter(str.split())\n",
    "  return deserialize_helper(values)\n",
    "\n",
    "\n",
    "#      1\n",
    "#     / \\\n",
    "#    3   4\n",
    "#   / \\   \\\n",
    "#  2   5   7\n",
    "tree = Node(1)\n",
    "tree.left = Node(3)\n",
    "tree.right = Node(4)\n",
    "tree.left.left = Node(2)\n",
    "tree.left.right = Node(5)\n",
    "tree.right.right = Node(7)\n",
    "string = serialize(tree)\n",
    "print(deserialize(string))\n",
    "# 132547"
   ]
  }
 ],
 "metadata": {
  "kernelspec": {
   "display_name": "python3",
   "language": "python",
   "name": "python3"
  },
  "language_info": {
   "codemirror_mode": {
    "name": "ipython",
    "version": 3
   },
   "file_extension": ".py",
   "mimetype": "text/x-python",
   "name": "python",
   "nbconvert_exporter": "python",
   "pygments_lexer": "ipython3",
   "version": "3.8.3"
  }
 },
 "nbformat": 4,
 "nbformat_minor": 4
}
