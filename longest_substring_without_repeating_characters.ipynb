{
 "cells": [
  {
   "cell_type": "code",
   "execution_count": 3,
   "metadata": {},
   "outputs": [
    {
     "name": "stdout",
     "output_type": "stream",
     "text": [
      "4\n"
     ]
    }
   ],
   "source": [
    "def lengthOfLongestSubstring(string): # time O(n), space O(n or 26 or k)\n",
    "    letter_pos = {}\n",
    "    start_index = -1\n",
    "    end_index = 0\n",
    "    max_length = 0\n",
    "\n",
    "    while end_index < len(string):\n",
    "        char = string[end_index]\n",
    "        if char in letter_pos:\n",
    "            start_index = max(start_index, letter_pos[char])\n",
    "\n",
    "        max_length = max(max_length, end_index - start_index)\n",
    "\n",
    "        letter_pos[char] = end_index\n",
    "        end_index += 1\n",
    "        \n",
    "    return max_length\n",
    "\n",
    "print(lengthOfLongestSubstring('aabcbbeacc'))"
   ]
  },
  {
   "cell_type": "code",
   "execution_count": null,
   "metadata": {},
   "outputs": [],
   "source": []
  }
 ],
 "metadata": {
  "kernelspec": {
   "display_name": "python3",
   "language": "python",
   "name": "python3"
  },
  "language_info": {
   "codemirror_mode": {
    "name": "ipython",
    "version": 3
   },
   "file_extension": ".py",
   "mimetype": "text/x-python",
   "name": "python",
   "nbconvert_exporter": "python",
   "pygments_lexer": "ipython3",
   "version": "3.8.3"
  }
 },
 "nbformat": 4,
 "nbformat_minor": 4
}
