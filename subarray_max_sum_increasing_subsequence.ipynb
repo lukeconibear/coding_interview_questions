{
 "cells": [
  {
   "cell_type": "code",
   "execution_count": null,
   "metadata": {},
   "outputs": [],
   "source": [
    "def max_sum_increasing_subsequence(nums): # time O(n2), space O(n)\n",
    "    sequences = [None for _ in nums]\n",
    "    sums = [num for num in nums]\n",
    "    max_sum_index = 0\n",
    "    for index1 in range(len(nums)):\n",
    "        current_num = nums[index1]\n",
    "        for index2 in range(0, index1):\n",
    "            other_num = nums[index2]\n",
    "            if other_num < current_num and sums[index2] + current_num >= sums[index1]:\n",
    "                sums[index1] = sums[index2] + current_num\n",
    "                sequences[index1] = index2\n",
    "        if sums[index1] >= sums[max_sum_index]:\n",
    "            max_sum_index = index\n",
    "    return [sums[max_sum_index], build_sequence(nums, sequences, max_sum_index)]\n",
    "\n",
    "def build_sequence(nums, sequences, current_index):\n",
    "    sequence = []\n",
    "    while current_index is not None:\n",
    "        sequence.append(nums[current_index])\n",
    "        current_index = sequences[current_index]\n",
    "    return list(reversed(sequence))\n",
    "\n",
    "\n",
    "print(max_sum_increasing_subsequence([10,70,20,30,50,11,30]))"
   ]
  },
  {
   "cell_type": "code",
   "execution_count": null,
   "metadata": {},
   "outputs": [],
   "source": []
  }
 ],
 "metadata": {
  "kernelspec": {
   "display_name": "python3",
   "language": "python",
   "name": "python3"
  },
  "language_info": {
   "codemirror_mode": {
    "name": "ipython",
    "version": 3
   },
   "file_extension": ".py",
   "mimetype": "text/x-python",
   "name": "python",
   "nbconvert_exporter": "python",
   "pygments_lexer": "ipython3",
   "version": "3.8.3"
  }
 },
 "nbformat": 4,
 "nbformat_minor": 4
}
