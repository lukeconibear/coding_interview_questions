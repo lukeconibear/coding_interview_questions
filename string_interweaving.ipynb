{
 "cells": [
  {
   "cell_type": "code",
   "execution_count": 1,
   "metadata": {},
   "outputs": [
    {
     "name": "stdout",
     "output_type": "stream",
     "text": [
      "True\n",
      "False\n",
      "False\n"
     ]
    }
   ],
   "source": [
    "def interweaving_strings(string1, string2, string3): # time O(nm, length of first 2 strings), space O(nm)\n",
    "    if len(string3) != len(string1) + len(string2):\n",
    "        return False\n",
    "    \n",
    "    cache = [[None for _ in range(len(string2) + 1)] for _ in range(len(string1) + 1)]\n",
    "    return are_interwoven(string1, string2, string3, 0, 0, cache)\n",
    "\n",
    "def are_interwoven(string1, string2, string3, index1, index2, cache):\n",
    "    if cache[index1][index2] is not None:\n",
    "        return cache[index1][index2]\n",
    "    \n",
    "    index3 = index1 + index2\n",
    "    if index3 == len(string3):\n",
    "        return True\n",
    "    \n",
    "    if index1 < len(string1) and string1[index1] == string3[index3]:\n",
    "        cache[index1][index2] = are_interwoven(string1, string2, string3, index1 + 1, index2, cache)\n",
    "        if cache[index1][index2]:\n",
    "            return True\n",
    "        \n",
    "    if index2 < len(string2) and string2[index2] == string3[index3]:\n",
    "        cache[index1][index2] = are_interwoven(string1, string2, string3, index1, index2 + 1, cache)\n",
    "        return cache[index1][index2]\n",
    "    \n",
    "    cache[index1][index2] = False\n",
    "    return False\n",
    "\n",
    "\n",
    "print(interweaving_strings('abc', 'def', 'abcdef'))\n",
    "print(interweaving_strings('abc', 'def', 'abcedf'))\n",
    "print(interweaving_strings('abc', 'def', 'abcdefd'))"
   ]
  },
  {
   "cell_type": "code",
   "execution_count": null,
   "metadata": {},
   "outputs": [],
   "source": []
  }
 ],
 "metadata": {
  "kernelspec": {
   "display_name": "python3",
   "language": "python",
   "name": "python3"
  },
  "language_info": {
   "codemirror_mode": {
    "name": "ipython",
    "version": 3
   },
   "file_extension": ".py",
   "mimetype": "text/x-python",
   "name": "python",
   "nbconvert_exporter": "python",
   "pygments_lexer": "ipython3",
   "version": "3.8.3"
  }
 },
 "nbformat": 4,
 "nbformat_minor": 4
}
