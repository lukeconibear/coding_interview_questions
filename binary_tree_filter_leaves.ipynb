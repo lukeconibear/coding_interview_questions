{
 "cells": [
  {
   "cell_type": "code",
   "execution_count": 8,
   "metadata": {},
   "outputs": [
    {
     "name": "stdout",
     "output_type": "stream",
     "text": [
      "1, (2, (2, (None), (None)), (None)), (None)\n"
     ]
    }
   ],
   "source": [
    "class Node:\n",
    "    def __init__(self, value, left=None, right=None):\n",
    "        self.value = value\n",
    "        self.left = left\n",
    "        self.right = right\n",
    "\n",
    "    def __repr__(self):\n",
    "        return f\"{self.value}, ({self.left.__repr__()}), ({self.right.__repr__()})\"\n",
    "\n",
    "class Solution:\n",
    "    def filter_leaves(self, node, leaves): # time O(n), space O(n)\n",
    "        if not node:\n",
    "            return None\n",
    "\n",
    "        node.left = self.filter_leaves(node.left, leaves)\n",
    "        node.right = self.filter_leaves(node.right, leaves)\n",
    "\n",
    "        if node.value != leaves and not node.left and not node.right:\n",
    "            return None\n",
    "\n",
    "        return node\n",
    "\n",
    "\n",
    "node = Node(1)\n",
    "node.left = Node(2)\n",
    "node.left.left = Node(2)\n",
    "node.right = Node(1)\n",
    "node.right.left = Node(1)\n",
    "#     1\n",
    "#    / \\\n",
    "#   2   1\n",
    "#  /   /\n",
    "# 2   1\n",
    "print(Solution().filter_leaves(node, 2))"
   ]
  },
  {
   "cell_type": "code",
   "execution_count": null,
   "metadata": {},
   "outputs": [],
   "source": []
  }
 ],
 "metadata": {
  "kernelspec": {
   "display_name": "python3",
   "language": "python",
   "name": "python3"
  },
  "language_info": {
   "codemirror_mode": {
    "name": "ipython",
    "version": 3
   },
   "file_extension": ".py",
   "mimetype": "text/x-python",
   "name": "python",
   "nbconvert_exporter": "python",
   "pygments_lexer": "ipython3",
   "version": "3.8.3"
  }
 },
 "nbformat": 4,
 "nbformat_minor": 4
}
