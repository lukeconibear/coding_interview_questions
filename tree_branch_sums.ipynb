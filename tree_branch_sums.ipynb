{
 "cells": [
  {
   "cell_type": "code",
   "execution_count": 9,
   "metadata": {},
   "outputs": [
    {
     "name": "stdout",
     "output_type": "stream",
     "text": [
      "[15, 16, 18, 10, 11]\n"
     ]
    }
   ],
   "source": [
    "class Node(object):\n",
    "    def __init__(self, value, left=None, right=None):\n",
    "        self.value = value\n",
    "        self.left = left\n",
    "        self.right = right\n",
    "        \n",
    "    def __repr__(self):\n",
    "        return f'{self.value}'\n",
    "        \n",
    "def branch_sums(tree): # time O(n), space O(n)\n",
    "    sums = []\n",
    "    depth_first_search(tree, 0, sums)\n",
    "    return sums\n",
    "\n",
    "\n",
    "def depth_first_search(node, running_sum, sums):\n",
    "    if node is None:\n",
    "        return\n",
    "    \n",
    "    running_sum += node.value\n",
    "    if node.left is None and node.right is None: # then a leaf node, and take sum\n",
    "        sums.append(running_sum)\n",
    "        return \n",
    "    \n",
    "    depth_first_search(node.left, running_sum, sums)\n",
    "    depth_first_search(node.right, running_sum, sums)\n",
    "\n",
    "\n",
    "tree = Node(1)\n",
    "tree.left = Node(2)\n",
    "tree.left.left = Node(4)\n",
    "tree.left.left.left = Node(8)\n",
    "tree.left.left.right = Node(9)\n",
    "tree.left.right = Node(5)\n",
    "tree.left.right.left = Node(10)\n",
    "tree.right = Node(3)\n",
    "tree.right.left = Node(6)\n",
    "tree.right.right = Node(7)\n",
    "\n",
    "print(branch_sums(tree))\n",
    " # [15, 16, 18, 10, 11]"
   ]
  },
  {
   "cell_type": "code",
   "execution_count": 10,
   "metadata": {},
   "outputs": [
    {
     "data": {
      "text/plain": [
       "1"
      ]
     },
     "execution_count": 10,
     "metadata": {},
     "output_type": "execute_result"
    }
   ],
   "source": [
    "tree"
   ]
  },
  {
   "cell_type": "code",
   "execution_count": null,
   "metadata": {},
   "outputs": [],
   "source": []
  }
 ],
 "metadata": {
  "kernelspec": {
   "display_name": "python3",
   "language": "python",
   "name": "python3"
  },
  "language_info": {
   "codemirror_mode": {
    "name": "ipython",
    "version": 3
   },
   "file_extension": ".py",
   "mimetype": "text/x-python",
   "name": "python",
   "nbconvert_exporter": "python",
   "pygments_lexer": "ipython3",
   "version": "3.8.3"
  }
 },
 "nbformat": 4,
 "nbformat_minor": 4
}
