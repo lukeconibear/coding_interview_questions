{
 "cells": [
  {
   "cell_type": "code",
   "execution_count": 1,
   "metadata": {},
   "outputs": [
    {
     "name": "stdout",
     "output_type": "stream",
     "text": [
      "2\n"
     ]
    }
   ],
   "source": [
    "def square_sums(n): # time O(n root(n)), space O(n)\n",
    "  squares = []\n",
    "\n",
    "  i = 1\n",
    "  while i*i <= n:\n",
    "    squares.append(i*i)\n",
    "    i = i + 1\n",
    "\n",
    "  min_sums = [n] * (n + 1)\n",
    "  min_sums[0] = 0\n",
    "\n",
    "  for i in range(n+1):\n",
    "    for s in squares:\n",
    "      if i+s < len(min_sums):\n",
    "        min_sums[i+s] = min(min_sums[i+s], min_sums[i] + 1)\n",
    "\n",
    "  return min_sums[-1]\n",
    "\n",
    "\n",
    "print(square_sums(13))\n",
    "# 2"
   ]
  },
  {
   "cell_type": "code",
   "execution_count": null,
   "metadata": {},
   "outputs": [],
   "source": []
  }
 ],
 "metadata": {
  "kernelspec": {
   "display_name": "python3",
   "language": "python",
   "name": "python3"
  },
  "language_info": {
   "codemirror_mode": {
    "name": "ipython",
    "version": 3
   },
   "file_extension": ".py",
   "mimetype": "text/x-python",
   "name": "python",
   "nbconvert_exporter": "python",
   "pygments_lexer": "ipython3",
   "version": "3.8.3"
  }
 },
 "nbformat": 4,
 "nbformat_minor": 4
}
