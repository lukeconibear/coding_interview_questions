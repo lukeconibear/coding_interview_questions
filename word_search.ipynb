{
 "cells": [
  {
   "cell_type": "code",
   "execution_count": 4,
   "metadata": {},
   "outputs": [],
   "source": [
    "# time O(n2), space O(n)\n",
    "class Grid(object):\n",
    "    def __init__(self, matrix):\n",
    "        self.matrix = matrix\n",
    "        \n",
    "    def _word_search_right(self, index, word):\n",
    "        for i in range(len(self.matrix[index])):\n",
    "            if word[i] != self.matrix[index][i]:\n",
    "                return False\n",
    "        return True\n",
    "    \n",
    "    def _word_search_bottom(self, index, word):\n",
    "        for i in range(len(self.matrix)):\n",
    "            if word[i] != self.matrix[i][index]:\n",
    "                return False\n",
    "        return True\n",
    "    \n",
    "    def word_search(self, word):\n",
    "        for i in range(len(self.matrix)):\n",
    "            if self._word_search_right(i, word):\n",
    "                return True\n",
    "        for i in range(len(self.matrix[0])):\n",
    "            if self._word_search_bottom(i, word):\n",
    "                return True\n",
    "        return False"
   ]
  },
  {
   "cell_type": "code",
   "execution_count": 5,
   "metadata": {},
   "outputs": [],
   "source": [
    "matrix = [\n",
    "    ['F', 'A', 'C', 'I'],\n",
    "    ['O', 'B', 'Q', 'P'],\n",
    "    ['A', 'N', 'O', 'B'],\n",
    "    ['M', 'A', 'S', 'S']]"
   ]
  },
  {
   "cell_type": "code",
   "execution_count": 7,
   "metadata": {},
   "outputs": [
    {
     "name": "stdout",
     "output_type": "stream",
     "text": [
      "True\n"
     ]
    }
   ],
   "source": [
    "print(Grid(matrix).word_search('FOAM'))"
   ]
  },
  {
   "cell_type": "code",
   "execution_count": null,
   "metadata": {},
   "outputs": [],
   "source": []
  }
 ],
 "metadata": {
  "kernelspec": {
   "display_name": "python3",
   "language": "python",
   "name": "python3"
  },
  "language_info": {
   "codemirror_mode": {
    "name": "ipython",
    "version": 3
   },
   "file_extension": ".py",
   "mimetype": "text/x-python",
   "name": "python",
   "nbconvert_exporter": "python",
   "pygments_lexer": "ipython3",
   "version": "3.8.3"
  }
 },
 "nbformat": 4,
 "nbformat_minor": 4
}
