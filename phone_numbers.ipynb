{
 "cells": [
  {
   "cell_type": "code",
   "execution_count": 1,
   "metadata": {},
   "outputs": [
    {
     "name": "stdout",
     "output_type": "stream",
     "text": [
      "['dog', 'fog']\n"
     ]
    }
   ],
   "source": [
    "lettersMaps = {\n",
    "    1: [],\n",
    "    2: ['a', 'b', 'c'],\n",
    "    3: ['d', 'e', 'f'],\n",
    "    4: ['g', 'h', 'i'],\n",
    "    5: ['j', 'k', 'l'],\n",
    "    6: ['m', 'n', 'o'],\n",
    "    7: ['p', 'q', 'r', 's'],\n",
    "    8: ['t', 'u', 'v'],\n",
    "    9: ['w', 'x', 'y', 'z'],\n",
    "    0: []\n",
    "}\n",
    "\n",
    "validWords = ['dog', 'fish', 'cat', 'fog']\n",
    "\n",
    "\n",
    "def makeWords_helper(digits, letters):\n",
    "  if not digits:\n",
    "    word = ''.join(letters)\n",
    "    if word in validWords:\n",
    "      return [word]\n",
    "    return []\n",
    "\n",
    "  results = []\n",
    "  chars = lettersMaps[digits[0]]\n",
    "  for char in chars:\n",
    "    results += makeWords_helper(digits[1:], letters + [char])\n",
    "  return results\n",
    "\n",
    "\n",
    "def makeWords(phone): # time O(3n), space O(n)\n",
    "  digits = []\n",
    "  for digit in phone:\n",
    "    digits.append(int(digit))\n",
    "  return makeWords_helper(digits, [])\n",
    "\n",
    "\n",
    "print(makeWords('364'))"
   ]
  }
 ],
 "metadata": {
  "kernelspec": {
   "display_name": "python3",
   "language": "python",
   "name": "python3"
  },
  "language_info": {
   "codemirror_mode": {
    "name": "ipython",
    "version": 3
   },
   "file_extension": ".py",
   "mimetype": "text/x-python",
   "name": "python",
   "nbconvert_exporter": "python",
   "pygments_lexer": "ipython3",
   "version": "3.8.3"
  }
 },
 "nbformat": 4,
 "nbformat_minor": 4
}
