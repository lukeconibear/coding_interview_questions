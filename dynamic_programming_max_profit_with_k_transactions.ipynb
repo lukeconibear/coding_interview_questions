{
 "cells": [
  {
   "cell_type": "code",
   "execution_count": 1,
   "metadata": {},
   "outputs": [
    {
     "name": "stdout",
     "output_type": "stream",
     "text": [
      "93\n",
      "93\n"
     ]
    }
   ],
   "source": [
    "def max_profit_with_k_transactions1(prices, k): # time O(nk), space O(nk)\n",
    "    if not len(prices):\n",
    "        return 0\n",
    "    \n",
    "    profits = [[0 for day in prices] for transaction in range(k + 1)]\n",
    "    for transaction in range(1, k + 1):\n",
    "        max_so_far = float('-inf')\n",
    "        for day in range(1, len(prices)):\n",
    "            max_so_far = max(max_so_far, profits[transaction - 1][day - 1] - prices[day - 1])\n",
    "            profits[transaction][day] = max(profits[transaction][day - 1], max_so_far + prices[day])\n",
    "        \n",
    "    return profits[-1][-1]\n",
    "\n",
    "def max_profit_with_k_transactions2(prices, k): # time O(nk), space O(n)\n",
    "    if not len(prices):\n",
    "        return 0\n",
    "    \n",
    "    even_day_profits = [0 for day in prices]\n",
    "    odd_day_profits = [0 for day in prices]\n",
    "    for transaction in range(1, k + 1):\n",
    "        max_so_far = float('-inf')\n",
    "        if transaction % 2 == 1:\n",
    "            current_profits = odd_day_profits\n",
    "            previous_profits = even_day_profits\n",
    "        else:\n",
    "            current_profits = even_day_profits\n",
    "            previous_profits = odd_day_profits\n",
    "            \n",
    "        for day in range(1, len(prices)):\n",
    "            max_so_far = max(max_so_far, previous_profits[day - 1] - prices[day - 1])\n",
    "            current_profits[day] = max(current_profits[day - 1], max_so_far + prices[day])\n",
    "        \n",
    "    return even_day_profits[-1] if k % 2 == 0 else odd_day_profits[-1]\n",
    "\n",
    "\n",
    "print(max_profit_with_k_transactions1([5,11,3,50,60,90], 3))\n",
    "print(max_profit_with_k_transactions2([5,11,3,50,60,90], 3))\n",
    "# 93, as buy at 5 and sell at 11 for profit of 6 + buy at 3 and sell at 90 for profit of 87"
   ]
  },
  {
   "cell_type": "code",
   "execution_count": null,
   "metadata": {},
   "outputs": [],
   "source": []
  }
 ],
 "metadata": {
  "kernelspec": {
   "display_name": "python3",
   "language": "python",
   "name": "python3"
  },
  "language_info": {
   "codemirror_mode": {
    "name": "ipython",
    "version": 3
   },
   "file_extension": ".py",
   "mimetype": "text/x-python",
   "name": "python",
   "nbconvert_exporter": "python",
   "pygments_lexer": "ipython3",
   "version": "3.8.3"
  }
 },
 "nbformat": 4,
 "nbformat_minor": 4
}
