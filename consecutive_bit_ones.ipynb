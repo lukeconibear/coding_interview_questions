{
 "cells": [
  {
   "cell_type": "markdown",
   "metadata": {},
   "source": [
    "11110010 in bit arithmatic  \n",
    "2 ^ n, starting at 0 which equals 1, then 2, then 4, then 8, etc.  \n",
    "so 110 is 6  \n",
    "1110 is 14  \n",
    "11110010 is (2+2*^4+2^5+2^6+2^7) which is 2+16+32+64+128 which is 242  "
   ]
  },
  {
   "cell_type": "code",
   "execution_count": 1,
   "metadata": {},
   "outputs": [
    {
     "name": "stdout",
     "output_type": "stream",
     "text": [
      "4\n"
     ]
    }
   ],
   "source": [
    "def longest_run(n): # time O(log2), space O()\n",
    "  longest_run = 0\n",
    "  current_run = 0\n",
    "  BITMASK = 1\n",
    "\n",
    "  while n != 0:\n",
    "    if n & BITMASK == 0: # if both variables equal 0\n",
    "      longest_run = max(longest_run, current_run)\n",
    "      current_run = 0\n",
    "    else:\n",
    "      current_run += 1\n",
    "    n = n >> 1\n",
    "  longest_run = max(longest_run, current_run)\n",
    "  return longest_run\n",
    "\n",
    "print(longest_run(242))\n",
    "# 4"
   ]
  },
  {
   "cell_type": "code",
   "execution_count": 4,
   "metadata": {},
   "outputs": [
    {
     "data": {
      "text/plain": [
       "121"
      ]
     },
     "execution_count": 4,
     "metadata": {},
     "output_type": "execute_result"
    }
   ],
   "source": [
    "# >> is a bit shift along\n",
    "# i.e. from 11110010 to 01111001\n",
    "# which is equivalent to dividing by 2\n",
    "242 >> 1"
   ]
  },
  {
   "cell_type": "code",
   "execution_count": null,
   "metadata": {},
   "outputs": [],
   "source": []
  }
 ],
 "metadata": {
  "kernelspec": {
   "display_name": "python3",
   "language": "python",
   "name": "python3"
  },
  "language_info": {
   "codemirror_mode": {
    "name": "ipython",
    "version": 3
   },
   "file_extension": ".py",
   "mimetype": "text/x-python",
   "name": "python",
   "nbconvert_exporter": "python",
   "pygments_lexer": "ipython3",
   "version": "3.8.3"
  }
 },
 "nbformat": 4,
 "nbformat_minor": 4
}
