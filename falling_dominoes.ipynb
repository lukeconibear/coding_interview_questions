{
 "cells": [
  {
   "cell_type": "code",
   "execution_count": 1,
   "metadata": {},
   "outputs": [
    {
     "name": "stdout",
     "output_type": "stream",
     "text": [
      "..RR.LL..RR\n"
     ]
    }
   ],
   "source": [
    "class Solution: # time O(n), space O(n)\n",
    "    def push_dominoes(self, dominoes):\n",
    "        forces = [0] * len(dominoes)\n",
    "        max_force = len(dominoes)\n",
    "        \n",
    "        force = 0\n",
    "        for i, d in enumerate(dominoes):\n",
    "            if d == 'R':\n",
    "                force = max_force\n",
    "            if d == 'L':\n",
    "                force = 0\n",
    "            else:\n",
    "                force = max(0, force - 1)\n",
    "            forces[i] = force\n",
    "            \n",
    "        for i in range(len(dominoes) - 1, -1, -1):\n",
    "            d = dominoes[i]\n",
    "            if d == 'L':\n",
    "                force = max_force\n",
    "            if d == 'R':\n",
    "                force = 0\n",
    "            else:\n",
    "                force = max(0, force - 1)\n",
    "            forces[i] -= force\n",
    "                \n",
    "        result = ''\n",
    "        for f in forces:\n",
    "            if f == 0:\n",
    "                result += '.'\n",
    "            elif f > 0:\n",
    "                result += 'R'\n",
    "            else:\n",
    "                result += 'L'\n",
    "                \n",
    "        return result\n",
    "    \n",
    "print(Solution().push_dominoes('..R...L..R.'))"
   ]
  },
  {
   "cell_type": "code",
   "execution_count": null,
   "metadata": {},
   "outputs": [],
   "source": []
  }
 ],
 "metadata": {
  "kernelspec": {
   "display_name": "python3",
   "language": "python",
   "name": "python3"
  },
  "language_info": {
   "codemirror_mode": {
    "name": "ipython",
    "version": 3
   },
   "file_extension": ".py",
   "mimetype": "text/x-python",
   "name": "python",
   "nbconvert_exporter": "python",
   "pygments_lexer": "ipython3",
   "version": "3.8.3"
  }
 },
 "nbformat": 4,
 "nbformat_minor": 4
}
