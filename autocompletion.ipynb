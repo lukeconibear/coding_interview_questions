{
 "cells": [
  {
   "cell_type": "code",
   "execution_count": 3,
   "metadata": {},
   "outputs": [
    {
     "name": "stdout",
     "output_type": "stream",
     "text": [
      "['dodge', 'door', 'dog']\n"
     ]
    }
   ],
   "source": [
    "class Node:\n",
    "  def __init__(self, isWord, children):\n",
    "    self.isWord = isWord\n",
    "    # {'a': Node, 'b': Node, ...}\n",
    "    self.children = children\n",
    "\n",
    "class Solution:\n",
    "  def build(self, words):\n",
    "    trie = Node(False, {})\n",
    "    for word in words:\n",
    "      current = trie\n",
    "      for char in word:\n",
    "        if not char in current.children:\n",
    "          current.children[char] = Node(False, {})\n",
    "        current = current.children[char]\n",
    "      current.isWord = True\n",
    "    self.trie = trie\n",
    "\n",
    "  def autocomplete(self, word): \n",
    "    current = self.trie\n",
    "    for char in word:\n",
    "      if not char in current.children:\n",
    "        return []\n",
    "      current = current.children[char]\n",
    "\n",
    "    words = []\n",
    "    #self.dfs(current, word, words)\n",
    "    self.dfs_iterative(current, word, words)\n",
    "    return words\n",
    "\n",
    "  def dfs(self, node, prefix, words): # recursion, time O(words * average char), space O()\n",
    "    if node.isWord:\n",
    "      words.append(prefix)\n",
    "    for char in node.children:\n",
    "      self.dfs(node.children[char], prefix + char, words)\n",
    "    \n",
    "    \n",
    "  def dfs_iterative(self, node, prefix, words): # iterative\n",
    "    stack = [(node, prefix)]\n",
    "    while len(stack):\n",
    "      (node, prefix) = stack.pop()\n",
    "      if node.isWord:\n",
    "        words.append(prefix)\n",
    "      for char in node.children:\n",
    "        child = node.children[char]\n",
    "        stack.append((child, prefix + char))\n",
    "        \n",
    "\n",
    "s = Solution()\n",
    "s.build(['dog', 'dark', 'cat', 'door', 'dodge'])\n",
    "print(s.autocomplete('do'))\n",
    "# ['dog', 'door', 'dodge']"
   ]
  },
  {
   "cell_type": "code",
   "execution_count": null,
   "metadata": {},
   "outputs": [],
   "source": []
  }
 ],
 "metadata": {
  "kernelspec": {
   "display_name": "python3",
   "language": "python",
   "name": "python3"
  },
  "language_info": {
   "codemirror_mode": {
    "name": "ipython",
    "version": 3
   },
   "file_extension": ".py",
   "mimetype": "text/x-python",
   "name": "python",
   "nbconvert_exporter": "python",
   "pygments_lexer": "ipython3",
   "version": "3.8.3"
  }
 },
 "nbformat": 4,
 "nbformat_minor": 4
}
