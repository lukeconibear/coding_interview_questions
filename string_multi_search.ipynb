{
 "cells": [
  {
   "cell_type": "code",
   "execution_count": 3,
   "metadata": {},
   "outputs": [
    {
     "name": "stdout",
     "output_type": "stream",
     "text": [
      "[True, True, True, False, False, False, False, False, False, False, False]\n"
     ]
    }
   ],
   "source": [
    "def multi_string_search(big_string, small_strings): # time O(ns + bs), space O(ns) where n is number of small_strings, s is max length of small_strings, and b is char in big_string\n",
    "    trie = Trie()\n",
    "    for string in small_strings:\n",
    "        trie.insert(string)\n",
    "    \n",
    "    contained_strings = {}\n",
    "    for start_index in range(len(big_string)):\n",
    "        find_smaller_strings_in(big_string, start_index, trie, contained_strings)\n",
    "        \n",
    "    return [string in contained_strings for string in small_strings]\n",
    "\n",
    "def find_smaller_strings_in(string, start_index, trie, contained_strings):\n",
    "    node = trie.head\n",
    "    for index in range(start_index, len(string)):\n",
    "        char = string[index]\n",
    "        if char not in node:\n",
    "            break\n",
    "        node = node[char]\n",
    "        if trie.end_symbol in node:\n",
    "            contained_strings[node[trie.end_symbol]] = True\n",
    "            \n",
    "class Trie: # time O(ns), space O(ns)\n",
    "    def __init__(self):\n",
    "        self.head = {}\n",
    "        self.end_symbol = '*'\n",
    "        \n",
    "    def insert(self, string):\n",
    "        node = self.head\n",
    "        for index in range(len(string)):\n",
    "            if string[index] not in node:\n",
    "                node[string[index]] = {}\n",
    "            node = node[string[index]]\n",
    "        node[self.end_symbol] = string\n",
    "                \n",
    "            \n",
    "print(multi_string_search('abc', 'abc def ghi'))"
   ]
  },
  {
   "cell_type": "code",
   "execution_count": null,
   "metadata": {},
   "outputs": [],
   "source": []
  }
 ],
 "metadata": {
  "kernelspec": {
   "display_name": "python3",
   "language": "python",
   "name": "python3"
  },
  "language_info": {
   "codemirror_mode": {
    "name": "ipython",
    "version": 3
   },
   "file_extension": ".py",
   "mimetype": "text/x-python",
   "name": "python",
   "nbconvert_exporter": "python",
   "pygments_lexer": "ipython3",
   "version": "3.8.3"
  }
 },
 "nbformat": 4,
 "nbformat_minor": 4
}
