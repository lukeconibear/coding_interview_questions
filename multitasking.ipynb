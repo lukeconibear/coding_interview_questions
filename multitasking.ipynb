{
 "cells": [
  {
   "cell_type": "code",
   "execution_count": 1,
   "metadata": {},
   "outputs": [
    {
     "name": "stdout",
     "output_type": "stream",
     "text": [
      "7\n"
     ]
    }
   ],
   "source": [
    "def findTime(tasks, cooldown): # time O(n) constant time lookup for hash map, space O(n)\n",
    "  lastPos = {}\n",
    "  current = 0\n",
    "\n",
    "  for task in tasks:\n",
    "    if task in lastPos:\n",
    "      if current - lastPos[task] <= cooldown:\n",
    "        # add cooldown\n",
    "        current = cooldown + lastPos[task] + 1\n",
    "    lastPos[task] = current\n",
    "    current = current + 1\n",
    "  return current\n",
    "\n",
    "print(findTime([1, 1, 2, 1], 2))\n",
    "# 7"
   ]
  },
  {
   "cell_type": "raw",
   "metadata": {},
   "source": [
    "[1, 1, 2, 1]  \n",
    "1 _ _ 1 _ _ 1 {_ _}  \n",
    "        2 _ _  "
   ]
  },
  {
   "cell_type": "code",
   "execution_count": null,
   "metadata": {},
   "outputs": [],
   "source": []
  }
 ],
 "metadata": {
  "kernelspec": {
   "display_name": "python3",
   "language": "python",
   "name": "python3"
  },
  "language_info": {
   "codemirror_mode": {
    "name": "ipython",
    "version": 3
   },
   "file_extension": ".py",
   "mimetype": "text/x-python",
   "name": "python",
   "nbconvert_exporter": "python",
   "pygments_lexer": "ipython3",
   "version": "3.8.3"
  }
 },
 "nbformat": 4,
 "nbformat_minor": 4
}
