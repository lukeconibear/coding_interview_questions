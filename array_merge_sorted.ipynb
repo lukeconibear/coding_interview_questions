{
 "cells": [
  {
   "cell_type": "code",
   "execution_count": 3,
   "metadata": {},
   "outputs": [
    {
     "name": "stdout",
     "output_type": "stream",
     "text": [
      "[-124, -1, 0, 1, 3, 5, 6, 9, 12, 20, 21, 81, 121, 150]\n"
     ]
    }
   ],
   "source": [
    "def merge_sorted_arrays(arrays): # time O(nk) where n elements in merged sorted array and k subarrays, space O(n + k)\n",
    "    sorted_list = []\n",
    "    element_indices = [0 for array in arrays]\n",
    "    while True: # n iterations\n",
    "        smallest_items = []\n",
    "        for array_index in range(len(arrays)): # k iterations\n",
    "            relevant_array = arrays[array_index]\n",
    "            element_index = element_indices[array_index]\n",
    "            if element_index == len(relevant_array):\n",
    "                continue\n",
    "                \n",
    "            smallest_items.append({\n",
    "                'array_index': array_index,\n",
    "                'num': relevant_array[element_index]\n",
    "            })\n",
    "            \n",
    "        if len(smallest_items) == 0:\n",
    "            break\n",
    "        \n",
    "        next_item = get_min_value(smallest_items)\n",
    "        sorted_list.append(next_item['num'])\n",
    "        element_indices[next_item['array_index']] += 1\n",
    "        \n",
    "    return sorted_list\n",
    "\n",
    "def get_min_value(items):\n",
    "    min_value_index = 0\n",
    "    for item in range(1, len(items)):\n",
    "        if items[item]['num'] < items[min_value_index]['num']:\n",
    "            min_value_index = item\n",
    "            \n",
    "    return items[min_value_index]\n",
    "\n",
    "\n",
    "print(merge_sorted_arrays([[1, 5, 9, 21], [-1, 0], [-124, 81, 121], [3, 6, 12, 20, 150]]))"
   ]
  },
  {
   "cell_type": "code",
   "execution_count": null,
   "metadata": {},
   "outputs": [],
   "source": []
  },
  {
   "cell_type": "code",
   "execution_count": 2,
   "metadata": {},
   "outputs": [
    {
     "name": "stdout",
     "output_type": "stream",
     "text": [
      "[-124, -1, 0, 1, 3, 5, 6, 9, 12, 20, 21, 81, 121, 150]\n"
     ]
    }
   ],
   "source": [
    "def merge_sorted_arrays(arrays): # time O(nlgk + k) lgk to insert and + k to build to the min heap, space O(n + k)\n",
    "    sorted_list = []\n",
    "    smallest_items = []\n",
    "    for array_index in range(len(arrays)):\n",
    "        smallest_items.append({\n",
    "            'array_index': array_index,\n",
    "            'element_index': 0,\n",
    "            'num': arrays[array_index][0]\n",
    "        })\n",
    "        \n",
    "    min_heap = MinHeap(smallest_items)\n",
    "    while not min_heap.is_empty():\n",
    "        smallest_item = min_heap.remove()\n",
    "        array_index, element_index, num = smallest_item['array_index'], smallest_item['element_index'], smallest_item['num']\n",
    "        sorted_list.append(num)\n",
    "        if element_index == len(arrays[array_index]) - 1:\n",
    "            continue\n",
    "            \n",
    "        min_heap.insert({\n",
    "            'array_index': array_index,\n",
    "            'element_index': element_index + 1,\n",
    "            'num': arrays[array_index][element_index + 1]\n",
    "        })\n",
    "        \n",
    "    return sorted_list\n",
    "\n",
    "class MinHeap:\n",
    "    def __init__(self, array):\n",
    "        self.heap = self.build_heap(array)\n",
    "        \n",
    "    def is_empty(self):\n",
    "        return len(self.heap) == 0\n",
    "    \n",
    "    def build_heap(self, array):\n",
    "        first_parent_index = (len(array) - 2) // 2\n",
    "        for current_index in reversed(range(first_parent_index + 1)):\n",
    "            self.sift_down(current_index, len(array) - 1, array)\n",
    "            \n",
    "        return array\n",
    "    \n",
    "    def sift_down(self, current_index, end_index, heap):\n",
    "        child_one_index = current_index * 2 + 1\n",
    "        while child_one_index <= end_index:\n",
    "            child_two_index = current_index * 2 + 2 if current_index * 2 + 2 <= end_index else -1\n",
    "            if child_two_index != -1 and heap[child_two_index]['num'] < heap[child_one_index]['num']:\n",
    "                index_to_swap = child_two_index\n",
    "            else:\n",
    "                index_to_swap = child_one_index\n",
    "            if heap[index_to_swap]['num'] < heap[current_index]['num']:\n",
    "                self.swap(current_index, index_to_swap, heap)\n",
    "                current_index = index_to_swap\n",
    "                child_one_index = current_index * 2 +1\n",
    "            else:\n",
    "                return\n",
    "\n",
    "    def sift_up(self, current_index, heap):\n",
    "        parent_index = (current_index - 1) // 2\n",
    "        while current_index > 0 and heap[current_index]['num'] < heap[parent_index]['num']:\n",
    "            self.swap(current_index, parent_index, heap)\n",
    "            current_index = parent_index\n",
    "            parent_index = (current_index - 1) // 2\n",
    "\n",
    "    def peek(self):\n",
    "        return self.heap[0]\n",
    "\n",
    "    def remove(self):\n",
    "        self.swap(0, len(self.heap) - 1, self.heap)\n",
    "        value_to_remove = self.heap.pop()\n",
    "        self.sift_down(0, len(self.heap) - 1, self.heap)\n",
    "        return value_to_remove\n",
    "\n",
    "    def insert(self, value):\n",
    "        self.heap.append(value)\n",
    "        self.sift_up(len(self.heap) - 1, self.heap)\n",
    "\n",
    "    def swap(self, x, y, heap):\n",
    "        heap[x], heap[y] = heap[y], heap[x]\n",
    "        \n",
    "        \n",
    "print(merge_sorted_arrays([[1, 5, 9, 21], [-1, 0], [-124, 81, 121], [3, 6, 12, 20, 150]]))"
   ]
  },
  {
   "cell_type": "code",
   "execution_count": null,
   "metadata": {},
   "outputs": [],
   "source": []
  }
 ],
 "metadata": {
  "kernelspec": {
   "display_name": "python3",
   "language": "python",
   "name": "python3"
  },
  "language_info": {
   "codemirror_mode": {
    "name": "ipython",
    "version": 3
   },
   "file_extension": ".py",
   "mimetype": "text/x-python",
   "name": "python",
   "nbconvert_exporter": "python",
   "pygments_lexer": "ipython3",
   "version": "3.8.3"
  }
 },
 "nbformat": 4,
 "nbformat_minor": 4
}
