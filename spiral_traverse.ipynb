{
 "cells": [
  {
   "cell_type": "code",
   "execution_count": 29,
   "metadata": {},
   "outputs": [
    {
     "name": "stdout",
     "output_type": "stream",
     "text": [
      "[1, 2, 3, 4, 5, 6, 7, 8, 9, 10, 11, 12, 13, 14, 15, 16]\n"
     ]
    }
   ],
   "source": [
    "def spiral_traverse(array): # time O(n), space O(n)\n",
    "    start_row, end_row = 0, len(array) - 1\n",
    "    start_col, end_col = 0, len(array[0]) - 1\n",
    "    \n",
    "    result = []\n",
    "    spiral_traverse_helper(array, start_row, end_row, start_col, end_col, result)\n",
    "    return result\n",
    " \n",
    "\n",
    "def spiral_traverse_helper(array, start_row, end_row, start_col, end_col, result):\n",
    "    if start_row > end_row or start_col > end_col:\n",
    "        return\n",
    "    \n",
    "    for col in range(start_col, end_col + 1):\n",
    "        result.append(array[start_row][col])\n",
    "        \n",
    "    for row in range(start_row + 1, end_row + 1):\n",
    "        result.append(array[row][end_col])\n",
    "        \n",
    "    for col in reversed(range(start_col, end_col)):\n",
    "        if start_row == end_row:\n",
    "            break\n",
    "        result.append(array[end_row][col])\n",
    "        \n",
    "    for row in reversed(range(start_row + 1, end_row)):\n",
    "        if start_col == end_col:\n",
    "            break\n",
    "        result.append(array[row][start_col])\n",
    "    \n",
    "    spiral_traverse_helper(array, start_row + 1, end_row - 1, start_col + 1, end_col -1, result)\n",
    "\n",
    "print(spiral_traverse([\n",
    "    [1,2,3,4],\n",
    "    [12,13,14,5],\n",
    "    [11,16,15,6],\n",
    "    [10,9,8,7]\n",
    "]))"
   ]
  },
  {
   "cell_type": "code",
   "execution_count": 30,
   "metadata": {},
   "outputs": [
    {
     "name": "stdout",
     "output_type": "stream",
     "text": [
      "[1, 2, 3, 4, 5, 6, 7, 8, 9, 10, 11, 12, 13, 14, 15, 16]\n"
     ]
    }
   ],
   "source": [
    "def spiral_traverse(array): # time O(n), space O(n)\n",
    "    start_row, end_row = 0, len(array) - 1\n",
    "    start_col, end_col = 0, len(array[0]) - 1\n",
    "    result = []\n",
    "    while start_row <= end_row and start_col <= end_col:\n",
    "        for col in range(start_col, end_col + 1):\n",
    "            result.append(array[start_row][col])\n",
    "\n",
    "        for row in range(start_row + 1, end_row + 1):\n",
    "            result.append(array[row][end_col])\n",
    "\n",
    "        for col in reversed(range(start_col, end_col)):\n",
    "            if start_row == end_row:\n",
    "                break\n",
    "            result.append(array[end_row][col])\n",
    "\n",
    "        for row in reversed(range(start_row + 1, end_row)):\n",
    "            if start_col == end_col:\n",
    "                break\n",
    "            result.append(array[row][start_col])\n",
    "            \n",
    "        start_row += 1\n",
    "        end_row -= 1\n",
    "        start_col += 1\n",
    "        end_col -= 1\n",
    "    \n",
    "    return result\n",
    "\n",
    "print(spiral_traverse([\n",
    "    [1,2,3,4],\n",
    "    [12,13,14,5],\n",
    "    [11,16,15,6],\n",
    "    [10,9,8,7]\n",
    "]))"
   ]
  },
  {
   "cell_type": "code",
   "execution_count": 1,
   "metadata": {},
   "outputs": [
    {
     "name": "stdout",
     "output_type": "stream",
     "text": [
      "1 2 3 4 5 10 15 20 19 18 17 16 11 6 7 8 9 14 13 12 \n"
     ]
    }
   ],
   "source": [
    "RIGHT = 0\n",
    "UP = 1\n",
    "LEFT = 2\n",
    "DOWN = 3\n",
    "\n",
    "\n",
    "class Grid(object):\n",
    "  def __init__(self, matrix):\n",
    "    self.matrix = matrix\n",
    "\n",
    "  def __next_position(self, position, direction):\n",
    "    if direction == RIGHT:\n",
    "      return (position[0], position[1] + 1)\n",
    "    elif direction == DOWN:\n",
    "      return (position[0] + 1, position[1])\n",
    "    elif direction == LEFT:\n",
    "      return (position[0], position[1] - 1)\n",
    "    elif direction == UP:\n",
    "      return (position[0] - 1, position[1])\n",
    "\n",
    "  def __next_direction(self, direction):\n",
    "    return {\n",
    "        RIGHT: DOWN,\n",
    "        DOWN: LEFT,\n",
    "        LEFT: UP,\n",
    "        UP: RIGHT\n",
    "    }[direction]\n",
    "\n",
    "  def __is_valid_position(self, pos):\n",
    "    return (0 <= pos[0] < len(self.matrix) and\n",
    "            0 <= pos[1] < len(self.matrix[0]) and\n",
    "            self.matrix[pos[0]][pos[1]] is not None)\n",
    "\n",
    "  def spiralPrint(self):\n",
    "    remaining = len(self.matrix) * len(self.matrix[0])\n",
    "    current_direction = RIGHT\n",
    "    current_position = (0, 0)\n",
    "    result = ''\n",
    "    while remaining > 0:\n",
    "      remaining -= 1\n",
    "      result += str(self.matrix[current_position[0]]\n",
    "                    [current_position[1]]) + ' '\n",
    "      self.matrix[current_position[0]][current_position[1]] = None\n",
    "\n",
    "      next_position = self.__next_position(current_position, current_direction)\n",
    "      if not self.__is_valid_position(next_position):\n",
    "        current_direction = self.__next_direction(current_direction)\n",
    "        current_position = self.__next_position(\n",
    "            current_position, current_direction)\n",
    "      else:\n",
    "        current_position = self.__next_position(\n",
    "            current_position, current_direction)\n",
    "\n",
    "    return result\n",
    "\n",
    "\n",
    "grid = [[1,  2,  3,  4,  5],\n",
    "        [6,  7,  8,  9,  10],\n",
    "        [11, 12, 13, 14, 15],\n",
    "        [16, 17, 18, 19, 20]]\n",
    "\n",
    "print(Grid(grid).spiralPrint())\n",
    "# 1 2 3 4 5 10 15 20 19 18 17 16 11 6 7 8 9 14 13 12 "
   ]
  },
  {
   "cell_type": "code",
   "execution_count": null,
   "metadata": {},
   "outputs": [],
   "source": []
  }
 ],
 "metadata": {
  "kernelspec": {
   "display_name": "python3",
   "language": "python",
   "name": "python3"
  },
  "language_info": {
   "codemirror_mode": {
    "name": "ipython",
    "version": 3
   },
   "file_extension": ".py",
   "mimetype": "text/x-python",
   "name": "python",
   "nbconvert_exporter": "python",
   "pygments_lexer": "ipython3",
   "version": "3.8.3"
  }
 },
 "nbformat": 4,
 "nbformat_minor": 4
}
