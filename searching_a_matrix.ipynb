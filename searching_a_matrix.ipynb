{
 "cells": [
  {
   "cell_type": "code",
   "execution_count": 2,
   "metadata": {},
   "outputs": [
    {
     "name": "stdout",
     "output_type": "stream",
     "text": [
      "False\n",
      "True\n"
     ]
    }
   ],
   "source": [
    "def searchMatrix(mat, value): # time O(lgn) where lg is log base 2, space O(1)\n",
    "    if len(mat) == 0:\n",
    "        return False\n",
    "\n",
    "    rows = len(mat)\n",
    "    cols = len(mat[0])\n",
    "\n",
    "    index_low = 0\n",
    "    index_high = rows * cols\n",
    "    while index_low < index_high:\n",
    "        index_mid = (index_low + index_high) // 2\n",
    "        mid_value = mat[index_mid // cols][index_mid % cols]\n",
    "\n",
    "        if mid_value == value:\n",
    "            return True\n",
    "        if mid_value < value:\n",
    "            index_low = index_mid + 1\n",
    "        else:\n",
    "            index_high = index_mid\n",
    "\n",
    "    return False\n",
    "\n",
    "\n",
    "mat = [\n",
    "        [1, 3, 5, 8],\n",
    "        [10, 11, 15, 16],\n",
    "        [24, 27, 30, 31],\n",
    "]\n",
    "\n",
    "print(searchMatrix(mat, 4))\n",
    "# False\n",
    "\n",
    "print(searchMatrix(mat, 10))\n",
    "# True"
   ]
  },
  {
   "cell_type": "raw",
   "metadata": {},
   "source": [
    "given a sorted list of values, then binary search is fast (log base 2 of n) as dividing by 2 each time\n",
    "only looking at the portion of the sorted matrix which is below the value"
   ]
  },
  {
   "cell_type": "code",
   "execution_count": null,
   "metadata": {},
   "outputs": [],
   "source": []
  }
 ],
 "metadata": {
  "kernelspec": {
   "display_name": "python3",
   "language": "python",
   "name": "python3"
  },
  "language_info": {
   "codemirror_mode": {
    "name": "ipython",
    "version": 3
   },
   "file_extension": ".py",
   "mimetype": "text/x-python",
   "name": "python",
   "nbconvert_exporter": "python",
   "pygments_lexer": "ipython3",
   "version": "3.8.3"
  }
 },
 "nbformat": 4,
 "nbformat_minor": 4
}
