{
 "cells": [
  {
   "cell_type": "code",
   "execution_count": 2,
   "metadata": {},
   "outputs": [
    {
     "name": "stdout",
     "output_type": "stream",
     "text": [
      "/users/name/\n"
     ]
    }
   ],
   "source": [
    "def absolute_path(path): # time O(n), space O(n)\n",
    "    folders = path.split('/')\n",
    "    stack = []\n",
    "\n",
    "    for folder in folders:\n",
    "        if folder == '.':\n",
    "            pass\n",
    "        elif folder == '..':\n",
    "            stack.pop()\n",
    "        else:\n",
    "            stack.append(folder)\n",
    "            \n",
    "    return '/'.join(stack)\n",
    "\n",
    "path = '/users/name/docs/.././desk/../'\n",
    "print(absolute_path(path))\n",
    "# /users/name/"
   ]
  },
  {
   "cell_type": "code",
   "execution_count": null,
   "metadata": {},
   "outputs": [],
   "source": []
  }
 ],
 "metadata": {
  "kernelspec": {
   "display_name": "python3",
   "language": "python",
   "name": "python3"
  },
  "language_info": {
   "codemirror_mode": {
    "name": "ipython",
    "version": 3
   },
   "file_extension": ".py",
   "mimetype": "text/x-python",
   "name": "python",
   "nbconvert_exporter": "python",
   "pygments_lexer": "ipython3",
   "version": "3.8.3"
  }
 },
 "nbformat": 4,
 "nbformat_minor": 4
}
