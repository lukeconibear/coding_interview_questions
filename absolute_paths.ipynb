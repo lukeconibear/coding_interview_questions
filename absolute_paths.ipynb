{
 "cells": [
  {
   "cell_type": "code",
   "execution_count": 1,
   "metadata": {},
   "outputs": [
    {
     "name": "stdout",
     "output_type": "stream",
     "text": [
      "/users/tech/\n"
     ]
    }
   ],
   "source": [
    "def clean_path(path): # time O(n), space O(n)\n",
    "  folders = path.split('/')\n",
    "  stack = []\n",
    "\n",
    "  for folder in folders:\n",
    "    if folder == '.':\n",
    "      pass\n",
    "    elif folder == '..':\n",
    "      stack.pop()\n",
    "    else:\n",
    "      stack.append(folder)\n",
    "  return '/'.join(stack)\n",
    "\n",
    "path = '/users/tech/docs/.././desk/../'\n",
    "print(clean_path(path))\n",
    "# /users/tech/"
   ]
  }
 ],
 "metadata": {
  "kernelspec": {
   "display_name": "python3",
   "language": "python",
   "name": "python3"
  },
  "language_info": {
   "codemirror_mode": {
    "name": "ipython",
    "version": 3
   },
   "file_extension": ".py",
   "mimetype": "text/x-python",
   "name": "python",
   "nbconvert_exporter": "python",
   "pygments_lexer": "ipython3",
   "version": "3.8.3"
  }
 },
 "nbformat": 4,
 "nbformat_minor": 4
}
