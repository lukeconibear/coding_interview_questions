{
 "cells": [
  {
   "cell_type": "code",
   "execution_count": 9,
   "metadata": {},
   "outputs": [
    {
     "name": "stdout",
     "output_type": "stream",
     "text": [
      "[1, 2, 3, 7, 6, 5, 4]\n"
     ]
    }
   ],
   "source": [
    "class Node:\n",
    "    def __init__(self, value, left=None, right=None):\n",
    "        self.value = value\n",
    "        self.left = left\n",
    "        self.right = right\n",
    "        \n",
    "    def _repr__(self):\n",
    "        return f'{self.value}'\n",
    "\n",
    "class Solution:\n",
    "    def zigzag_order(self, node): # time O(n), space O(n)\n",
    "        result = []\n",
    "        curr_level = [node]\n",
    "        next_level = []\n",
    "        left_to_right = False\n",
    "\n",
    "        while len(curr_level) > 0:\n",
    "            node = curr_level.pop()\n",
    "            result.append(node.value)\n",
    "\n",
    "            if left_to_right:\n",
    "                if node.left:\n",
    "                    next_level.append(node.left)\n",
    "                    \n",
    "                if node.right:\n",
    "                    next_level.append(node.right)\n",
    "                    \n",
    "            if left_to_right != True:\n",
    "                if node.right:\n",
    "                    next_level.append(node.right)\n",
    "                    \n",
    "                if node.left:\n",
    "                    next_level.append(node.left)\n",
    "\n",
    "            if len(curr_level) == 0:\n",
    "                left_to_right = not left_to_right\n",
    "                curr_level = next_level\n",
    "                next_level = []\n",
    "\n",
    "        return result\n",
    "\n",
    "\n",
    "node = Node(1)\n",
    "node.left = Node(2)\n",
    "node.left.left = Node(4)\n",
    "node.left.right = Node(5)\n",
    "node.right = Node(3)\n",
    "node.right.left = Node(6)\n",
    "node.right.right = Node(7)\n",
    "\n",
    "print(Solution().zigzag_order(node))"
   ]
  },
  {
   "cell_type": "code",
   "execution_count": null,
   "metadata": {},
   "outputs": [],
   "source": []
  }
 ],
 "metadata": {
  "kernelspec": {
   "display_name": "python3",
   "language": "python",
   "name": "python3"
  },
  "language_info": {
   "codemirror_mode": {
    "name": "ipython",
    "version": 3
   },
   "file_extension": ".py",
   "mimetype": "text/x-python",
   "name": "python",
   "nbconvert_exporter": "python",
   "pygments_lexer": "ipython3",
   "version": "3.8.3"
  }
 },
 "nbformat": 4,
 "nbformat_minor": 4
}
