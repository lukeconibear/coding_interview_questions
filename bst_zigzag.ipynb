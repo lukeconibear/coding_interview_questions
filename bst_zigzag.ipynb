{
 "cells": [
  {
   "cell_type": "code",
   "execution_count": 1,
   "metadata": {},
   "outputs": [
    {
     "name": "stdout",
     "output_type": "stream",
     "text": [
      "[1, 2, 3, 7, 6, 5, 4]\n"
     ]
    }
   ],
   "source": [
    "class Node:\n",
    "  def __init__(self, value, left=None, right=None):\n",
    "    self.value = value\n",
    "    self.left = left\n",
    "    self.right = right\n",
    "\n",
    "\n",
    "def zigzag_order(node): # time O(n), space O()\n",
    "  result = []\n",
    "  currLevel = [node]\n",
    "  nextLevel = []\n",
    "  leftToRight = False\n",
    "\n",
    "  while len(currLevel) > 0:\n",
    "    node = currLevel.pop()\n",
    "    result.append(node.value)\n",
    "\n",
    "    if leftToRight:\n",
    "      if node.left:\n",
    "        nextLevel.append(node.left)\n",
    "      if node.right:\n",
    "        nextLevel.append(node.right)\n",
    "    if leftToRight != True:\n",
    "      if node.right:\n",
    "        nextLevel.append(node.right)\n",
    "      if node.left:\n",
    "        nextLevel.append(node.left)\n",
    "\n",
    "    if len(currLevel) == 0:\n",
    "      leftToRight = not leftToRight\n",
    "      currLevel = nextLevel\n",
    "      nextLevel = []\n",
    "\n",
    "  return result\n",
    "\n",
    "\n",
    "n7 = Node(7)\n",
    "n6 = Node(6)\n",
    "n5 = Node(5)\n",
    "n4 = Node(4)\n",
    "n3 = Node(3, n6, n7)\n",
    "n2 = Node(2, n4, n5)\n",
    "n1 = Node(1, n2, n3)\n",
    "\n",
    "print(zigzag_order(n1))"
   ]
  }
 ],
 "metadata": {
  "kernelspec": {
   "display_name": "python3",
   "language": "python",
   "name": "python3"
  },
  "language_info": {
   "codemirror_mode": {
    "name": "ipython",
    "version": 3
   },
   "file_extension": ".py",
   "mimetype": "text/x-python",
   "name": "python",
   "nbconvert_exporter": "python",
   "pygments_lexer": "ipython3",
   "version": "3.8.3"
  }
 },
 "nbformat": 4,
 "nbformat_minor": 4
}
