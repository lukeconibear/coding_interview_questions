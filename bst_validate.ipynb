{
 "cells": [
  {
   "cell_type": "code",
   "execution_count": 4,
   "metadata": {},
   "outputs": [
    {
     "name": "stdout",
     "output_type": "stream",
     "text": [
      "True\n",
      "False\n"
     ]
    }
   ],
   "source": [
    "class Node:\n",
    "    def __init__(self, value, left=None, right=None):\n",
    "        self.value = value\n",
    "        self.left = left\n",
    "        self.right = right\n",
    "        \n",
    "        \n",
    "class Solution: \n",
    "    def is_valid_bst(self, node): # time O(n), space O(h)\n",
    "        return self._is_valid_bst_helper(node, float('-inf'), float('inf'))\n",
    "    \n",
    "    def _is_valid_bst_helper(self, node, low, high):\n",
    "        if node is None:\n",
    "            return True\n",
    "        if node.value < low or node.value >= high:\n",
    "            return False\n",
    "        return self._is_valid_bst_helper(node.left, low, node.value) and self._is_valid_bst_helper(node.right, node.value, high)\n",
    "    \n",
    "\n",
    "node = Node(5)\n",
    "node.left = Node(4)\n",
    "node.right = Node(7)\n",
    "print(Solution().is_valid_bst(node))\n",
    "\n",
    "node = Node(5)\n",
    "node.left = Node(4)\n",
    "node.right = Node(7)\n",
    "node.right.left = Node(2)\n",
    "print(Solution().is_valid_bst(node))"
   ]
  },
  {
   "cell_type": "code",
   "execution_count": null,
   "metadata": {},
   "outputs": [],
   "source": []
  }
 ],
 "metadata": {
  "kernelspec": {
   "display_name": "python3",
   "language": "python",
   "name": "python3"
  },
  "language_info": {
   "codemirror_mode": {
    "name": "ipython",
    "version": 3
   },
   "file_extension": ".py",
   "mimetype": "text/x-python",
   "name": "python",
   "nbconvert_exporter": "python",
   "pygments_lexer": "ipython3",
   "version": "3.8.3"
  }
 },
 "nbformat": 4,
 "nbformat_minor": 4
}
