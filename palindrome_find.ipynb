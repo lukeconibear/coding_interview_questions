{
 "cells": [
  {
   "cell_type": "code",
   "execution_count": 3,
   "metadata": {},
   "outputs": [
    {
     "name": "stdout",
     "output_type": "stream",
     "text": [
      "foxof\n"
     ]
    }
   ],
   "source": [
    "# palindrome is the same going forward as backwards from the middle\n",
    "from collections import defaultdict\n",
    "\n",
    "def find_palindrome(string): # time O(2n), space O(n)\n",
    "    char_counts = defaultdict(int)\n",
    "\n",
    "    for char in string:\n",
    "        char_counts[char] += 1\n",
    "\n",
    "    palindrome = ''\n",
    "    odd_char = ''\n",
    "    for char, count in char_counts.items():\n",
    "        if count % 2 == 0:\n",
    "            palindrome += char * (count // 2)\n",
    "        elif odd_char == '':\n",
    "            odd_char = char\n",
    "            palindrome += char * (count // 2)\n",
    "        else:\n",
    "            return False\n",
    "    return palindrome + odd_char + palindrome[::-1]\n",
    "\n",
    "\n",
    "print(find_palindrome('foxfo'))\n",
    "# foxof"
   ]
  },
  {
   "cell_type": "code",
   "execution_count": null,
   "metadata": {},
   "outputs": [],
   "source": []
  }
 ],
 "metadata": {
  "kernelspec": {
   "display_name": "python3",
   "language": "python",
   "name": "python3"
  },
  "language_info": {
   "codemirror_mode": {
    "name": "ipython",
    "version": 3
   },
   "file_extension": ".py",
   "mimetype": "text/x-python",
   "name": "python",
   "nbconvert_exporter": "python",
   "pygments_lexer": "ipython3",
   "version": "3.8.3"
  }
 },
 "nbformat": 4,
 "nbformat_minor": 4
}
