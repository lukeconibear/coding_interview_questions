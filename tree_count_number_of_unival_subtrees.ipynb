{
 "cells": [
  {
   "cell_type": "code",
   "execution_count": 2,
   "metadata": {},
   "outputs": [
    {
     "name": "stdout",
     "output_type": "stream",
     "text": [
      "5\n"
     ]
    }
   ],
   "source": [
    "class Node:\n",
    "    def __init__(self, value, left=None, right=None):\n",
    "        self.value = value\n",
    "        self.left = left\n",
    "        self.right = right\n",
    "\n",
    "class Solution:\n",
    "    def count_unival_subtrees(self, node):\n",
    "        count, is_unival = self.count_unival_subtrees_helper(node)\n",
    "        return count\n",
    "\n",
    "    def count_unival_subtrees_helper(self, node):\n",
    "        if not node:\n",
    "            return 0, True\n",
    "\n",
    "        left_count, is_left_unival = self.count_unival_subtrees_helper(node.left)\n",
    "        right_count, is_right_unival = self.count_unival_subtrees_helper(node.right)\n",
    "\n",
    "        if (is_left_unival and is_right_unival and\n",
    "           (not node.left or node.value == node.left.value) and\n",
    "           (not node.right or node.value == node.right.value)):\n",
    "            return left_count + right_count + 1, True\n",
    "\n",
    "        return left_count + right_count, False\n",
    "\n",
    "\n",
    "node = Node(0)\n",
    "node.left = Node(1)\n",
    "node.right = Node(0)\n",
    "node.right.left = Node(1)\n",
    "node.right.right = Node(0)\n",
    "node.right.left.left = Node(1)\n",
    "node.right.left.right = Node(1)\n",
    "#    0\n",
    "#   / \\\n",
    "#  1   0\n",
    "#     / \\\n",
    "#    1   0\n",
    "#   / \\\n",
    "#  1   1\n",
    "\n",
    "print(Solution().count_unival_subtrees(node))\n",
    "# 5"
   ]
  },
  {
   "cell_type": "code",
   "execution_count": null,
   "metadata": {},
   "outputs": [],
   "source": []
  }
 ],
 "metadata": {
  "kernelspec": {
   "display_name": "python3",
   "language": "python",
   "name": "python3"
  },
  "language_info": {
   "codemirror_mode": {
    "name": "ipython",
    "version": 3
   },
   "file_extension": ".py",
   "mimetype": "text/x-python",
   "name": "python",
   "nbconvert_exporter": "python",
   "pygments_lexer": "ipython3",
   "version": "3.8.3"
  }
 },
 "nbformat": 4,
 "nbformat_minor": 4
}
