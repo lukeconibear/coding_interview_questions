{
 "cells": [
  {
   "cell_type": "code",
   "execution_count": 2,
   "metadata": {},
   "outputs": [
    {
     "name": "stdout",
     "output_type": "stream",
     "text": [
      "(9, None, None)\n",
      "(4, (2, (1, None, None), None), (8, (5, None, (7, None, None)), (9, None, None)))\n",
      "(8, (5, None, (7, None, None)), (9, None, None))\n"
     ]
    }
   ],
   "source": [
    "class Node:\n",
    "    def __init__(self, value, left=None, right=None, parent=None):\n",
    "        self.value = value\n",
    "        self.left = left\n",
    "        self.right = right\n",
    "        self.parent = parent\n",
    "\n",
    "    def __repr__(self):\n",
    "        return f\"({self.value}, {self.left}, {self.right})\"\n",
    "\n",
    "class Solution:\n",
    "    def in_order_successor(self, node): # time O(n), space O(1)\n",
    "        if node.right: # check if has a right node\n",
    "            curr = node.right # change to this    \n",
    "            while curr.left: # then go the left most node attached to this, which will be the next largest node above\n",
    "                curr = curr.left # this is the condition for finding 5 given 4\n",
    "            return curr\n",
    "\n",
    "        curr = node\n",
    "        parent = curr.parent # this is the condition for finding 8 given 7, go up to its parents\n",
    "        while parent and parent.left != curr: # keep going up to parent until find a left branch from that parent\n",
    "            curr = parent # and this parent will be the next largest node above\n",
    "            parent = parent.parent\n",
    "        return parent\n",
    "\n",
    "\n",
    "node = Node(4)\n",
    "node.left = Node(2)\n",
    "node.right = Node(8)\n",
    "node.left.parent = node\n",
    "node.right.parent = node\n",
    "node.left.left = Node(1)\n",
    "node.left.left.parent = node.left\n",
    "node.right.right = Node(7)\n",
    "node.right.right.parent = node.right\n",
    "node.right.left = Node(5)\n",
    "node.right.left.parent = node.right\n",
    "node.right.left.right = Node(7)\n",
    "node.right.left.right.parent = node.right.left\n",
    "node.right.right = Node(9)\n",
    "node.right.right.parent = node.right\n",
    "#     4\n",
    "#    / \\\n",
    "#   2   8\n",
    "#  /   / \\\n",
    "# 1   5   9\n",
    "#      \\\n",
    "#       7\n",
    "\n",
    "print(Solution().in_order_successor(node.right)) # next largest after 8\n",
    "# 9\n",
    "print(Solution().in_order_successor(node.left)) # next largest after 2\n",
    "# 4\n",
    "print(Solution().in_order_successor(node.right.left.right)) # next largest after 7\n",
    "# 8"
   ]
  },
  {
   "cell_type": "code",
   "execution_count": null,
   "metadata": {},
   "outputs": [],
   "source": []
  }
 ],
 "metadata": {
  "kernelspec": {
   "display_name": "python3",
   "language": "python",
   "name": "python3"
  },
  "language_info": {
   "codemirror_mode": {
    "name": "ipython",
    "version": 3
   },
   "file_extension": ".py",
   "mimetype": "text/x-python",
   "name": "python",
   "nbconvert_exporter": "python",
   "pygments_lexer": "ipython3",
   "version": "3.8.3"
  }
 },
 "nbformat": 4,
 "nbformat_minor": 4
}
