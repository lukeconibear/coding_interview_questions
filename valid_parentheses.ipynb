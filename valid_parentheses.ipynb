{
 "cells": [
  {
   "cell_type": "code",
   "execution_count": 3,
   "metadata": {},
   "outputs": [
    {
     "name": "stdout",
     "output_type": "stream",
     "text": [
      "True\n",
      "False\n"
     ]
    }
   ],
   "source": [
    "# time O(n), space O(n)\n",
    "class Solution(object):\n",
    "    def is_valid(self, string):\n",
    "        \n",
    "        parens = {\n",
    "            '[': ']',\n",
    "            '(': ')',\n",
    "            '{': '}'\n",
    "        }\n",
    "        inverse_parens = {value: key for key, value in parens.items()}\n",
    "        \n",
    "        stack = []\n",
    "        for char in string:\n",
    "            if char in parens:\n",
    "                stack.append(char)\n",
    "            elif char in inverse_parens:\n",
    "                if len(stack) == 0 or stack[-1] != inverse_parens[char]:\n",
    "                    return False\n",
    "                else:\n",
    "                    stack.pop()\n",
    "        return len(stack) == 0\n",
    "    \n",
    "print(Solution().is_valid('(){}[]'))\n",
    "\n",
    "print(Solution().is_valid('()['))"
   ]
  },
  {
   "cell_type": "code",
   "execution_count": null,
   "metadata": {},
   "outputs": [],
   "source": []
  }
 ],
 "metadata": {
  "kernelspec": {
   "display_name": "python3",
   "language": "python",
   "name": "python3"
  },
  "language_info": {
   "codemirror_mode": {
    "name": "ipython",
    "version": 3
   },
   "file_extension": ".py",
   "mimetype": "text/x-python",
   "name": "python",
   "nbconvert_exporter": "python",
   "pygments_lexer": "ipython3",
   "version": "3.8.3"
  }
 },
 "nbformat": 4,
 "nbformat_minor": 4
}
