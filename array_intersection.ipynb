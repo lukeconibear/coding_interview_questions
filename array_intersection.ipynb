{
 "cells": [
  {
   "cell_type": "code",
   "execution_count": null,
   "metadata": {},
   "outputs": [],
   "source": [
    "# AVOID built ins e.g. set\n",
    "# data structures are okay e.g. dict, list/array\n",
    "# avoid imports"
   ]
  },
  {
   "cell_type": "code",
   "execution_count": 1,
   "metadata": {},
   "outputs": [
    {
     "name": "stdout",
     "output_type": "stream",
     "text": [
      "(9, 4)\n"
     ]
    }
   ],
   "source": [
    "class Solution:\n",
    "  def intersection(self, nums1, nums2): # time O(nm), space O(n)\n",
    "    results = {}\n",
    "    for num in nums1:\n",
    "      if num in nums2 and num not in results:\n",
    "        results[num] = 1\n",
    "    return list(results.keys())\n",
    "\n",
    "  def intersection2(self, nums1, nums2): # time O(), space O(2n)\n",
    "    return [x for x in set(nums1) if x in set(nums2)]\n",
    "\n",
    "  def intersection3(self, nums1, nums2): # time O(n), space O(n)\n",
    "    hash = {}\n",
    "    duplicates = {}\n",
    "    for i in nums1:\n",
    "      hash[i] = 1\n",
    "    for i in nums2:\n",
    "      if i in hash:\n",
    "        duplicates[i] = 1\n",
    "\n",
    "    return tuple(duplicates.keys())\n",
    "\n",
    "print(Solution().intersection3([4, 9, 5], [9, 4, 9, 8, 4]))\n",
    "# (9, 4)"
   ]
  }
 ],
 "metadata": {
  "kernelspec": {
   "display_name": "python3",
   "language": "python",
   "name": "python3"
  },
  "language_info": {
   "codemirror_mode": {
    "name": "ipython",
    "version": 3
   },
   "file_extension": ".py",
   "mimetype": "text/x-python",
   "name": "python",
   "nbconvert_exporter": "python",
   "pygments_lexer": "ipython3",
   "version": "3.8.3"
  }
 },
 "nbformat": 4,
 "nbformat_minor": 4
}
