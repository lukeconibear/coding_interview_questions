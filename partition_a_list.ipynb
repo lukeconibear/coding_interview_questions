{
 "cells": [
  {
   "cell_type": "code",
   "execution_count": 1,
   "metadata": {},
   "outputs": [
    {
     "name": "stdout",
     "output_type": "stream",
     "text": [
      "[0, 1, 1, 2, 4, 9, 9, 8]\n",
      "[0, 1, 1, 2, 4, 8, 9, 9]\n",
      "[2, 1, 1, 0, 8, 9, 9, 4]\n"
     ]
    }
   ],
   "source": [
    "def partition(nums, k): # time O(n), space O(1), 2 pointers for each of high and low index\n",
    "    index_low = 0\n",
    "    index_high = len(nums) - 1\n",
    "\n",
    "    index = 0\n",
    "    while index <= index_high:\n",
    "        num = nums[index]\n",
    "        if num > k:\n",
    "            nums[index_high], nums[index] = nums[index], nums[index_high]\n",
    "            index_high -= 1\n",
    "        if num < k:\n",
    "            nums[index_low], nums[index] = nums[index], nums[index_low]\n",
    "            index_low += 1\n",
    "            index += 1\n",
    "        if num == k:\n",
    "            index += 1\n",
    "\n",
    "    return nums\n",
    "\n",
    "\n",
    "def partitionSort(nums, k): # time O(nlogn), space O(1)\n",
    "    return sorted(nums)\n",
    "\n",
    "\n",
    "def partitionCopy(nums, k): # time O(n), space O(2n)\n",
    "    low_values = []\n",
    "    high_values = []\n",
    "    for num in nums:\n",
    "        if num < k:\n",
    "            low_values.append(num)\n",
    "        else:\n",
    "            high_values.append(num)\n",
    "    return low_values + high_values\n",
    "\n",
    "\n",
    "print(partition([8, 9, 9, 2, 4, 1, 1, 0], 3))\n",
    "print(partitionSort([8, 9, 9, 2, 4, 1, 1, 0], 3))\n",
    "print(partitionCopy([8, 9, 9, 2, 4, 1, 1, 0], 3))"
   ]
  },
  {
   "cell_type": "code",
   "execution_count": null,
   "metadata": {},
   "outputs": [],
   "source": []
  }
 ],
 "metadata": {
  "kernelspec": {
   "display_name": "python3",
   "language": "python",
   "name": "python3"
  },
  "language_info": {
   "codemirror_mode": {
    "name": "ipython",
    "version": 3
   },
   "file_extension": ".py",
   "mimetype": "text/x-python",
   "name": "python",
   "nbconvert_exporter": "python",
   "pygments_lexer": "ipython3",
   "version": "3.8.3"
  }
 },
 "nbformat": 4,
 "nbformat_minor": 4
}
