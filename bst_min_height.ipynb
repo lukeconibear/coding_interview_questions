{
 "cells": [
  {
   "cell_type": "code",
   "execution_count": null,
   "metadata": {},
   "outputs": [],
   "source": [
    "class BST:\n",
    "    def __init__(self, value):\n",
    "        self.value = value\n",
    "        self.left = None\n",
    "        self.right = None\n",
    "\n",
    "    def insert(self, value):\n",
    "        if value < self.value:\n",
    "            if self.left is None:\n",
    "                self.left = BST(value)\n",
    "            else:\n",
    "                self.left.insert(value)\n",
    "        else:\n",
    "            if self.right is None:\n",
    "                self.right = BST(value)\n",
    "            else:\n",
    "                self.right.insert(value)"
   ]
  },
  {
   "cell_type": "code",
   "execution_count": null,
   "metadata": {},
   "outputs": [],
   "source": [
    "def minHeightBst(array): # time O(nlgn), space O(n)\n",
    "    return construct_min_height_bst(array, None, 0, len(array) - 1)\n",
    "    \n",
    "    \n",
    "def construct_min_height_bst(array, bst, start_index, end_index):\n",
    "    if end_index < start_index:\n",
    "        return\n",
    "    middle_index = (start_index + end_index) // 2\n",
    "    value_to_add = array[middle_index]\n",
    "    if bst is None:\n",
    "        bst = BST(value_to_add)\n",
    "    else:\n",
    "        bst.insert(value_to_add) # this is the lgn call in time\n",
    "    construct_min_height_bst(array, bst, start_index, middle_index - 1)\n",
    "    construct_min_height_bst(array, bst, middle_index + 1, end_index)\n",
    "    return bst"
   ]
  },
  {
   "cell_type": "code",
   "execution_count": 1,
   "metadata": {},
   "outputs": [],
   "source": [
    "def minHeightBst(array): # time O(n), space O(n)\n",
    "    return construct_min_height_bst(array, 0, len(array) - 1)\n",
    "    \n",
    "    \n",
    "def construct_min_height_bst(array, start_index, end_index):\n",
    "    if end_index < start_index:\n",
    "        return None\n",
    "    middle_index = (start_index + end_index) // 2\n",
    "    bst = BST(array[middle_index])\n",
    "    bst.left = construct_min_height_bst(array, start_index, middle_index - 1)\n",
    "    bst.right = construct_min_height_bst(array, middle_index + 1, end_index)\n",
    "    return bst"
   ]
  },
  {
   "cell_type": "code",
   "execution_count": null,
   "metadata": {},
   "outputs": [],
   "source": []
  }
 ],
 "metadata": {
  "kernelspec": {
   "display_name": "python3",
   "language": "python",
   "name": "python3"
  },
  "language_info": {
   "codemirror_mode": {
    "name": "ipython",
    "version": 3
   },
   "file_extension": ".py",
   "mimetype": "text/x-python",
   "name": "python",
   "nbconvert_exporter": "python",
   "pygments_lexer": "ipython3",
   "version": "3.8.3"
  }
 },
 "nbformat": 4,
 "nbformat_minor": 4
}
