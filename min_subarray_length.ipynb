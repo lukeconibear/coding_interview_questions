{
 "cells": [
  {
   "cell_type": "code",
   "execution_count": 1,
   "metadata": {},
   "outputs": [
    {
     "name": "stdout",
     "output_type": "stream",
     "text": [
      "2\n"
     ]
    }
   ],
   "source": [
    "class Solution(object):\n",
    "  def minSubArray(self, k, nums): # time O(n), space O(1)\n",
    "    leftIndex = rightIndex = 0\n",
    "    sum = 0\n",
    "    minLen = float('inf')\n",
    "\n",
    "    while rightIndex < len(nums):\n",
    "      sum += nums[rightIndex]\n",
    "      while sum >= k:\n",
    "        minLen = min(minLen, rightIndex - leftIndex + 1)\n",
    "        sum -= nums[leftIndex]\n",
    "        leftIndex += 1\n",
    "      rightIndex += 1\n",
    "\n",
    "    if minLen == float('inf'):\n",
    "      return 0\n",
    "    return minLen\n",
    "\n",
    "print(Solution().minSubArray(7, [2, 3, 1, 2, 4, 3]))\n",
    "# 2"
   ]
  }
 ],
 "metadata": {
  "kernelspec": {
   "display_name": "python3",
   "language": "python",
   "name": "python3"
  },
  "language_info": {
   "codemirror_mode": {
    "name": "ipython",
    "version": 3
   },
   "file_extension": ".py",
   "mimetype": "text/x-python",
   "name": "python",
   "nbconvert_exporter": "python",
   "pygments_lexer": "ipython3",
   "version": "3.8.3"
  }
 },
 "nbformat": 4,
 "nbformat_minor": 4
}
