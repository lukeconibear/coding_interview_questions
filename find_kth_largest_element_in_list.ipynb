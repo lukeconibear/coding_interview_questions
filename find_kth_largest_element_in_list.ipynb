{
 "cells": [
  {
   "cell_type": "code",
   "execution_count": 3,
   "metadata": {},
   "outputs": [
    {
     "name": "stdout",
     "output_type": "stream",
     "text": [
      "5\n",
      "5\n",
      "5\n"
     ]
    }
   ],
   "source": [
    "import heapq\n",
    "import random\n",
    "\n",
    "def find_kth_largest1(nums, k): # time O(nlogn), space O(logn)\n",
    "    return sorted(nums)[len(nums) - k]\n",
    "\n",
    "\n",
    "def find_kth_largest2(nums, k): # time O(klogn), space O(n)\n",
    "    return heapq.nlargest(k ,nums)[-1] # as min first\n",
    "\n",
    "\n",
    "def find_kth_largest3(nums, k): # time O(n), space O(logn)\n",
    "    def select(list, l, r, index): # quick select\n",
    "        if l == r:\n",
    "            return list[l]\n",
    "        \n",
    "        pivot_index = random.randint(l, r)\n",
    "        list[l], list[pivot_index] = list[pivot_index], list[l]\n",
    "        i = l\n",
    "        for j in range(l + 1, r + 1):\n",
    "            if list[j] < list[l]:\n",
    "                i += 1\n",
    "                list[i], list[j] = list[j], list[i]\n",
    "                \n",
    "        list[i], list[l] = list[l], list[i]\n",
    "        if index == i:\n",
    "            return list[i]\n",
    "        elif index < 1:\n",
    "            return select(list, l, i - 1, index)\n",
    "        else:\n",
    "            return select(list, i + 1, r, index)\n",
    "        \n",
    "    return select(nums, 0, len(nums) - 1, len(nums) - k)\n",
    "\n",
    "\n",
    "print(find_kth_largest1([3, 5, 2, 4, 6, 8], 3))\n",
    "print(find_kth_largest2([3, 5, 2, 4, 6, 8], 3))\n",
    "print(find_kth_largest3([3, 5, 2, 4, 6, 8], 3))"
   ]
  },
  {
   "cell_type": "code",
   "execution_count": null,
   "metadata": {},
   "outputs": [],
   "source": []
  }
 ],
 "metadata": {
  "kernelspec": {
   "display_name": "python3",
   "language": "python",
   "name": "python3"
  },
  "language_info": {
   "codemirror_mode": {
    "name": "ipython",
    "version": 3
   },
   "file_extension": ".py",
   "mimetype": "text/x-python",
   "name": "python",
   "nbconvert_exporter": "python",
   "pygments_lexer": "ipython3",
   "version": "3.8.3"
  }
 },
 "nbformat": 4,
 "nbformat_minor": 4
}
