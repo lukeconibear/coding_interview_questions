{
 "cells": [
  {
   "cell_type": "code",
   "execution_count": 1,
   "metadata": {},
   "outputs": [
    {
     "name": "stdout",
     "output_type": "stream",
     "text": [
      "a\n",
      "bc\n",
      "gdef\n",
      "\n"
     ]
    }
   ],
   "source": [
    "from collections import deque\n",
    "\n",
    "class Node(object):\n",
    "  def __init__(self, val, children):\n",
    "    self.val = val\n",
    "    self.children = children\n",
    "\n",
    "def levelPrint(node): # time O(n), space O(n)\n",
    "  q = deque([node])\n",
    "  result = ''\n",
    "  while len(q):\n",
    "    num = len(q)\n",
    "    while num > 0:\n",
    "      node = q.popleft()\n",
    "      result += str(node.val)\n",
    "      for child in node.children:\n",
    "        q.append(child)\n",
    "      num -= 1\n",
    "    result += \"\\n\"\n",
    "  return result\n",
    "\n",
    "tree = Node('a', [])\n",
    "tree.children = [Node('b', []), Node('c', [])]\n",
    "tree.children[0].children = [Node('g', [])]\n",
    "tree.children[1].children = [Node('d', []), Node('e', []), Node('f', [])]\n",
    "\n",
    "print(levelPrint(tree))"
   ]
  },
  {
   "cell_type": "code",
   "execution_count": null,
   "metadata": {},
   "outputs": [],
   "source": []
  }
 ],
 "metadata": {
  "kernelspec": {
   "display_name": "python3",
   "language": "python",
   "name": "python3"
  },
  "language_info": {
   "codemirror_mode": {
    "name": "ipython",
    "version": 3
   },
   "file_extension": ".py",
   "mimetype": "text/x-python",
   "name": "python",
   "nbconvert_exporter": "python",
   "pygments_lexer": "ipython3",
   "version": "3.8.3"
  }
 },
 "nbformat": 4,
 "nbformat_minor": 4
}
