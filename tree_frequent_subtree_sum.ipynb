{
 "cells": [
  {
   "cell_type": "code",
   "execution_count": 1,
   "metadata": {},
   "outputs": [
    {
     "name": "stdout",
     "output_type": "stream",
     "text": [
      "1\n"
     ]
    }
   ],
   "source": [
    "from collections import defaultdict\n",
    "\n",
    "\n",
    "class Node():\n",
    "  def __init__(self, value, left=None, right=None):\n",
    "    self.val = value\n",
    "    self.left = left\n",
    "    self.right = right\n",
    "\n",
    "\n",
    "def _build_frequencies(root, counter):\n",
    "  if root == None:\n",
    "    return 0\n",
    "  total = root.val + \\\n",
    "      _build_frequencies(root.left, counter) + \\\n",
    "      _build_frequencies(root.right, counter)\n",
    "  counter[total] += 1\n",
    "  return total\n",
    "\n",
    "\n",
    "def most_freq_subtree_sum(root): # time O(2n), space O(2n)\n",
    "  counter = defaultdict(int)\n",
    "  _build_frequencies(root, counter)\n",
    "  most_common_sum = 0\n",
    "  for k in list(counter):\n",
    "    if counter[k] > counter[most_common_sum]:\n",
    "      most_common_sum = k\n",
    "  return most_common_sum\n",
    "\n",
    "\n",
    "root = Node(3, Node(1), Node(-3))\n",
    "print(most_freq_subtree_sum(root))\n",
    "# 1\n",
    "\n",
    "# sums are 1 (3+1+-3), 1 (on own), -3 (on own), so 1 is the most frequent"
   ]
  },
  {
   "cell_type": "code",
   "execution_count": null,
   "metadata": {},
   "outputs": [],
   "source": []
  }
 ],
 "metadata": {
  "kernelspec": {
   "display_name": "python3",
   "language": "python",
   "name": "python3"
  },
  "language_info": {
   "codemirror_mode": {
    "name": "ipython",
    "version": 3
   },
   "file_extension": ".py",
   "mimetype": "text/x-python",
   "name": "python",
   "nbconvert_exporter": "python",
   "pygments_lexer": "ipython3",
   "version": "3.8.3"
  }
 },
 "nbformat": 4,
 "nbformat_minor": 4
}
