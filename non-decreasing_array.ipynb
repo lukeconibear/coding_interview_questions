{
 "cells": [
  {
   "cell_type": "code",
   "execution_count": 5,
   "metadata": {},
   "outputs": [],
   "source": [
    "# time O(n), space O(1)\n",
    "class Solution(object):\n",
    "    def check_possibility(self, nums):\n",
    "        invalid_index = -1\n",
    "        for i in range(len(nums) - 1):\n",
    "            if nums[i] > nums[i+1]:\n",
    "                if invalid_index != -1:\n",
    "                    return False\n",
    "                invalid_index = i\n",
    "                \n",
    "        if invalid_index == -1:\n",
    "            return True\n",
    "        if invalid_index == 0:\n",
    "            return True\n",
    "        if invalid_index == len(nums) -2:\n",
    "            return True\n",
    "        if nums[invalid_index] <= nums[invalid_index + 2]:\n",
    "            return True\n",
    "        if nums[invalid_index - 1] <= nums[invalid_index + 1]:\n",
    "            return True\n",
    "            \n",
    "        return False"
   ]
  },
  {
   "cell_type": "code",
   "execution_count": 6,
   "metadata": {},
   "outputs": [
    {
     "name": "stdout",
     "output_type": "stream",
     "text": [
      "True\n"
     ]
    }
   ],
   "source": [
    "print(Solution().check_possibility([4,1,2]))"
   ]
  },
  {
   "cell_type": "code",
   "execution_count": 7,
   "metadata": {},
   "outputs": [
    {
     "name": "stdout",
     "output_type": "stream",
     "text": [
      "False\n"
     ]
    }
   ],
   "source": [
    "print(Solution().check_possibility([3,2,4,1]))"
   ]
  },
  {
   "cell_type": "code",
   "execution_count": null,
   "metadata": {},
   "outputs": [],
   "source": []
  }
 ],
 "metadata": {
  "kernelspec": {
   "display_name": "python3",
   "language": "python",
   "name": "python3"
  },
  "language_info": {
   "codemirror_mode": {
    "name": "ipython",
    "version": 3
   },
   "file_extension": ".py",
   "mimetype": "text/x-python",
   "name": "python",
   "nbconvert_exporter": "python",
   "pygments_lexer": "ipython3",
   "version": "3.8.3"
  }
 },
 "nbformat": 4,
 "nbformat_minor": 4
}
