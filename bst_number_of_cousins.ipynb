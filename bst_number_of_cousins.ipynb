{
 "cells": [
  {
   "cell_type": "code",
   "execution_count": 1,
   "metadata": {},
   "outputs": [
    {
     "name": "stdout",
     "output_type": "stream",
     "text": [
      "[4, 6]\n"
     ]
    }
   ],
   "source": [
    "class Node:\n",
    "    def __init__(self, value, left=None, right=None):\n",
    "        self.value = value\n",
    "        self.left = left\n",
    "        self.right = right\n",
    "\n",
    "\n",
    "class Solution:\n",
    "    def list_cousins(self, node, target): # time O(2n), space O(n)\n",
    "        height, parent = self._find_node(node, target, None, 0)\n",
    "        return self._nodes_at_height(node, height, parent)\n",
    "    \n",
    "    def _nodes_at_height(self, node, height, exclude): \n",
    "        if node == None or node == exclude:\n",
    "            return []\n",
    "        \n",
    "        if height == 0:\n",
    "            return [node.value]\n",
    "        \n",
    "        return (self._nodes_at_height(node.left, height - 1, exclude) + self._nodes_at_height(node.right, height - 1, exclude))\n",
    "\n",
    "    def _find_node(self, node, target, parent, height): \n",
    "        if not node:\n",
    "            return False\n",
    "        \n",
    "        if node == target:\n",
    "            return (height, parent)\n",
    "        \n",
    "        return (self._find_node(node.left, target, node, height + 1) or self._find_node(node.right, target, node, height + 1))\n",
    "\n",
    "\n",
    "node = Node(1)\n",
    "node.left = Node(2)\n",
    "node.left.left = Node(4)\n",
    "node.left.right = Node(6)\n",
    "node.right = Node(3)\n",
    "node.right.right = Node(5)\n",
    "#     1\n",
    "#    / \\\n",
    "#   2   3\n",
    "#  / \\    \\\n",
    "# 4   6    5\n",
    "\n",
    "print(Solution().list_cousins(node, node.right.right))\n",
    "# [4, 6]"
   ]
  },
  {
   "cell_type": "code",
   "execution_count": null,
   "metadata": {},
   "outputs": [],
   "source": []
  }
 ],
 "metadata": {
  "kernelspec": {
   "display_name": "python3",
   "language": "python",
   "name": "python3"
  },
  "language_info": {
   "codemirror_mode": {
    "name": "ipython",
    "version": 3
   },
   "file_extension": ".py",
   "mimetype": "text/x-python",
   "name": "python",
   "nbconvert_exporter": "python",
   "pygments_lexer": "ipython3",
   "version": "3.8.3"
  }
 },
 "nbformat": 4,
 "nbformat_minor": 4
}
