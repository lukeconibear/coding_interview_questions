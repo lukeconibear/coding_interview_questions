{
 "cells": [
  {
   "cell_type": "code",
   "execution_count": 2,
   "metadata": {},
   "outputs": [
    {
     "name": "stdout",
     "output_type": "stream",
     "text": [
      "7\n"
     ]
    }
   ],
   "source": [
    "class Grid:\n",
    "  def __init__(self, grid):\n",
    "    self.grid = grid\n",
    "\n",
    "  def max_connected_colors(self):\n",
    "    max_n = 0\n",
    "    for y in range(len(self.grid)):\n",
    "      for x in range(len(self.grid[y])):\n",
    "        # max_n = max(max_n, self.dfs(x, y, {}))\n",
    "        max_n = max(max_n, self.dfsIterative(x, y, {}))\n",
    "    return max_n\n",
    "\n",
    "  def colorAt(self, x, y):\n",
    "    if x >= 0 and x < len(self.grid[0]) and y >= 0 and y < len(self.grid):\n",
    "      return self.grid[y][x]\n",
    "    return -1\n",
    "\n",
    "  def neighbors(self, x, y):\n",
    "    POSITIONS = [[-1, 0], [0, -1], [0, 1], [1, 0]]\n",
    "    n = []\n",
    "    for pos in POSITIONS:\n",
    "      if self.colorAt(x + pos[0], y + pos[1]) == self.colorAt(x, y):\n",
    "        n.append((x + pos[0], y + pos[1]))\n",
    "    return n\n",
    "\n",
    "  def dfs(self, x, y, visited):# depth first search, time O(), space O()\n",
    "    key = str(x) + ', ' + str(y)\n",
    "    if key in visited:\n",
    "      return 0\n",
    "    visited[key] = True\n",
    "    result = 1\n",
    "    for neighbor in self.neighbors(x, y):\n",
    "      result += self.dfs(neighbor[0], neighbor[1], visited)\n",
    "    return result\n",
    "\n",
    "  def dfsIterative(self, x, y, visited): # time O(), space O()\n",
    "    stack = [(x, y)]\n",
    "    result = 0\n",
    "    while len(stack) > 0:\n",
    "      (x, y) = stack.pop()\n",
    "      key = str(x) + ', ' + str(y)\n",
    "      if key in visited:\n",
    "        continue\n",
    "      visited[key] = True\n",
    "\n",
    "      result += 1\n",
    "      for neighbor in self.neighbors(x, y):\n",
    "        stack.append(neighbor)\n",
    "    return result\n",
    "\n",
    "\n",
    "grid = [[1, 0, 0, 1],\n",
    "        [1, 1, 1, 1],\n",
    "        [0, 1, 0, 0]]\n",
    "\n",
    "print(Grid(grid).max_connected_colors())\n",
    "# 7"
   ]
  },
  {
   "cell_type": "code",
   "execution_count": null,
   "metadata": {},
   "outputs": [],
   "source": []
  }
 ],
 "metadata": {
  "kernelspec": {
   "display_name": "python3",
   "language": "python",
   "name": "python3"
  },
  "language_info": {
   "codemirror_mode": {
    "name": "ipython",
    "version": 3
   },
   "file_extension": ".py",
   "mimetype": "text/x-python",
   "name": "python",
   "nbconvert_exporter": "python",
   "pygments_lexer": "ipython3",
   "version": "3.8.3"
  }
 },
 "nbformat": 4,
 "nbformat_minor": 4
}
