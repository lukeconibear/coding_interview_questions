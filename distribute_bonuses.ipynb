{
 "cells": [
  {
   "cell_type": "code",
   "execution_count": 2,
   "metadata": {},
   "outputs": [
    {
     "name": "stdout",
     "output_type": "stream",
     "text": [
      "[1, 2, 3, 4, 2, 1]\n"
     ]
    }
   ],
   "source": [
    "def getBonuses(performances): # time O(2n), space O(n)\n",
    "  count = len(performances)\n",
    "  bonuses = [1] * count\n",
    "\n",
    "  for i in range(1, count):\n",
    "    if performances[i] > performances[i - 1]:\n",
    "      bonuses[i] = bonuses[i - 1] + 1\n",
    "\n",
    "  for i in range(count - 2, -1, -1):\n",
    "    if performances[i] > performances[i + 1]:\n",
    "      bonuses[i] = max(bonuses[i], bonuses[i + 1] + 1)\n",
    "\n",
    "  return bonuses\n",
    "\n",
    "print(getBonuses([1, 2, 3, 4, 3, 1])) # minimum while being better than left or right by at least 1\n",
    "# [1, 2, 3, 4, 2, 1]"
   ]
  },
  {
   "cell_type": "code",
   "execution_count": 4,
   "metadata": {},
   "outputs": [
    {
     "data": {
      "text/plain": [
       "[1, 2, 3, 4, 5, 6, 7, 8, 9]"
      ]
     },
     "execution_count": 4,
     "metadata": {},
     "output_type": "execute_result"
    }
   ],
   "source": [
    "[i for i in range(1, 10)]"
   ]
  },
  {
   "cell_type": "code",
   "execution_count": 9,
   "metadata": {},
   "outputs": [
    {
     "data": {
      "text/plain": [
       "[8, 7, 6, 5, 4, 3, 2, 1, 0]"
      ]
     },
     "execution_count": 9,
     "metadata": {},
     "output_type": "execute_result"
    }
   ],
   "source": [
    "[i for i in range(10-2, -1, -1)]"
   ]
  },
  {
   "cell_type": "code",
   "execution_count": null,
   "metadata": {},
   "outputs": [],
   "source": []
  }
 ],
 "metadata": {
  "kernelspec": {
   "display_name": "python3",
   "language": "python",
   "name": "python3"
  },
  "language_info": {
   "codemirror_mode": {
    "name": "ipython",
    "version": 3
   },
   "file_extension": ".py",
   "mimetype": "text/x-python",
   "name": "python",
   "nbconvert_exporter": "python",
   "pygments_lexer": "ipython3",
   "version": "3.8.3"
  }
 },
 "nbformat": 4,
 "nbformat_minor": 4
}
