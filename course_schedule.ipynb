{
 "cells": [
  {
   "cell_type": "code",
   "execution_count": 1,
   "metadata": {},
   "outputs": [],
   "source": [
    "class Solution(): # time: O(n2), space: O(n)\n",
    "    \n",
    "    def _has_cycle(self, graph, course, seen):\n",
    "        if course in seen:\n",
    "            return True\n",
    "        \n",
    "        if course not in graph:\n",
    "            return False\n",
    "        \n",
    "        seen.add(course)\n",
    "        \n",
    "        for neighbors in graph[course]:\n",
    "            if self._has_cycle(graph, neighbors, seen):\n",
    "                return True\n",
    "            \n",
    "        seen.remove(course)\n",
    "        \n",
    "        return False\n",
    "    \n",
    "    def can_finish(self, num_courses, prereqs):\n",
    "        graph =  {}\n",
    "        \n",
    "        for prereq in prereqs:\n",
    "            if prereq[0] in graph:\n",
    "                graph[prereq[0]].append(prereq[1])\n",
    "            else:\n",
    "                graph[prereq[0]] = {prereq[1]}\n",
    "                \n",
    "        for course in range(num_courses):\n",
    "            if self._has_cycle(graph, course, set()):\n",
    "                return False\n",
    "            \n",
    "        return True\n",
    "    \n",
    "    "
   ]
  },
  {
   "cell_type": "code",
   "execution_count": 5,
   "metadata": {},
   "outputs": [
    {
     "name": "stdout",
     "output_type": "stream",
     "text": [
      "CPU times: user 20 µs, sys: 9 µs, total: 29 µs\n",
      "Wall time: 36.7 µs\n"
     ]
    },
    {
     "data": {
      "text/plain": [
       "True"
      ]
     },
     "execution_count": 5,
     "metadata": {},
     "output_type": "execute_result"
    }
   ],
   "source": [
    "%%time\n",
    "Solution().can_finish(2, [[1, 0]])"
   ]
  },
  {
   "cell_type": "code",
   "execution_count": 17,
   "metadata": {},
   "outputs": [
    {
     "name": "stdout",
     "output_type": "stream",
     "text": [
      "CPU times: user 15 µs, sys: 7 µs, total: 22 µs\n",
      "Wall time: 26.9 µs\n"
     ]
    },
    {
     "data": {
      "text/plain": [
       "False"
      ]
     },
     "execution_count": 17,
     "metadata": {},
     "output_type": "execute_result"
    }
   ],
   "source": [
    "%%time\n",
    "Solution().can_finish(2, [[1, 0], [0, 1]])"
   ]
  },
  {
   "cell_type": "code",
   "execution_count": 11,
   "metadata": {},
   "outputs": [],
   "source": [
    "class Solution2(): # time: O(n), space: O(n)\n",
    "    \n",
    "    def _has_cycle(self, graph, course, seen, cache):\n",
    "        if course in cache:\n",
    "            return cache[course]\n",
    "        \n",
    "        if course in seen:\n",
    "            return True\n",
    "        \n",
    "        if course not in graph:\n",
    "            return False\n",
    "        \n",
    "        seen.add(course)\n",
    "        ret = False\n",
    "        \n",
    "        for neighbors in graph[course]:\n",
    "            if self._has_cycle(graph, neighbors, seen, cache):\n",
    "                ret = True\n",
    "                break\n",
    "            \n",
    "        seen.remove(course)\n",
    "        \n",
    "        cache[course] = ret\n",
    "        \n",
    "        return ret\n",
    "    \n",
    "    def can_finish(self, num_courses, prereqs):\n",
    "        graph =  {}\n",
    "        \n",
    "        for prereq in prereqs:\n",
    "            if prereq[0] in graph:\n",
    "                graph[prereq[0]].append(prereq[1])\n",
    "            else:\n",
    "                graph[prereq[0]] = [prereq[1]]\n",
    "                \n",
    "        for course in range(num_courses):\n",
    "            if self._has_cycle(graph, course, set(), {}):\n",
    "                return False\n",
    "            \n",
    "        return True\n",
    "    \n",
    "    "
   ]
  },
  {
   "cell_type": "code",
   "execution_count": 14,
   "metadata": {},
   "outputs": [
    {
     "name": "stdout",
     "output_type": "stream",
     "text": [
      "CPU times: user 15 µs, sys: 7 µs, total: 22 µs\n",
      "Wall time: 26.9 µs\n"
     ]
    },
    {
     "data": {
      "text/plain": [
       "True"
      ]
     },
     "execution_count": 14,
     "metadata": {},
     "output_type": "execute_result"
    }
   ],
   "source": [
    "%%time\n",
    "Solution2().can_finish(2, [[1, 0]])"
   ]
  },
  {
   "cell_type": "code",
   "execution_count": 16,
   "metadata": {},
   "outputs": [
    {
     "name": "stdout",
     "output_type": "stream",
     "text": [
      "CPU times: user 24 µs, sys: 0 ns, total: 24 µs\n",
      "Wall time: 28.6 µs\n"
     ]
    },
    {
     "data": {
      "text/plain": [
       "False"
      ]
     },
     "execution_count": 16,
     "metadata": {},
     "output_type": "execute_result"
    }
   ],
   "source": [
    "%%time\n",
    "Solution2().can_finish(2, [[1, 0], [0, 1]])"
   ]
  },
  {
   "cell_type": "code",
   "execution_count": null,
   "metadata": {},
   "outputs": [],
   "source": []
  }
 ],
 "metadata": {
  "kernelspec": {
   "display_name": "python3",
   "language": "python",
   "name": "python3"
  },
  "language_info": {
   "codemirror_mode": {
    "name": "ipython",
    "version": 3
   },
   "file_extension": ".py",
   "mimetype": "text/x-python",
   "name": "python",
   "nbconvert_exporter": "python",
   "pygments_lexer": "ipython3",
   "version": "3.8.3"
  }
 },
 "nbformat": 4,
 "nbformat_minor": 4
}
