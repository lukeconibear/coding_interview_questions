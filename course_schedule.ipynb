{
 "cells": [
  {
   "cell_type": "code",
   "execution_count": 4,
   "metadata": {},
   "outputs": [
    {
     "name": "stdout",
     "output_type": "stream",
     "text": [
      "True\n",
      "True\n",
      "False\n",
      "False\n"
     ]
    }
   ],
   "source": [
    "class Solution: \n",
    "    def can_finish1(self, num_courses, prereqs): # time: O(n2), space: O(n)\n",
    "        graph =  {}    \n",
    "        for prereq in prereqs:\n",
    "            if prereq[0] in graph:\n",
    "                graph[prereq[0]].append(prereq[1])\n",
    "            else:\n",
    "                graph[prereq[0]] = {prereq[1]}\n",
    "                \n",
    "        for course in range(num_courses):\n",
    "            if self._has_cycle1(graph, course, set()):\n",
    "                return False\n",
    "            \n",
    "        return True\n",
    "    \n",
    "    def _has_cycle1(self, graph, course, seen):\n",
    "        if course in seen:\n",
    "            return True\n",
    "        \n",
    "        if course not in graph:\n",
    "            return False\n",
    "        \n",
    "        seen.add(course)\n",
    "        for neighbors in graph[course]:\n",
    "            if self._has_cycle1(graph, neighbors, seen):\n",
    "                return True\n",
    "            \n",
    "        seen.remove(course)\n",
    "        return False\n",
    "    \n",
    "    def can_finish2(self, num_courses, prereqs): # time: O(n), space: O(n)\n",
    "        graph =  {}\n",
    "        for prereq in prereqs:\n",
    "            if prereq[0] in graph:\n",
    "                graph[prereq[0]].append(prereq[1])\n",
    "            else:\n",
    "                graph[prereq[0]] = [prereq[1]]\n",
    "                \n",
    "        for course in range(num_courses):\n",
    "            if self._has_cycle2(graph, course, set(), {}):\n",
    "                return False\n",
    "            \n",
    "        return True\n",
    "    \n",
    "    def _has_cycle2(self, graph, course, seen, cache):\n",
    "        if course in cache:\n",
    "            return cache[course]\n",
    "        \n",
    "        if course in seen:\n",
    "            return True\n",
    "        \n",
    "        if course not in graph:\n",
    "            return False\n",
    "        \n",
    "        seen.add(course)\n",
    "        ret = False\n",
    "        for neighbors in graph[course]:\n",
    "            if self._has_cycle2(graph, neighbors, seen, cache):\n",
    "                ret = True\n",
    "                break\n",
    "            \n",
    "        seen.remove(course)\n",
    "        cache[course] = ret\n",
    "        return ret\n",
    "    \n",
    "    \n",
    "print(Solution().can_finish1(2, [[1, 0]]))\n",
    "print(Solution().can_finish2(2, [[1, 0]]))\n",
    "print(Solution().can_finish1(2, [[1, 0], [0, 1]]))\n",
    "print(Solution().can_finish2(2, [[1, 0], [0, 1]]))"
   ]
  },
  {
   "cell_type": "code",
   "execution_count": null,
   "metadata": {},
   "outputs": [],
   "source": []
  }
 ],
 "metadata": {
  "kernelspec": {
   "display_name": "python3",
   "language": "python",
   "name": "python3"
  },
  "language_info": {
   "codemirror_mode": {
    "name": "ipython",
    "version": 3
   },
   "file_extension": ".py",
   "mimetype": "text/x-python",
   "name": "python",
   "nbconvert_exporter": "python",
   "pygments_lexer": "ipython3",
   "version": "3.8.3"
  }
 },
 "nbformat": 4,
 "nbformat_minor": 4
}
