{
 "cells": [
  {
   "cell_type": "code",
   "execution_count": 1,
   "metadata": {},
   "outputs": [
    {
     "name": "stdout",
     "output_type": "stream",
     "text": [
      "5\n"
     ]
    }
   ],
   "source": [
    "# basic recursion formula\n",
    "def get_nth_fib(n): # time O(2^n), space O(n as n calls to fib on call stack)\n",
    "    if n == 1:\n",
    "        return 0\n",
    "    if n == 2:\n",
    "        return 1\n",
    "    return get_nth_fib(n - 1) + get_nth_fib(n - 2)\n",
    "\n",
    "print(get_nth_fib(6))"
   ]
  },
  {
   "cell_type": "code",
   "execution_count": 4,
   "metadata": {},
   "outputs": [
    {
     "name": "stdout",
     "output_type": "stream",
     "text": [
      "5\n"
     ]
    }
   ],
   "source": [
    "# same formula, but save each run, rather than repeating it\n",
    "def get_nth_fib(n, cached={1: 0, 2: 1}): # time O(n), space O(n)\n",
    "    if n in cached:\n",
    "        return cached[n]\n",
    "    else:\n",
    "        cached[n] = get_nth_fib(n - 1, cached) + get_nth_fib(n - 2, cached)\n",
    "        return cached[n]\n",
    "    \n",
    "print(get_nth_fib(6))"
   ]
  },
  {
   "cell_type": "code",
   "execution_count": 11,
   "metadata": {},
   "outputs": [
    {
     "name": "stdout",
     "output_type": "stream",
     "text": [
      "5\n"
     ]
    }
   ],
   "source": [
    "# iterating through range with current and previous pointers\n",
    "def get_nth_fib(n): # time O(n), space O(1)\n",
    "    if n == 1:\n",
    "        return 0\n",
    "    if n == 2:\n",
    "        return 1\n",
    "    \n",
    "    previous = 0\n",
    "    current = 1\n",
    "    for _ in range(2, n):\n",
    "        total = current + previous\n",
    "        previous = current\n",
    "        current = total\n",
    "    \n",
    "    return total\n",
    "\n",
    "print(get_nth_fib(6))"
   ]
  },
  {
   "cell_type": "code",
   "execution_count": 1,
   "metadata": {},
   "outputs": [
    {
     "name": "stdout",
     "output_type": "stream",
     "text": [
      "55\n"
     ]
    }
   ],
   "source": [
    "def fib(n): # iterative, time O(n), space O(1)\n",
    "    if n == 0:\n",
    "        return 0\n",
    "    if n == 1:\n",
    "        return 1\n",
    "    \n",
    "    prevprev = 0\n",
    "    prev = 1\n",
    "    for _ in range(2, n + 1):\n",
    "        value = prev + prevprev\n",
    "        prevprev = prev\n",
    "        prev = value\n",
    "        \n",
    "    return value\n",
    "\n",
    "\n",
    "print(fib(10))\n",
    "# 55"
   ]
  },
  {
   "cell_type": "code",
   "execution_count": null,
   "metadata": {},
   "outputs": [],
   "source": []
  }
 ],
 "metadata": {
  "kernelspec": {
   "display_name": "python3",
   "language": "python",
   "name": "python3"
  },
  "language_info": {
   "codemirror_mode": {
    "name": "ipython",
    "version": 3
   },
   "file_extension": ".py",
   "mimetype": "text/x-python",
   "name": "python",
   "nbconvert_exporter": "python",
   "pygments_lexer": "ipython3",
   "version": "3.8.3"
  }
 },
 "nbformat": 4,
 "nbformat_minor": 4
}
