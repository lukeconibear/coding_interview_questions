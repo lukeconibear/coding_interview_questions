{
 "cells": [
  {
   "cell_type": "code",
   "execution_count": 11,
   "metadata": {},
   "outputs": [
    {
     "name": "stdout",
     "output_type": "stream",
     "text": [
      "['0-2', '5-5', '7-11', '15-15']\n"
     ]
    }
   ],
   "source": [
    "def makeRange(low, high):\n",
    "        return f'{low}-{high}'\n",
    "\n",
    "def findRanges(nums): # time O(n), space O(1)\n",
    "    if not nums:\n",
    "        return []\n",
    "\n",
    "    ranges = []\n",
    "    low = nums[0]\n",
    "    high = nums[0]\n",
    "\n",
    "    for n in nums:\n",
    "        if high + 1 < n:\n",
    "            ranges.append(makeRange(low, high))\n",
    "            low = n\n",
    "        high = n\n",
    "        \n",
    "    ranges.append(makeRange(low, high))\n",
    "\n",
    "    return ranges\n",
    "\n",
    "\n",
    "print(findRanges([0, 1, 2, 5, 7, 8, 9, 9, 10, 11, 15]))\n",
    "# ['0-2', '5-5', '7-11', '15-15']"
   ]
  },
  {
   "cell_type": "code",
   "execution_count": null,
   "metadata": {},
   "outputs": [],
   "source": []
  }
 ],
 "metadata": {
  "kernelspec": {
   "display_name": "python3",
   "language": "python",
   "name": "python3"
  },
  "language_info": {
   "codemirror_mode": {
    "name": "ipython",
    "version": 3
   },
   "file_extension": ".py",
   "mimetype": "text/x-python",
   "name": "python",
   "nbconvert_exporter": "python",
   "pygments_lexer": "ipython3",
   "version": "3.8.3"
  }
 },
 "nbformat": 4,
 "nbformat_minor": 4
}
