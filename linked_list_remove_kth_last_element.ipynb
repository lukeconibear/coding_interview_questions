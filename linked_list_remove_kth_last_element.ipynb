{
 "cells": [
  {
   "cell_type": "code",
   "execution_count": null,
   "metadata": {},
   "outputs": [],
   "source": [
    "# single linked list\n",
    "# if double linked list, then could just count backwards i.e. .prev.prev.prev etc"
   ]
  },
  {
   "cell_type": "code",
   "execution_count": 2,
   "metadata": {},
   "outputs": [
    {
     "name": "stdout",
     "output_type": "stream",
     "text": [
      "12345\n",
      "1235\n"
     ]
    }
   ],
   "source": [
    "class Node:\n",
    "    def __init__(self, value, next):\n",
    "        self.value = value\n",
    "        self.next = next\n",
    "        \n",
    "    def __repr__(self):\n",
    "        node = self\n",
    "        result = ''\n",
    "        while node:\n",
    "            result += (f'{node.value}')\n",
    "            node = node.next\n",
    "        return result\n",
    "        \n",
    "def remove_kth_from_end_of_linked_list(linked_list, k): # time O(n), space O(1)\n",
    "    slow = linked_list\n",
    "    fast = linked_list\n",
    "    for _ in range(k):\n",
    "        fast = fast.next\n",
    "\n",
    "    if not fast:\n",
    "        head.value = head.next.value\n",
    "        head.next = head.next.next\n",
    "        return linked_list\n",
    "\n",
    "    while fast.next:\n",
    "        fast = fast.next\n",
    "        slow = slow.next\n",
    "\n",
    "    slow.next = slow.next.next\n",
    "    return linked_list\n",
    "\n",
    "linked_list = Node(1, Node(2, Node(3, Node(4, Node(5, None)))))\n",
    "print(linked_list)\n",
    "\n",
    "linked_list = remove_kth_from_end_of_linked_list(linked_list, 2)\n",
    "print(linked_list)"
   ]
  },
  {
   "cell_type": "code",
   "execution_count": null,
   "metadata": {},
   "outputs": [],
   "source": []
  }
 ],
 "metadata": {
  "kernelspec": {
   "display_name": "python3",
   "language": "python",
   "name": "python3"
  },
  "language_info": {
   "codemirror_mode": {
    "name": "ipython",
    "version": 3
   },
   "file_extension": ".py",
   "mimetype": "text/x-python",
   "name": "python",
   "nbconvert_exporter": "python",
   "pygments_lexer": "ipython3",
   "version": "3.8.3"
  }
 },
 "nbformat": 4,
 "nbformat_minor": 4
}
