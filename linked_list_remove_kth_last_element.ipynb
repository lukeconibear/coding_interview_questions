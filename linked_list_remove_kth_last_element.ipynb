{
 "cells": [
  {
   "cell_type": "code",
   "execution_count": 9,
   "metadata": {},
   "outputs": [],
   "source": [
    "# time O(n), space O(1)\n",
    "class Node():\n",
    "    def __init__(self, val, next):\n",
    "        self.val = val\n",
    "        self.next = next\n",
    "        \n",
    "    def __str__(self):\n",
    "        n = self\n",
    "        answer = ''\n",
    "        while n:\n",
    "            answer += str(n.val)\n",
    "            n = n.next\n",
    "        return answer\n",
    "        \n",
    "def remove_kth_from_linked_list(node, k):\n",
    "    slow, fast = node, node\n",
    "    for i in range(k):\n",
    "        fast = fast.next\n",
    "\n",
    "    if not fast:\n",
    "        return node.next\n",
    "\n",
    "    prev = None\n",
    "    while fast:\n",
    "        prev = slow\n",
    "        fast = fast.next\n",
    "        slow = slow.next\n",
    "\n",
    "    prev.next = slow.next\n",
    "    return node"
   ]
  },
  {
   "cell_type": "code",
   "execution_count": 13,
   "metadata": {},
   "outputs": [
    {
     "name": "stdout",
     "output_type": "stream",
     "text": [
      "12345\n"
     ]
    }
   ],
   "source": [
    "head = Node(1, Node(2, Node(3, Node(4, Node(5, None)))))\n",
    "print(head)"
   ]
  },
  {
   "cell_type": "code",
   "execution_count": 14,
   "metadata": {},
   "outputs": [
    {
     "name": "stdout",
     "output_type": "stream",
     "text": [
      "1235\n"
     ]
    }
   ],
   "source": [
    "head = remove_kth_from_linked_list(head, 2)\n",
    "print(head)"
   ]
  },
  {
   "cell_type": "code",
   "execution_count": null,
   "metadata": {},
   "outputs": [],
   "source": []
  }
 ],
 "metadata": {
  "kernelspec": {
   "display_name": "python3",
   "language": "python",
   "name": "python3"
  },
  "language_info": {
   "codemirror_mode": {
    "name": "ipython",
    "version": 3
   },
   "file_extension": ".py",
   "mimetype": "text/x-python",
   "name": "python",
   "nbconvert_exporter": "python",
   "pygments_lexer": "ipython3",
   "version": "3.8.3"
  }
 },
 "nbformat": 4,
 "nbformat_minor": 4
}
