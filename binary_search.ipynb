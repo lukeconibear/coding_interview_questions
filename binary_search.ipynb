{
 "cells": [
  {
   "cell_type": "code",
   "execution_count": 1,
   "metadata": {},
   "outputs": [
    {
     "name": "stdout",
     "output_type": "stream",
     "text": [
      "3\n",
      "3\n"
     ]
    }
   ],
   "source": [
    "def binary_search1(array, target): # time O(lgn), space O(lgn)\n",
    "    return binary_search_helper(array, target, 0, len(array) - 1)\n",
    "\n",
    "def binary_search_helper(array, target, left, right):\n",
    "    if left > right:\n",
    "        return -1\n",
    "    middle = (left + right) // 2\n",
    "    potential_match = array[middle]\n",
    "    if target == potential_match:\n",
    "        return middle\n",
    "    elif target < potential_match:\n",
    "        return binary_search_helper(array, target, left, middle - 1)\n",
    "    else:\n",
    "        return binary_search_helper(array, target, middle + 1, right)\n",
    "    \n",
    "\n",
    "def binary_search2(array, target): # time O(lgn), space O(1)\n",
    "    return binary_search_helper(array, target, 0, len(array) - 1)\n",
    "\n",
    "def binary_search_helper(array, target, left, right):\n",
    "    while left <= right:\n",
    "        middle = (left + right) // 2\n",
    "        potential_match = array[middle]\n",
    "        if target == potential_match:\n",
    "            return middle\n",
    "        elif target < potential_match:\n",
    "            right = middle - 1\n",
    "        else:\n",
    "            left = middle + 1\n",
    "    return -1\n",
    "\n",
    "print(binary_search1([0,1,21,33,45,45,61,71,72,73], 33))\n",
    "print(binary_search2([0,1,21,33,45,45,61,71,72,73], 33))"
   ]
  },
  {
   "cell_type": "code",
   "execution_count": null,
   "metadata": {},
   "outputs": [],
   "source": []
  }
 ],
 "metadata": {
  "kernelspec": {
   "display_name": "python3",
   "language": "python",
   "name": "python3"
  },
  "language_info": {
   "codemirror_mode": {
    "name": "ipython",
    "version": 3
   },
   "file_extension": ".py",
   "mimetype": "text/x-python",
   "name": "python",
   "nbconvert_exporter": "python",
   "pygments_lexer": "ipython3",
   "version": "3.8.3"
  }
 },
 "nbformat": 4,
 "nbformat_minor": 4
}
