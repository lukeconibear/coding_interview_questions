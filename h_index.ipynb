{
 "cells": [
  {
   "cell_type": "code",
   "execution_count": 5,
   "metadata": {},
   "outputs": [
    {
     "name": "stdout",
     "output_type": "stream",
     "text": [
      "4\n",
      "4\n"
     ]
    }
   ],
   "source": [
    "def h_index1(pubs): # time O(n), space (n)\n",
    "    n = len(pubs)\n",
    "    freqs = [0] * (n + 1)\n",
    "\n",
    "    for pub in pubs:\n",
    "        if pub >= n:\n",
    "            freqs[n] += 1\n",
    "        else:\n",
    "            freqs[pub] += 1\n",
    "\n",
    "    total = 0\n",
    "    i = n\n",
    "    while i >= 0:\n",
    "        total += freqs[i]\n",
    "        if total >= i:\n",
    "            return i\n",
    "        \n",
    "        i -= 1\n",
    "    return 0\n",
    "\n",
    "def h_index2(pubs): # time O(nlogn), space O(1)\n",
    "    for index, value in enumerate(reversed(sorted(pubs))):\n",
    "        if index >= value:\n",
    "            return index\n",
    "\n",
    "        \n",
    "print(h_index1([61, 10, 8, 7, 4, 2, 2, 1, 1, 1, 0, 0, 0, 0, 0]))\n",
    "print(h_index2([61, 10, 8, 7, 4, 2, 2, 1, 1, 1, 0, 0, 0, 0, 0]))\n",
    "# 4"
   ]
  },
  {
   "cell_type": "code",
   "execution_count": null,
   "metadata": {},
   "outputs": [],
   "source": []
  }
 ],
 "metadata": {
  "kernelspec": {
   "display_name": "python3",
   "language": "python",
   "name": "python3"
  },
  "language_info": {
   "codemirror_mode": {
    "name": "ipython",
    "version": 3
   },
   "file_extension": ".py",
   "mimetype": "text/x-python",
   "name": "python",
   "nbconvert_exporter": "python",
   "pygments_lexer": "ipython3",
   "version": "3.8.3"
  }
 },
 "nbformat": 4,
 "nbformat_minor": 4
}
