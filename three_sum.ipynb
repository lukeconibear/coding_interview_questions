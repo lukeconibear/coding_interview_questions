{
 "cells": [
  {
   "cell_type": "code",
   "execution_count": 147,
   "metadata": {},
   "outputs": [],
   "source": [
    "class Solution:\n",
    "    def three_sum_brute_force(self, nums): # time O(n3), space O(1)\n",
    "        result = []\n",
    "        for i1 in range(0, len(nums)):\n",
    "            for i2 in range(i1 + 1, len(nums)):\n",
    "                for i3 in range(i2 + 1, len(nums)):\n",
    "                    a, b, c = nums[i1], nums[i2], nums[i3]\n",
    "                    if a + b + c == 0:\n",
    "                        result.append([a, b, c])\n",
    "        return result\n",
    "    \n",
    "    \n",
    "    def three_sum_hash_map(self, nums): # time O(n2), space O(n)\n",
    "        nums.sort()\n",
    "        result = []\n",
    "        for i in range(len(nums)):\n",
    "            self.two_sum_hash_map(nums, i, result)\n",
    "        return result\n",
    "    \n",
    "    def two_sum_hash_map(self, nums, start, result):\n",
    "        values = {}\n",
    "        target = -nums[start]\n",
    "        for i in range(start+1, len(nums)):\n",
    "            n = nums[i]\n",
    "            diff = target - n\n",
    "            if diff in values:\n",
    "                result.append([n, diff, nums[start]])\n",
    "            values[n] = 1 \n",
    "    \n",
    "    def three_sum_indices(self, nums): # time O(n), space(n)\n",
    "        nums.sort()\n",
    "        result = []\n",
    "        for i in range(len(nums)):\n",
    "            self.two_sum_indices(nums, i, result)\n",
    "        return result\n",
    "    \n",
    "    def two_sum_indices(self, nums, start, result): \n",
    "        low = start + 1\n",
    "        high = len(nums) -1\n",
    "        while low < high:\n",
    "            sum = nums[start] + nums[low] + nums[high]\n",
    "            if sum == 0:\n",
    "                result.append([nums[start], nums[low], nums[high]])\n",
    "                low += 1\n",
    "                high -= 1\n",
    "            elif sum < 0:\n",
    "                low += 1\n",
    "            else:\n",
    "                high -= 1"
   ]
  },
  {
   "cell_type": "code",
   "execution_count": 148,
   "metadata": {},
   "outputs": [
    {
     "name": "stdout",
     "output_type": "stream",
     "text": [
      "[[-1, 0, 1], [1, 2, -3]]\n"
     ]
    }
   ],
   "source": [
    "print(Solution().three_sum_brute_force([-1, 0, 1, 2, -4, -3]))"
   ]
  },
  {
   "cell_type": "code",
   "execution_count": 149,
   "metadata": {},
   "outputs": [
    {
     "name": "stdout",
     "output_type": "stream",
     "text": [
      "[[2, 1, -3], [1, 0, -1]]\n"
     ]
    }
   ],
   "source": [
    "print(Solution().three_sum_hash_map([-1, 0, 1, 2, -4, -3]))"
   ]
  },
  {
   "cell_type": "code",
   "execution_count": 150,
   "metadata": {},
   "outputs": [
    {
     "name": "stdout",
     "output_type": "stream",
     "text": [
      "[[-3, 1, 2], [-1, 0, 1]]\n"
     ]
    }
   ],
   "source": [
    "print(Solution().three_sum_indices([-1, 0, 1, 2, -4, -3]))"
   ]
  },
  {
   "cell_type": "code",
   "execution_count": 1,
   "metadata": {},
   "outputs": [
    {
     "name": "stdout",
     "output_type": "stream",
     "text": [
      "[[-8, 2, 6], [-8, 3, 5], [-6, 1, 5]]\n"
     ]
    }
   ],
   "source": [
    "def three_number_sum(array, target): # time O(n^2), space O(n)\n",
    "    array.sort() # time O(nlgn)\n",
    "    results = [] # space O(n)\n",
    "    for index in range(len(array) - 2):\n",
    "        low_index = index + 1\n",
    "        high_index = len(array) - 1\n",
    "        while low_index < high_index:\n",
    "            current_sum = array[index] + array[low_index] + array[high_index]\n",
    "            if current_sum == target:\n",
    "                results.append([array[index], array[low_index], array[high_index]])\n",
    "                low_index += 1\n",
    "                high_index -= 1\n",
    "            elif current_sum < target:\n",
    "                low_index += 1\n",
    "            else:\n",
    "                high_index -= 1\n",
    "        \n",
    "    return results\n",
    "\n",
    "\n",
    "print(three_number_sum([12, 3, 1, 2, -6, 5, -8, 6], 0))"
   ]
  },
  {
   "cell_type": "code",
   "execution_count": null,
   "metadata": {},
   "outputs": [],
   "source": []
  }
 ],
 "metadata": {
  "kernelspec": {
   "display_name": "python3",
   "language": "python",
   "name": "python3"
  },
  "language_info": {
   "codemirror_mode": {
    "name": "ipython",
    "version": 3
   },
   "file_extension": ".py",
   "mimetype": "text/x-python",
   "name": "python",
   "nbconvert_exporter": "python",
   "pygments_lexer": "ipython3",
   "version": "3.8.3"
  }
 },
 "nbformat": 4,
 "nbformat_minor": 4
}
