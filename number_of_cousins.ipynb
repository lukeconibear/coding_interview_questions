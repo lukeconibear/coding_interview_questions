{
 "cells": [
  {
   "cell_type": "code",
   "execution_count": 1,
   "metadata": {},
   "outputs": [
    {
     "name": "stdout",
     "output_type": "stream",
     "text": [
      "[4, 6]\n"
     ]
    }
   ],
   "source": [
    "class Node(object):\n",
    "  def __init__(self, value, left=None, right=None):\n",
    "    self.value = value\n",
    "    self.left = left\n",
    "    self.right = right\n",
    "\n",
    "\n",
    "class Solution(object): # time O(2n), space O(n) as worst case if single branch for the tree\n",
    "  def _nodes_at_height(self, node, height, exclude): # time O(n)\n",
    "    if node == None or node == exclude:\n",
    "      return []\n",
    "    if height == 0:\n",
    "      return [node.value]\n",
    "    return (self._nodes_at_height(node.left, height - 1, exclude) +\n",
    "            self._nodes_at_height(node.right, height - 1, exclude))\n",
    "\n",
    "  def _find_node(self, node, target, parent, height): # time O(n)\n",
    "    if not node:\n",
    "      return False\n",
    "    if node == target:\n",
    "      return (height, parent)\n",
    "    return (self._find_node(node.left, target, node, height + 1) or\n",
    "            self._find_node(node.right, target, node, height + 1))\n",
    "\n",
    "  def list_cousins(self, node, target):\n",
    "    height, parent = self._find_node(node, target, None, 0)\n",
    "    return self._nodes_at_height(node, height, parent)\n",
    "\n",
    "\n",
    "#     1\n",
    "#    / \\\n",
    "#   2   3\n",
    "#  / \\    \\\n",
    "# 4   6    5\n",
    "root = Node(1)\n",
    "root.left = Node(2)\n",
    "root.left.left = Node(4)\n",
    "root.left.right = Node(6)\n",
    "root.right = Node(3)\n",
    "root.right.right = Node(5)\n",
    "\n",
    "print(Solution().list_cousins(root, root.right.right))\n",
    "# [4, 6]"
   ]
  },
  {
   "cell_type": "code",
   "execution_count": null,
   "metadata": {},
   "outputs": [],
   "source": []
  }
 ],
 "metadata": {
  "kernelspec": {
   "display_name": "python3",
   "language": "python",
   "name": "python3"
  },
  "language_info": {
   "codemirror_mode": {
    "name": "ipython",
    "version": 3
   },
   "file_extension": ".py",
   "mimetype": "text/x-python",
   "name": "python",
   "nbconvert_exporter": "python",
   "pygments_lexer": "ipython3",
   "version": "3.8.3"
  }
 },
 "nbformat": 4,
 "nbformat_minor": 4
}
