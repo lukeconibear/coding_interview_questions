{
 "cells": [
  {
   "cell_type": "code",
   "execution_count": 100,
   "metadata": {},
   "outputs": [
    {
     "name": "stdout",
     "output_type": "stream",
     "text": [
      "True\n",
      "True\n",
      "True\n",
      "True\n",
      "False\n"
     ]
    }
   ],
   "source": [
    "def is_monotonic(array): # time O(n), space O(1)\n",
    "    is_non_decreasing = True # always increasing or equal\n",
    "    is_non_increasing = True # always decreasing or equal\n",
    "    for index in range(1, len(array)):\n",
    "        if array[index] < array[index - 1]:\n",
    "            is_non_decreasing = False\n",
    "        if array[index] > array[index - 1]:\n",
    "            is_non_increasing = False\n",
    "            \n",
    "    return is_non_decreasing or is_non_increasing\n",
    "        \n",
    "\n",
    "print(is_monotonic([]))\n",
    "print(is_monotonic([1]))\n",
    "print(is_monotonic([-1,-5,-10,-15,-20]))\n",
    "print(is_monotonic([1,5,10,15,20]))\n",
    "print(is_monotonic([-1,-5,-10,-1100,-900,-1101]))"
   ]
  },
  {
   "cell_type": "code",
   "execution_count": null,
   "metadata": {},
   "outputs": [],
   "source": []
  }
 ],
 "metadata": {
  "kernelspec": {
   "display_name": "python3",
   "language": "python",
   "name": "python3"
  },
  "language_info": {
   "codemirror_mode": {
    "name": "ipython",
    "version": 3
   },
   "file_extension": ".py",
   "mimetype": "text/x-python",
   "name": "python",
   "nbconvert_exporter": "python",
   "pygments_lexer": "ipython3",
   "version": "3.8.3"
  }
 },
 "nbformat": 4,
 "nbformat_minor": 4
}
